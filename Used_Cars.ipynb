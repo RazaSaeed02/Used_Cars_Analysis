{
 "cells": [
  {
   "cell_type": "markdown",
   "id": "b82ca1d0",
   "metadata": {},
   "source": [
    "# Exploring Used Cars Data"
   ]
  },
  {
   "cell_type": "markdown",
   "id": "63be8d14",
   "metadata": {},
   "source": [
    "## Import libraries"
   ]
  },
  {
   "cell_type": "code",
   "execution_count": 1,
   "id": "560885b8",
   "metadata": {},
   "outputs": [],
   "source": [
    "# Libraries for data analysis\n",
    "import numpy as np\n",
    "import pandas as pd\n",
    "pd.set_option('display.max_rows', None)\n",
    "pd.set_option('display.max_columns', None)\n",
    "pd.set_option('display.float_format',  '{:,.2f}'.format)\n",
    "\n",
    "# Libraries for visualizations\n",
    "import matplotlib.pyplot as plt\n",
    "%matplotlib inline\n",
    "\n",
    "import seaborn as sns\n",
    "import plotly.express as px\n",
    "import plotly.graph_objects as go\n",
    "from plotly.subplots import make_subplots\n",
    "\n",
    "# Ignore any warnings\n",
    "import warnings\n",
    "warnings.filterwarnings('ignore')"
   ]
  },
  {
   "cell_type": "markdown",
   "id": "5d8e3936",
   "metadata": {},
   "source": [
    "## Read in the dataset"
   ]
  },
  {
   "cell_type": "code",
   "execution_count": 2,
   "id": "b085fb15",
   "metadata": {},
   "outputs": [
    {
     "data": {
      "text/html": [
       "<div>\n",
       "<style scoped>\n",
       "    .dataframe tbody tr th:only-of-type {\n",
       "        vertical-align: middle;\n",
       "    }\n",
       "\n",
       "    .dataframe tbody tr th {\n",
       "        vertical-align: top;\n",
       "    }\n",
       "\n",
       "    .dataframe thead th {\n",
       "        text-align: right;\n",
       "    }\n",
       "</style>\n",
       "<table border=\"1\" class=\"dataframe\">\n",
       "  <thead>\n",
       "    <tr style=\"text-align: right;\">\n",
       "      <th></th>\n",
       "      <th>price</th>\n",
       "      <th>brand</th>\n",
       "      <th>model</th>\n",
       "      <th>year</th>\n",
       "      <th>title_status</th>\n",
       "      <th>mileage</th>\n",
       "      <th>color</th>\n",
       "      <th>vin</th>\n",
       "      <th>lot</th>\n",
       "      <th>state</th>\n",
       "      <th>country</th>\n",
       "      <th>condition</th>\n",
       "    </tr>\n",
       "  </thead>\n",
       "  <tbody>\n",
       "    <tr>\n",
       "      <th>0</th>\n",
       "      <td>6300</td>\n",
       "      <td>toyota</td>\n",
       "      <td>cruiser</td>\n",
       "      <td>2008</td>\n",
       "      <td>clean vehicle</td>\n",
       "      <td>274,117.00</td>\n",
       "      <td>black</td>\n",
       "      <td>jtezu11f88k007763</td>\n",
       "      <td>159348797</td>\n",
       "      <td>new jersey</td>\n",
       "      <td>usa</td>\n",
       "      <td>10 days left</td>\n",
       "    </tr>\n",
       "    <tr>\n",
       "      <th>1</th>\n",
       "      <td>2899</td>\n",
       "      <td>ford</td>\n",
       "      <td>se</td>\n",
       "      <td>2011</td>\n",
       "      <td>clean vehicle</td>\n",
       "      <td>190,552.00</td>\n",
       "      <td>silver</td>\n",
       "      <td>2fmdk3gc4bbb02217</td>\n",
       "      <td>166951262</td>\n",
       "      <td>tennessee</td>\n",
       "      <td>usa</td>\n",
       "      <td>6 days left</td>\n",
       "    </tr>\n",
       "    <tr>\n",
       "      <th>2</th>\n",
       "      <td>5350</td>\n",
       "      <td>dodge</td>\n",
       "      <td>mpv</td>\n",
       "      <td>2018</td>\n",
       "      <td>clean vehicle</td>\n",
       "      <td>39,590.00</td>\n",
       "      <td>silver</td>\n",
       "      <td>3c4pdcgg5jt346413</td>\n",
       "      <td>167655728</td>\n",
       "      <td>georgia</td>\n",
       "      <td>usa</td>\n",
       "      <td>2 days left</td>\n",
       "    </tr>\n",
       "    <tr>\n",
       "      <th>3</th>\n",
       "      <td>25000</td>\n",
       "      <td>ford</td>\n",
       "      <td>door</td>\n",
       "      <td>2014</td>\n",
       "      <td>clean vehicle</td>\n",
       "      <td>64,146.00</td>\n",
       "      <td>blue</td>\n",
       "      <td>1ftfw1et4efc23745</td>\n",
       "      <td>167753855</td>\n",
       "      <td>virginia</td>\n",
       "      <td>usa</td>\n",
       "      <td>22 hours left</td>\n",
       "    </tr>\n",
       "    <tr>\n",
       "      <th>4</th>\n",
       "      <td>27700</td>\n",
       "      <td>chevrolet</td>\n",
       "      <td>1500</td>\n",
       "      <td>2018</td>\n",
       "      <td>clean vehicle</td>\n",
       "      <td>6,654.00</td>\n",
       "      <td>red</td>\n",
       "      <td>3gcpcrec2jg473991</td>\n",
       "      <td>167763266</td>\n",
       "      <td>florida</td>\n",
       "      <td>usa</td>\n",
       "      <td>22 hours left</td>\n",
       "    </tr>\n",
       "  </tbody>\n",
       "</table>\n",
       "</div>"
      ],
      "text/plain": [
       "   price      brand    model  year   title_status    mileage   color  \\\n",
       "0   6300     toyota  cruiser  2008  clean vehicle 274,117.00   black   \n",
       "1   2899       ford       se  2011  clean vehicle 190,552.00  silver   \n",
       "2   5350      dodge      mpv  2018  clean vehicle  39,590.00  silver   \n",
       "3  25000       ford     door  2014  clean vehicle  64,146.00    blue   \n",
       "4  27700  chevrolet     1500  2018  clean vehicle   6,654.00     red   \n",
       "\n",
       "                   vin        lot       state country      condition  \n",
       "0    jtezu11f88k007763  159348797  new jersey     usa   10 days left  \n",
       "1    2fmdk3gc4bbb02217  166951262   tennessee     usa    6 days left  \n",
       "2    3c4pdcgg5jt346413  167655728     georgia     usa    2 days left  \n",
       "3    1ftfw1et4efc23745  167753855    virginia     usa  22 hours left  \n",
       "4    3gcpcrec2jg473991  167763266     florida     usa  22 hours left  "
      ]
     },
     "execution_count": 2,
     "metadata": {},
     "output_type": "execute_result"
    }
   ],
   "source": [
    "df = pd.read_csv('USA_cars_datasets.csv', index_col=0)\n",
    "\n",
    "# See first five rows\n",
    "df.head()"
   ]
  },
  {
   "cell_type": "code",
   "execution_count": 3,
   "id": "a588c41d",
   "metadata": {},
   "outputs": [
    {
     "name": "stdout",
     "output_type": "stream",
     "text": [
      "<class 'pandas.core.frame.DataFrame'>\n",
      "Int64Index: 2499 entries, 0 to 2498\n",
      "Data columns (total 12 columns):\n",
      " #   Column        Non-Null Count  Dtype  \n",
      "---  ------        --------------  -----  \n",
      " 0   price         2499 non-null   int64  \n",
      " 1   brand         2499 non-null   object \n",
      " 2   model         2499 non-null   object \n",
      " 3   year          2499 non-null   int64  \n",
      " 4   title_status  2499 non-null   object \n",
      " 5   mileage       2499 non-null   float64\n",
      " 6   color         2499 non-null   object \n",
      " 7   vin           2499 non-null   object \n",
      " 8   lot           2499 non-null   int64  \n",
      " 9   state         2499 non-null   object \n",
      " 10  country       2499 non-null   object \n",
      " 11  condition     2499 non-null   object \n",
      "dtypes: float64(1), int64(3), object(8)\n",
      "memory usage: 253.8+ KB\n"
     ]
    }
   ],
   "source": [
    "# Information about the dataset\n",
    "df.info()"
   ]
  },
  {
   "cell_type": "markdown",
   "id": "7bb11809",
   "metadata": {},
   "source": [
    "- The dataset has **2499 rows** and **12 columns**."
   ]
  },
  {
   "cell_type": "markdown",
   "id": "ee90527d",
   "metadata": {},
   "source": [
    "## Let's explore the numerical data first."
   ]
  },
  {
   "cell_type": "code",
   "execution_count": 4,
   "id": "10771748",
   "metadata": {},
   "outputs": [
    {
     "data": {
      "text/html": [
       "<div>\n",
       "<style scoped>\n",
       "    .dataframe tbody tr th:only-of-type {\n",
       "        vertical-align: middle;\n",
       "    }\n",
       "\n",
       "    .dataframe tbody tr th {\n",
       "        vertical-align: top;\n",
       "    }\n",
       "\n",
       "    .dataframe thead th {\n",
       "        text-align: right;\n",
       "    }\n",
       "</style>\n",
       "<table border=\"1\" class=\"dataframe\">\n",
       "  <thead>\n",
       "    <tr style=\"text-align: right;\">\n",
       "      <th></th>\n",
       "      <th>count</th>\n",
       "      <th>mean</th>\n",
       "      <th>std</th>\n",
       "      <th>min</th>\n",
       "      <th>25%</th>\n",
       "      <th>50%</th>\n",
       "      <th>75%</th>\n",
       "      <th>max</th>\n",
       "    </tr>\n",
       "  </thead>\n",
       "  <tbody>\n",
       "    <tr>\n",
       "      <th>price</th>\n",
       "      <td>2,499.00</td>\n",
       "      <td>18,767.67</td>\n",
       "      <td>12,116.09</td>\n",
       "      <td>0.00</td>\n",
       "      <td>10,200.00</td>\n",
       "      <td>16,900.00</td>\n",
       "      <td>25,555.50</td>\n",
       "      <td>84,900.00</td>\n",
       "    </tr>\n",
       "    <tr>\n",
       "      <th>year</th>\n",
       "      <td>2,499.00</td>\n",
       "      <td>2,016.71</td>\n",
       "      <td>3.44</td>\n",
       "      <td>1,973.00</td>\n",
       "      <td>2,016.00</td>\n",
       "      <td>2,018.00</td>\n",
       "      <td>2,019.00</td>\n",
       "      <td>2,020.00</td>\n",
       "    </tr>\n",
       "    <tr>\n",
       "      <th>mileage</th>\n",
       "      <td>2,499.00</td>\n",
       "      <td>52,298.69</td>\n",
       "      <td>59,705.52</td>\n",
       "      <td>0.00</td>\n",
       "      <td>21,466.50</td>\n",
       "      <td>35,365.00</td>\n",
       "      <td>63,472.50</td>\n",
       "      <td>1,017,936.00</td>\n",
       "    </tr>\n",
       "    <tr>\n",
       "      <th>lot</th>\n",
       "      <td>2,499.00</td>\n",
       "      <td>167,691,389.06</td>\n",
       "      <td>203,877.21</td>\n",
       "      <td>159,348,797.00</td>\n",
       "      <td>167,625,331.00</td>\n",
       "      <td>167,745,058.00</td>\n",
       "      <td>167,779,772.00</td>\n",
       "      <td>167,805,500.00</td>\n",
       "    </tr>\n",
       "  </tbody>\n",
       "</table>\n",
       "</div>"
      ],
      "text/plain": [
       "           count           mean        std            min            25%  \\\n",
       "price   2,499.00      18,767.67  12,116.09           0.00      10,200.00   \n",
       "year    2,499.00       2,016.71       3.44       1,973.00       2,016.00   \n",
       "mileage 2,499.00      52,298.69  59,705.52           0.00      21,466.50   \n",
       "lot     2,499.00 167,691,389.06 203,877.21 159,348,797.00 167,625,331.00   \n",
       "\n",
       "                   50%            75%            max  \n",
       "price        16,900.00      25,555.50      84,900.00  \n",
       "year          2,018.00       2,019.00       2,020.00  \n",
       "mileage      35,365.00      63,472.50   1,017,936.00  \n",
       "lot     167,745,058.00 167,779,772.00 167,805,500.00  "
      ]
     },
     "execution_count": 4,
     "metadata": {},
     "output_type": "execute_result"
    }
   ],
   "source": [
    "df.describe().transpose()"
   ]
  },
  {
   "cell_type": "markdown",
   "id": "8531427b",
   "metadata": {},
   "source": [
    "**Observations**\n",
    "- The **average price** of a car in the dataset is **$18,768**. The **oldest car** in the dataset is from **1973** and the **newest** car is from **2020**. \n",
    "- There are a few outliers that will need to be dealt with. The minimum price and mileage cannot be 0 since we are dealing with used cars, and the car with the highest mileage has over 1 million miles on it. It doesn't seem feasible for a car to last for over 1 million miles."
   ]
  },
  {
   "cell_type": "markdown",
   "id": "4ce969e1",
   "metadata": {},
   "source": [
    "## Next let's look at the categorical data."
   ]
  },
  {
   "cell_type": "code",
   "execution_count": 5,
   "id": "785ad880",
   "metadata": {},
   "outputs": [
    {
     "data": {
      "text/html": [
       "<div>\n",
       "<style scoped>\n",
       "    .dataframe tbody tr th:only-of-type {\n",
       "        vertical-align: middle;\n",
       "    }\n",
       "\n",
       "    .dataframe tbody tr th {\n",
       "        vertical-align: top;\n",
       "    }\n",
       "\n",
       "    .dataframe thead th {\n",
       "        text-align: right;\n",
       "    }\n",
       "</style>\n",
       "<table border=\"1\" class=\"dataframe\">\n",
       "  <thead>\n",
       "    <tr style=\"text-align: right;\">\n",
       "      <th></th>\n",
       "      <th>count</th>\n",
       "      <th>unique</th>\n",
       "      <th>top</th>\n",
       "      <th>freq</th>\n",
       "    </tr>\n",
       "  </thead>\n",
       "  <tbody>\n",
       "    <tr>\n",
       "      <th>brand</th>\n",
       "      <td>2499</td>\n",
       "      <td>28</td>\n",
       "      <td>ford</td>\n",
       "      <td>1235</td>\n",
       "    </tr>\n",
       "    <tr>\n",
       "      <th>model</th>\n",
       "      <td>2499</td>\n",
       "      <td>127</td>\n",
       "      <td>door</td>\n",
       "      <td>651</td>\n",
       "    </tr>\n",
       "    <tr>\n",
       "      <th>title_status</th>\n",
       "      <td>2499</td>\n",
       "      <td>2</td>\n",
       "      <td>clean vehicle</td>\n",
       "      <td>2336</td>\n",
       "    </tr>\n",
       "    <tr>\n",
       "      <th>color</th>\n",
       "      <td>2499</td>\n",
       "      <td>49</td>\n",
       "      <td>white</td>\n",
       "      <td>707</td>\n",
       "    </tr>\n",
       "    <tr>\n",
       "      <th>vin</th>\n",
       "      <td>2499</td>\n",
       "      <td>2495</td>\n",
       "      <td>1gnevhkw8jj148388</td>\n",
       "      <td>2</td>\n",
       "    </tr>\n",
       "    <tr>\n",
       "      <th>state</th>\n",
       "      <td>2499</td>\n",
       "      <td>44</td>\n",
       "      <td>pennsylvania</td>\n",
       "      <td>299</td>\n",
       "    </tr>\n",
       "    <tr>\n",
       "      <th>country</th>\n",
       "      <td>2499</td>\n",
       "      <td>2</td>\n",
       "      <td>usa</td>\n",
       "      <td>2492</td>\n",
       "    </tr>\n",
       "    <tr>\n",
       "      <th>condition</th>\n",
       "      <td>2499</td>\n",
       "      <td>47</td>\n",
       "      <td>2 days left</td>\n",
       "      <td>832</td>\n",
       "    </tr>\n",
       "  </tbody>\n",
       "</table>\n",
       "</div>"
      ],
      "text/plain": [
       "             count unique                  top  freq\n",
       "brand         2499     28                 ford  1235\n",
       "model         2499    127                 door   651\n",
       "title_status  2499      2        clean vehicle  2336\n",
       "color         2499     49                white   707\n",
       "vin           2499   2495    1gnevhkw8jj148388     2\n",
       "state         2499     44         pennsylvania   299\n",
       "country       2499      2                  usa  2492\n",
       "condition     2499     47          2 days left   832"
      ]
     },
     "execution_count": 5,
     "metadata": {},
     "output_type": "execute_result"
    }
   ],
   "source": [
    "df.describe(include='O').transpose()"
   ]
  },
  {
   "cell_type": "markdown",
   "id": "8048dc18",
   "metadata": {},
   "source": [
    "**Observations**\n",
    "- Ford is the company that has the most cars featured in this dataset with 1235. \n",
    "- The most popular colour for a car is white. \n",
    "- Pennsylvania is the most represented state."
   ]
  },
  {
   "cell_type": "markdown",
   "id": "949bbdce",
   "metadata": {},
   "source": [
    "## Data Cleaning"
   ]
  },
  {
   "cell_type": "code",
   "execution_count": 6,
   "id": "c5959da3",
   "metadata": {
    "scrolled": true
   },
   "outputs": [
    {
     "data": {
      "text/html": [
       "<div>\n",
       "<style scoped>\n",
       "    .dataframe tbody tr th:only-of-type {\n",
       "        vertical-align: middle;\n",
       "    }\n",
       "\n",
       "    .dataframe tbody tr th {\n",
       "        vertical-align: top;\n",
       "    }\n",
       "\n",
       "    .dataframe thead th {\n",
       "        text-align: right;\n",
       "    }\n",
       "</style>\n",
       "<table border=\"1\" class=\"dataframe\">\n",
       "  <thead>\n",
       "    <tr style=\"text-align: right;\">\n",
       "      <th></th>\n",
       "      <th>price</th>\n",
       "      <th>brand</th>\n",
       "      <th>model</th>\n",
       "      <th>year</th>\n",
       "      <th>title_status</th>\n",
       "      <th>mileage</th>\n",
       "      <th>color</th>\n",
       "      <th>state</th>\n",
       "      <th>country</th>\n",
       "      <th>condition</th>\n",
       "    </tr>\n",
       "  </thead>\n",
       "  <tbody>\n",
       "    <tr>\n",
       "      <th>0</th>\n",
       "      <td>6300</td>\n",
       "      <td>toyota</td>\n",
       "      <td>cruiser</td>\n",
       "      <td>2008</td>\n",
       "      <td>clean vehicle</td>\n",
       "      <td>274,117.00</td>\n",
       "      <td>black</td>\n",
       "      <td>new jersey</td>\n",
       "      <td>usa</td>\n",
       "      <td>10 days left</td>\n",
       "    </tr>\n",
       "    <tr>\n",
       "      <th>1</th>\n",
       "      <td>2899</td>\n",
       "      <td>ford</td>\n",
       "      <td>se</td>\n",
       "      <td>2011</td>\n",
       "      <td>clean vehicle</td>\n",
       "      <td>190,552.00</td>\n",
       "      <td>silver</td>\n",
       "      <td>tennessee</td>\n",
       "      <td>usa</td>\n",
       "      <td>6 days left</td>\n",
       "    </tr>\n",
       "    <tr>\n",
       "      <th>2</th>\n",
       "      <td>5350</td>\n",
       "      <td>dodge</td>\n",
       "      <td>mpv</td>\n",
       "      <td>2018</td>\n",
       "      <td>clean vehicle</td>\n",
       "      <td>39,590.00</td>\n",
       "      <td>silver</td>\n",
       "      <td>georgia</td>\n",
       "      <td>usa</td>\n",
       "      <td>2 days left</td>\n",
       "    </tr>\n",
       "    <tr>\n",
       "      <th>3</th>\n",
       "      <td>25000</td>\n",
       "      <td>ford</td>\n",
       "      <td>door</td>\n",
       "      <td>2014</td>\n",
       "      <td>clean vehicle</td>\n",
       "      <td>64,146.00</td>\n",
       "      <td>blue</td>\n",
       "      <td>virginia</td>\n",
       "      <td>usa</td>\n",
       "      <td>22 hours left</td>\n",
       "    </tr>\n",
       "    <tr>\n",
       "      <th>4</th>\n",
       "      <td>27700</td>\n",
       "      <td>chevrolet</td>\n",
       "      <td>1500</td>\n",
       "      <td>2018</td>\n",
       "      <td>clean vehicle</td>\n",
       "      <td>6,654.00</td>\n",
       "      <td>red</td>\n",
       "      <td>florida</td>\n",
       "      <td>usa</td>\n",
       "      <td>22 hours left</td>\n",
       "    </tr>\n",
       "  </tbody>\n",
       "</table>\n",
       "</div>"
      ],
      "text/plain": [
       "   price      brand    model  year   title_status    mileage   color  \\\n",
       "0   6300     toyota  cruiser  2008  clean vehicle 274,117.00   black   \n",
       "1   2899       ford       se  2011  clean vehicle 190,552.00  silver   \n",
       "2   5350      dodge      mpv  2018  clean vehicle  39,590.00  silver   \n",
       "3  25000       ford     door  2014  clean vehicle  64,146.00    blue   \n",
       "4  27700  chevrolet     1500  2018  clean vehicle   6,654.00     red   \n",
       "\n",
       "        state country      condition  \n",
       "0  new jersey     usa   10 days left  \n",
       "1   tennessee     usa    6 days left  \n",
       "2     georgia     usa    2 days left  \n",
       "3    virginia     usa  22 hours left  \n",
       "4     florida     usa  22 hours left  "
      ]
     },
     "execution_count": 6,
     "metadata": {},
     "output_type": "execute_result"
    }
   ],
   "source": [
    "# Drop unnecessary columns\n",
    "df = df.drop(['vin', 'lot'], axis=1)\n",
    "\n",
    "df.head()"
   ]
  },
  {
   "cell_type": "code",
   "execution_count": 7,
   "id": "565b3198",
   "metadata": {},
   "outputs": [
    {
     "data": {
      "text/plain": [
       "price           0\n",
       "brand           0\n",
       "model           0\n",
       "year            0\n",
       "title_status    0\n",
       "mileage         0\n",
       "color           0\n",
       "state           0\n",
       "country         0\n",
       "condition       0\n",
       "dtype: int64"
      ]
     },
     "execution_count": 7,
     "metadata": {},
     "output_type": "execute_result"
    }
   ],
   "source": [
    "# Check for null values\n",
    "df.isna().sum()"
   ]
  },
  {
   "cell_type": "code",
   "execution_count": 8,
   "id": "26f35f4c",
   "metadata": {
    "scrolled": true
   },
   "outputs": [
    {
     "data": {
      "text/plain": [
       "0"
      ]
     },
     "execution_count": 8,
     "metadata": {},
     "output_type": "execute_result"
    }
   ],
   "source": [
    "# Check for duplicates\n",
    "df.duplicated().sum()"
   ]
  },
  {
   "cell_type": "markdown",
   "id": "9d74e01a",
   "metadata": {},
   "source": [
    "### Detecting Numeric Outliers"
   ]
  },
  {
   "cell_type": "code",
   "execution_count": 9,
   "id": "d06029db",
   "metadata": {},
   "outputs": [
    {
     "data": {
      "text/html": [
       "<div>\n",
       "<style scoped>\n",
       "    .dataframe tbody tr th:only-of-type {\n",
       "        vertical-align: middle;\n",
       "    }\n",
       "\n",
       "    .dataframe tbody tr th {\n",
       "        vertical-align: top;\n",
       "    }\n",
       "\n",
       "    .dataframe thead th {\n",
       "        text-align: right;\n",
       "    }\n",
       "</style>\n",
       "<table border=\"1\" class=\"dataframe\">\n",
       "  <thead>\n",
       "    <tr style=\"text-align: right;\">\n",
       "      <th></th>\n",
       "      <th>price</th>\n",
       "      <th>mileage</th>\n",
       "    </tr>\n",
       "  </thead>\n",
       "  <tbody>\n",
       "    <tr>\n",
       "      <th>count</th>\n",
       "      <td>2,499.00</td>\n",
       "      <td>2,499.00</td>\n",
       "    </tr>\n",
       "    <tr>\n",
       "      <th>mean</th>\n",
       "      <td>18,767.67</td>\n",
       "      <td>52,298.69</td>\n",
       "    </tr>\n",
       "    <tr>\n",
       "      <th>std</th>\n",
       "      <td>12,116.09</td>\n",
       "      <td>59,705.52</td>\n",
       "    </tr>\n",
       "    <tr>\n",
       "      <th>min</th>\n",
       "      <td>0.00</td>\n",
       "      <td>0.00</td>\n",
       "    </tr>\n",
       "    <tr>\n",
       "      <th>25%</th>\n",
       "      <td>10,200.00</td>\n",
       "      <td>21,466.50</td>\n",
       "    </tr>\n",
       "    <tr>\n",
       "      <th>50%</th>\n",
       "      <td>16,900.00</td>\n",
       "      <td>35,365.00</td>\n",
       "    </tr>\n",
       "    <tr>\n",
       "      <th>75%</th>\n",
       "      <td>25,555.50</td>\n",
       "      <td>63,472.50</td>\n",
       "    </tr>\n",
       "    <tr>\n",
       "      <th>max</th>\n",
       "      <td>84,900.00</td>\n",
       "      <td>1,017,936.00</td>\n",
       "    </tr>\n",
       "  </tbody>\n",
       "</table>\n",
       "</div>"
      ],
      "text/plain": [
       "          price      mileage\n",
       "count  2,499.00     2,499.00\n",
       "mean  18,767.67    52,298.69\n",
       "std   12,116.09    59,705.52\n",
       "min        0.00         0.00\n",
       "25%   10,200.00    21,466.50\n",
       "50%   16,900.00    35,365.00\n",
       "75%   25,555.50    63,472.50\n",
       "max   84,900.00 1,017,936.00"
      ]
     },
     "execution_count": 9,
     "metadata": {},
     "output_type": "execute_result"
    }
   ],
   "source": [
    "df[['price', 'mileage']].describe()"
   ]
  },
  {
   "cell_type": "markdown",
   "id": "996ea63f",
   "metadata": {},
   "source": [
    "**Observations**"
   ]
  },
  {
   "cell_type": "markdown",
   "id": "0b457f57",
   "metadata": {},
   "source": [
    "##### Price\n",
    "- The minimum price of 0 is unusual and could affect the analysis. \n",
    "- The maximum price is $84,900 which does not seem far-fetched.\n",
    "\n",
    "##### Mileage\n",
    "- The minimum mileage for a car is 0 and is unexpected since we are dealing with used cars.\n",
    "- The maximum mileage for a car is over 1,000,000 miles which does not seem feasible."
   ]
  },
  {
   "cell_type": "markdown",
   "id": "9e16575a",
   "metadata": {},
   "source": [
    "#### Cleaning the Price Column"
   ]
  },
  {
   "cell_type": "code",
   "execution_count": 10,
   "id": "d37c3b30",
   "metadata": {},
   "outputs": [
    {
     "name": "stdout",
     "output_type": "stream",
     "text": [
      "The 25th percentile is $ 10200.00\n",
      "The 75th percentile is $ 25555.50\n",
      "The Interquartile Range is $ 15355.50\n"
     ]
    }
   ],
   "source": [
    "Q1 = df['price'].quantile(0.25)\n",
    "Q3 = df['price'].quantile(0.75)\n",
    "IQR = Q3 - Q1\n",
    "\n",
    "# Getting the quartiles in a price format\n",
    "Q1_dollars = \"$ {:.2f}\".format(Q1)\n",
    "Q3_dollars = \"$ {:.2f}\".format(Q3)\n",
    "IQR_dollars = \"$ {:.2f}\".format(IQR)\n",
    "\n",
    "\n",
    "print(\"The 25th percentile is \" +  str(Q1_dollars))\n",
    "print(\"The 75th percentile is \" +  str(Q3_dollars))\n",
    "print(\"The Interquartile Range is \" + str(IQR_dollars))"
   ]
  },
  {
   "cell_type": "code",
   "execution_count": 11,
   "id": "1d86c063",
   "metadata": {},
   "outputs": [
    {
     "name": "stdout",
     "output_type": "stream",
     "text": [
      "Lower Fence:  -12833.25\n",
      "Upper Fence:  48588.75\n"
     ]
    }
   ],
   "source": [
    "# Upper and Lower Fence\n",
    "lower_fence = Q1 - (1.5 * IQR)\n",
    "upper_fence = Q3 + (1.5 * IQR)\n",
    "\n",
    "print('Lower Fence: ', lower_fence)\n",
    "print('Upper Fence: ', upper_fence)"
   ]
  },
  {
   "cell_type": "code",
   "execution_count": 101,
   "id": "7fe5bf9f",
   "metadata": {
    "scrolled": true
   },
   "outputs": [
    {
     "data": {
      "application/vnd.plotly.v1+json": {
       "config": {
        "plotlyServerURL": "https://plot.ly"
       },
       "data": [
        {
         "alignmentgroup": "True",
         "bingroup": "x",
         "hovertemplate": "price=%{x}<br>count=%{y}<extra></extra>",
         "legendgroup": "",
         "marker": {
          "color": "#636efa",
          "pattern": {
           "shape": ""
          }
         },
         "name": "",
         "nbinsx": 30,
         "offsetgroup": "",
         "orientation": "v",
         "showlegend": false,
         "type": "histogram",
         "x": [
          5350,
          25000,
          27700,
          5700,
          13350,
          14600,
          5250,
          10400,
          12920,
          31900,
          20700,
          12710,
          5200,
          16500,
          5210,
          38100,
          12520,
          7300,
          15000,
          6180,
          20800,
          11900,
          21500,
          12000,
          4190,
          13000,
          12710,
          18500,
          29800,
          5330,
          13000,
          11900,
          16600,
          19200,
          7320,
          12710,
          16600,
          30500,
          6330,
          12520,
          16200,
          19000,
          5580,
          12710,
          16000,
          27000,
          7760,
          19600,
          12920,
          20000,
          18100,
          23000,
          18500,
          13490,
          20700,
          17800,
          6650,
          29100,
          12710,
          21100,
          18600,
          4340,
          19300,
          12780,
          15800,
          29400,
          4430,
          19400,
          12520,
          15900,
          26400,
          4140,
          18300,
          12520,
          17900,
          18300,
          4640,
          24000,
          13200,
          18000,
          14900,
          4140,
          11500,
          9110,
          7350,
          24500,
          9300,
          39800,
          15110,
          34000,
          26502,
          5990,
          13600,
          23605,
          10780,
          13800,
          25201,
          7070,
          8700,
          18003,
          8530,
          23100,
          24500,
          7000,
          17000,
          34002,
          6980,
          25000,
          20802,
          9200,
          26500,
          24802,
          7070,
          28500,
          47500,
          23500,
          23505,
          10940,
          32100,
          6830,
          11900,
          26414,
          4160,
          19405,
          5690,
          25900,
          24005,
          5090,
          19500,
          32012,
          6800,
          4260,
          31802,
          7210,
          28402,
          6800,
          33300,
          10780,
          20000,
          6440,
          19900,
          37000,
          4040,
          22300,
          31200,
          4290,
          22800,
          19002,
          4160,
          18500,
          39000,
          6060,
          28800,
          40000,
          6140,
          21000,
          20105,
          6760,
          25800,
          39000,
          5470,
          14600,
          24502,
          15110,
          7900,
          27305,
          15290,
          26500,
          25502,
          7320,
          24502,
          4140,
          18402,
          4160,
          24503,
          15840,
          21003,
          4200,
          32001,
          31009,
          3740,
          5000,
          31002,
          3160,
          6000,
          25,
          13200,
          22500,
          7420,
          13500,
          15500,
          3540,
          45500,
          4130,
          15700,
          45500,
          4130,
          15500,
          16300,
          4530,
          15600,
          45500,
          4100,
          10200,
          4080,
          5000,
          1700,
          6200,
          3650,
          10500,
          43500,
          4610,
          3450,
          38500,
          6810,
          43500,
          4450,
          16500,
          4240,
          26500,
          13700,
          8600,
          14200,
          7040,
          30851,
          4880,
          14500,
          7600,
          13270,
          33000,
          9280,
          7560,
          19500,
          17100,
          8020,
          10300,
          22600,
          10480,
          10300,
          22700,
          7410,
          10300,
          7570,
          18900,
          12560,
          33000,
          18300,
          11760,
          31700,
          7340,
          8200,
          3000,
          6530,
          12700,
          13800,
          725,
          7400,
          9800,
          4400,
          10330,
          1800,
          720,
          22800,
          2500,
          9190,
          10900,
          10400,
          22809,
          5520,
          10900,
          6330,
          2320,
          23702,
          5520,
          4050,
          14810,
          25,
          24800,
          6270,
          1880,
          10050,
          225,
          26900,
          1420,
          27003,
          5600,
          6680,
          10120,
          3920,
          23100,
          5630,
          2800,
          18712,
          6300,
          2220,
          6930,
          9270,
          11380,
          5350,
          3790,
          40514,
          9190,
          10330,
          1000,
          2925,
          3830,
          43402,
          17200,
          13080,
          10630,
          43009,
          4950,
          3760,
          3830,
          6240,
          4150,
          13500,
          6490,
          250,
          25,
          8160,
          7770,
          1825,
          39800,
          9210,
          125,
          3960,
          15050,
          3960,
          36300,
          2630,
          5690,
          19500,
          20400,
          4320,
          33001,
          10000,
          5790,
          14750,
          4010,
          40000,
          13000,
          3550,
          3040,
          36400,
          4480,
          31003,
          14750,
          4690,
          23000,
          46900,
          10740,
          3160,
          3450,
          27102,
          500,
          15010,
          5800,
          23200,
          8000,
          3390,
          3140,
          15000,
          10440,
          23911,
          21400,
          5380,
          11000,
          4950,
          22500,
          30300,
          2630,
          3140,
          2300,
          4310,
          26012,
          75,
          48500,
          3330,
          11200,
          4730,
          24900,
          29400,
          8350,
          3210,
          4200,
          8430,
          25503,
          26000,
          3900,
          11200,
          8610,
          28000,
          10840,
          11050,
          3570,
          25001,
          5630,
          11100,
          4650,
          3820,
          2900,
          4700,
          29502,
          6160,
          10910,
          3440,
          16000,
          3810,
          3020,
          24811,
          5420,
          11100,
          4750,
          17900,
          3800,
          3160,
          6470,
          26400,
          32500,
          6900,
          11030,
          18000,
          3250,
          3210,
          13200,
          27705,
          7200,
          28714,
          11200,
          27502,
          11900,
          29314,
          11200,
          27002,
          13200,
          28214,
          12700,
          29900,
          12700,
          27202,
          13500,
          27705,
          14700,
          29900,
          4500,
          27705,
          8000,
          25511,
          7700,
          29900,
          7200,
          27502,
          4500,
          27402,
          1500,
          26602,
          10200,
          29900,
          14000,
          28500,
          8000,
          29809,
          36900,
          26902,
          10950,
          27402,
          16900,
          25600,
          29700,
          27702,
          13500,
          27102,
          27102,
          25811,
          26602,
          27102,
          37500,
          26211,
          24205,
          37500,
          27111,
          27411,
          27302,
          27202,
          26311,
          26602,
          33500,
          27511,
          21500,
          27200,
          26511,
          24002,
          21500,
          18511,
          14000,
          29000,
          23402,
          13300,
          19700,
          23211,
          15500,
          18111,
          21500,
          25511,
          17700,
          28000,
          14000,
          21700,
          13500,
          35500,
          29500,
          25300,
          21500,
          25900,
          35300,
          13500,
          46000,
          9000,
          25900,
          25800,
          17000,
          12800,
          47400,
          24400,
          17100,
          7400,
          33100,
          22000,
          35000,
          16500,
          35300,
          26900,
          11600,
          28100,
          27700,
          17700,
          16600,
          36800,
          19500,
          38800,
          37500,
          35000,
          31100,
          22600,
          22400,
          22700,
          13700,
          37100,
          18500,
          18300,
          19000,
          18500,
          22500,
          32800,
          12300,
          19600,
          13600,
          7200,
          19900,
          13000,
          19700,
          9400,
          23800,
          17700,
          17000,
          32100,
          33100,
          31600,
          5100,
          4100,
          7200,
          46800,
          21800,
          3000,
          22500,
          35300,
          16500,
          33000,
          31500,
          34500,
          8000,
          25000,
          10700,
          13400,
          16500,
          34000,
          14100,
          38600,
          9100,
          8600,
          22000,
          8900,
          15500,
          3300,
          29000,
          17300,
          30500,
          25000,
          2800,
          36400,
          34800,
          20700,
          32200,
          35300,
          33500,
          13700,
          15900,
          33200,
          35500,
          29800,
          29800,
          29500,
          30300,
          24300,
          29800,
          29800,
          27500,
          10800,
          11500,
          10400,
          11400,
          11400,
          8000,
          3000,
          25000,
          12300,
          14100,
          9000,
          4200,
          22500,
          22600,
          22600,
          22500,
          10200,
          42700,
          22700,
          22000,
          10500,
          14200,
          15500,
          35100,
          26300,
          15700,
          17600,
          18600,
          19100,
          15200,
          16100,
          14800,
          16700,
          15300,
          16500,
          19600,
          15200,
          15000,
          15500,
          15700,
          14800,
          9200,
          8200,
          11400,
          6500,
          11500,
          23800,
          28300,
          27300,
          3500,
          28300,
          18300,
          22500,
          22500,
          8300,
          16500,
          14500,
          30000,
          30000,
          30000,
          30000,
          30000,
          29500,
          21600,
          22600,
          16300,
          28800,
          22100,
          14300,
          13700,
          29500,
          18500,
          19000,
          43400,
          46000,
          12500,
          13900,
          13000,
          13000,
          3000,
          17500,
          7900,
          8900,
          11500,
          6500,
          8000,
          18700,
          8350,
          27900,
          14500,
          6200,
          20200,
          29300,
          31000,
          32400,
          21500,
          23100,
          4500,
          24800,
          23000,
          26900,
          21500,
          15700,
          15200,
          23300,
          6100,
          20000,
          3000,
          18200,
          21800,
          19000,
          25000,
          36000,
          17000,
          25300,
          14900,
          15000,
          12995,
          17750,
          10295,
          16995,
          25000,
          23995,
          14900,
          15810,
          20227,
          20999,
          22499,
          23495,
          25250,
          15322,
          21232,
          5800,
          29000,
          17000,
          13800,
          30000,
          14800,
          8500,
          9800,
          28700,
          18500,
          17300,
          7100,
          3250,
          30700,
          26500,
          20800,
          20800,
          5100,
          18900,
          24000,
          38800,
          24500,
          24500,
          6500,
          24000,
          18000,
          24000,
          23500,
          4500,
          25900,
          13900,
          14200,
          15400,
          17500,
          17500,
          18000,
          25200,
          14100,
          13300,
          16200,
          13300,
          13100,
          15500,
          4500,
          28400,
          17400,
          20700,
          20300,
          14000,
          22000,
          17200,
          15000,
          17500,
          1750,
          16300,
          15700,
          10000,
          23100,
          14900,
          16700,
          16300,
          25800,
          23800,
          16800,
          15500,
          6000,
          26900,
          16900,
          19500,
          15400,
          17000,
          34000,
          13700,
          19100,
          11800,
          27500,
          26900,
          27100,
          27200,
          9000,
          22500,
          7700,
          4500,
          21500,
          18800,
          21800,
          20300,
          8200,
          19000,
          8400,
          19500,
          7000,
          19500,
          8500,
          20500,
          4900,
          20800,
          28500,
          21900,
          15800,
          33000,
          22700,
          21900,
          19300,
          30700,
          19300,
          16400,
          19500,
          15100,
          28500,
          15300,
          20300,
          22000,
          16700,
          19300,
          34100,
          14600,
          18200,
          33800,
          15900,
          16500,
          29600,
          14100,
          18200,
          18200,
          24300,
          15400,
          19000,
          19000,
          27800,
          18200,
          15000,
          19200,
          15500,
          24900,
          15500,
          7600,
          18400,
          14700,
          3900,
          5200,
          17200,
          18700,
          32000,
          14500,
          19400,
          17300,
          16700,
          19100,
          11100,
          32000,
          16900,
          18000,
          17800,
          18000,
          17500,
          14500,
          18500,
          18600,
          32000,
          17000,
          16000,
          18000,
          15900,
          6200,
          3700,
          24000,
          20800,
          18500,
          18300,
          21000,
          11900,
          26800,
          21000,
          33500,
          21000,
          26800,
          5700,
          18500,
          33000,
          11000,
          15800,
          16300,
          2700,
          12800,
          9700,
          18300,
          16000,
          21000,
          3700,
          33000,
          14700,
          33000,
          15900,
          33000,
          33000,
          32500,
          33000,
          13000,
          33000,
          16500,
          33000,
          34500,
          33500,
          48000,
          13200,
          31500,
          17400,
          26000,
          11000,
          21000,
          5500,
          7500,
          15800,
          16900,
          25000,
          18000,
          15600,
          23800,
          16800,
          22700,
          23300,
          23500,
          25500,
          21800,
          22800,
          18200,
          23500,
          25700,
          15700,
          17500,
          15700,
          16500,
          16100,
          15600,
          15400,
          28200,
          15300,
          15900,
          17700,
          15800,
          15900,
          25300,
          16300,
          29500,
          14500,
          15400,
          15400,
          15100,
          15000,
          15500,
          15000,
          15200,
          15700,
          16100,
          16300,
          16000,
          16900,
          17000,
          17300,
          15900,
          15700,
          16900,
          15500,
          15100,
          15500,
          15400,
          16500,
          42500,
          16600,
          15200,
          15800,
          16900,
          11100,
          15600,
          16900,
          15300,
          16600,
          21800,
          36500,
          26300,
          20900,
          20100,
          26700,
          23900,
          14500,
          23000,
          15000,
          15000,
          28500,
          28000,
          9000,
          28700,
          25000,
          17347,
          13800,
          25888,
          8500,
          21289,
          17999,
          2700,
          30977,
          13799,
          20500,
          24500,
          32500,
          9200,
          17700,
          18300,
          43500,
          15200,
          36200,
          21900,
          20700,
          12300,
          4200,
          19500,
          14300,
          13700,
          13200,
          6500,
          8700,
          3200,
          20000,
          33000,
          23300,
          23600,
          12000,
          30900,
          23900,
          40400,
          38000,
          27000,
          24000,
          30000,
          16200,
          30000,
          23900,
          13800,
          23700,
          24300,
          22500,
          39000,
          13900,
          24700,
          20100,
          22000,
          38200,
          24400,
          35000,
          18600,
          22700,
          38000,
          17000,
          17500,
          23200,
          30700,
          23500,
          26400,
          23500,
          38000,
          23600,
          19300,
          23200,
          13800,
          23600,
          23200,
          40000,
          23400,
          23600,
          23000,
          25500,
          23500,
          29900,
          23200,
          23400,
          24500,
          25400,
          23000,
          22400,
          22500,
          25200,
          36000,
          26700,
          30500,
          26700,
          25000,
          35200,
          30300,
          25000,
          26500,
          21600,
          18800,
          21500,
          9000,
          16700,
          16800,
          15700,
          16800,
          19500,
          20500,
          17400,
          17500,
          26000,
          40200,
          32500,
          25500,
          44000,
          35000,
          22500,
          8300,
          21000,
          19300,
          16400,
          27300,
          35100,
          41500,
          34100,
          28600,
          34100,
          28700,
          24700,
          46500,
          29000,
          25500,
          39500,
          33100,
          30500,
          3600,
          16800,
          24000,
          28800,
          26800,
          36000,
          20000,
          46700,
          42800,
          21800,
          18800,
          18800,
          30200,
          27500,
          37500,
          19100,
          17100,
          13500,
          9000,
          16400,
          17000,
          24800,
          26800,
          19400,
          20000,
          25100,
          2000,
          18200,
          14200,
          2000,
          26500,
          34300,
          43500,
          3500,
          37200,
          12800,
          12500,
          21500,
          17300,
          27000,
          31800,
          13000,
          31800,
          46300,
          6000,
          22800,
          45000,
          20000,
          25300,
          45500,
          9100,
          48000,
          47000,
          31200,
          18500,
          15500,
          30500,
          45500,
          31500,
          11000,
          46500,
          31500,
          32000,
          23900,
          31500,
          18500,
          1500,
          46000,
          31500,
          14700,
          2700,
          47500,
          31500,
          8900,
          7000,
          31500,
          8900,
          48000,
          47300,
          45000,
          40200,
          48000,
          8200,
          4000,
          39000,
          29000,
          46500,
          7805,
          22000,
          18800,
          33000,
          39500,
          16900,
          42500,
          39500,
          25500,
          25000,
          40000,
          26000,
          29500,
          23000,
          25500,
          44500,
          15600,
          23100,
          37000,
          14500,
          23000,
          26500,
          18000,
          35700,
          31000,
          40400,
          43600,
          22600,
          26000,
          23200,
          29000,
          22800,
          31000,
          22900,
          28000,
          23200,
          27000,
          22800,
          31500,
          23400,
          28000,
          23400,
          28000,
          24900,
          23500,
          36000,
          28700,
          16000,
          31000,
          28500,
          10800,
          28500,
          25000,
          31000,
          7800,
          28500,
          9500,
          28500,
          14500,
          25000,
          14500,
          28500,
          12100,
          29400,
          24700,
          8700,
          29500,
          25800,
          17500,
          23900,
          22900,
          19500,
          29500,
          24500,
          11000,
          22400,
          15700,
          11000,
          28000,
          13500,
          25100,
          24100,
          6500,
          10500,
          16900,
          28500,
          16200,
          6500,
          24500,
          16500,
          10400,
          22800,
          26500,
          23800,
          24700,
          12400,
          16600,
          11200,
          15900,
          7700,
          15100,
          7200,
          15600,
          39700,
          16000,
          19000,
          5500,
          38700,
          21000,
          28500,
          37200,
          18500,
          37700,
          22200,
          39950,
          37600,
          18500,
          10000,
          20500,
          5700,
          21000,
          22500,
          29000,
          25500,
          18900,
          31500,
          45500,
          11000,
          18288,
          20000,
          36600,
          18299,
          10000,
          4100,
          31500,
          13500,
          22800,
          11300,
          32700,
          21900,
          9800,
          11000,
          5500,
          5000,
          23400,
          13500,
          22900,
          20000,
          22900,
          27000,
          20600,
          23500,
          23600,
          33500,
          24400,
          13000,
          48400,
          46200,
          9300,
          13500,
          27600,
          26500,
          26000,
          24500,
          2100,
          16700,
          17500,
          17000,
          22500,
          34500,
          16600,
          7500,
          34500,
          25000,
          36000,
          23700,
          28600,
          23500,
          25300,
          24900,
          23400,
          14600,
          25500,
          14700,
          33700,
          33400,
          34000,
          17500,
          14100,
          30000,
          16500,
          30600,
          12800,
          26000,
          46000,
          28500,
          24300,
          29000,
          15300,
          27900,
          24700,
          14400,
          15000,
          17200,
          12800,
          46900,
          2800,
          16200,
          25200,
          34800,
          26000,
          40600,
          5000,
          36400,
          7500,
          14700,
          43900,
          6400,
          41100,
          23000,
          13900,
          34800,
          16300,
          18800,
          40900,
          47000,
          12800,
          25500,
          17800,
          25700,
          17200,
          35000,
          28800,
          39200,
          13600,
          24200,
          46900,
          26500,
          24700,
          12600,
          31800,
          24500,
          26000,
          21000,
          22500,
          7700,
          23100,
          9200,
          19600,
          11700,
          27300,
          14300,
          23600,
          6200,
          22400,
          5700,
          23600,
          37500,
          10700,
          31900,
          31600,
          12600,
          3900,
          13000,
          11800,
          24600,
          14500,
          24300,
          12300,
          14800,
          17100,
          6800,
          20300,
          26300,
          22500,
          41200,
          20400,
          12100,
          24000,
          9500,
          9000,
          9800,
          7800,
          17200,
          18800,
          7000,
          44000,
          23400,
          30700,
          15600,
          22600,
          22900,
          22800,
          22700,
          23000,
          22700,
          23000,
          34400,
          36500,
          23100,
          23300,
          22600,
          4500,
          23000,
          8000,
          11500,
          9400,
          23000,
          22600,
          23000,
          5200,
          19200,
          10100,
          6200,
          14000,
          9200,
          14700,
          3000,
          30200,
          3800,
          21500,
          4900,
          23000,
          11200,
          10400,
          13200,
          5200,
          10500,
          11900,
          23500,
          4700,
          22000,
          14000,
          9200,
          23300,
          21700,
          11200,
          11300,
          4200,
          10900,
          42300,
          10500,
          43400,
          12500,
          15900,
          42500,
          24700,
          29000,
          16800,
          16500,
          10000,
          27900,
          23700,
          20000,
          45600,
          15600,
          25000,
          28500,
          19990,
          34400,
          30999,
          41000,
          27999,
          42000,
          29795,
          24700,
          13995,
          2900,
          35400,
          24549,
          8900,
          15800,
          18500,
          32000,
          28300,
          10500,
          24970,
          13800,
          2580,
          2500,
          28990,
          33800,
          46999,
          16700,
          34700,
          28900,
          30800,
          27100,
          13388,
          26000,
          17900,
          23400,
          29800,
          23700,
          33995,
          23500,
          32500,
          2500,
          39000,
          11000,
          32500,
          26900,
          11200,
          21000,
          32000,
          7300,
          12800,
          24190,
          29100,
          29000,
          17300,
          19888,
          31000,
          37200,
          8600,
          24857,
          23500,
          26100,
          10800,
          20995,
          29300,
          33100,
          13800,
          19498,
          14900,
          8700,
          20600,
          5000,
          19995,
          14900,
          19500,
          24500,
          15000,
          26985,
          31000,
          24300,
          16800,
          17200,
          34995,
          24300,
          26400,
          16800,
          15500,
          19440,
          16700,
          29000,
          16100,
          17200,
          20950,
          46200,
          29400,
          32999,
          6600,
          28300,
          12000,
          32999,
          12600,
          5200,
          20500,
          35999,
          41000,
          33100,
          23500,
          33999,
          35000,
          26100,
          15400,
          25998,
          31831,
          40400,
          13500,
          25995,
          27990,
          23985,
          27995,
          13995,
          29988,
          12995,
          21687,
          25200,
          29590,
          28999,
          13942,
          15300,
          35400,
          32700,
          13995,
          15800,
          36000,
          15495,
          21500,
          7200,
          17589,
          31790,
          18100,
          14495,
          15000,
          26400,
          27990,
          19700,
          15300,
          22000,
          23999,
          16488,
          12784,
          23400,
          9705,
          25999,
          34977,
          19000,
          15995,
          13487,
          18707,
          15290,
          15600,
          47000,
          16080,
          15268,
          47500,
          18497,
          10000,
          19995,
          17150,
          45000,
          14295,
          16190,
          17899,
          26000,
          14000,
          15500,
          16888,
          28000,
          8305,
          21822,
          15500,
          15995,
          16000,
          38200,
          12995,
          14488,
          17500,
          21995,
          8500,
          16593,
          13000,
          14247,
          23500,
          16999,
          25000,
          20159,
          31000,
          22500,
          29500,
          24000,
          20500,
          27200,
          24900,
          24500,
          34000,
          28000,
          27000,
          34000,
          42500,
          33000,
          10200,
          25600,
          16300,
          26500,
          36500,
          25900,
          22500,
          29000,
          825,
          10500,
          32000,
          27700,
          4000,
          38800,
          19500,
          11700,
          34000,
          38600,
          21500,
          38500,
          38500,
          12000,
          30500,
          11300,
          29500,
          16100,
          32500,
          29000,
          30000,
          26000,
          26000,
          18500,
          12000,
          30000,
          14700,
          26550,
          27000,
          27500,
          25500,
          13500,
          4000,
          25700,
          29000,
          30500,
          30000,
          9000,
          19000,
          25800,
          26500,
          29300,
          6300,
          25400,
          26000,
          7000,
          25900,
          9700,
          27000,
          9100,
          28000,
          25700,
          27500,
          9400,
          25500,
          20500,
          21500,
          12800,
          23900,
          9400,
          26900,
          25500,
          27000,
          9300,
          14400,
          19000,
          14000,
          13600,
          19200,
          13600,
          18600,
          13700,
          18200,
          13800,
          22000,
          13700,
          28000,
          13800,
          18600,
          13700,
          13700,
          13800,
          17700,
          13900,
          13900,
          13600,
          13800,
          13800,
          45800,
          13800,
          5500,
          14400,
          11450,
          11000,
          11450,
          11000,
          11200,
          11400,
          11450,
          11050,
          11400,
          11050,
          10850,
          10900,
          10450,
          10800,
          10850,
          10800,
          10850,
          10800,
          10900,
          10400,
          10500,
          10800,
          10800,
          11200,
          11100,
          12200,
          4000,
          9000,
          14900,
          4600,
          6400,
          10400,
          7800,
          12300,
          10900,
          8500,
          7300,
          5900,
          20000,
          11200,
          14400,
          16500,
          13400,
          12500,
          6500,
          19800,
          8800,
          12800,
          8800,
          3500,
          750,
          10800,
          22300,
          8300,
          8300,
          8000,
          15200,
          6700,
          7500,
          10500,
          8400,
          7000,
          25500,
          4100,
          13900,
          1900,
          14700,
          18800,
          7800,
          13500,
          8000,
          3300,
          7200,
          8000,
          14000,
          3500,
          12500,
          5800,
          8000,
          2200,
          8300,
          7500,
          8000,
          3500,
          8000,
          7800,
          8000,
          18500,
          8000,
          18300,
          7500,
          29800,
          21100,
          16200,
          6998,
          14700,
          19000,
          7500,
          7998,
          10999,
          2900,
          8495,
          19925,
          9500,
          12750,
          22800,
          11621,
          11590,
          4700,
          11390,
          14500,
          12000,
          15000,
          7500,
          28000,
          17500,
          18000,
          13200,
          17000,
          6700,
          23300,
          26800,
          18200,
          18700,
          12900,
          16000,
          19400,
          10900,
          15800,
          19800,
          19000,
          18000,
          19800,
          19700,
          20100,
          19700,
          23400,
          23300,
          17500,
          17100,
          15800,
          13600,
          14400,
          19800,
          17200,
          20300,
          20500,
          16500,
          16000,
          14600,
          16300,
          15400,
          15800,
          15800,
          21400,
          15300,
          20100,
          11300,
          10700,
          16000,
          16600,
          15800,
          11600,
          15000,
          17600,
          36300,
          15600,
          14000,
          16600,
          12600,
          20900,
          12700,
          15600,
          18900,
          15700,
          21900,
          21700,
          14600,
          12000,
          21000,
          12500,
          15900,
          11800,
          9900,
          10600,
          10100,
          13300,
          10100,
          10300,
          10300,
          10300,
          24000,
          10400,
          10200,
          9500,
          10500,
          10500,
          3500,
          9300,
          14100,
          925,
          11000,
          11000,
          20400,
          375,
          15100,
          4000,
          19500,
          22600,
          6500,
          11800,
          20500,
          14200,
          22000,
          16200,
          4800,
          16000,
          14300,
          16800,
          11900,
          3000,
          15000,
          15200,
          18000,
          22700,
          3800,
          5475,
          11400,
          28100,
          15200,
          1950,
          13400,
          12500,
          16500,
          16500,
          16500,
          13900,
          13900,
          1500,
          16500,
          13900,
          16500,
          13900,
          12400,
          13000,
          16500,
          13900,
          16500,
          13900,
          13900,
          13900,
          12100,
          16500,
          16500,
          13900,
          3700,
          18800,
          9200,
          30100,
          9200,
          11100,
          13900,
          9100,
          22800,
          13900,
          12600,
          9200,
          12100,
          9200,
          2300,
          13900,
          9500,
          13900,
          1700,
          13900,
          10400,
          9200,
          7400,
          9200,
          7800,
          9200,
          9200,
          9200,
          9200
         ],
         "xaxis": "x",
         "yaxis": "y"
        }
       ],
       "layout": {
        "barmode": "relative",
        "font": {
         "family": "Arial",
         "size": 12
        },
        "legend": {
         "tracegroupgap": 0
        },
        "margin": {
         "t": 60
        },
        "template": {
         "data": {
          "bar": [
           {
            "error_x": {
             "color": "#2a3f5f"
            },
            "error_y": {
             "color": "#2a3f5f"
            },
            "marker": {
             "line": {
              "color": "#E5ECF6",
              "width": 0.5
             },
             "pattern": {
              "fillmode": "overlay",
              "size": 10,
              "solidity": 0.2
             }
            },
            "type": "bar"
           }
          ],
          "barpolar": [
           {
            "marker": {
             "line": {
              "color": "#E5ECF6",
              "width": 0.5
             },
             "pattern": {
              "fillmode": "overlay",
              "size": 10,
              "solidity": 0.2
             }
            },
            "type": "barpolar"
           }
          ],
          "carpet": [
           {
            "aaxis": {
             "endlinecolor": "#2a3f5f",
             "gridcolor": "white",
             "linecolor": "white",
             "minorgridcolor": "white",
             "startlinecolor": "#2a3f5f"
            },
            "baxis": {
             "endlinecolor": "#2a3f5f",
             "gridcolor": "white",
             "linecolor": "white",
             "minorgridcolor": "white",
             "startlinecolor": "#2a3f5f"
            },
            "type": "carpet"
           }
          ],
          "choropleth": [
           {
            "colorbar": {
             "outlinewidth": 0,
             "ticks": ""
            },
            "type": "choropleth"
           }
          ],
          "contour": [
           {
            "colorbar": {
             "outlinewidth": 0,
             "ticks": ""
            },
            "colorscale": [
             [
              0,
              "#0d0887"
             ],
             [
              0.1111111111111111,
              "#46039f"
             ],
             [
              0.2222222222222222,
              "#7201a8"
             ],
             [
              0.3333333333333333,
              "#9c179e"
             ],
             [
              0.4444444444444444,
              "#bd3786"
             ],
             [
              0.5555555555555556,
              "#d8576b"
             ],
             [
              0.6666666666666666,
              "#ed7953"
             ],
             [
              0.7777777777777778,
              "#fb9f3a"
             ],
             [
              0.8888888888888888,
              "#fdca26"
             ],
             [
              1,
              "#f0f921"
             ]
            ],
            "type": "contour"
           }
          ],
          "contourcarpet": [
           {
            "colorbar": {
             "outlinewidth": 0,
             "ticks": ""
            },
            "type": "contourcarpet"
           }
          ],
          "heatmap": [
           {
            "colorbar": {
             "outlinewidth": 0,
             "ticks": ""
            },
            "colorscale": [
             [
              0,
              "#0d0887"
             ],
             [
              0.1111111111111111,
              "#46039f"
             ],
             [
              0.2222222222222222,
              "#7201a8"
             ],
             [
              0.3333333333333333,
              "#9c179e"
             ],
             [
              0.4444444444444444,
              "#bd3786"
             ],
             [
              0.5555555555555556,
              "#d8576b"
             ],
             [
              0.6666666666666666,
              "#ed7953"
             ],
             [
              0.7777777777777778,
              "#fb9f3a"
             ],
             [
              0.8888888888888888,
              "#fdca26"
             ],
             [
              1,
              "#f0f921"
             ]
            ],
            "type": "heatmap"
           }
          ],
          "heatmapgl": [
           {
            "colorbar": {
             "outlinewidth": 0,
             "ticks": ""
            },
            "colorscale": [
             [
              0,
              "#0d0887"
             ],
             [
              0.1111111111111111,
              "#46039f"
             ],
             [
              0.2222222222222222,
              "#7201a8"
             ],
             [
              0.3333333333333333,
              "#9c179e"
             ],
             [
              0.4444444444444444,
              "#bd3786"
             ],
             [
              0.5555555555555556,
              "#d8576b"
             ],
             [
              0.6666666666666666,
              "#ed7953"
             ],
             [
              0.7777777777777778,
              "#fb9f3a"
             ],
             [
              0.8888888888888888,
              "#fdca26"
             ],
             [
              1,
              "#f0f921"
             ]
            ],
            "type": "heatmapgl"
           }
          ],
          "histogram": [
           {
            "marker": {
             "pattern": {
              "fillmode": "overlay",
              "size": 10,
              "solidity": 0.2
             }
            },
            "type": "histogram"
           }
          ],
          "histogram2d": [
           {
            "colorbar": {
             "outlinewidth": 0,
             "ticks": ""
            },
            "colorscale": [
             [
              0,
              "#0d0887"
             ],
             [
              0.1111111111111111,
              "#46039f"
             ],
             [
              0.2222222222222222,
              "#7201a8"
             ],
             [
              0.3333333333333333,
              "#9c179e"
             ],
             [
              0.4444444444444444,
              "#bd3786"
             ],
             [
              0.5555555555555556,
              "#d8576b"
             ],
             [
              0.6666666666666666,
              "#ed7953"
             ],
             [
              0.7777777777777778,
              "#fb9f3a"
             ],
             [
              0.8888888888888888,
              "#fdca26"
             ],
             [
              1,
              "#f0f921"
             ]
            ],
            "type": "histogram2d"
           }
          ],
          "histogram2dcontour": [
           {
            "colorbar": {
             "outlinewidth": 0,
             "ticks": ""
            },
            "colorscale": [
             [
              0,
              "#0d0887"
             ],
             [
              0.1111111111111111,
              "#46039f"
             ],
             [
              0.2222222222222222,
              "#7201a8"
             ],
             [
              0.3333333333333333,
              "#9c179e"
             ],
             [
              0.4444444444444444,
              "#bd3786"
             ],
             [
              0.5555555555555556,
              "#d8576b"
             ],
             [
              0.6666666666666666,
              "#ed7953"
             ],
             [
              0.7777777777777778,
              "#fb9f3a"
             ],
             [
              0.8888888888888888,
              "#fdca26"
             ],
             [
              1,
              "#f0f921"
             ]
            ],
            "type": "histogram2dcontour"
           }
          ],
          "mesh3d": [
           {
            "colorbar": {
             "outlinewidth": 0,
             "ticks": ""
            },
            "type": "mesh3d"
           }
          ],
          "parcoords": [
           {
            "line": {
             "colorbar": {
              "outlinewidth": 0,
              "ticks": ""
             }
            },
            "type": "parcoords"
           }
          ],
          "pie": [
           {
            "automargin": true,
            "type": "pie"
           }
          ],
          "scatter": [
           {
            "fillpattern": {
             "fillmode": "overlay",
             "size": 10,
             "solidity": 0.2
            },
            "type": "scatter"
           }
          ],
          "scatter3d": [
           {
            "line": {
             "colorbar": {
              "outlinewidth": 0,
              "ticks": ""
             }
            },
            "marker": {
             "colorbar": {
              "outlinewidth": 0,
              "ticks": ""
             }
            },
            "type": "scatter3d"
           }
          ],
          "scattercarpet": [
           {
            "marker": {
             "colorbar": {
              "outlinewidth": 0,
              "ticks": ""
             }
            },
            "type": "scattercarpet"
           }
          ],
          "scattergeo": [
           {
            "marker": {
             "colorbar": {
              "outlinewidth": 0,
              "ticks": ""
             }
            },
            "type": "scattergeo"
           }
          ],
          "scattergl": [
           {
            "marker": {
             "colorbar": {
              "outlinewidth": 0,
              "ticks": ""
             }
            },
            "type": "scattergl"
           }
          ],
          "scattermapbox": [
           {
            "marker": {
             "colorbar": {
              "outlinewidth": 0,
              "ticks": ""
             }
            },
            "type": "scattermapbox"
           }
          ],
          "scatterpolar": [
           {
            "marker": {
             "colorbar": {
              "outlinewidth": 0,
              "ticks": ""
             }
            },
            "type": "scatterpolar"
           }
          ],
          "scatterpolargl": [
           {
            "marker": {
             "colorbar": {
              "outlinewidth": 0,
              "ticks": ""
             }
            },
            "type": "scatterpolargl"
           }
          ],
          "scatterternary": [
           {
            "marker": {
             "colorbar": {
              "outlinewidth": 0,
              "ticks": ""
             }
            },
            "type": "scatterternary"
           }
          ],
          "surface": [
           {
            "colorbar": {
             "outlinewidth": 0,
             "ticks": ""
            },
            "colorscale": [
             [
              0,
              "#0d0887"
             ],
             [
              0.1111111111111111,
              "#46039f"
             ],
             [
              0.2222222222222222,
              "#7201a8"
             ],
             [
              0.3333333333333333,
              "#9c179e"
             ],
             [
              0.4444444444444444,
              "#bd3786"
             ],
             [
              0.5555555555555556,
              "#d8576b"
             ],
             [
              0.6666666666666666,
              "#ed7953"
             ],
             [
              0.7777777777777778,
              "#fb9f3a"
             ],
             [
              0.8888888888888888,
              "#fdca26"
             ],
             [
              1,
              "#f0f921"
             ]
            ],
            "type": "surface"
           }
          ],
          "table": [
           {
            "cells": {
             "fill": {
              "color": "#EBF0F8"
             },
             "line": {
              "color": "white"
             }
            },
            "header": {
             "fill": {
              "color": "#C8D4E3"
             },
             "line": {
              "color": "white"
             }
            },
            "type": "table"
           }
          ]
         },
         "layout": {
          "annotationdefaults": {
           "arrowcolor": "#2a3f5f",
           "arrowhead": 0,
           "arrowwidth": 1
          },
          "autotypenumbers": "strict",
          "coloraxis": {
           "colorbar": {
            "outlinewidth": 0,
            "ticks": ""
           }
          },
          "colorscale": {
           "diverging": [
            [
             0,
             "#8e0152"
            ],
            [
             0.1,
             "#c51b7d"
            ],
            [
             0.2,
             "#de77ae"
            ],
            [
             0.3,
             "#f1b6da"
            ],
            [
             0.4,
             "#fde0ef"
            ],
            [
             0.5,
             "#f7f7f7"
            ],
            [
             0.6,
             "#e6f5d0"
            ],
            [
             0.7,
             "#b8e186"
            ],
            [
             0.8,
             "#7fbc41"
            ],
            [
             0.9,
             "#4d9221"
            ],
            [
             1,
             "#276419"
            ]
           ],
           "sequential": [
            [
             0,
             "#0d0887"
            ],
            [
             0.1111111111111111,
             "#46039f"
            ],
            [
             0.2222222222222222,
             "#7201a8"
            ],
            [
             0.3333333333333333,
             "#9c179e"
            ],
            [
             0.4444444444444444,
             "#bd3786"
            ],
            [
             0.5555555555555556,
             "#d8576b"
            ],
            [
             0.6666666666666666,
             "#ed7953"
            ],
            [
             0.7777777777777778,
             "#fb9f3a"
            ],
            [
             0.8888888888888888,
             "#fdca26"
            ],
            [
             1,
             "#f0f921"
            ]
           ],
           "sequentialminus": [
            [
             0,
             "#0d0887"
            ],
            [
             0.1111111111111111,
             "#46039f"
            ],
            [
             0.2222222222222222,
             "#7201a8"
            ],
            [
             0.3333333333333333,
             "#9c179e"
            ],
            [
             0.4444444444444444,
             "#bd3786"
            ],
            [
             0.5555555555555556,
             "#d8576b"
            ],
            [
             0.6666666666666666,
             "#ed7953"
            ],
            [
             0.7777777777777778,
             "#fb9f3a"
            ],
            [
             0.8888888888888888,
             "#fdca26"
            ],
            [
             1,
             "#f0f921"
            ]
           ]
          },
          "colorway": [
           "#636efa",
           "#EF553B",
           "#00cc96",
           "#ab63fa",
           "#FFA15A",
           "#19d3f3",
           "#FF6692",
           "#B6E880",
           "#FF97FF",
           "#FECB52"
          ],
          "font": {
           "color": "#2a3f5f"
          },
          "geo": {
           "bgcolor": "white",
           "lakecolor": "white",
           "landcolor": "#E5ECF6",
           "showlakes": true,
           "showland": true,
           "subunitcolor": "white"
          },
          "hoverlabel": {
           "align": "left"
          },
          "hovermode": "closest",
          "mapbox": {
           "style": "light"
          },
          "paper_bgcolor": "white",
          "plot_bgcolor": "#E5ECF6",
          "polar": {
           "angularaxis": {
            "gridcolor": "white",
            "linecolor": "white",
            "ticks": ""
           },
           "bgcolor": "#E5ECF6",
           "radialaxis": {
            "gridcolor": "white",
            "linecolor": "white",
            "ticks": ""
           }
          },
          "scene": {
           "xaxis": {
            "backgroundcolor": "#E5ECF6",
            "gridcolor": "white",
            "gridwidth": 2,
            "linecolor": "white",
            "showbackground": true,
            "ticks": "",
            "zerolinecolor": "white"
           },
           "yaxis": {
            "backgroundcolor": "#E5ECF6",
            "gridcolor": "white",
            "gridwidth": 2,
            "linecolor": "white",
            "showbackground": true,
            "ticks": "",
            "zerolinecolor": "white"
           },
           "zaxis": {
            "backgroundcolor": "#E5ECF6",
            "gridcolor": "white",
            "gridwidth": 2,
            "linecolor": "white",
            "showbackground": true,
            "ticks": "",
            "zerolinecolor": "white"
           }
          },
          "shapedefaults": {
           "line": {
            "color": "#2a3f5f"
           }
          },
          "ternary": {
           "aaxis": {
            "gridcolor": "white",
            "linecolor": "white",
            "ticks": ""
           },
           "baxis": {
            "gridcolor": "white",
            "linecolor": "white",
            "ticks": ""
           },
           "bgcolor": "#E5ECF6",
           "caxis": {
            "gridcolor": "white",
            "linecolor": "white",
            "ticks": ""
           }
          },
          "title": {
           "x": 0.05
          },
          "xaxis": {
           "automargin": true,
           "gridcolor": "white",
           "linecolor": "white",
           "ticks": "",
           "title": {
            "standoff": 15
           },
           "zerolinecolor": "white",
           "zerolinewidth": 2
          },
          "yaxis": {
           "automargin": true,
           "gridcolor": "white",
           "linecolor": "white",
           "ticks": "",
           "title": {
            "standoff": 15
           },
           "zerolinecolor": "white",
           "zerolinewidth": 2
          }
         }
        },
        "xaxis": {
         "anchor": "y",
         "domain": [
          0,
          1
         ],
         "linecolor": "black",
         "linewidth": 2,
         "showgrid": false,
         "showline": false,
         "ticks": "outside",
         "title": {
          "text": "Price"
         }
        },
        "yaxis": {
         "anchor": "x",
         "domain": [
          0,
          1
         ],
         "linecolor": "black",
         "linewidth": 1,
         "showgrid": true,
         "showline": false,
         "title": {
          "text": "Count"
         }
        }
       }
      },
      "text/html": [
       "<div>                            <div id=\"d11cd96e-d6eb-4a64-a27e-6d049c1bd1d7\" class=\"plotly-graph-div\" style=\"height:525px; width:100%;\"></div>            <script type=\"text/javascript\">                require([\"plotly\"], function(Plotly) {                    window.PLOTLYENV=window.PLOTLYENV || {};                                    if (document.getElementById(\"d11cd96e-d6eb-4a64-a27e-6d049c1bd1d7\")) {                    Plotly.newPlot(                        \"d11cd96e-d6eb-4a64-a27e-6d049c1bd1d7\",                        [{\"alignmentgroup\":\"True\",\"bingroup\":\"x\",\"hovertemplate\":\"price=%{x}<br>count=%{y}<extra></extra>\",\"legendgroup\":\"\",\"marker\":{\"color\":\"#636efa\",\"pattern\":{\"shape\":\"\"}},\"name\":\"\",\"nbinsx\":30,\"offsetgroup\":\"\",\"orientation\":\"v\",\"showlegend\":false,\"x\":[5350,25000,27700,5700,13350,14600,5250,10400,12920,31900,20700,12710,5200,16500,5210,38100,12520,7300,15000,6180,20800,11900,21500,12000,4190,13000,12710,18500,29800,5330,13000,11900,16600,19200,7320,12710,16600,30500,6330,12520,16200,19000,5580,12710,16000,27000,7760,19600,12920,20000,18100,23000,18500,13490,20700,17800,6650,29100,12710,21100,18600,4340,19300,12780,15800,29400,4430,19400,12520,15900,26400,4140,18300,12520,17900,18300,4640,24000,13200,18000,14900,4140,11500,9110,7350,24500,9300,39800,15110,34000,26502,5990,13600,23605,10780,13800,25201,7070,8700,18003,8530,23100,24500,7000,17000,34002,6980,25000,20802,9200,26500,24802,7070,28500,47500,23500,23505,10940,32100,6830,11900,26414,4160,19405,5690,25900,24005,5090,19500,32012,6800,4260,31802,7210,28402,6800,33300,10780,20000,6440,19900,37000,4040,22300,31200,4290,22800,19002,4160,18500,39000,6060,28800,40000,6140,21000,20105,6760,25800,39000,5470,14600,24502,15110,7900,27305,15290,26500,25502,7320,24502,4140,18402,4160,24503,15840,21003,4200,32001,31009,3740,5000,31002,3160,6000,25,13200,22500,7420,13500,15500,3540,45500,4130,15700,45500,4130,15500,16300,4530,15600,45500,4100,10200,4080,5000,1700,6200,3650,10500,43500,4610,3450,38500,6810,43500,4450,16500,4240,26500,13700,8600,14200,7040,30851,4880,14500,7600,13270,33000,9280,7560,19500,17100,8020,10300,22600,10480,10300,22700,7410,10300,7570,18900,12560,33000,18300,11760,31700,7340,8200,3000,6530,12700,13800,725,7400,9800,4400,10330,1800,720,22800,2500,9190,10900,10400,22809,5520,10900,6330,2320,23702,5520,4050,14810,25,24800,6270,1880,10050,225,26900,1420,27003,5600,6680,10120,3920,23100,5630,2800,18712,6300,2220,6930,9270,11380,5350,3790,40514,9190,10330,1000,2925,3830,43402,17200,13080,10630,43009,4950,3760,3830,6240,4150,13500,6490,250,25,8160,7770,1825,39800,9210,125,3960,15050,3960,36300,2630,5690,19500,20400,4320,33001,10000,5790,14750,4010,40000,13000,3550,3040,36400,4480,31003,14750,4690,23000,46900,10740,3160,3450,27102,500,15010,5800,23200,8000,3390,3140,15000,10440,23911,21400,5380,11000,4950,22500,30300,2630,3140,2300,4310,26012,75,48500,3330,11200,4730,24900,29400,8350,3210,4200,8430,25503,26000,3900,11200,8610,28000,10840,11050,3570,25001,5630,11100,4650,3820,2900,4700,29502,6160,10910,3440,16000,3810,3020,24811,5420,11100,4750,17900,3800,3160,6470,26400,32500,6900,11030,18000,3250,3210,13200,27705,7200,28714,11200,27502,11900,29314,11200,27002,13200,28214,12700,29900,12700,27202,13500,27705,14700,29900,4500,27705,8000,25511,7700,29900,7200,27502,4500,27402,1500,26602,10200,29900,14000,28500,8000,29809,36900,26902,10950,27402,16900,25600,29700,27702,13500,27102,27102,25811,26602,27102,37500,26211,24205,37500,27111,27411,27302,27202,26311,26602,33500,27511,21500,27200,26511,24002,21500,18511,14000,29000,23402,13300,19700,23211,15500,18111,21500,25511,17700,28000,14000,21700,13500,35500,29500,25300,21500,25900,35300,13500,46000,9000,25900,25800,17000,12800,47400,24400,17100,7400,33100,22000,35000,16500,35300,26900,11600,28100,27700,17700,16600,36800,19500,38800,37500,35000,31100,22600,22400,22700,13700,37100,18500,18300,19000,18500,22500,32800,12300,19600,13600,7200,19900,13000,19700,9400,23800,17700,17000,32100,33100,31600,5100,4100,7200,46800,21800,3000,22500,35300,16500,33000,31500,34500,8000,25000,10700,13400,16500,34000,14100,38600,9100,8600,22000,8900,15500,3300,29000,17300,30500,25000,2800,36400,34800,20700,32200,35300,33500,13700,15900,33200,35500,29800,29800,29500,30300,24300,29800,29800,27500,10800,11500,10400,11400,11400,8000,3000,25000,12300,14100,9000,4200,22500,22600,22600,22500,10200,42700,22700,22000,10500,14200,15500,35100,26300,15700,17600,18600,19100,15200,16100,14800,16700,15300,16500,19600,15200,15000,15500,15700,14800,9200,8200,11400,6500,11500,23800,28300,27300,3500,28300,18300,22500,22500,8300,16500,14500,30000,30000,30000,30000,30000,29500,21600,22600,16300,28800,22100,14300,13700,29500,18500,19000,43400,46000,12500,13900,13000,13000,3000,17500,7900,8900,11500,6500,8000,18700,8350,27900,14500,6200,20200,29300,31000,32400,21500,23100,4500,24800,23000,26900,21500,15700,15200,23300,6100,20000,3000,18200,21800,19000,25000,36000,17000,25300,14900,15000,12995,17750,10295,16995,25000,23995,14900,15810,20227,20999,22499,23495,25250,15322,21232,5800,29000,17000,13800,30000,14800,8500,9800,28700,18500,17300,7100,3250,30700,26500,20800,20800,5100,18900,24000,38800,24500,24500,6500,24000,18000,24000,23500,4500,25900,13900,14200,15400,17500,17500,18000,25200,14100,13300,16200,13300,13100,15500,4500,28400,17400,20700,20300,14000,22000,17200,15000,17500,1750,16300,15700,10000,23100,14900,16700,16300,25800,23800,16800,15500,6000,26900,16900,19500,15400,17000,34000,13700,19100,11800,27500,26900,27100,27200,9000,22500,7700,4500,21500,18800,21800,20300,8200,19000,8400,19500,7000,19500,8500,20500,4900,20800,28500,21900,15800,33000,22700,21900,19300,30700,19300,16400,19500,15100,28500,15300,20300,22000,16700,19300,34100,14600,18200,33800,15900,16500,29600,14100,18200,18200,24300,15400,19000,19000,27800,18200,15000,19200,15500,24900,15500,7600,18400,14700,3900,5200,17200,18700,32000,14500,19400,17300,16700,19100,11100,32000,16900,18000,17800,18000,17500,14500,18500,18600,32000,17000,16000,18000,15900,6200,3700,24000,20800,18500,18300,21000,11900,26800,21000,33500,21000,26800,5700,18500,33000,11000,15800,16300,2700,12800,9700,18300,16000,21000,3700,33000,14700,33000,15900,33000,33000,32500,33000,13000,33000,16500,33000,34500,33500,48000,13200,31500,17400,26000,11000,21000,5500,7500,15800,16900,25000,18000,15600,23800,16800,22700,23300,23500,25500,21800,22800,18200,23500,25700,15700,17500,15700,16500,16100,15600,15400,28200,15300,15900,17700,15800,15900,25300,16300,29500,14500,15400,15400,15100,15000,15500,15000,15200,15700,16100,16300,16000,16900,17000,17300,15900,15700,16900,15500,15100,15500,15400,16500,42500,16600,15200,15800,16900,11100,15600,16900,15300,16600,21800,36500,26300,20900,20100,26700,23900,14500,23000,15000,15000,28500,28000,9000,28700,25000,17347,13800,25888,8500,21289,17999,2700,30977,13799,20500,24500,32500,9200,17700,18300,43500,15200,36200,21900,20700,12300,4200,19500,14300,13700,13200,6500,8700,3200,20000,33000,23300,23600,12000,30900,23900,40400,38000,27000,24000,30000,16200,30000,23900,13800,23700,24300,22500,39000,13900,24700,20100,22000,38200,24400,35000,18600,22700,38000,17000,17500,23200,30700,23500,26400,23500,38000,23600,19300,23200,13800,23600,23200,40000,23400,23600,23000,25500,23500,29900,23200,23400,24500,25400,23000,22400,22500,25200,36000,26700,30500,26700,25000,35200,30300,25000,26500,21600,18800,21500,9000,16700,16800,15700,16800,19500,20500,17400,17500,26000,40200,32500,25500,44000,35000,22500,8300,21000,19300,16400,27300,35100,41500,34100,28600,34100,28700,24700,46500,29000,25500,39500,33100,30500,3600,16800,24000,28800,26800,36000,20000,46700,42800,21800,18800,18800,30200,27500,37500,19100,17100,13500,9000,16400,17000,24800,26800,19400,20000,25100,2000,18200,14200,2000,26500,34300,43500,3500,37200,12800,12500,21500,17300,27000,31800,13000,31800,46300,6000,22800,45000,20000,25300,45500,9100,48000,47000,31200,18500,15500,30500,45500,31500,11000,46500,31500,32000,23900,31500,18500,1500,46000,31500,14700,2700,47500,31500,8900,7000,31500,8900,48000,47300,45000,40200,48000,8200,4000,39000,29000,46500,7805,22000,18800,33000,39500,16900,42500,39500,25500,25000,40000,26000,29500,23000,25500,44500,15600,23100,37000,14500,23000,26500,18000,35700,31000,40400,43600,22600,26000,23200,29000,22800,31000,22900,28000,23200,27000,22800,31500,23400,28000,23400,28000,24900,23500,36000,28700,16000,31000,28500,10800,28500,25000,31000,7800,28500,9500,28500,14500,25000,14500,28500,12100,29400,24700,8700,29500,25800,17500,23900,22900,19500,29500,24500,11000,22400,15700,11000,28000,13500,25100,24100,6500,10500,16900,28500,16200,6500,24500,16500,10400,22800,26500,23800,24700,12400,16600,11200,15900,7700,15100,7200,15600,39700,16000,19000,5500,38700,21000,28500,37200,18500,37700,22200,39950,37600,18500,10000,20500,5700,21000,22500,29000,25500,18900,31500,45500,11000,18288,20000,36600,18299,10000,4100,31500,13500,22800,11300,32700,21900,9800,11000,5500,5000,23400,13500,22900,20000,22900,27000,20600,23500,23600,33500,24400,13000,48400,46200,9300,13500,27600,26500,26000,24500,2100,16700,17500,17000,22500,34500,16600,7500,34500,25000,36000,23700,28600,23500,25300,24900,23400,14600,25500,14700,33700,33400,34000,17500,14100,30000,16500,30600,12800,26000,46000,28500,24300,29000,15300,27900,24700,14400,15000,17200,12800,46900,2800,16200,25200,34800,26000,40600,5000,36400,7500,14700,43900,6400,41100,23000,13900,34800,16300,18800,40900,47000,12800,25500,17800,25700,17200,35000,28800,39200,13600,24200,46900,26500,24700,12600,31800,24500,26000,21000,22500,7700,23100,9200,19600,11700,27300,14300,23600,6200,22400,5700,23600,37500,10700,31900,31600,12600,3900,13000,11800,24600,14500,24300,12300,14800,17100,6800,20300,26300,22500,41200,20400,12100,24000,9500,9000,9800,7800,17200,18800,7000,44000,23400,30700,15600,22600,22900,22800,22700,23000,22700,23000,34400,36500,23100,23300,22600,4500,23000,8000,11500,9400,23000,22600,23000,5200,19200,10100,6200,14000,9200,14700,3000,30200,3800,21500,4900,23000,11200,10400,13200,5200,10500,11900,23500,4700,22000,14000,9200,23300,21700,11200,11300,4200,10900,42300,10500,43400,12500,15900,42500,24700,29000,16800,16500,10000,27900,23700,20000,45600,15600,25000,28500,19990,34400,30999,41000,27999,42000,29795,24700,13995,2900,35400,24549,8900,15800,18500,32000,28300,10500,24970,13800,2580,2500,28990,33800,46999,16700,34700,28900,30800,27100,13388,26000,17900,23400,29800,23700,33995,23500,32500,2500,39000,11000,32500,26900,11200,21000,32000,7300,12800,24190,29100,29000,17300,19888,31000,37200,8600,24857,23500,26100,10800,20995,29300,33100,13800,19498,14900,8700,20600,5000,19995,14900,19500,24500,15000,26985,31000,24300,16800,17200,34995,24300,26400,16800,15500,19440,16700,29000,16100,17200,20950,46200,29400,32999,6600,28300,12000,32999,12600,5200,20500,35999,41000,33100,23500,33999,35000,26100,15400,25998,31831,40400,13500,25995,27990,23985,27995,13995,29988,12995,21687,25200,29590,28999,13942,15300,35400,32700,13995,15800,36000,15495,21500,7200,17589,31790,18100,14495,15000,26400,27990,19700,15300,22000,23999,16488,12784,23400,9705,25999,34977,19000,15995,13487,18707,15290,15600,47000,16080,15268,47500,18497,10000,19995,17150,45000,14295,16190,17899,26000,14000,15500,16888,28000,8305,21822,15500,15995,16000,38200,12995,14488,17500,21995,8500,16593,13000,14247,23500,16999,25000,20159,31000,22500,29500,24000,20500,27200,24900,24500,34000,28000,27000,34000,42500,33000,10200,25600,16300,26500,36500,25900,22500,29000,825,10500,32000,27700,4000,38800,19500,11700,34000,38600,21500,38500,38500,12000,30500,11300,29500,16100,32500,29000,30000,26000,26000,18500,12000,30000,14700,26550,27000,27500,25500,13500,4000,25700,29000,30500,30000,9000,19000,25800,26500,29300,6300,25400,26000,7000,25900,9700,27000,9100,28000,25700,27500,9400,25500,20500,21500,12800,23900,9400,26900,25500,27000,9300,14400,19000,14000,13600,19200,13600,18600,13700,18200,13800,22000,13700,28000,13800,18600,13700,13700,13800,17700,13900,13900,13600,13800,13800,45800,13800,5500,14400,11450,11000,11450,11000,11200,11400,11450,11050,11400,11050,10850,10900,10450,10800,10850,10800,10850,10800,10900,10400,10500,10800,10800,11200,11100,12200,4000,9000,14900,4600,6400,10400,7800,12300,10900,8500,7300,5900,20000,11200,14400,16500,13400,12500,6500,19800,8800,12800,8800,3500,750,10800,22300,8300,8300,8000,15200,6700,7500,10500,8400,7000,25500,4100,13900,1900,14700,18800,7800,13500,8000,3300,7200,8000,14000,3500,12500,5800,8000,2200,8300,7500,8000,3500,8000,7800,8000,18500,8000,18300,7500,29800,21100,16200,6998,14700,19000,7500,7998,10999,2900,8495,19925,9500,12750,22800,11621,11590,4700,11390,14500,12000,15000,7500,28000,17500,18000,13200,17000,6700,23300,26800,18200,18700,12900,16000,19400,10900,15800,19800,19000,18000,19800,19700,20100,19700,23400,23300,17500,17100,15800,13600,14400,19800,17200,20300,20500,16500,16000,14600,16300,15400,15800,15800,21400,15300,20100,11300,10700,16000,16600,15800,11600,15000,17600,36300,15600,14000,16600,12600,20900,12700,15600,18900,15700,21900,21700,14600,12000,21000,12500,15900,11800,9900,10600,10100,13300,10100,10300,10300,10300,24000,10400,10200,9500,10500,10500,3500,9300,14100,925,11000,11000,20400,375,15100,4000,19500,22600,6500,11800,20500,14200,22000,16200,4800,16000,14300,16800,11900,3000,15000,15200,18000,22700,3800,5475,11400,28100,15200,1950,13400,12500,16500,16500,16500,13900,13900,1500,16500,13900,16500,13900,12400,13000,16500,13900,16500,13900,13900,13900,12100,16500,16500,13900,3700,18800,9200,30100,9200,11100,13900,9100,22800,13900,12600,9200,12100,9200,2300,13900,9500,13900,1700,13900,10400,9200,7400,9200,7800,9200,9200,9200,9200],\"xaxis\":\"x\",\"yaxis\":\"y\",\"type\":\"histogram\"}],                        {\"template\":{\"data\":{\"histogram2dcontour\":[{\"type\":\"histogram2dcontour\",\"colorbar\":{\"outlinewidth\":0,\"ticks\":\"\"},\"colorscale\":[[0.0,\"#0d0887\"],[0.1111111111111111,\"#46039f\"],[0.2222222222222222,\"#7201a8\"],[0.3333333333333333,\"#9c179e\"],[0.4444444444444444,\"#bd3786\"],[0.5555555555555556,\"#d8576b\"],[0.6666666666666666,\"#ed7953\"],[0.7777777777777778,\"#fb9f3a\"],[0.8888888888888888,\"#fdca26\"],[1.0,\"#f0f921\"]]}],\"choropleth\":[{\"type\":\"choropleth\",\"colorbar\":{\"outlinewidth\":0,\"ticks\":\"\"}}],\"histogram2d\":[{\"type\":\"histogram2d\",\"colorbar\":{\"outlinewidth\":0,\"ticks\":\"\"},\"colorscale\":[[0.0,\"#0d0887\"],[0.1111111111111111,\"#46039f\"],[0.2222222222222222,\"#7201a8\"],[0.3333333333333333,\"#9c179e\"],[0.4444444444444444,\"#bd3786\"],[0.5555555555555556,\"#d8576b\"],[0.6666666666666666,\"#ed7953\"],[0.7777777777777778,\"#fb9f3a\"],[0.8888888888888888,\"#fdca26\"],[1.0,\"#f0f921\"]]}],\"heatmap\":[{\"type\":\"heatmap\",\"colorbar\":{\"outlinewidth\":0,\"ticks\":\"\"},\"colorscale\":[[0.0,\"#0d0887\"],[0.1111111111111111,\"#46039f\"],[0.2222222222222222,\"#7201a8\"],[0.3333333333333333,\"#9c179e\"],[0.4444444444444444,\"#bd3786\"],[0.5555555555555556,\"#d8576b\"],[0.6666666666666666,\"#ed7953\"],[0.7777777777777778,\"#fb9f3a\"],[0.8888888888888888,\"#fdca26\"],[1.0,\"#f0f921\"]]}],\"heatmapgl\":[{\"type\":\"heatmapgl\",\"colorbar\":{\"outlinewidth\":0,\"ticks\":\"\"},\"colorscale\":[[0.0,\"#0d0887\"],[0.1111111111111111,\"#46039f\"],[0.2222222222222222,\"#7201a8\"],[0.3333333333333333,\"#9c179e\"],[0.4444444444444444,\"#bd3786\"],[0.5555555555555556,\"#d8576b\"],[0.6666666666666666,\"#ed7953\"],[0.7777777777777778,\"#fb9f3a\"],[0.8888888888888888,\"#fdca26\"],[1.0,\"#f0f921\"]]}],\"contourcarpet\":[{\"type\":\"contourcarpet\",\"colorbar\":{\"outlinewidth\":0,\"ticks\":\"\"}}],\"contour\":[{\"type\":\"contour\",\"colorbar\":{\"outlinewidth\":0,\"ticks\":\"\"},\"colorscale\":[[0.0,\"#0d0887\"],[0.1111111111111111,\"#46039f\"],[0.2222222222222222,\"#7201a8\"],[0.3333333333333333,\"#9c179e\"],[0.4444444444444444,\"#bd3786\"],[0.5555555555555556,\"#d8576b\"],[0.6666666666666666,\"#ed7953\"],[0.7777777777777778,\"#fb9f3a\"],[0.8888888888888888,\"#fdca26\"],[1.0,\"#f0f921\"]]}],\"surface\":[{\"type\":\"surface\",\"colorbar\":{\"outlinewidth\":0,\"ticks\":\"\"},\"colorscale\":[[0.0,\"#0d0887\"],[0.1111111111111111,\"#46039f\"],[0.2222222222222222,\"#7201a8\"],[0.3333333333333333,\"#9c179e\"],[0.4444444444444444,\"#bd3786\"],[0.5555555555555556,\"#d8576b\"],[0.6666666666666666,\"#ed7953\"],[0.7777777777777778,\"#fb9f3a\"],[0.8888888888888888,\"#fdca26\"],[1.0,\"#f0f921\"]]}],\"mesh3d\":[{\"type\":\"mesh3d\",\"colorbar\":{\"outlinewidth\":0,\"ticks\":\"\"}}],\"scatter\":[{\"fillpattern\":{\"fillmode\":\"overlay\",\"size\":10,\"solidity\":0.2},\"type\":\"scatter\"}],\"parcoords\":[{\"type\":\"parcoords\",\"line\":{\"colorbar\":{\"outlinewidth\":0,\"ticks\":\"\"}}}],\"scatterpolargl\":[{\"type\":\"scatterpolargl\",\"marker\":{\"colorbar\":{\"outlinewidth\":0,\"ticks\":\"\"}}}],\"bar\":[{\"error_x\":{\"color\":\"#2a3f5f\"},\"error_y\":{\"color\":\"#2a3f5f\"},\"marker\":{\"line\":{\"color\":\"#E5ECF6\",\"width\":0.5},\"pattern\":{\"fillmode\":\"overlay\",\"size\":10,\"solidity\":0.2}},\"type\":\"bar\"}],\"scattergeo\":[{\"type\":\"scattergeo\",\"marker\":{\"colorbar\":{\"outlinewidth\":0,\"ticks\":\"\"}}}],\"scatterpolar\":[{\"type\":\"scatterpolar\",\"marker\":{\"colorbar\":{\"outlinewidth\":0,\"ticks\":\"\"}}}],\"histogram\":[{\"marker\":{\"pattern\":{\"fillmode\":\"overlay\",\"size\":10,\"solidity\":0.2}},\"type\":\"histogram\"}],\"scattergl\":[{\"type\":\"scattergl\",\"marker\":{\"colorbar\":{\"outlinewidth\":0,\"ticks\":\"\"}}}],\"scatter3d\":[{\"type\":\"scatter3d\",\"line\":{\"colorbar\":{\"outlinewidth\":0,\"ticks\":\"\"}},\"marker\":{\"colorbar\":{\"outlinewidth\":0,\"ticks\":\"\"}}}],\"scattermapbox\":[{\"type\":\"scattermapbox\",\"marker\":{\"colorbar\":{\"outlinewidth\":0,\"ticks\":\"\"}}}],\"scatterternary\":[{\"type\":\"scatterternary\",\"marker\":{\"colorbar\":{\"outlinewidth\":0,\"ticks\":\"\"}}}],\"scattercarpet\":[{\"type\":\"scattercarpet\",\"marker\":{\"colorbar\":{\"outlinewidth\":0,\"ticks\":\"\"}}}],\"carpet\":[{\"aaxis\":{\"endlinecolor\":\"#2a3f5f\",\"gridcolor\":\"white\",\"linecolor\":\"white\",\"minorgridcolor\":\"white\",\"startlinecolor\":\"#2a3f5f\"},\"baxis\":{\"endlinecolor\":\"#2a3f5f\",\"gridcolor\":\"white\",\"linecolor\":\"white\",\"minorgridcolor\":\"white\",\"startlinecolor\":\"#2a3f5f\"},\"type\":\"carpet\"}],\"table\":[{\"cells\":{\"fill\":{\"color\":\"#EBF0F8\"},\"line\":{\"color\":\"white\"}},\"header\":{\"fill\":{\"color\":\"#C8D4E3\"},\"line\":{\"color\":\"white\"}},\"type\":\"table\"}],\"barpolar\":[{\"marker\":{\"line\":{\"color\":\"#E5ECF6\",\"width\":0.5},\"pattern\":{\"fillmode\":\"overlay\",\"size\":10,\"solidity\":0.2}},\"type\":\"barpolar\"}],\"pie\":[{\"automargin\":true,\"type\":\"pie\"}]},\"layout\":{\"autotypenumbers\":\"strict\",\"colorway\":[\"#636efa\",\"#EF553B\",\"#00cc96\",\"#ab63fa\",\"#FFA15A\",\"#19d3f3\",\"#FF6692\",\"#B6E880\",\"#FF97FF\",\"#FECB52\"],\"font\":{\"color\":\"#2a3f5f\"},\"hovermode\":\"closest\",\"hoverlabel\":{\"align\":\"left\"},\"paper_bgcolor\":\"white\",\"plot_bgcolor\":\"#E5ECF6\",\"polar\":{\"bgcolor\":\"#E5ECF6\",\"angularaxis\":{\"gridcolor\":\"white\",\"linecolor\":\"white\",\"ticks\":\"\"},\"radialaxis\":{\"gridcolor\":\"white\",\"linecolor\":\"white\",\"ticks\":\"\"}},\"ternary\":{\"bgcolor\":\"#E5ECF6\",\"aaxis\":{\"gridcolor\":\"white\",\"linecolor\":\"white\",\"ticks\":\"\"},\"baxis\":{\"gridcolor\":\"white\",\"linecolor\":\"white\",\"ticks\":\"\"},\"caxis\":{\"gridcolor\":\"white\",\"linecolor\":\"white\",\"ticks\":\"\"}},\"coloraxis\":{\"colorbar\":{\"outlinewidth\":0,\"ticks\":\"\"}},\"colorscale\":{\"sequential\":[[0.0,\"#0d0887\"],[0.1111111111111111,\"#46039f\"],[0.2222222222222222,\"#7201a8\"],[0.3333333333333333,\"#9c179e\"],[0.4444444444444444,\"#bd3786\"],[0.5555555555555556,\"#d8576b\"],[0.6666666666666666,\"#ed7953\"],[0.7777777777777778,\"#fb9f3a\"],[0.8888888888888888,\"#fdca26\"],[1.0,\"#f0f921\"]],\"sequentialminus\":[[0.0,\"#0d0887\"],[0.1111111111111111,\"#46039f\"],[0.2222222222222222,\"#7201a8\"],[0.3333333333333333,\"#9c179e\"],[0.4444444444444444,\"#bd3786\"],[0.5555555555555556,\"#d8576b\"],[0.6666666666666666,\"#ed7953\"],[0.7777777777777778,\"#fb9f3a\"],[0.8888888888888888,\"#fdca26\"],[1.0,\"#f0f921\"]],\"diverging\":[[0,\"#8e0152\"],[0.1,\"#c51b7d\"],[0.2,\"#de77ae\"],[0.3,\"#f1b6da\"],[0.4,\"#fde0ef\"],[0.5,\"#f7f7f7\"],[0.6,\"#e6f5d0\"],[0.7,\"#b8e186\"],[0.8,\"#7fbc41\"],[0.9,\"#4d9221\"],[1,\"#276419\"]]},\"xaxis\":{\"gridcolor\":\"white\",\"linecolor\":\"white\",\"ticks\":\"\",\"title\":{\"standoff\":15},\"zerolinecolor\":\"white\",\"automargin\":true,\"zerolinewidth\":2},\"yaxis\":{\"gridcolor\":\"white\",\"linecolor\":\"white\",\"ticks\":\"\",\"title\":{\"standoff\":15},\"zerolinecolor\":\"white\",\"automargin\":true,\"zerolinewidth\":2},\"scene\":{\"xaxis\":{\"backgroundcolor\":\"#E5ECF6\",\"gridcolor\":\"white\",\"linecolor\":\"white\",\"showbackground\":true,\"ticks\":\"\",\"zerolinecolor\":\"white\",\"gridwidth\":2},\"yaxis\":{\"backgroundcolor\":\"#E5ECF6\",\"gridcolor\":\"white\",\"linecolor\":\"white\",\"showbackground\":true,\"ticks\":\"\",\"zerolinecolor\":\"white\",\"gridwidth\":2},\"zaxis\":{\"backgroundcolor\":\"#E5ECF6\",\"gridcolor\":\"white\",\"linecolor\":\"white\",\"showbackground\":true,\"ticks\":\"\",\"zerolinecolor\":\"white\",\"gridwidth\":2}},\"shapedefaults\":{\"line\":{\"color\":\"#2a3f5f\"}},\"annotationdefaults\":{\"arrowcolor\":\"#2a3f5f\",\"arrowhead\":0,\"arrowwidth\":1},\"geo\":{\"bgcolor\":\"white\",\"landcolor\":\"#E5ECF6\",\"subunitcolor\":\"white\",\"showland\":true,\"showlakes\":true,\"lakecolor\":\"white\"},\"title\":{\"x\":0.05},\"mapbox\":{\"style\":\"light\"}}},\"xaxis\":{\"anchor\":\"y\",\"domain\":[0.0,1.0],\"title\":{\"text\":\"Price\"},\"showgrid\":false,\"showline\":false,\"linewidth\":2,\"linecolor\":\"black\",\"ticks\":\"outside\"},\"yaxis\":{\"anchor\":\"x\",\"domain\":[0.0,1.0],\"title\":{\"text\":\"Count\"},\"showgrid\":true,\"showline\":false,\"linewidth\":1,\"linecolor\":\"black\"},\"legend\":{\"tracegroupgap\":0},\"margin\":{\"t\":60},\"barmode\":\"relative\",\"font\":{\"size\":12,\"family\":\"Arial\"}},                        {\"responsive\": true}                    ).then(function(){\n",
       "                            \n",
       "var gd = document.getElementById('d11cd96e-d6eb-4a64-a27e-6d049c1bd1d7');\n",
       "var x = new MutationObserver(function (mutations, observer) {{\n",
       "        var display = window.getComputedStyle(gd).display;\n",
       "        if (!display || display === 'none') {{\n",
       "            console.log([gd, 'removed!']);\n",
       "            Plotly.purge(gd);\n",
       "            observer.disconnect();\n",
       "        }}\n",
       "}});\n",
       "\n",
       "// Listen for the removal of the full notebook cells\n",
       "var notebookContainer = gd.closest('#notebook-container');\n",
       "if (notebookContainer) {{\n",
       "    x.observe(notebookContainer, {childList: true});\n",
       "}}\n",
       "\n",
       "// Listen for the clearing of the current output cell\n",
       "var outputEl = gd.closest('.output');\n",
       "if (outputEl) {{\n",
       "    x.observe(outputEl, {childList: true});\n",
       "}}\n",
       "\n",
       "                        })                };                });            </script>        </div>"
      ]
     },
     "metadata": {},
     "output_type": "display_data"
    }
   ],
   "source": [
    "# Plot the price distribution\n",
    "fig = px.histogram(df, x=\"price\", nbins=30)\n",
    "\n",
    "fig.update_xaxes(title='Price', showgrid=False, showline=False, linewidth=2, linecolor='black', ticks='outside')\n",
    "fig.update_yaxes(title='Count', showgrid=True, showline=False, linewidth=1, linecolor='black')\n",
    "fig.update_layout(font_size = 12, font_family='Arial')\n",
    "fig.show()"
   ]
  },
  {
   "cell_type": "code",
   "execution_count": 13,
   "id": "9449d4d5",
   "metadata": {},
   "outputs": [
    {
     "data": {
      "text/plain": [
       "0        43\n",
       "16500    26\n",
       "13900    21\n",
       "15500    19\n",
       "15000    19\n",
       "Name: price, dtype: int64"
      ]
     },
     "execution_count": 13,
     "metadata": {},
     "output_type": "execute_result"
    }
   ],
   "source": [
    "# Check how many values of 0 we have in the price column\n",
    "df['price'].value_counts().head()"
   ]
  },
  {
   "cell_type": "code",
   "execution_count": 14,
   "id": "8aadc7ba",
   "metadata": {
    "scrolled": true
   },
   "outputs": [
    {
     "data": {
      "text/plain": [
       "count    2,392.00\n",
       "mean    18,116.04\n",
       "std     10,432.18\n",
       "min         25.00\n",
       "25%     10,400.00\n",
       "50%     16,800.00\n",
       "75%     25,000.00\n",
       "max     48,500.00\n",
       "Name: price, dtype: float64"
      ]
     },
     "execution_count": 14,
     "metadata": {},
     "output_type": "execute_result"
    }
   ],
   "source": [
    "# Only keep cars which have prices between $1 and the upper fence of $48,589\n",
    "df = df[df['price'].between(1, upper_fence)]\n",
    "\n",
    "df['price'].describe()"
   ]
  },
  {
   "cell_type": "markdown",
   "id": "942655e4",
   "metadata": {},
   "source": [
    "- We lose 107 cars from the dataset which had a price listing of less than 1 dollar and more than 48,589 dollars. \n",
    "- The standard deviation is $10,432, meaning the variation in prices of the cars is quite large."
   ]
  },
  {
   "cell_type": "code",
   "execution_count": 15,
   "id": "ae06605b",
   "metadata": {},
   "outputs": [
    {
     "data": {
      "application/vnd.plotly.v1+json": {
       "config": {
        "plotlyServerURL": "https://plot.ly"
       },
       "data": [
        {
         "alignmentgroup": "True",
         "bingroup": "x",
         "hovertemplate": "price=%{x}<br>count=%{y}<extra></extra>",
         "legendgroup": "",
         "marker": {
          "color": "#636efa",
          "pattern": {
           "shape": ""
          }
         },
         "name": "",
         "nbinsx": 20,
         "offsetgroup": "",
         "orientation": "v",
         "showlegend": false,
         "type": "histogram",
         "x": [
          6300,
          2899,
          5350,
          25000,
          27700,
          5700,
          7300,
          13350,
          14600,
          5250,
          10400,
          12920,
          31900,
          5430,
          20700,
          12710,
          5200,
          16500,
          5210,
          38100,
          12520,
          7300,
          15000,
          6180,
          20800,
          11900,
          21500,
          12000,
          4190,
          13000,
          12710,
          18500,
          29800,
          5330,
          13000,
          11900,
          16600,
          19200,
          7320,
          7000,
          12710,
          16600,
          30500,
          6330,
          12520,
          16200,
          19000,
          5580,
          12710,
          16000,
          27000,
          7760,
          19600,
          12920,
          20000,
          18100,
          23000,
          18500,
          13490,
          20700,
          17800,
          6650,
          29100,
          12710,
          21100,
          18600,
          4340,
          19300,
          12780,
          15800,
          29400,
          4430,
          19400,
          12520,
          15900,
          26400,
          4140,
          18300,
          12520,
          17900,
          18300,
          4640,
          24000,
          13200,
          18000,
          14900,
          4140,
          11500,
          9110,
          7350,
          24500,
          9300,
          39800,
          15110,
          34000,
          26502,
          5990,
          13600,
          23605,
          10780,
          13800,
          25201,
          7070,
          8700,
          18003,
          8530,
          23100,
          24500,
          7000,
          17000,
          34002,
          6980,
          25000,
          20802,
          9200,
          26500,
          24802,
          7070,
          28500,
          47500,
          23500,
          23505,
          10940,
          32100,
          6830,
          11900,
          26414,
          4160,
          19405,
          5690,
          25900,
          24005,
          5090,
          19500,
          32012,
          6800,
          4260,
          31802,
          7210,
          28402,
          6800,
          33300,
          10780,
          6700,
          20000,
          6440,
          19900,
          37000,
          4040,
          22300,
          31200,
          4290,
          22800,
          19002,
          4160,
          18500,
          39000,
          6060,
          28800,
          40000,
          6140,
          21000,
          20105,
          6760,
          25800,
          39000,
          5470,
          14600,
          24502,
          15110,
          7900,
          27305,
          15290,
          26500,
          25502,
          7320,
          3800,
          24502,
          4140,
          1400,
          18402,
          4160,
          175,
          24503,
          15840,
          20500,
          21003,
          4200,
          17400,
          32001,
          15700,
          31009,
          3740,
          5000,
          31002,
          3160,
          8600,
          6000,
          12990,
          25,
          13200,
          4410,
          25,
          22500,
          7420,
          13500,
          15500,
          3540,
          17000,
          45500,
          4130,
          15700,
          45500,
          4130,
          15500,
          16300,
          4530,
          15600,
          45500,
          4100,
          18200,
          10200,
          4080,
          5700,
          10200,
          5000,
          1700,
          6200,
          3650,
          10500,
          43500,
          4610,
          3450,
          38500,
          6810,
          2900,
          43500,
          4450,
          5800,
          16500,
          4240,
          26500,
          13700,
          8600,
          8000,
          14200,
          7040,
          4700,
          30851,
          4880,
          14500,
          7600,
          13270,
          12800,
          33000,
          9280,
          900,
          7560,
          19500,
          17100,
          8020,
          10300,
          22600,
          10480,
          10300,
          22700,
          7410,
          10300,
          10300,
          7570,
          18900,
          12560,
          33000,
          18300,
          11760,
          31700,
          25,
          7340,
          8200,
          3000,
          6530,
          12700,
          13800,
          725,
          7400,
          9800,
          4400,
          10330,
          1800,
          50,
          720,
          22800,
          2500,
          9190,
          10900,
          10400,
          7320,
          22809,
          5520,
          10900,
          6330,
          25,
          2320,
          23702,
          5520,
          4050,
          14810,
          25,
          2960,
          24800,
          6270,
          1880,
          10050,
          225,
          26900,
          1420,
          27003,
          350,
          5600,
          6680,
          10120,
          3920,
          23100,
          5630,
          2800,
          8850,
          18712,
          6300,
          2220,
          6930,
          25,
          3440,
          25,
          950,
          9270,
          11380,
          5350,
          2725,
          3790,
          40514,
          9190,
          10330,
          1000,
          2925,
          3830,
          43402,
          1025,
          17200,
          6940,
          13080,
          25,
          10630,
          43009,
          25,
          4600,
          4950,
          3760,
          3900,
          3830,
          25,
          25,
          6240,
          4150,
          25,
          13500,
          6490,
          250,
          25,
          8160,
          7770,
          200,
          25,
          1825,
          39800,
          9210,
          125,
          3960,
          5998,
          3700,
          5000,
          15050,
          3960,
          36300,
          2630,
          5690,
          19500,
          450,
          20400,
          4320,
          33001,
          10000,
          5790,
          14750,
          4010,
          40000,
          13000,
          3550,
          3040,
          36400,
          4480,
          31003,
          75,
          8850,
          14750,
          4690,
          23000,
          46900,
          10740,
          3160,
          3450,
          27102,
          500,
          5100,
          15010,
          5800,
          23200,
          8000,
          3390,
          3140,
          25,
          15000,
          10440,
          23911,
          25,
          21400,
          5380,
          11000,
          4950,
          22500,
          30300,
          2630,
          3140,
          2300,
          4310,
          26012,
          75,
          48500,
          3330,
          11200,
          4730,
          24900,
          29400,
          8350,
          475,
          3210,
          25,
          4200,
          8430,
          25503,
          26000,
          3900,
          11200,
          8610,
          28000,
          10840,
          100,
          11050,
          1000,
          3570,
          25001,
          5630,
          11100,
          4650,
          3820,
          2900,
          50,
          5100,
          4700,
          29502,
          6160,
          10910,
          3440,
          16000,
          3810,
          1025,
          3020,
          2000,
          3870,
          24811,
          75,
          5420,
          11100,
          4750,
          17900,
          3800,
          3160,
          25,
          1200,
          6470,
          26400,
          32500,
          6900,
          11030,
          3460,
          18000,
          3250,
          3210,
          13200,
          27705,
          7200,
          28714,
          11200,
          27502,
          11900,
          29314,
          11200,
          27002,
          13200,
          28214,
          12700,
          29900,
          12700,
          27202,
          13500,
          27705,
          14700,
          29900,
          4500,
          27705,
          8000,
          25511,
          7700,
          29900,
          7200,
          27502,
          4500,
          27402,
          1500,
          26602,
          10200,
          29900,
          14000,
          28500,
          8000,
          29809,
          36900,
          26902,
          10950,
          27402,
          16900,
          25600,
          29700,
          27702,
          13500,
          27102,
          27102,
          25811,
          26602,
          27102,
          37500,
          26211,
          24205,
          37500,
          27111,
          27411,
          27302,
          27202,
          26311,
          26602,
          33500,
          27511,
          21500,
          27200,
          26511,
          24002,
          21500,
          18511,
          14000,
          29000,
          23402,
          13300,
          19700,
          23211,
          15500,
          18111,
          21500,
          25511,
          17700,
          28000,
          14000,
          21700,
          13500,
          35500,
          29500,
          25300,
          21500,
          25900,
          35300,
          13500,
          46000,
          9000,
          25900,
          25800,
          17000,
          12800,
          47400,
          24400,
          17100,
          7400,
          33100,
          22000,
          35000,
          16500,
          35300,
          26900,
          11600,
          28100,
          27700,
          17700,
          16600,
          36800,
          19500,
          38800,
          37500,
          35000,
          31100,
          22600,
          22400,
          22700,
          13700,
          37100,
          18500,
          18300,
          19000,
          18500,
          22500,
          14500,
          32800,
          12300,
          19600,
          13600,
          7200,
          19900,
          13000,
          19700,
          9400,
          23800,
          17700,
          17000,
          14000,
          32100,
          33100,
          31600,
          5100,
          4100,
          7200,
          12800,
          46800,
          21800,
          3000,
          22500,
          35300,
          16500,
          33000,
          31500,
          34500,
          8000,
          25000,
          10700,
          13400,
          16500,
          34000,
          14100,
          38600,
          9100,
          8600,
          22000,
          8900,
          15500,
          3300,
          29000,
          17300,
          30500,
          25000,
          2800,
          3300,
          36400,
          34800,
          20700,
          32200,
          35300,
          33500,
          13700,
          15900,
          33200,
          35500,
          29800,
          29800,
          29500,
          30300,
          24300,
          29800,
          29800,
          27500,
          10800,
          11500,
          10400,
          11400,
          11400,
          8000,
          3000,
          25000,
          12300,
          14100,
          9000,
          4200,
          22500,
          22600,
          22600,
          22500,
          10200,
          42700,
          21200,
          22700,
          22000,
          9600,
          10500,
          6700,
          14200,
          15500,
          35100,
          26300,
          15700,
          17600,
          18600,
          19100,
          15200,
          16100,
          14800,
          16700,
          15300,
          16500,
          19600,
          15200,
          15000,
          15500,
          15700,
          14800,
          9200,
          8200,
          11400,
          6500,
          11500,
          23800,
          8900,
          28300,
          27300,
          3500,
          28300,
          18300,
          22500,
          22500,
          8300,
          16500,
          14500,
          30000,
          30000,
          30000,
          30000,
          30000,
          29500,
          21600,
          22600,
          16300,
          8600,
          28800,
          22100,
          14300,
          13700,
          29500,
          18500,
          19000,
          43400,
          46000,
          12500,
          13900,
          13000,
          13000,
          3000,
          17500,
          7900,
          8900,
          11500,
          6500,
          8000,
          18700,
          8350,
          27900,
          14500,
          6200,
          7500,
          20200,
          29300,
          31000,
          32400,
          5800,
          21500,
          23100,
          4500,
          24800,
          23000,
          26900,
          21500,
          15700,
          15200,
          23300,
          6100,
          20000,
          3000,
          18200,
          21800,
          19000,
          25000,
          36000,
          17000,
          25300,
          14900,
          15000,
          12995,
          17750,
          10295,
          16995,
          25000,
          23995,
          14900,
          15810,
          20227,
          20999,
          22499,
          23495,
          25250,
          15322,
          21232,
          5800,
          29000,
          17000,
          13800,
          30000,
          14800,
          8500,
          9800,
          4200,
          2500,
          28700,
          18500,
          17300,
          7100,
          3250,
          30700,
          3000,
          26500,
          20800,
          20800,
          5100,
          18900,
          24000,
          38800,
          24500,
          24500,
          6500,
          24000,
          18000,
          24000,
          23500,
          4500,
          25900,
          13900,
          14200,
          15400,
          17500,
          17500,
          18000,
          25200,
          14100,
          13300,
          16200,
          13300,
          13100,
          15500,
          4500,
          28400,
          17400,
          6000,
          20700,
          20300,
          14000,
          22000,
          17200,
          15000,
          17500,
          1300,
          1750,
          16300,
          15700,
          10000,
          23100,
          14900,
          16700,
          16300,
          25800,
          23800,
          16800,
          15500,
          6000,
          26900,
          16900,
          19500,
          15400,
          2300,
          17000,
          34000,
          13700,
          19100,
          11800,
          27500,
          26900,
          27100,
          27200,
          9000,
          22500,
          7700,
          4500,
          2200,
          21500,
          18800,
          21800,
          20300,
          8200,
          19000,
          8400,
          19500,
          7000,
          19500,
          8500,
          20500,
          4900,
          20800,
          28500,
          21900,
          15800,
          33000,
          22700,
          21900,
          19300,
          30700,
          19300,
          13750,
          16400,
          19500,
          15100,
          28500,
          15300,
          20300,
          22000,
          16700,
          19300,
          34100,
          14600,
          18200,
          33800,
          15900,
          16500,
          29600,
          14100,
          18200,
          18200,
          24300,
          15400,
          19000,
          19000,
          27800,
          18200,
          15000,
          19200,
          15500,
          24900,
          15500,
          7600,
          18400,
          14700,
          3900,
          5200,
          17200,
          18700,
          32000,
          14500,
          19400,
          17300,
          16700,
          19100,
          11100,
          32000,
          16900,
          18000,
          17800,
          18000,
          17500,
          14500,
          18500,
          18600,
          32000,
          17000,
          16000,
          18000,
          15900,
          6200,
          3700,
          24000,
          20800,
          18500,
          18300,
          21000,
          1300,
          11900,
          950,
          26800,
          800,
          21000,
          1900,
          33500,
          900,
          21000,
          26800,
          5700,
          18500,
          33000,
          11000,
          15800,
          3600,
          16300,
          2700,
          12800,
          9700,
          18300,
          16000,
          21000,
          3700,
          33000,
          14700,
          33000,
          15900,
          33000,
          33000,
          32500,
          33000,
          13000,
          33000,
          16500,
          33000,
          34500,
          33500,
          48000,
          13200,
          31500,
          17400,
          26000,
          1700,
          11000,
          21000,
          5500,
          7500,
          15800,
          16900,
          25000,
          18000,
          15600,
          23800,
          16800,
          22700,
          23300,
          23500,
          25500,
          21800,
          22800,
          18200,
          23500,
          25700,
          15700,
          17500,
          15700,
          16500,
          16100,
          15600,
          15400,
          28200,
          15300,
          15900,
          17700,
          15800,
          15900,
          25300,
          16300,
          29500,
          14500,
          15400,
          15400,
          15100,
          15000,
          15500,
          15000,
          15200,
          15700,
          16100,
          16300,
          16000,
          16900,
          17000,
          17300,
          15900,
          15700,
          16900,
          15500,
          15100,
          15500,
          15400,
          16500,
          42500,
          16600,
          15200,
          15800,
          16900,
          11100,
          15600,
          16900,
          15300,
          16600,
          21800,
          36500,
          26300,
          20900,
          20100,
          26700,
          23900,
          14500,
          23000,
          15000,
          15000,
          28500,
          28000,
          9000,
          28700,
          25000,
          17347,
          13800,
          25888,
          8500,
          21289,
          17999,
          2700,
          30977,
          13799,
          20500,
          8500,
          9900,
          24500,
          32500,
          9200,
          17700,
          18300,
          43500,
          15200,
          36200,
          21900,
          20700,
          12300,
          4200,
          19500,
          14300,
          13700,
          13200,
          6200,
          6500,
          1500,
          2200,
          4200,
          8700,
          3200,
          9000,
          20000,
          33000,
          23300,
          8750,
          11975,
          23600,
          12000,
          30900,
          23900,
          40400,
          38000,
          27000,
          24000,
          30000,
          16200,
          30000,
          23900,
          13800,
          23700,
          24300,
          22500,
          39000,
          13900,
          24700,
          20100,
          22000,
          38200,
          24400,
          35000,
          18600,
          22700,
          38000,
          17000,
          17500,
          23200,
          30700,
          23500,
          26400,
          23500,
          38000,
          23600,
          19300,
          23200,
          13800,
          23600,
          23200,
          40000,
          23400,
          23600,
          23000,
          25500,
          23500,
          29900,
          23200,
          23400,
          24500,
          25400,
          23000,
          6000,
          22400,
          22500,
          25200,
          36000,
          26700,
          30500,
          26700,
          25000,
          35200,
          30300,
          25000,
          26500,
          21600,
          18800,
          21500,
          9000,
          16700,
          16800,
          15700,
          16800,
          19500,
          20500,
          17400,
          17500,
          26000,
          5000,
          40200,
          32500,
          25500,
          44000,
          35000,
          22500,
          8300,
          8300,
          21000,
          19300,
          16400,
          27300,
          26400,
          35100,
          41500,
          34100,
          28600,
          34100,
          28700,
          24700,
          46500,
          29000,
          25500,
          39500,
          33100,
          30500,
          3600,
          16800,
          24000,
          28800,
          26800,
          36000,
          20000,
          46700,
          42800,
          21800,
          18800,
          18800,
          30200,
          27500,
          37500,
          19100,
          17100,
          13500,
          9000,
          16400,
          17000,
          24800,
          26800,
          19400,
          20000,
          7000,
          25100,
          2000,
          18200,
          14200,
          2000,
          26500,
          34300,
          43500,
          3500,
          37200,
          12800,
          15000,
          12500,
          21500,
          17300,
          27000,
          31800,
          13000,
          31800,
          46300,
          6000,
          22800,
          45000,
          3000,
          20000,
          25300,
          4000,
          45500,
          9100,
          48000,
          47000,
          31200,
          18500,
          15500,
          30500,
          45500,
          31500,
          11000,
          46500,
          31500,
          32000,
          23900,
          31500,
          18500,
          1500,
          46000,
          31500,
          14700,
          2700,
          47500,
          31500,
          8900,
          7000,
          31500,
          8900,
          48000,
          47300,
          45000,
          40200,
          48000,
          5000,
          8200,
          4000,
          39000,
          29000,
          46500,
          7805,
          22000,
          18800,
          33000,
          39500,
          16900,
          42500,
          39500,
          25500,
          25000,
          40000,
          26000,
          29500,
          23000,
          25500,
          44500,
          15600,
          23100,
          37000,
          14500,
          23000,
          26500,
          18000,
          35700,
          31000,
          2000,
          40400,
          43600,
          22600,
          26000,
          23200,
          29000,
          22800,
          3450,
          31000,
          22900,
          3000,
          28000,
          23200,
          27000,
          22800,
          31500,
          23400,
          28000,
          23400,
          28000,
          24900,
          23500,
          36000,
          28700,
          16000,
          31000,
          16500,
          28500,
          10800,
          28500,
          25000,
          31000,
          7800,
          28500,
          9500,
          28500,
          14500,
          25000,
          14500,
          28500,
          12100,
          29400,
          24700,
          8700,
          29500,
          25800,
          17500,
          23900,
          22900,
          19500,
          29500,
          24500,
          11000,
          22400,
          15700,
          11000,
          28000,
          13500,
          7300,
          25100,
          24100,
          6500,
          10500,
          16900,
          6000,
          28500,
          16200,
          6500,
          24500,
          16500,
          10400,
          22800,
          26500,
          23800,
          24700,
          12400,
          16600,
          11200,
          15900,
          7700,
          15100,
          7200,
          15600,
          39700,
          16000,
          7500,
          15500,
          19000,
          5500,
          38700,
          21000,
          28500,
          37200,
          18500,
          15000,
          37700,
          22200,
          39950,
          37600,
          18500,
          10000,
          20500,
          5700,
          21000,
          22500,
          29000,
          13200,
          25500,
          25700,
          18900,
          31500,
          45500,
          11000,
          18288,
          20000,
          36600,
          18299,
          10000,
          4100,
          30995,
          1750,
          31500,
          13500,
          7500,
          650,
          22800,
          11300,
          32700,
          1350,
          21900,
          11700,
          6500,
          9800,
          11000,
          1150,
          13000,
          5500,
          6000,
          11200,
          5000,
          23400,
          13500,
          22900,
          20000,
          22900,
          27000,
          20600,
          23500,
          23600,
          33500,
          24400,
          13000,
          48400,
          26500,
          46200,
          9300,
          13500,
          27600,
          7400,
          26500,
          26000,
          24500,
          2100,
          16700,
          17500,
          17000,
          22500,
          34500,
          16600,
          7500,
          34500,
          25000,
          36000,
          23700,
          28600,
          23500,
          25300,
          24900,
          20300,
          23400,
          14600,
          25500,
          14700,
          33700,
          33400,
          34000,
          17500,
          14100,
          30000,
          16500,
          30600,
          12800,
          26000,
          46000,
          28500,
          24300,
          29000,
          15300,
          27900,
          24700,
          14400,
          15000,
          17200,
          12800,
          46900,
          2800,
          16200,
          25200,
          34800,
          26000,
          40600,
          5000,
          36400,
          7500,
          14700,
          43900,
          6400,
          41100,
          23000,
          13900,
          19000,
          34800,
          22000,
          16300,
          18800,
          13000,
          40900,
          47000,
          12800,
          25500,
          17800,
          25700,
          17200,
          35000,
          28800,
          39200,
          13600,
          24200,
          46900,
          26500,
          24700,
          12600,
          31800,
          24500,
          26000,
          21000,
          22500,
          7700,
          23100,
          9200,
          19600,
          11700,
          27300,
          14300,
          23600,
          6200,
          22400,
          5700,
          23600,
          4600,
          37500,
          10700,
          31900,
          31600,
          12600,
          5300,
          3900,
          13000,
          11800,
          24600,
          14500,
          24300,
          12300,
          14800,
          17100,
          6800,
          20300,
          26300,
          22500,
          41200,
          20400,
          12100,
          24000,
          9500,
          9000,
          9800,
          7800,
          17200,
          18800,
          9800,
          7000,
          44000,
          23400,
          30700,
          15600,
          22600,
          22900,
          22800,
          22700,
          23000,
          22700,
          23000,
          34400,
          36500,
          23100,
          23300,
          22600,
          4500,
          23000,
          8000,
          11500,
          9400,
          23000,
          2800,
          22600,
          23000,
          5200,
          19200,
          10100,
          6200,
          14000,
          5000,
          9200,
          14700,
          3000,
          30200,
          3800,
          3200,
          21500,
          4900,
          23000,
          11200,
          10400,
          13200,
          5200,
          10500,
          11900,
          21200,
          23500,
          4700,
          11100,
          22000,
          14000,
          9200,
          23300,
          21700,
          11200,
          11300,
          4200,
          10900,
          42300,
          10500,
          43400,
          12500,
          15900,
          42500,
          15000,
          24700,
          15500,
          29000,
          16800,
          16500,
          10000,
          27900,
          23700,
          20000,
          45600,
          6000,
          15600,
          25000,
          28500,
          8000,
          19990,
          34400,
          30999,
          41000,
          27999,
          42000,
          8000,
          29795,
          24700,
          13995,
          2900,
          35400,
          24549,
          8900,
          15800,
          18500,
          32000,
          28300,
          10500,
          24970,
          13800,
          2580,
          2500,
          28990,
          33800,
          2500,
          46999,
          16700,
          34700,
          28900,
          30800,
          27100,
          13388,
          26000,
          17900,
          23400,
          29800,
          23700,
          1725,
          33995,
          23500,
          32500,
          2500,
          39000,
          11000,
          32500,
          800,
          26900,
          11200,
          21000,
          32000,
          7300,
          12800,
          24190,
          29100,
          29000,
          17300,
          19888,
          31000,
          37200,
          8600,
          24857,
          23500,
          26100,
          10800,
          20995,
          29300,
          33100,
          13800,
          19498,
          14900,
          8700,
          20600,
          5000,
          19995,
          14900,
          19500,
          24500,
          15000,
          26985,
          31000,
          24300,
          16800,
          17200,
          34995,
          24300,
          26400,
          16800,
          15500,
          19440,
          16700,
          29000,
          16100,
          17200,
          20950,
          46200,
          29400,
          2825,
          32999,
          6600,
          28300,
          12000,
          32999,
          12600,
          5200,
          20500,
          1200,
          35999,
          41000,
          33100,
          23500,
          18799,
          33999,
          35000,
          26100,
          15400,
          25998,
          31831,
          40400,
          15400,
          13500,
          25995,
          27990,
          23985,
          27995,
          13995,
          29988,
          12995,
          21687,
          25200,
          29590,
          28999,
          13942,
          15300,
          35400,
          32700,
          13995,
          1850,
          15800,
          36000,
          15495,
          21500,
          7200,
          17589,
          31700,
          31790,
          18100,
          14495,
          15000,
          26400,
          27990,
          19700,
          15300,
          22000,
          23999,
          16488,
          12784,
          23400,
          9705,
          25999,
          34977,
          19000,
          15995,
          13487,
          18707,
          15290,
          15600,
          47000,
          16080,
          15268,
          47500,
          18497,
          10000,
          19995,
          17150,
          45000,
          14295,
          16190,
          17899,
          26000,
          14000,
          15500,
          16888,
          28000,
          8305,
          21822,
          15500,
          12500,
          15995,
          16000,
          38200,
          12995,
          14488,
          17500,
          21995,
          8500,
          16593,
          13000,
          14247,
          23500,
          16999,
          25000,
          20159,
          31000,
          22500,
          29500,
          24000,
          20500,
          27200,
          24900,
          24500,
          34000,
          28000,
          27000,
          34000,
          42500,
          33000,
          10200,
          25600,
          16300,
          26500,
          36500,
          25900,
          22500,
          29000,
          825,
          10500,
          32000,
          27700,
          4000,
          38800,
          26200,
          19500,
          11700,
          34000,
          38600,
          21500,
          38500,
          38500,
          12000,
          30500,
          11300,
          29500,
          16100,
          32500,
          29000,
          30000,
          26000,
          26000,
          18500,
          12000,
          30000,
          14700,
          25000,
          26550,
          27000,
          34000,
          27500,
          25500,
          13500,
          4000,
          25700,
          29000,
          30500,
          30000,
          9000,
          19000,
          25800,
          26500,
          29300,
          6300,
          25400,
          26000,
          7000,
          25900,
          9700,
          27000,
          9100,
          28000,
          25700,
          27500,
          9400,
          25500,
          20500,
          21500,
          12800,
          23900,
          9400,
          26900,
          25500,
          27000,
          9300,
          14400,
          19000,
          14000,
          13600,
          19200,
          13600,
          18600,
          13700,
          18200,
          13800,
          22000,
          13700,
          28000,
          13800,
          18600,
          13700,
          13700,
          13800,
          17700,
          13900,
          13900,
          13600,
          13800,
          13800,
          45800,
          13800,
          5500,
          14400,
          11450,
          11000,
          11450,
          11000,
          11200,
          11400,
          11450,
          11050,
          11400,
          11050,
          10850,
          10900,
          10450,
          10800,
          10850,
          10800,
          10850,
          10800,
          10900,
          10400,
          10500,
          10800,
          10800,
          11200,
          11100,
          12200,
          4000,
          9000,
          14900,
          4600,
          6400,
          10400,
          7800,
          12300,
          10900,
          8500,
          7300,
          5900,
          20000,
          11200,
          14400,
          16500,
          13400,
          12500,
          6500,
          19800,
          8800,
          12800,
          8800,
          3500,
          750,
          10800,
          22300,
          8300,
          8300,
          8000,
          15200,
          6700,
          7500,
          10500,
          8400,
          7000,
          25500,
          4100,
          13900,
          1900,
          14700,
          1900,
          18800,
          7800,
          13500,
          8000,
          3300,
          7200,
          8000,
          1280,
          14000,
          3500,
          600,
          12500,
          5800,
          8000,
          2200,
          8300,
          7500,
          8000,
          3500,
          8000,
          2000,
          7800,
          8000,
          18500,
          8000,
          18300,
          7500,
          29800,
          21100,
          16200,
          6998,
          14700,
          19000,
          7500,
          7998,
          10999,
          2900,
          8495,
          19925,
          9500,
          12750,
          22800,
          11621,
          11590,
          4700,
          11390,
          14500,
          12000,
          15000,
          7500,
          28000,
          17500,
          18000,
          13200,
          17000,
          6700,
          23300,
          26800,
          18200,
          18700,
          12900,
          16000,
          19400,
          10900,
          15800,
          19800,
          19000,
          18000,
          19800,
          19700,
          20100,
          19700,
          23400,
          23300,
          17500,
          17100,
          15800,
          13600,
          14400,
          19800,
          17200,
          20300,
          20500,
          16500,
          16000,
          14600,
          16300,
          15400,
          15800,
          15800,
          21400,
          15300,
          20100,
          11300,
          10700,
          16000,
          16600,
          15800,
          11600,
          15000,
          17600,
          36300,
          15600,
          14000,
          16600,
          12600,
          20900,
          12700,
          15600,
          18900,
          15700,
          21900,
          21700,
          14600,
          12000,
          21000,
          12500,
          15900,
          11800,
          9900,
          10600,
          10100,
          13300,
          10100,
          10300,
          10300,
          10300,
          24000,
          10400,
          10200,
          9500,
          10500,
          10500,
          3500,
          9300,
          14100,
          2425,
          925,
          11000,
          11000,
          2100,
          800,
          20400,
          375,
          3000,
          15100,
          4000,
          19500,
          22600,
          6500,
          11800,
          20500,
          14200,
          22000,
          16200,
          4800,
          16000,
          14300,
          16800,
          11900,
          3000,
          15000,
          15200,
          18000,
          22700,
          3800,
          5475,
          11400,
          28100,
          3500,
          15200,
          1950,
          13400,
          12500,
          16500,
          16500,
          16500,
          13900,
          13900,
          1500,
          16500,
          13900,
          16500,
          13900,
          12400,
          13000,
          16500,
          13900,
          16500,
          13900,
          13900,
          13900,
          12100,
          16500,
          16500,
          13900,
          3700,
          18800,
          9200,
          30100,
          9200,
          11100,
          13900,
          9100,
          22800,
          13900,
          12600,
          9200,
          12100,
          9200,
          2300,
          13900,
          9500,
          13900,
          1700,
          13900,
          10400,
          9200,
          7400,
          9200,
          7800,
          9200,
          9200,
          9200,
          9200
         ],
         "xaxis": "x",
         "yaxis": "y"
        }
       ],
       "layout": {
        "barmode": "relative",
        "font": {
         "family": "Arial",
         "size": 12
        },
        "legend": {
         "tracegroupgap": 0
        },
        "margin": {
         "t": 60
        },
        "template": {
         "data": {
          "bar": [
           {
            "error_x": {
             "color": "#2a3f5f"
            },
            "error_y": {
             "color": "#2a3f5f"
            },
            "marker": {
             "line": {
              "color": "#E5ECF6",
              "width": 0.5
             },
             "pattern": {
              "fillmode": "overlay",
              "size": 10,
              "solidity": 0.2
             }
            },
            "type": "bar"
           }
          ],
          "barpolar": [
           {
            "marker": {
             "line": {
              "color": "#E5ECF6",
              "width": 0.5
             },
             "pattern": {
              "fillmode": "overlay",
              "size": 10,
              "solidity": 0.2
             }
            },
            "type": "barpolar"
           }
          ],
          "carpet": [
           {
            "aaxis": {
             "endlinecolor": "#2a3f5f",
             "gridcolor": "white",
             "linecolor": "white",
             "minorgridcolor": "white",
             "startlinecolor": "#2a3f5f"
            },
            "baxis": {
             "endlinecolor": "#2a3f5f",
             "gridcolor": "white",
             "linecolor": "white",
             "minorgridcolor": "white",
             "startlinecolor": "#2a3f5f"
            },
            "type": "carpet"
           }
          ],
          "choropleth": [
           {
            "colorbar": {
             "outlinewidth": 0,
             "ticks": ""
            },
            "type": "choropleth"
           }
          ],
          "contour": [
           {
            "colorbar": {
             "outlinewidth": 0,
             "ticks": ""
            },
            "colorscale": [
             [
              0,
              "#0d0887"
             ],
             [
              0.1111111111111111,
              "#46039f"
             ],
             [
              0.2222222222222222,
              "#7201a8"
             ],
             [
              0.3333333333333333,
              "#9c179e"
             ],
             [
              0.4444444444444444,
              "#bd3786"
             ],
             [
              0.5555555555555556,
              "#d8576b"
             ],
             [
              0.6666666666666666,
              "#ed7953"
             ],
             [
              0.7777777777777778,
              "#fb9f3a"
             ],
             [
              0.8888888888888888,
              "#fdca26"
             ],
             [
              1,
              "#f0f921"
             ]
            ],
            "type": "contour"
           }
          ],
          "contourcarpet": [
           {
            "colorbar": {
             "outlinewidth": 0,
             "ticks": ""
            },
            "type": "contourcarpet"
           }
          ],
          "heatmap": [
           {
            "colorbar": {
             "outlinewidth": 0,
             "ticks": ""
            },
            "colorscale": [
             [
              0,
              "#0d0887"
             ],
             [
              0.1111111111111111,
              "#46039f"
             ],
             [
              0.2222222222222222,
              "#7201a8"
             ],
             [
              0.3333333333333333,
              "#9c179e"
             ],
             [
              0.4444444444444444,
              "#bd3786"
             ],
             [
              0.5555555555555556,
              "#d8576b"
             ],
             [
              0.6666666666666666,
              "#ed7953"
             ],
             [
              0.7777777777777778,
              "#fb9f3a"
             ],
             [
              0.8888888888888888,
              "#fdca26"
             ],
             [
              1,
              "#f0f921"
             ]
            ],
            "type": "heatmap"
           }
          ],
          "heatmapgl": [
           {
            "colorbar": {
             "outlinewidth": 0,
             "ticks": ""
            },
            "colorscale": [
             [
              0,
              "#0d0887"
             ],
             [
              0.1111111111111111,
              "#46039f"
             ],
             [
              0.2222222222222222,
              "#7201a8"
             ],
             [
              0.3333333333333333,
              "#9c179e"
             ],
             [
              0.4444444444444444,
              "#bd3786"
             ],
             [
              0.5555555555555556,
              "#d8576b"
             ],
             [
              0.6666666666666666,
              "#ed7953"
             ],
             [
              0.7777777777777778,
              "#fb9f3a"
             ],
             [
              0.8888888888888888,
              "#fdca26"
             ],
             [
              1,
              "#f0f921"
             ]
            ],
            "type": "heatmapgl"
           }
          ],
          "histogram": [
           {
            "marker": {
             "pattern": {
              "fillmode": "overlay",
              "size": 10,
              "solidity": 0.2
             }
            },
            "type": "histogram"
           }
          ],
          "histogram2d": [
           {
            "colorbar": {
             "outlinewidth": 0,
             "ticks": ""
            },
            "colorscale": [
             [
              0,
              "#0d0887"
             ],
             [
              0.1111111111111111,
              "#46039f"
             ],
             [
              0.2222222222222222,
              "#7201a8"
             ],
             [
              0.3333333333333333,
              "#9c179e"
             ],
             [
              0.4444444444444444,
              "#bd3786"
             ],
             [
              0.5555555555555556,
              "#d8576b"
             ],
             [
              0.6666666666666666,
              "#ed7953"
             ],
             [
              0.7777777777777778,
              "#fb9f3a"
             ],
             [
              0.8888888888888888,
              "#fdca26"
             ],
             [
              1,
              "#f0f921"
             ]
            ],
            "type": "histogram2d"
           }
          ],
          "histogram2dcontour": [
           {
            "colorbar": {
             "outlinewidth": 0,
             "ticks": ""
            },
            "colorscale": [
             [
              0,
              "#0d0887"
             ],
             [
              0.1111111111111111,
              "#46039f"
             ],
             [
              0.2222222222222222,
              "#7201a8"
             ],
             [
              0.3333333333333333,
              "#9c179e"
             ],
             [
              0.4444444444444444,
              "#bd3786"
             ],
             [
              0.5555555555555556,
              "#d8576b"
             ],
             [
              0.6666666666666666,
              "#ed7953"
             ],
             [
              0.7777777777777778,
              "#fb9f3a"
             ],
             [
              0.8888888888888888,
              "#fdca26"
             ],
             [
              1,
              "#f0f921"
             ]
            ],
            "type": "histogram2dcontour"
           }
          ],
          "mesh3d": [
           {
            "colorbar": {
             "outlinewidth": 0,
             "ticks": ""
            },
            "type": "mesh3d"
           }
          ],
          "parcoords": [
           {
            "line": {
             "colorbar": {
              "outlinewidth": 0,
              "ticks": ""
             }
            },
            "type": "parcoords"
           }
          ],
          "pie": [
           {
            "automargin": true,
            "type": "pie"
           }
          ],
          "scatter": [
           {
            "fillpattern": {
             "fillmode": "overlay",
             "size": 10,
             "solidity": 0.2
            },
            "type": "scatter"
           }
          ],
          "scatter3d": [
           {
            "line": {
             "colorbar": {
              "outlinewidth": 0,
              "ticks": ""
             }
            },
            "marker": {
             "colorbar": {
              "outlinewidth": 0,
              "ticks": ""
             }
            },
            "type": "scatter3d"
           }
          ],
          "scattercarpet": [
           {
            "marker": {
             "colorbar": {
              "outlinewidth": 0,
              "ticks": ""
             }
            },
            "type": "scattercarpet"
           }
          ],
          "scattergeo": [
           {
            "marker": {
             "colorbar": {
              "outlinewidth": 0,
              "ticks": ""
             }
            },
            "type": "scattergeo"
           }
          ],
          "scattergl": [
           {
            "marker": {
             "colorbar": {
              "outlinewidth": 0,
              "ticks": ""
             }
            },
            "type": "scattergl"
           }
          ],
          "scattermapbox": [
           {
            "marker": {
             "colorbar": {
              "outlinewidth": 0,
              "ticks": ""
             }
            },
            "type": "scattermapbox"
           }
          ],
          "scatterpolar": [
           {
            "marker": {
             "colorbar": {
              "outlinewidth": 0,
              "ticks": ""
             }
            },
            "type": "scatterpolar"
           }
          ],
          "scatterpolargl": [
           {
            "marker": {
             "colorbar": {
              "outlinewidth": 0,
              "ticks": ""
             }
            },
            "type": "scatterpolargl"
           }
          ],
          "scatterternary": [
           {
            "marker": {
             "colorbar": {
              "outlinewidth": 0,
              "ticks": ""
             }
            },
            "type": "scatterternary"
           }
          ],
          "surface": [
           {
            "colorbar": {
             "outlinewidth": 0,
             "ticks": ""
            },
            "colorscale": [
             [
              0,
              "#0d0887"
             ],
             [
              0.1111111111111111,
              "#46039f"
             ],
             [
              0.2222222222222222,
              "#7201a8"
             ],
             [
              0.3333333333333333,
              "#9c179e"
             ],
             [
              0.4444444444444444,
              "#bd3786"
             ],
             [
              0.5555555555555556,
              "#d8576b"
             ],
             [
              0.6666666666666666,
              "#ed7953"
             ],
             [
              0.7777777777777778,
              "#fb9f3a"
             ],
             [
              0.8888888888888888,
              "#fdca26"
             ],
             [
              1,
              "#f0f921"
             ]
            ],
            "type": "surface"
           }
          ],
          "table": [
           {
            "cells": {
             "fill": {
              "color": "#EBF0F8"
             },
             "line": {
              "color": "white"
             }
            },
            "header": {
             "fill": {
              "color": "#C8D4E3"
             },
             "line": {
              "color": "white"
             }
            },
            "type": "table"
           }
          ]
         },
         "layout": {
          "annotationdefaults": {
           "arrowcolor": "#2a3f5f",
           "arrowhead": 0,
           "arrowwidth": 1
          },
          "autotypenumbers": "strict",
          "coloraxis": {
           "colorbar": {
            "outlinewidth": 0,
            "ticks": ""
           }
          },
          "colorscale": {
           "diverging": [
            [
             0,
             "#8e0152"
            ],
            [
             0.1,
             "#c51b7d"
            ],
            [
             0.2,
             "#de77ae"
            ],
            [
             0.3,
             "#f1b6da"
            ],
            [
             0.4,
             "#fde0ef"
            ],
            [
             0.5,
             "#f7f7f7"
            ],
            [
             0.6,
             "#e6f5d0"
            ],
            [
             0.7,
             "#b8e186"
            ],
            [
             0.8,
             "#7fbc41"
            ],
            [
             0.9,
             "#4d9221"
            ],
            [
             1,
             "#276419"
            ]
           ],
           "sequential": [
            [
             0,
             "#0d0887"
            ],
            [
             0.1111111111111111,
             "#46039f"
            ],
            [
             0.2222222222222222,
             "#7201a8"
            ],
            [
             0.3333333333333333,
             "#9c179e"
            ],
            [
             0.4444444444444444,
             "#bd3786"
            ],
            [
             0.5555555555555556,
             "#d8576b"
            ],
            [
             0.6666666666666666,
             "#ed7953"
            ],
            [
             0.7777777777777778,
             "#fb9f3a"
            ],
            [
             0.8888888888888888,
             "#fdca26"
            ],
            [
             1,
             "#f0f921"
            ]
           ],
           "sequentialminus": [
            [
             0,
             "#0d0887"
            ],
            [
             0.1111111111111111,
             "#46039f"
            ],
            [
             0.2222222222222222,
             "#7201a8"
            ],
            [
             0.3333333333333333,
             "#9c179e"
            ],
            [
             0.4444444444444444,
             "#bd3786"
            ],
            [
             0.5555555555555556,
             "#d8576b"
            ],
            [
             0.6666666666666666,
             "#ed7953"
            ],
            [
             0.7777777777777778,
             "#fb9f3a"
            ],
            [
             0.8888888888888888,
             "#fdca26"
            ],
            [
             1,
             "#f0f921"
            ]
           ]
          },
          "colorway": [
           "#636efa",
           "#EF553B",
           "#00cc96",
           "#ab63fa",
           "#FFA15A",
           "#19d3f3",
           "#FF6692",
           "#B6E880",
           "#FF97FF",
           "#FECB52"
          ],
          "font": {
           "color": "#2a3f5f"
          },
          "geo": {
           "bgcolor": "white",
           "lakecolor": "white",
           "landcolor": "#E5ECF6",
           "showlakes": true,
           "showland": true,
           "subunitcolor": "white"
          },
          "hoverlabel": {
           "align": "left"
          },
          "hovermode": "closest",
          "mapbox": {
           "style": "light"
          },
          "paper_bgcolor": "white",
          "plot_bgcolor": "#E5ECF6",
          "polar": {
           "angularaxis": {
            "gridcolor": "white",
            "linecolor": "white",
            "ticks": ""
           },
           "bgcolor": "#E5ECF6",
           "radialaxis": {
            "gridcolor": "white",
            "linecolor": "white",
            "ticks": ""
           }
          },
          "scene": {
           "xaxis": {
            "backgroundcolor": "#E5ECF6",
            "gridcolor": "white",
            "gridwidth": 2,
            "linecolor": "white",
            "showbackground": true,
            "ticks": "",
            "zerolinecolor": "white"
           },
           "yaxis": {
            "backgroundcolor": "#E5ECF6",
            "gridcolor": "white",
            "gridwidth": 2,
            "linecolor": "white",
            "showbackground": true,
            "ticks": "",
            "zerolinecolor": "white"
           },
           "zaxis": {
            "backgroundcolor": "#E5ECF6",
            "gridcolor": "white",
            "gridwidth": 2,
            "linecolor": "white",
            "showbackground": true,
            "ticks": "",
            "zerolinecolor": "white"
           }
          },
          "shapedefaults": {
           "line": {
            "color": "#2a3f5f"
           }
          },
          "ternary": {
           "aaxis": {
            "gridcolor": "white",
            "linecolor": "white",
            "ticks": ""
           },
           "baxis": {
            "gridcolor": "white",
            "linecolor": "white",
            "ticks": ""
           },
           "bgcolor": "#E5ECF6",
           "caxis": {
            "gridcolor": "white",
            "linecolor": "white",
            "ticks": ""
           }
          },
          "title": {
           "x": 0.05
          },
          "xaxis": {
           "automargin": true,
           "gridcolor": "white",
           "linecolor": "white",
           "ticks": "",
           "title": {
            "standoff": 15
           },
           "zerolinecolor": "white",
           "zerolinewidth": 2
          },
          "yaxis": {
           "automargin": true,
           "gridcolor": "white",
           "linecolor": "white",
           "ticks": "",
           "title": {
            "standoff": 15
           },
           "zerolinecolor": "white",
           "zerolinewidth": 2
          }
         }
        },
        "xaxis": {
         "anchor": "y",
         "domain": [
          0,
          1
         ],
         "linecolor": "black",
         "linewidth": 2,
         "showgrid": false,
         "showline": false,
         "ticks": "outside",
         "title": {
          "text": "Price"
         }
        },
        "yaxis": {
         "anchor": "x",
         "domain": [
          0,
          1
         ],
         "linecolor": "black",
         "linewidth": 1,
         "showgrid": false,
         "showline": false,
         "title": {
          "text": "Count"
         }
        }
       }
      },
      "text/html": [
       "<div>                            <div id=\"a783ec3d-1306-4b12-89e3-2c5abbad9593\" class=\"plotly-graph-div\" style=\"height:525px; width:100%;\"></div>            <script type=\"text/javascript\">                require([\"plotly\"], function(Plotly) {                    window.PLOTLYENV=window.PLOTLYENV || {};                                    if (document.getElementById(\"a783ec3d-1306-4b12-89e3-2c5abbad9593\")) {                    Plotly.newPlot(                        \"a783ec3d-1306-4b12-89e3-2c5abbad9593\",                        [{\"alignmentgroup\":\"True\",\"bingroup\":\"x\",\"hovertemplate\":\"price=%{x}<br>count=%{y}<extra></extra>\",\"legendgroup\":\"\",\"marker\":{\"color\":\"#636efa\",\"pattern\":{\"shape\":\"\"}},\"name\":\"\",\"nbinsx\":20,\"offsetgroup\":\"\",\"orientation\":\"v\",\"showlegend\":false,\"x\":[6300,2899,5350,25000,27700,5700,7300,13350,14600,5250,10400,12920,31900,5430,20700,12710,5200,16500,5210,38100,12520,7300,15000,6180,20800,11900,21500,12000,4190,13000,12710,18500,29800,5330,13000,11900,16600,19200,7320,7000,12710,16600,30500,6330,12520,16200,19000,5580,12710,16000,27000,7760,19600,12920,20000,18100,23000,18500,13490,20700,17800,6650,29100,12710,21100,18600,4340,19300,12780,15800,29400,4430,19400,12520,15900,26400,4140,18300,12520,17900,18300,4640,24000,13200,18000,14900,4140,11500,9110,7350,24500,9300,39800,15110,34000,26502,5990,13600,23605,10780,13800,25201,7070,8700,18003,8530,23100,24500,7000,17000,34002,6980,25000,20802,9200,26500,24802,7070,28500,47500,23500,23505,10940,32100,6830,11900,26414,4160,19405,5690,25900,24005,5090,19500,32012,6800,4260,31802,7210,28402,6800,33300,10780,6700,20000,6440,19900,37000,4040,22300,31200,4290,22800,19002,4160,18500,39000,6060,28800,40000,6140,21000,20105,6760,25800,39000,5470,14600,24502,15110,7900,27305,15290,26500,25502,7320,3800,24502,4140,1400,18402,4160,175,24503,15840,20500,21003,4200,17400,32001,15700,31009,3740,5000,31002,3160,8600,6000,12990,25,13200,4410,25,22500,7420,13500,15500,3540,17000,45500,4130,15700,45500,4130,15500,16300,4530,15600,45500,4100,18200,10200,4080,5700,10200,5000,1700,6200,3650,10500,43500,4610,3450,38500,6810,2900,43500,4450,5800,16500,4240,26500,13700,8600,8000,14200,7040,4700,30851,4880,14500,7600,13270,12800,33000,9280,900,7560,19500,17100,8020,10300,22600,10480,10300,22700,7410,10300,10300,7570,18900,12560,33000,18300,11760,31700,25,7340,8200,3000,6530,12700,13800,725,7400,9800,4400,10330,1800,50,720,22800,2500,9190,10900,10400,7320,22809,5520,10900,6330,25,2320,23702,5520,4050,14810,25,2960,24800,6270,1880,10050,225,26900,1420,27003,350,5600,6680,10120,3920,23100,5630,2800,8850,18712,6300,2220,6930,25,3440,25,950,9270,11380,5350,2725,3790,40514,9190,10330,1000,2925,3830,43402,1025,17200,6940,13080,25,10630,43009,25,4600,4950,3760,3900,3830,25,25,6240,4150,25,13500,6490,250,25,8160,7770,200,25,1825,39800,9210,125,3960,5998,3700,5000,15050,3960,36300,2630,5690,19500,450,20400,4320,33001,10000,5790,14750,4010,40000,13000,3550,3040,36400,4480,31003,75,8850,14750,4690,23000,46900,10740,3160,3450,27102,500,5100,15010,5800,23200,8000,3390,3140,25,15000,10440,23911,25,21400,5380,11000,4950,22500,30300,2630,3140,2300,4310,26012,75,48500,3330,11200,4730,24900,29400,8350,475,3210,25,4200,8430,25503,26000,3900,11200,8610,28000,10840,100,11050,1000,3570,25001,5630,11100,4650,3820,2900,50,5100,4700,29502,6160,10910,3440,16000,3810,1025,3020,2000,3870,24811,75,5420,11100,4750,17900,3800,3160,25,1200,6470,26400,32500,6900,11030,3460,18000,3250,3210,13200,27705,7200,28714,11200,27502,11900,29314,11200,27002,13200,28214,12700,29900,12700,27202,13500,27705,14700,29900,4500,27705,8000,25511,7700,29900,7200,27502,4500,27402,1500,26602,10200,29900,14000,28500,8000,29809,36900,26902,10950,27402,16900,25600,29700,27702,13500,27102,27102,25811,26602,27102,37500,26211,24205,37500,27111,27411,27302,27202,26311,26602,33500,27511,21500,27200,26511,24002,21500,18511,14000,29000,23402,13300,19700,23211,15500,18111,21500,25511,17700,28000,14000,21700,13500,35500,29500,25300,21500,25900,35300,13500,46000,9000,25900,25800,17000,12800,47400,24400,17100,7400,33100,22000,35000,16500,35300,26900,11600,28100,27700,17700,16600,36800,19500,38800,37500,35000,31100,22600,22400,22700,13700,37100,18500,18300,19000,18500,22500,14500,32800,12300,19600,13600,7200,19900,13000,19700,9400,23800,17700,17000,14000,32100,33100,31600,5100,4100,7200,12800,46800,21800,3000,22500,35300,16500,33000,31500,34500,8000,25000,10700,13400,16500,34000,14100,38600,9100,8600,22000,8900,15500,3300,29000,17300,30500,25000,2800,3300,36400,34800,20700,32200,35300,33500,13700,15900,33200,35500,29800,29800,29500,30300,24300,29800,29800,27500,10800,11500,10400,11400,11400,8000,3000,25000,12300,14100,9000,4200,22500,22600,22600,22500,10200,42700,21200,22700,22000,9600,10500,6700,14200,15500,35100,26300,15700,17600,18600,19100,15200,16100,14800,16700,15300,16500,19600,15200,15000,15500,15700,14800,9200,8200,11400,6500,11500,23800,8900,28300,27300,3500,28300,18300,22500,22500,8300,16500,14500,30000,30000,30000,30000,30000,29500,21600,22600,16300,8600,28800,22100,14300,13700,29500,18500,19000,43400,46000,12500,13900,13000,13000,3000,17500,7900,8900,11500,6500,8000,18700,8350,27900,14500,6200,7500,20200,29300,31000,32400,5800,21500,23100,4500,24800,23000,26900,21500,15700,15200,23300,6100,20000,3000,18200,21800,19000,25000,36000,17000,25300,14900,15000,12995,17750,10295,16995,25000,23995,14900,15810,20227,20999,22499,23495,25250,15322,21232,5800,29000,17000,13800,30000,14800,8500,9800,4200,2500,28700,18500,17300,7100,3250,30700,3000,26500,20800,20800,5100,18900,24000,38800,24500,24500,6500,24000,18000,24000,23500,4500,25900,13900,14200,15400,17500,17500,18000,25200,14100,13300,16200,13300,13100,15500,4500,28400,17400,6000,20700,20300,14000,22000,17200,15000,17500,1300,1750,16300,15700,10000,23100,14900,16700,16300,25800,23800,16800,15500,6000,26900,16900,19500,15400,2300,17000,34000,13700,19100,11800,27500,26900,27100,27200,9000,22500,7700,4500,2200,21500,18800,21800,20300,8200,19000,8400,19500,7000,19500,8500,20500,4900,20800,28500,21900,15800,33000,22700,21900,19300,30700,19300,13750,16400,19500,15100,28500,15300,20300,22000,16700,19300,34100,14600,18200,33800,15900,16500,29600,14100,18200,18200,24300,15400,19000,19000,27800,18200,15000,19200,15500,24900,15500,7600,18400,14700,3900,5200,17200,18700,32000,14500,19400,17300,16700,19100,11100,32000,16900,18000,17800,18000,17500,14500,18500,18600,32000,17000,16000,18000,15900,6200,3700,24000,20800,18500,18300,21000,1300,11900,950,26800,800,21000,1900,33500,900,21000,26800,5700,18500,33000,11000,15800,3600,16300,2700,12800,9700,18300,16000,21000,3700,33000,14700,33000,15900,33000,33000,32500,33000,13000,33000,16500,33000,34500,33500,48000,13200,31500,17400,26000,1700,11000,21000,5500,7500,15800,16900,25000,18000,15600,23800,16800,22700,23300,23500,25500,21800,22800,18200,23500,25700,15700,17500,15700,16500,16100,15600,15400,28200,15300,15900,17700,15800,15900,25300,16300,29500,14500,15400,15400,15100,15000,15500,15000,15200,15700,16100,16300,16000,16900,17000,17300,15900,15700,16900,15500,15100,15500,15400,16500,42500,16600,15200,15800,16900,11100,15600,16900,15300,16600,21800,36500,26300,20900,20100,26700,23900,14500,23000,15000,15000,28500,28000,9000,28700,25000,17347,13800,25888,8500,21289,17999,2700,30977,13799,20500,8500,9900,24500,32500,9200,17700,18300,43500,15200,36200,21900,20700,12300,4200,19500,14300,13700,13200,6200,6500,1500,2200,4200,8700,3200,9000,20000,33000,23300,8750,11975,23600,12000,30900,23900,40400,38000,27000,24000,30000,16200,30000,23900,13800,23700,24300,22500,39000,13900,24700,20100,22000,38200,24400,35000,18600,22700,38000,17000,17500,23200,30700,23500,26400,23500,38000,23600,19300,23200,13800,23600,23200,40000,23400,23600,23000,25500,23500,29900,23200,23400,24500,25400,23000,6000,22400,22500,25200,36000,26700,30500,26700,25000,35200,30300,25000,26500,21600,18800,21500,9000,16700,16800,15700,16800,19500,20500,17400,17500,26000,5000,40200,32500,25500,44000,35000,22500,8300,8300,21000,19300,16400,27300,26400,35100,41500,34100,28600,34100,28700,24700,46500,29000,25500,39500,33100,30500,3600,16800,24000,28800,26800,36000,20000,46700,42800,21800,18800,18800,30200,27500,37500,19100,17100,13500,9000,16400,17000,24800,26800,19400,20000,7000,25100,2000,18200,14200,2000,26500,34300,43500,3500,37200,12800,15000,12500,21500,17300,27000,31800,13000,31800,46300,6000,22800,45000,3000,20000,25300,4000,45500,9100,48000,47000,31200,18500,15500,30500,45500,31500,11000,46500,31500,32000,23900,31500,18500,1500,46000,31500,14700,2700,47500,31500,8900,7000,31500,8900,48000,47300,45000,40200,48000,5000,8200,4000,39000,29000,46500,7805,22000,18800,33000,39500,16900,42500,39500,25500,25000,40000,26000,29500,23000,25500,44500,15600,23100,37000,14500,23000,26500,18000,35700,31000,2000,40400,43600,22600,26000,23200,29000,22800,3450,31000,22900,3000,28000,23200,27000,22800,31500,23400,28000,23400,28000,24900,23500,36000,28700,16000,31000,16500,28500,10800,28500,25000,31000,7800,28500,9500,28500,14500,25000,14500,28500,12100,29400,24700,8700,29500,25800,17500,23900,22900,19500,29500,24500,11000,22400,15700,11000,28000,13500,7300,25100,24100,6500,10500,16900,6000,28500,16200,6500,24500,16500,10400,22800,26500,23800,24700,12400,16600,11200,15900,7700,15100,7200,15600,39700,16000,7500,15500,19000,5500,38700,21000,28500,37200,18500,15000,37700,22200,39950,37600,18500,10000,20500,5700,21000,22500,29000,13200,25500,25700,18900,31500,45500,11000,18288,20000,36600,18299,10000,4100,30995,1750,31500,13500,7500,650,22800,11300,32700,1350,21900,11700,6500,9800,11000,1150,13000,5500,6000,11200,5000,23400,13500,22900,20000,22900,27000,20600,23500,23600,33500,24400,13000,48400,26500,46200,9300,13500,27600,7400,26500,26000,24500,2100,16700,17500,17000,22500,34500,16600,7500,34500,25000,36000,23700,28600,23500,25300,24900,20300,23400,14600,25500,14700,33700,33400,34000,17500,14100,30000,16500,30600,12800,26000,46000,28500,24300,29000,15300,27900,24700,14400,15000,17200,12800,46900,2800,16200,25200,34800,26000,40600,5000,36400,7500,14700,43900,6400,41100,23000,13900,19000,34800,22000,16300,18800,13000,40900,47000,12800,25500,17800,25700,17200,35000,28800,39200,13600,24200,46900,26500,24700,12600,31800,24500,26000,21000,22500,7700,23100,9200,19600,11700,27300,14300,23600,6200,22400,5700,23600,4600,37500,10700,31900,31600,12600,5300,3900,13000,11800,24600,14500,24300,12300,14800,17100,6800,20300,26300,22500,41200,20400,12100,24000,9500,9000,9800,7800,17200,18800,9800,7000,44000,23400,30700,15600,22600,22900,22800,22700,23000,22700,23000,34400,36500,23100,23300,22600,4500,23000,8000,11500,9400,23000,2800,22600,23000,5200,19200,10100,6200,14000,5000,9200,14700,3000,30200,3800,3200,21500,4900,23000,11200,10400,13200,5200,10500,11900,21200,23500,4700,11100,22000,14000,9200,23300,21700,11200,11300,4200,10900,42300,10500,43400,12500,15900,42500,15000,24700,15500,29000,16800,16500,10000,27900,23700,20000,45600,6000,15600,25000,28500,8000,19990,34400,30999,41000,27999,42000,8000,29795,24700,13995,2900,35400,24549,8900,15800,18500,32000,28300,10500,24970,13800,2580,2500,28990,33800,2500,46999,16700,34700,28900,30800,27100,13388,26000,17900,23400,29800,23700,1725,33995,23500,32500,2500,39000,11000,32500,800,26900,11200,21000,32000,7300,12800,24190,29100,29000,17300,19888,31000,37200,8600,24857,23500,26100,10800,20995,29300,33100,13800,19498,14900,8700,20600,5000,19995,14900,19500,24500,15000,26985,31000,24300,16800,17200,34995,24300,26400,16800,15500,19440,16700,29000,16100,17200,20950,46200,29400,2825,32999,6600,28300,12000,32999,12600,5200,20500,1200,35999,41000,33100,23500,18799,33999,35000,26100,15400,25998,31831,40400,15400,13500,25995,27990,23985,27995,13995,29988,12995,21687,25200,29590,28999,13942,15300,35400,32700,13995,1850,15800,36000,15495,21500,7200,17589,31700,31790,18100,14495,15000,26400,27990,19700,15300,22000,23999,16488,12784,23400,9705,25999,34977,19000,15995,13487,18707,15290,15600,47000,16080,15268,47500,18497,10000,19995,17150,45000,14295,16190,17899,26000,14000,15500,16888,28000,8305,21822,15500,12500,15995,16000,38200,12995,14488,17500,21995,8500,16593,13000,14247,23500,16999,25000,20159,31000,22500,29500,24000,20500,27200,24900,24500,34000,28000,27000,34000,42500,33000,10200,25600,16300,26500,36500,25900,22500,29000,825,10500,32000,27700,4000,38800,26200,19500,11700,34000,38600,21500,38500,38500,12000,30500,11300,29500,16100,32500,29000,30000,26000,26000,18500,12000,30000,14700,25000,26550,27000,34000,27500,25500,13500,4000,25700,29000,30500,30000,9000,19000,25800,26500,29300,6300,25400,26000,7000,25900,9700,27000,9100,28000,25700,27500,9400,25500,20500,21500,12800,23900,9400,26900,25500,27000,9300,14400,19000,14000,13600,19200,13600,18600,13700,18200,13800,22000,13700,28000,13800,18600,13700,13700,13800,17700,13900,13900,13600,13800,13800,45800,13800,5500,14400,11450,11000,11450,11000,11200,11400,11450,11050,11400,11050,10850,10900,10450,10800,10850,10800,10850,10800,10900,10400,10500,10800,10800,11200,11100,12200,4000,9000,14900,4600,6400,10400,7800,12300,10900,8500,7300,5900,20000,11200,14400,16500,13400,12500,6500,19800,8800,12800,8800,3500,750,10800,22300,8300,8300,8000,15200,6700,7500,10500,8400,7000,25500,4100,13900,1900,14700,1900,18800,7800,13500,8000,3300,7200,8000,1280,14000,3500,600,12500,5800,8000,2200,8300,7500,8000,3500,8000,2000,7800,8000,18500,8000,18300,7500,29800,21100,16200,6998,14700,19000,7500,7998,10999,2900,8495,19925,9500,12750,22800,11621,11590,4700,11390,14500,12000,15000,7500,28000,17500,18000,13200,17000,6700,23300,26800,18200,18700,12900,16000,19400,10900,15800,19800,19000,18000,19800,19700,20100,19700,23400,23300,17500,17100,15800,13600,14400,19800,17200,20300,20500,16500,16000,14600,16300,15400,15800,15800,21400,15300,20100,11300,10700,16000,16600,15800,11600,15000,17600,36300,15600,14000,16600,12600,20900,12700,15600,18900,15700,21900,21700,14600,12000,21000,12500,15900,11800,9900,10600,10100,13300,10100,10300,10300,10300,24000,10400,10200,9500,10500,10500,3500,9300,14100,2425,925,11000,11000,2100,800,20400,375,3000,15100,4000,19500,22600,6500,11800,20500,14200,22000,16200,4800,16000,14300,16800,11900,3000,15000,15200,18000,22700,3800,5475,11400,28100,3500,15200,1950,13400,12500,16500,16500,16500,13900,13900,1500,16500,13900,16500,13900,12400,13000,16500,13900,16500,13900,13900,13900,12100,16500,16500,13900,3700,18800,9200,30100,9200,11100,13900,9100,22800,13900,12600,9200,12100,9200,2300,13900,9500,13900,1700,13900,10400,9200,7400,9200,7800,9200,9200,9200,9200],\"xaxis\":\"x\",\"yaxis\":\"y\",\"type\":\"histogram\"}],                        {\"template\":{\"data\":{\"histogram2dcontour\":[{\"type\":\"histogram2dcontour\",\"colorbar\":{\"outlinewidth\":0,\"ticks\":\"\"},\"colorscale\":[[0.0,\"#0d0887\"],[0.1111111111111111,\"#46039f\"],[0.2222222222222222,\"#7201a8\"],[0.3333333333333333,\"#9c179e\"],[0.4444444444444444,\"#bd3786\"],[0.5555555555555556,\"#d8576b\"],[0.6666666666666666,\"#ed7953\"],[0.7777777777777778,\"#fb9f3a\"],[0.8888888888888888,\"#fdca26\"],[1.0,\"#f0f921\"]]}],\"choropleth\":[{\"type\":\"choropleth\",\"colorbar\":{\"outlinewidth\":0,\"ticks\":\"\"}}],\"histogram2d\":[{\"type\":\"histogram2d\",\"colorbar\":{\"outlinewidth\":0,\"ticks\":\"\"},\"colorscale\":[[0.0,\"#0d0887\"],[0.1111111111111111,\"#46039f\"],[0.2222222222222222,\"#7201a8\"],[0.3333333333333333,\"#9c179e\"],[0.4444444444444444,\"#bd3786\"],[0.5555555555555556,\"#d8576b\"],[0.6666666666666666,\"#ed7953\"],[0.7777777777777778,\"#fb9f3a\"],[0.8888888888888888,\"#fdca26\"],[1.0,\"#f0f921\"]]}],\"heatmap\":[{\"type\":\"heatmap\",\"colorbar\":{\"outlinewidth\":0,\"ticks\":\"\"},\"colorscale\":[[0.0,\"#0d0887\"],[0.1111111111111111,\"#46039f\"],[0.2222222222222222,\"#7201a8\"],[0.3333333333333333,\"#9c179e\"],[0.4444444444444444,\"#bd3786\"],[0.5555555555555556,\"#d8576b\"],[0.6666666666666666,\"#ed7953\"],[0.7777777777777778,\"#fb9f3a\"],[0.8888888888888888,\"#fdca26\"],[1.0,\"#f0f921\"]]}],\"heatmapgl\":[{\"type\":\"heatmapgl\",\"colorbar\":{\"outlinewidth\":0,\"ticks\":\"\"},\"colorscale\":[[0.0,\"#0d0887\"],[0.1111111111111111,\"#46039f\"],[0.2222222222222222,\"#7201a8\"],[0.3333333333333333,\"#9c179e\"],[0.4444444444444444,\"#bd3786\"],[0.5555555555555556,\"#d8576b\"],[0.6666666666666666,\"#ed7953\"],[0.7777777777777778,\"#fb9f3a\"],[0.8888888888888888,\"#fdca26\"],[1.0,\"#f0f921\"]]}],\"contourcarpet\":[{\"type\":\"contourcarpet\",\"colorbar\":{\"outlinewidth\":0,\"ticks\":\"\"}}],\"contour\":[{\"type\":\"contour\",\"colorbar\":{\"outlinewidth\":0,\"ticks\":\"\"},\"colorscale\":[[0.0,\"#0d0887\"],[0.1111111111111111,\"#46039f\"],[0.2222222222222222,\"#7201a8\"],[0.3333333333333333,\"#9c179e\"],[0.4444444444444444,\"#bd3786\"],[0.5555555555555556,\"#d8576b\"],[0.6666666666666666,\"#ed7953\"],[0.7777777777777778,\"#fb9f3a\"],[0.8888888888888888,\"#fdca26\"],[1.0,\"#f0f921\"]]}],\"surface\":[{\"type\":\"surface\",\"colorbar\":{\"outlinewidth\":0,\"ticks\":\"\"},\"colorscale\":[[0.0,\"#0d0887\"],[0.1111111111111111,\"#46039f\"],[0.2222222222222222,\"#7201a8\"],[0.3333333333333333,\"#9c179e\"],[0.4444444444444444,\"#bd3786\"],[0.5555555555555556,\"#d8576b\"],[0.6666666666666666,\"#ed7953\"],[0.7777777777777778,\"#fb9f3a\"],[0.8888888888888888,\"#fdca26\"],[1.0,\"#f0f921\"]]}],\"mesh3d\":[{\"type\":\"mesh3d\",\"colorbar\":{\"outlinewidth\":0,\"ticks\":\"\"}}],\"scatter\":[{\"fillpattern\":{\"fillmode\":\"overlay\",\"size\":10,\"solidity\":0.2},\"type\":\"scatter\"}],\"parcoords\":[{\"type\":\"parcoords\",\"line\":{\"colorbar\":{\"outlinewidth\":0,\"ticks\":\"\"}}}],\"scatterpolargl\":[{\"type\":\"scatterpolargl\",\"marker\":{\"colorbar\":{\"outlinewidth\":0,\"ticks\":\"\"}}}],\"bar\":[{\"error_x\":{\"color\":\"#2a3f5f\"},\"error_y\":{\"color\":\"#2a3f5f\"},\"marker\":{\"line\":{\"color\":\"#E5ECF6\",\"width\":0.5},\"pattern\":{\"fillmode\":\"overlay\",\"size\":10,\"solidity\":0.2}},\"type\":\"bar\"}],\"scattergeo\":[{\"type\":\"scattergeo\",\"marker\":{\"colorbar\":{\"outlinewidth\":0,\"ticks\":\"\"}}}],\"scatterpolar\":[{\"type\":\"scatterpolar\",\"marker\":{\"colorbar\":{\"outlinewidth\":0,\"ticks\":\"\"}}}],\"histogram\":[{\"marker\":{\"pattern\":{\"fillmode\":\"overlay\",\"size\":10,\"solidity\":0.2}},\"type\":\"histogram\"}],\"scattergl\":[{\"type\":\"scattergl\",\"marker\":{\"colorbar\":{\"outlinewidth\":0,\"ticks\":\"\"}}}],\"scatter3d\":[{\"type\":\"scatter3d\",\"line\":{\"colorbar\":{\"outlinewidth\":0,\"ticks\":\"\"}},\"marker\":{\"colorbar\":{\"outlinewidth\":0,\"ticks\":\"\"}}}],\"scattermapbox\":[{\"type\":\"scattermapbox\",\"marker\":{\"colorbar\":{\"outlinewidth\":0,\"ticks\":\"\"}}}],\"scatterternary\":[{\"type\":\"scatterternary\",\"marker\":{\"colorbar\":{\"outlinewidth\":0,\"ticks\":\"\"}}}],\"scattercarpet\":[{\"type\":\"scattercarpet\",\"marker\":{\"colorbar\":{\"outlinewidth\":0,\"ticks\":\"\"}}}],\"carpet\":[{\"aaxis\":{\"endlinecolor\":\"#2a3f5f\",\"gridcolor\":\"white\",\"linecolor\":\"white\",\"minorgridcolor\":\"white\",\"startlinecolor\":\"#2a3f5f\"},\"baxis\":{\"endlinecolor\":\"#2a3f5f\",\"gridcolor\":\"white\",\"linecolor\":\"white\",\"minorgridcolor\":\"white\",\"startlinecolor\":\"#2a3f5f\"},\"type\":\"carpet\"}],\"table\":[{\"cells\":{\"fill\":{\"color\":\"#EBF0F8\"},\"line\":{\"color\":\"white\"}},\"header\":{\"fill\":{\"color\":\"#C8D4E3\"},\"line\":{\"color\":\"white\"}},\"type\":\"table\"}],\"barpolar\":[{\"marker\":{\"line\":{\"color\":\"#E5ECF6\",\"width\":0.5},\"pattern\":{\"fillmode\":\"overlay\",\"size\":10,\"solidity\":0.2}},\"type\":\"barpolar\"}],\"pie\":[{\"automargin\":true,\"type\":\"pie\"}]},\"layout\":{\"autotypenumbers\":\"strict\",\"colorway\":[\"#636efa\",\"#EF553B\",\"#00cc96\",\"#ab63fa\",\"#FFA15A\",\"#19d3f3\",\"#FF6692\",\"#B6E880\",\"#FF97FF\",\"#FECB52\"],\"font\":{\"color\":\"#2a3f5f\"},\"hovermode\":\"closest\",\"hoverlabel\":{\"align\":\"left\"},\"paper_bgcolor\":\"white\",\"plot_bgcolor\":\"#E5ECF6\",\"polar\":{\"bgcolor\":\"#E5ECF6\",\"angularaxis\":{\"gridcolor\":\"white\",\"linecolor\":\"white\",\"ticks\":\"\"},\"radialaxis\":{\"gridcolor\":\"white\",\"linecolor\":\"white\",\"ticks\":\"\"}},\"ternary\":{\"bgcolor\":\"#E5ECF6\",\"aaxis\":{\"gridcolor\":\"white\",\"linecolor\":\"white\",\"ticks\":\"\"},\"baxis\":{\"gridcolor\":\"white\",\"linecolor\":\"white\",\"ticks\":\"\"},\"caxis\":{\"gridcolor\":\"white\",\"linecolor\":\"white\",\"ticks\":\"\"}},\"coloraxis\":{\"colorbar\":{\"outlinewidth\":0,\"ticks\":\"\"}},\"colorscale\":{\"sequential\":[[0.0,\"#0d0887\"],[0.1111111111111111,\"#46039f\"],[0.2222222222222222,\"#7201a8\"],[0.3333333333333333,\"#9c179e\"],[0.4444444444444444,\"#bd3786\"],[0.5555555555555556,\"#d8576b\"],[0.6666666666666666,\"#ed7953\"],[0.7777777777777778,\"#fb9f3a\"],[0.8888888888888888,\"#fdca26\"],[1.0,\"#f0f921\"]],\"sequentialminus\":[[0.0,\"#0d0887\"],[0.1111111111111111,\"#46039f\"],[0.2222222222222222,\"#7201a8\"],[0.3333333333333333,\"#9c179e\"],[0.4444444444444444,\"#bd3786\"],[0.5555555555555556,\"#d8576b\"],[0.6666666666666666,\"#ed7953\"],[0.7777777777777778,\"#fb9f3a\"],[0.8888888888888888,\"#fdca26\"],[1.0,\"#f0f921\"]],\"diverging\":[[0,\"#8e0152\"],[0.1,\"#c51b7d\"],[0.2,\"#de77ae\"],[0.3,\"#f1b6da\"],[0.4,\"#fde0ef\"],[0.5,\"#f7f7f7\"],[0.6,\"#e6f5d0\"],[0.7,\"#b8e186\"],[0.8,\"#7fbc41\"],[0.9,\"#4d9221\"],[1,\"#276419\"]]},\"xaxis\":{\"gridcolor\":\"white\",\"linecolor\":\"white\",\"ticks\":\"\",\"title\":{\"standoff\":15},\"zerolinecolor\":\"white\",\"automargin\":true,\"zerolinewidth\":2},\"yaxis\":{\"gridcolor\":\"white\",\"linecolor\":\"white\",\"ticks\":\"\",\"title\":{\"standoff\":15},\"zerolinecolor\":\"white\",\"automargin\":true,\"zerolinewidth\":2},\"scene\":{\"xaxis\":{\"backgroundcolor\":\"#E5ECF6\",\"gridcolor\":\"white\",\"linecolor\":\"white\",\"showbackground\":true,\"ticks\":\"\",\"zerolinecolor\":\"white\",\"gridwidth\":2},\"yaxis\":{\"backgroundcolor\":\"#E5ECF6\",\"gridcolor\":\"white\",\"linecolor\":\"white\",\"showbackground\":true,\"ticks\":\"\",\"zerolinecolor\":\"white\",\"gridwidth\":2},\"zaxis\":{\"backgroundcolor\":\"#E5ECF6\",\"gridcolor\":\"white\",\"linecolor\":\"white\",\"showbackground\":true,\"ticks\":\"\",\"zerolinecolor\":\"white\",\"gridwidth\":2}},\"shapedefaults\":{\"line\":{\"color\":\"#2a3f5f\"}},\"annotationdefaults\":{\"arrowcolor\":\"#2a3f5f\",\"arrowhead\":0,\"arrowwidth\":1},\"geo\":{\"bgcolor\":\"white\",\"landcolor\":\"#E5ECF6\",\"subunitcolor\":\"white\",\"showland\":true,\"showlakes\":true,\"lakecolor\":\"white\"},\"title\":{\"x\":0.05},\"mapbox\":{\"style\":\"light\"}}},\"xaxis\":{\"anchor\":\"y\",\"domain\":[0.0,1.0],\"title\":{\"text\":\"Price\"},\"showgrid\":false,\"showline\":false,\"linewidth\":2,\"linecolor\":\"black\",\"ticks\":\"outside\"},\"yaxis\":{\"anchor\":\"x\",\"domain\":[0.0,1.0],\"title\":{\"text\":\"Count\"},\"showgrid\":false,\"showline\":false,\"linewidth\":1,\"linecolor\":\"black\"},\"legend\":{\"tracegroupgap\":0},\"margin\":{\"t\":60},\"barmode\":\"relative\",\"font\":{\"size\":12,\"family\":\"Arial\"}},                        {\"responsive\": true}                    ).then(function(){\n",
       "                            \n",
       "var gd = document.getElementById('a783ec3d-1306-4b12-89e3-2c5abbad9593');\n",
       "var x = new MutationObserver(function (mutations, observer) {{\n",
       "        var display = window.getComputedStyle(gd).display;\n",
       "        if (!display || display === 'none') {{\n",
       "            console.log([gd, 'removed!']);\n",
       "            Plotly.purge(gd);\n",
       "            observer.disconnect();\n",
       "        }}\n",
       "}});\n",
       "\n",
       "// Listen for the removal of the full notebook cells\n",
       "var notebookContainer = gd.closest('#notebook-container');\n",
       "if (notebookContainer) {{\n",
       "    x.observe(notebookContainer, {childList: true});\n",
       "}}\n",
       "\n",
       "// Listen for the clearing of the current output cell\n",
       "var outputEl = gd.closest('.output');\n",
       "if (outputEl) {{\n",
       "    x.observe(outputEl, {childList: true});\n",
       "}}\n",
       "\n",
       "                        })                };                });            </script>        </div>"
      ]
     },
     "metadata": {},
     "output_type": "display_data"
    }
   ],
   "source": [
    "# Plot the new price distribution after cleaning\n",
    "fig = px.histogram(df, x=\"price\", nbins=20)\n",
    "\n",
    "fig.update_xaxes(title='Price', showgrid=False, showline=False, linewidth=2, linecolor='black', ticks='outside')\n",
    "fig.update_yaxes(title='Count', showgrid=False, showline=False, linewidth=1, linecolor='black')\n",
    "fig.update_layout(font_size = 12, font_family='Arial')\n",
    "fig.show()"
   ]
  },
  {
   "cell_type": "markdown",
   "id": "583cf347",
   "metadata": {},
   "source": [
    "- The most common price range for a car to fall in is between 15,000 dollars and 20,000 dollars. There are 461 cars in this price range.\n",
    "- The second most common price range is between 10,000 dollars and 15,000 dollars.\n",
    "- The price distribution looks much more like a normal distribution now."
   ]
  },
  {
   "cell_type": "markdown",
   "id": "cc807eb9",
   "metadata": {},
   "source": [
    "###  Cleaning the Mileage Column"
   ]
  },
  {
   "cell_type": "code",
   "execution_count": 16,
   "id": "34145aa4",
   "metadata": {
    "scrolled": true
   },
   "outputs": [
    {
     "name": "stdout",
     "output_type": "stream",
     "text": [
      "The 25th percentile is 22098.75\n",
      "The 75th percentile is 61687.25\n",
      "The Interquartile Range is 39588.5\n"
     ]
    }
   ],
   "source": [
    "Q1_mileage = df['mileage'].quantile(0.25)\n",
    "Q3_mileage = df['mileage'].quantile(0.75)\n",
    "IQR_mileage = Q3_mileage - Q1_mileage\n",
    "\n",
    "print(\"The 25th percentile is \" +  str(Q1_mileage))\n",
    "print(\"The 75th percentile is \" +  str(Q3_mileage))\n",
    "print(\"The Interquartile Range is \" + str(IQR_mileage))"
   ]
  },
  {
   "cell_type": "code",
   "execution_count": 17,
   "id": "9c260430",
   "metadata": {
    "scrolled": true
   },
   "outputs": [
    {
     "name": "stdout",
     "output_type": "stream",
     "text": [
      "Lower Fence Mileage:  -37284.0\n",
      "Upper Fence Mileage:  121070.0\n"
     ]
    }
   ],
   "source": [
    "lower_fence_mileage = Q1_mileage - (1.5 * IQR_mileage)\n",
    "upper_fence_mileage = Q3_mileage + (1.5 * IQR_mileage)\n",
    "\n",
    "print('Lower Fence Mileage: ', lower_fence_mileage)\n",
    "print('Upper Fence Mileage: ', upper_fence_mileage)"
   ]
  },
  {
   "cell_type": "code",
   "execution_count": 18,
   "id": "82739517",
   "metadata": {
    "scrolled": true
   },
   "outputs": [
    {
     "data": {
      "text/plain": [
       "count     2,213.00\n",
       "mean     40,590.19\n",
       "std      27,101.66\n",
       "min           1.00\n",
       "25%      20,849.00\n",
       "50%      33,909.00\n",
       "75%      51,347.00\n",
       "max     120,667.00\n",
       "Name: mileage, dtype: float64"
      ]
     },
     "execution_count": 18,
     "metadata": {},
     "output_type": "execute_result"
    }
   ],
   "source": [
    "# Let's drop cars with mileage of $0 and and also cars with mileage greater than the upper fence of $121,070\n",
    "df = df[df['mileage'].between(1, upper_fence_mileage)]\n",
    "\n",
    "df['mileage'].describe()"
   ]
  },
  {
   "cell_type": "markdown",
   "id": "bed2dfd4",
   "metadata": {},
   "source": [
    "- We lose an additional 179 cars by using this method of removing outliers from the mileage column\n",
    "- It brings down the maximum mileage to 120,667 and reduces the standard deviation to 27,101.66\n",
    "- The good news is that we still have over 2250 cars to analyze"
   ]
  },
  {
   "cell_type": "code",
   "execution_count": 19,
   "id": "a86e810a",
   "metadata": {},
   "outputs": [
    {
     "data": {
      "application/vnd.plotly.v1+json": {
       "config": {
        "plotlyServerURL": "https://plot.ly"
       },
       "data": [
        {
         "alignmentgroup": "True",
         "bingroup": "x",
         "hovertemplate": "mileage=%{x}<br>count=%{y}<extra></extra>",
         "legendgroup": "",
         "marker": {
          "color": "#636efa",
          "pattern": {
           "shape": ""
          }
         },
         "name": "",
         "nbinsx": 15,
         "offsetgroup": "",
         "orientation": "v",
         "showlegend": false,
         "type": "histogram",
         "x": [
          39590,
          64146,
          6654,
          45561,
          23525,
          9371,
          63418,
          107856,
          39650,
          22909,
          100757,
          25747,
          46194,
          20002,
          35714,
          54380,
          30114,
          38823,
          61578,
          46010,
          105510,
          28040,
          11451,
          31039,
          44174,
          93698,
          26364,
          71967,
          46226,
          37792,
          58817,
          27965,
          110907,
          2430,
          32366,
          30049,
          97983,
          30442,
          38123,
          28972,
          30061,
          18414,
          46829,
          39886,
          31594,
          32107,
          44794,
          42648,
          39165,
          38355,
          46766,
          2473,
          38586,
          27842,
          31156,
          52435,
          29942,
          25281,
          32504,
          28649,
          35200,
          25602,
          34801,
          31009,
          35595,
          23765,
          31792,
          33135,
          30636,
          34502,
          25434,
          36732,
          41792,
          31992,
          32501,
          28395,
          36139,
          84413,
          33457,
          29245,
          12783,
          17617,
          36855,
          110316,
          88227,
          17626,
          120353,
          3641,
          39333,
          42930,
          24993,
          44929,
          16971,
          35598,
          40455,
          23164,
          19011,
          45191,
          21405,
          19117,
          42104,
          49496,
          32418,
          29882,
          34819,
          31923,
          29168,
          28307,
          33791,
          21770,
          18375,
          14158,
          30318,
          48086,
          26562,
          57611,
          47357,
          84916,
          24521,
          35888,
          59537,
          55222,
          32870,
          39687,
          47085,
          32224,
          51293,
          42989,
          31311,
          46091,
          49033,
          33957,
          19845,
          38910,
          31234,
          36767,
          57932,
          19420,
          93493,
          20942,
          86826,
          45787,
          50765,
          62774,
          76326,
          39029,
          72885,
          46467,
          6743,
          33514,
          39917,
          32504,
          77638,
          31727,
          52966,
          24157,
          51393,
          35461,
          47055,
          33110,
          39721,
          75785,
          33624,
          42289,
          79422,
          28844,
          66582,
          61436,
          58303,
          55618,
          33045,
          40747,
          26667,
          37176,
          18006,
          72445,
          44116,
          60219,
          32058,
          33928,
          90618,
          109360,
          71809,
          31563,
          42090,
          7232,
          60171,
          13826,
          55854,
          45757,
          16545,
          112893,
          13303,
          34061,
          70251,
          13679,
          42426,
          66452,
          18221,
          41455,
          35275,
          13885,
          38815,
          56479,
          61027,
          37321,
          112789,
          80394,
          68142,
          74203,
          57604,
          87229,
          90711,
          11135,
          66781,
          56007,
          32486,
          18020,
          83262,
          62015,
          36421,
          73321,
          28013,
          33291,
          43176,
          36876,
          111782,
          110489,
          84035,
          52521,
          101380,
          111476,
          76897,
          15780,
          31944,
          18937,
          9706,
          57289,
          19956,
          6075,
          21034,
          22881,
          37252,
          27601,
          15958,
          32251,
          25809,
          30553,
          26549,
          15854,
          56690,
          97142,
          10185,
          23514,
          86959,
          67279,
          16482,
          35687,
          17911,
          21278,
          47269,
          26914,
          67217,
          78698,
          41961,
          13273,
          31713,
          50732,
          52904,
          14195,
          43965,
          112182,
          49024,
          35821,
          1,
          32611,
          105244,
          46955,
          70443,
          1,
          18229,
          87673,
          42941,
          104405,
          57186,
          59808,
          1,
          20681,
          102700,
          53270,
          27195,
          20849,
          67347,
          117400,
          1,
          47798,
          19490,
          12038,
          43536,
          100893,
          90304,
          31394,
          25933,
          118250,
          46060,
          50593,
          62387,
          72527,
          17243,
          82899,
          76418,
          71404,
          30382,
          82534,
          83623,
          108895,
          33542,
          74754,
          115241,
          41577,
          109027,
          72732,
          77984,
          23177,
          26911,
          56461,
          95128,
          26786,
          35623,
          14541,
          36739,
          42616,
          65833,
          36122,
          88359,
          35905,
          35747,
          105020,
          11047,
          31233,
          19427,
          71991,
          29043,
          36064,
          47213,
          116480,
          72084,
          11396,
          33785,
          20103,
          32387,
          48140,
          34861,
          114119,
          34165,
          27442,
          11394,
          30546,
          23745,
          88274,
          38349,
          30142,
          44730,
          92476,
          25698,
          54332,
          119215,
          8930,
          46985,
          30220,
          37021,
          43152,
          34318,
          88287,
          105486,
          19850,
          116535,
          15777,
          87448,
          8395,
          30121,
          33687,
          37561,
          32256,
          25255,
          118009,
          114547,
          18647,
          16669,
          47970,
          12905,
          22123,
          40780,
          36596,
          30421,
          17355,
          27773,
          58366,
          11229,
          27492,
          41654,
          31954,
          93423,
          14053,
          25956,
          12253,
          34895,
          47753,
          39408,
          33599,
          28464,
          16702,
          11449,
          25847,
          49772,
          83915,
          40306,
          69622,
          36295,
          14856,
          44129,
          10861,
          82411,
          111612,
          35251,
          50408,
          15630,
          53273,
          14786,
          85315,
          16146,
          76211,
          15265,
          79965,
          16059,
          62739,
          15569,
          58932,
          17488,
          60733,
          18550,
          53194,
          17644,
          34454,
          17684,
          83279,
          16600,
          107971,
          17801,
          94150,
          17159,
          80711,
          17983,
          119981,
          17851,
          66079,
          18174,
          7654,
          18759,
          11564,
          18901,
          86541,
          21157,
          29937,
          23964,
          58504,
          20154,
          63500,
          23294,
          24293,
          20343,
          19655,
          19100,
          20014,
          21774,
          21201,
          21766,
          12406,
          17977,
          22805,
          16013,
          14382,
          9660,
          18969,
          24730,
          15847,
          25009,
          22115,
          11836,
          23765,
          25508,
          18196,
          16106,
          14907,
          12735,
          53424,
          17940,
          17417,
          37125,
          61428,
          17025,
          37668,
          15805,
          43761,
          11342,
          35664,
          12780,
          38458,
          34420,
          46497,
          21268,
          31029,
          40878,
          20270,
          32984,
          75506,
          39951,
          4445,
          67527,
          33588,
          10103,
          26474,
          40253,
          39624,
          48705,
          19659,
          91299,
          81614,
          179,
          5523,
          29841,
          8516,
          42941,
          27498,
          31141,
          20784,
          52667,
          26003,
          32332,
          44333,
          36198,
          33331,
          43082,
          24561,
          13485,
          15524,
          8996,
          47282,
          34470,
          87264,
          114344,
          111635,
          103955,
          66640,
          46915,
          53599,
          41672,
          36047,
          42561,
          40345,
          41751,
          27593,
          24009,
          85697,
          25223,
          27927,
          55532,
          72172,
          57751,
          96314,
          89152,
          114660,
          36423,
          23759,
          120667,
          65344,
          51347,
          52322,
          67620,
          59965,
          28739,
          77429,
          20847,
          44280,
          86031,
          7622,
          8067,
          16502,
          20681,
          54655,
          57825,
          58856,
          85072,
          79506,
          85301,
          69377,
          15577,
          23470,
          18715,
          61258,
          35705,
          48982,
          33745,
          42267,
          46863,
          36443,
          14939,
          22026,
          38278,
          46149,
          48427,
          48807,
          52618,
          46494,
          56296,
          33909,
          33028,
          44653,
          80516,
          105151,
          78368,
          78956,
          88564,
          78800,
          111856,
          80946,
          83168,
          58606,
          82020,
          102500,
          8150,
          6159,
          5938,
          9019,
          45836,
          60215,
          90944,
          82785,
          112267,
          82543,
          13532,
          14751,
          11150,
          91248,
          65336,
          48974,
          40011,
          37444,
          43199,
          43589,
          32870,
          38826,
          33739,
          35309,
          32248,
          36165,
          29922,
          26848,
          41163,
          32856,
          100315,
          91638,
          83173,
          94356,
          85792,
          27665,
          25427,
          78198,
          13886,
          34538,
          20575,
          26026,
          99015,
          27327,
          30229,
          43294,
          54309,
          52822,
          45554,
          37538,
          35153,
          23783,
          30759,
          38922,
          19235,
          9445,
          19164,
          54106,
          32051,
          14870,
          32294,
          7250,
          10145,
          59924,
          21304,
          52079,
          54960,
          80099,
          23987,
          84144,
          85639,
          50193,
          74392,
          76117,
          36358,
          90685,
          54141,
          82240,
          66167,
          24722,
          41198,
          26353,
          28280,
          15340,
          12265,
          94872,
          17946,
          26996,
          5775,
          6748,
          38128,
          41636,
          5359,
          70296,
          11346,
          107593,
          50639,
          6530,
          19636,
          41748,
          13162,
          32937,
          23095,
          34432,
          48162,
          68310,
          48000,
          105962,
          96575,
          13239,
          24934,
          46859,
          44468,
          62230,
          37082,
          23964,
          11204,
          7608,
          49982,
          4950,
          111628,
          15927,
          36299,
          28469,
          29086,
          35991,
          62224,
          86500,
          19636,
          34272,
          42909,
          55749,
          89142,
          20328,
          28551,
          35098,
          35365,
          88398,
          27957,
          30161,
          26292,
          25780,
          25032,
          72248,
          30630,
          86125,
          30408,
          35443,
          95377,
          32724,
          45089,
          35948,
          41601,
          26370,
          18271,
          9476,
          80899,
          57394,
          42190,
          22591,
          48681,
          42621,
          27761,
          107768,
          14355,
          9467,
          18313,
          19506,
          14750,
          11280,
          13944,
          26922,
          12690,
          74975,
          28289,
          38041,
          52386,
          34391,
          39515,
          22074,
          28782,
          30092,
          26443,
          28981,
          32865,
          117258,
          16397,
          16176,
          1091,
          17472,
          10341,
          19695,
          51041,
          22646,
          18138,
          23987,
          17160,
          26929,
          25815,
          81992,
          5000,
          62683,
          107224,
          35153,
          26474,
          30943,
          17154,
          79637,
          12123,
          107822,
          10221,
          95278,
          13457,
          69936,
          13520,
          96922,
          72594,
          17896,
          11088,
          29567,
          15655,
          26428,
          29003,
          32229,
          26503,
          15446,
          23369,
          8767,
          48319,
          15275,
          33826,
          16679,
          26184,
          21203,
          17870,
          17909,
          41126,
          14098,
          15003,
          29105,
          34794,
          20034,
          46942,
          14753,
          14359,
          34922,
          20944,
          9877,
          8949,
          13627,
          18291,
          38029,
          32593,
          37352,
          23030,
          30671,
          79544,
          15027,
          29115,
          93604,
          100203,
          35401,
          20279,
          26090,
          107924,
          14906,
          34407,
          18049,
          18132,
          109176,
          25456,
          38375,
          39792,
          30403,
          28252,
          31904,
          24336,
          23961,
          22919,
          22863,
          38817,
          48854,
          27288,
          5284,
          99988,
          84109,
          88539,
          33739,
          101017,
          13906,
          20601,
          23421,
          21309,
          10350,
          8605,
          10170,
          22272,
          101906,
          27019,
          10930,
          73552,
          37107,
          36993,
          67133,
          33580,
          94140,
          10447,
          10229,
          6269,
          98699,
          10631,
          44381,
          13960,
          14051,
          20800,
          8873,
          15502,
          9669,
          50873,
          14117,
          46820,
          7247,
          40991,
          9023,
          8047,
          41014,
          20907,
          89795,
          57158,
          83976,
          12554,
          60707,
          40110,
          28038,
          26643,
          36127,
          19983,
          29926,
          36750,
          27312,
          49575,
          30279,
          25825,
          32474,
          30585,
          36203,
          29602,
          28689,
          31447,
          39148,
          33495,
          35274,
          48745,
          31297,
          38745,
          37704,
          27060,
          40002,
          34930,
          22863,
          36876,
          34264,
          17515,
          27071,
          14656,
          35652,
          30055,
          43088,
          33641,
          34797,
          43943,
          35744,
          31542,
          26899,
          29985,
          37009,
          30731,
          30062,
          28295,
          25534,
          29716,
          34294,
          27643,
          35516,
          40674,
          32494,
          35047,
          32898,
          13740,
          23132,
          37174,
          34023,
          30021,
          51469,
          31237,
          30186,
          41956,
          30727,
          38956,
          22036,
          26462,
          23143,
          17340,
          29749,
          35248,
          40417,
          30309,
          42303,
          35326,
          92100,
          99375,
          72418,
          29733,
          119439,
          54396,
          91606,
          2807,
          78739,
          71955,
          48472,
          98470,
          28937,
          83693,
          90888,
          39943,
          5920,
          71478,
          119520,
          10882,
          29010,
          69003,
          16207,
          29748,
          25582,
          24520,
          104383,
          34164,
          6975,
          67150,
          100820,
          60015,
          64598,
          111532,
          43567,
          36004,
          10935,
          19363,
          42902,
          401,
          11077,
          34100,
          30018,
          18279,
          7373,
          2590,
          41662,
          15019,
          9420,
          41864,
          16829,
          6290,
          14599,
          25839,
          60715,
          23350,
          62386,
          6248,
          878,
          49710,
          2042,
          7742,
          39733,
          33701,
          67542,
          35095,
          8652,
          51107,
          14987,
          28252,
          16009,
          47866,
          11004,
          42895,
          9490,
          39027,
          13466,
          8737,
          23960,
          5562,
          13763,
          10444,
          41696,
          15787,
          9167,
          17541,
          15210,
          54601,
          35691,
          32788,
          42925,
          37385,
          15415,
          20047,
          16884,
          57936,
          15244,
          19842,
          38830,
          31899,
          69305,
          46098,
          29457,
          30765,
          29096,
          40437,
          69004,
          65179,
          75862,
          68319,
          80354,
          51441,
          70954,
          92500,
          66367,
          26484,
          28007,
          11251,
          10763,
          26451,
          43646,
          71989,
          95386,
          23740,
          36064,
          18805,
          10099,
          9800,
          10483,
          17544,
          10167,
          11457,
          26590,
          35346,
          12953,
          26693,
          25071,
          33538,
          9915,
          1,
          9910,
          16765,
          40785,
          108998,
          58576,
          55475,
          35929,
          21669,
          16079,
          41147,
          45798,
          21703,
          22284,
          24567,
          30594,
          52747,
          21592,
          25201,
          10351,
          1117,
          37279,
          30113,
          27570,
          45188,
          25030,
          105743,
          9861,
          1751,
          52883,
          122,
          28534,
          80699,
          72851,
          24078,
          38639,
          31871,
          76876,
          28070,
          3189,
          28359,
          42890,
          29328,
          47531,
          57345,
          67546,
          18153,
          63445,
          26422,
          18767,
          38289,
          22960,
          17263,
          13058,
          45887,
          21740,
          17707,
          19121,
          18856,
          84752,
          19555,
          16340,
          17242,
          28733,
          16019,
          75580,
          113444,
          19227,
          13633,
          37739,
          103541,
          24072,
          17657,
          77392,
          11930,
          15581,
          70181,
          16143,
          23926,
          57929,
          10028,
          21051,
          105880,
          102590,
          27612,
          90855,
          19936,
          64495,
          39477,
          25698,
          73849,
          25422,
          47866,
          31236,
          26755,
          49177,
          15003,
          12247,
          1,
          10808,
          11263,
          42307,
          17484,
          37106,
          9539,
          2384,
          20590,
          13896,
          9451,
          31657,
          33907,
          10028,
          30770,
          15141,
          18431,
          9604,
          9516,
          9718,
          16506,
          11028,
          11313,
          12886,
          9556,
          13269,
          16770,
          13526,
          16391,
          11437,
          17964,
          5440,
          13035,
          15759,
          30002,
          13673,
          24480,
          13230,
          13516,
          81660,
          11763,
          34165,
          13458,
          104867,
          14004,
          69829,
          13405,
          96151,
          12688,
          116519,
          12260,
          29367,
          18982,
          23795,
          76572,
          15964,
          28117,
          116730,
          21055,
          27794,
          56995,
          16625,
          27689,
          39851,
          31727,
          31586,
          33717,
          18418,
          39013,
          21346,
          21150,
          103862,
          22001,
          31261,
          14358,
          41672,
          95655,
          19493,
          36956,
          13085,
          36124,
          19147,
          24993,
          41127,
          32365,
          27774,
          105027,
          27806,
          54198,
          30181,
          82670,
          36305,
          10475,
          34734,
          12928,
          116539,
          59549,
          12174,
          96129,
          89809,
          18202,
          43527,
          15792,
          9278,
          41925,
          16924,
          119869,
          17260,
          89490,
          40772,
          25623,
          11669,
          13644,
          44456,
          20357,
          66366,
          43532,
          45218,
          85688,
          58902,
          59869,
          35021,
          100264,
          23222,
          87686,
          32526,
          69402,
          76336,
          47628,
          74181,
          77386,
          109600,
          110826,
          12198,
          45512,
          15656,
          23984,
          15821,
          12748,
          17858,
          6711,
          15820,
          6140,
          25552,
          54984,
          24783,
          34191,
          82072,
          104559,
          13265,
          22458,
          70106,
          23712,
          101848,
          14994,
          59726,
          16448,
          28801,
          28938,
          19022,
          93832,
          25046,
          22318,
          17301,
          27413,
          39733,
          74195,
          44383,
          19151,
          2452,
          36252,
          27136,
          35951,
          35221,
          33808,
          32022,
          34173,
          24272,
          19055,
          34822,
          15422,
          24765,
          23019,
          38243,
          16509,
          18762,
          28854,
          17392,
          13558,
          27082,
          17510,
          24662,
          96076,
          22858,
          740,
          110748,
          25090,
          7,
          34277,
          99923,
          39170,
          80612,
          36616,
          92165,
          44778,
          2089,
          91652,
          35801,
          88781,
          36978,
          35233,
          37044,
          15835,
          41928,
          37059,
          33763,
          29850,
          26675,
          17828,
          29632,
          11544,
          21976,
          43617,
          49254,
          51589,
          41399,
          11734,
          41628,
          15075,
          26591,
          22906,
          33462,
          32747,
          33717,
          85218,
          23512,
          57853,
          33324,
          23803,
          31260,
          69428,
          15755,
          90946,
          51370,
          99941,
          15456,
          2382,
          99544,
          21546,
          16293,
          40375,
          363,
          59656,
          37878,
          20628,
          71205,
          26186,
          38157,
          30325,
          31561,
          66655,
          19029,
          11739,
          50423,
          25638,
          59798,
          32284,
          40371,
          107569,
          96451,
          94851,
          108727,
          91979,
          76258,
          104764,
          16934,
          13822,
          5250,
          33451,
          14291,
          16725,
          13002,
          18902,
          9732,
          18947,
          8402,
          17450,
          53986,
          15848,
          10770,
          14587,
          98625,
          10916,
          107173,
          10134,
          43056,
          10655,
          14231,
          8985,
          84338,
          104290,
          45592,
          103960,
          110333,
          49094,
          97526,
          87420,
          67052,
          58913,
          14482,
          57084,
          90251,
          97320,
          80652,
          99816,
          115429,
          85549,
          83030,
          80090,
          118593,
          53507,
          48408,
          109672,
          28549,
          114500,
          67140,
          42168,
          80032,
          52240,
          34874,
          119689,
          37355,
          100947,
          26040,
          36638,
          31794,
          42291,
          13155,
          18454,
          16694,
          28922,
          23534,
          24581,
          35646,
          28669,
          32454,
          21800,
          23796,
          42506,
          6249,
          47496,
          10700,
          39604,
          7275,
          8806,
          105115,
          57340,
          36167,
          44941,
          53102,
          26637,
          45814,
          17310,
          24116,
          14128,
          49882,
          38964,
          102705,
          98620,
          15825,
          100255,
          16956,
          36896,
          77281,
          24795,
          16771,
          28692,
          113821,
          19793,
          27940,
          24987,
          18367,
          14109,
          27369,
          30208,
          24024,
          64999,
          8404,
          8884,
          24126,
          31713,
          109996,
          6821,
          17867,
          110253,
          39364,
          4018,
          21054,
          48309,
          68666,
          34071,
          13600,
          44956,
          72607,
          33815,
          31491,
          32149,
          26654,
          36637,
          17000,
          15960,
          40774,
          40338,
          40505,
          30735,
          33965,
          7339,
          42470,
          40670,
          41233,
          13162,
          38744,
          14023,
          9741,
          31017,
          37786,
          32415,
          10421,
          29305,
          51309,
          38001,
          18849,
          43269,
          36989,
          29320,
          34244,
          32938,
          40793,
          94741,
          25011,
          6881,
          80423,
          15436,
          104665,
          16194,
          48188,
          65164,
          35930,
          13674,
          9235,
          103002,
          12836,
          6921,
          14359,
          58118,
          31124,
          25734,
          14059,
          13472,
          35023,
          39509,
          4512,
          51884,
          4181,
          56703,
          4712,
          102800,
          7109,
          100943,
          3915,
          15550,
          62542,
          38370,
          671,
          61477,
          73891,
          82564,
          85649,
          48374,
          11990,
          64111,
          28771,
          27165,
          106546,
          54778,
          11729,
          85197,
          19130,
          72369,
          59646,
          68418,
          8400,
          45084,
          67037,
          64135,
          72377,
          39367,
          46540,
          40677,
          69438,
          96246,
          69719,
          75933,
          54325,
          24902,
          31793,
          74361,
          27868,
          34011,
          19993,
          48115,
          67091,
          28790,
          59391,
          71824,
          39159,
          18708,
          79430,
          12393,
          56329,
          12155,
          63291,
          36041,
          25810,
          23878,
          15460,
          46710,
          65342,
          64061,
          93164,
          35629,
          118483,
          71573,
          33660,
          61168,
          42241,
          21004,
          45003,
          45278,
          1,
          24747,
          48707,
          50874,
          70727,
          29382,
          33194,
          52084,
          51122,
          40286,
          55420,
          10282,
          85278,
          7258,
          93350,
          37166,
          69480,
          34679,
          24151,
          32796,
          67979,
          18690,
          78072,
          54251,
          32262,
          92358,
          90740,
          35225,
          49985,
          52340,
          21406,
          16619,
          41293,
          37053,
          34532,
          13328,
          56836,
          48080,
          12271,
          97318,
          12717,
          12764,
          19951,
          32458,
          21616,
          17755,
          73846,
          15771,
          29168,
          15296,
          30476,
          26095,
          22107,
          31207,
          112810,
          19058,
          109137,
          24058,
          6967,
          118340,
          36145,
          33942,
          38868,
          36190,
          37177,
          39267,
          33350,
          57889,
          34081,
          26821,
          40577,
          52355,
          30620,
          22019,
          36742,
          32473,
          43406,
          34696,
          43519,
          37716,
          41627,
          29986,
          41496,
          20613,
          33475,
          32305,
          38148,
          39976,
          50513,
          31408,
          41351,
          32038,
          38279,
          30471,
          41569,
          31142,
          31598,
          31380,
          22179,
          29266,
          42156,
          30875,
          30609,
          29508,
          12837,
          29633,
          27461,
          32154,
          29345,
          30054,
          11173,
          30902,
          31231,
          10728,
          35374,
          36715,
          33437,
          36788,
          35491,
          33644,
          35831,
          35050,
          34924,
          34962,
          39985,
          38816,
          41579,
          40455,
          39996,
          41077,
          39183,
          40478,
          38806,
          45331,
          43531,
          41033,
          40332,
          22319,
          22305,
          36996,
          1,
          27611,
          26516,
          31397,
          18300,
          26743,
          15832,
          31939,
          31037,
          22521,
          31335,
          28315,
          83437,
          42250,
          45732,
          49185,
          45826,
          36844,
          104343,
          34138,
          34761,
          32656,
          34837,
          30099,
          37088,
          41729,
          17195,
          43064,
          47510,
          52571,
          12129,
          62280,
          74859,
          59508,
          58529,
          24396,
          10317,
          37619,
          15160,
          91898,
          31198,
          15621,
          54815,
          53011,
          56255,
          100225,
          54117,
          54119,
          37655,
          101178,
          43187,
          105590,
          53903,
          73382,
          48977,
          77504,
          50871,
          107734,
          53098,
          51552,
          54692,
          18611,
          51654,
          24046,
          65184,
          37398,
          19597,
          34122,
          43651,
          15387,
          264,
          58126,
          62921,
          43279,
          117844,
          45043,
          42837,
          42782,
          24629,
          35902,
          12840,
          63933,
          100079,
          37953,
          8677,
          11583,
          14320,
          19723,
          29554,
          39309,
          34951,
          35870,
          44423,
          92982,
          36844,
          33605,
          28009,
          41366,
          98354,
          39598,
          21009,
          28880,
          28626,
          14850,
          41096,
          12748,
          14531,
          15931,
          10875,
          31172,
          16248,
          18137,
          25664,
          31026,
          41287,
          43612,
          29545,
          24303,
          29661,
          18857,
          14470,
          42364,
          37108,
          26432,
          24174,
          30756,
          32473,
          22947,
          17127,
          20793,
          32519,
          26930,
          40839,
          44732,
          19292,
          24155,
          33369,
          28918,
          21623,
          16224,
          26406,
          27790,
          19182,
          11837,
          21774,
          17738,
          27206,
          20508,
          24987,
          21273,
          23863,
          31566,
          25261,
          20628,
          48765,
          30645,
          60158,
          39985,
          39208,
          45080,
          39247,
          46382,
          39893,
          41203,
          40648,
          31551,
          38761,
          42838,
          41557,
          41136,
          41141,
          115716,
          52260,
          22041,
          83720,
          37605,
          63738,
          24143,
          1,
          28079,
          74906,
          53155,
          94258,
          65620,
          92878,
          25918,
          37830,
          13875,
          6024,
          76789,
          30409,
          44864,
          42397,
          16778,
          99767,
          34692,
          30721,
          53376,
          21282,
          81699,
          33048,
          10372,
          8889,
          59640,
          83975,
          46178,
          34460,
          30594,
          39817,
          40419,
          35493,
          37073,
          98384,
          34640,
          38760,
          34841,
          35065,
          37741,
          27488,
          37452,
          39797,
          36714,
          36207,
          38563,
          39885,
          41852,
          39454,
          40203,
          34547,
          75858,
          31123,
          33808,
          30599,
          33931,
          40359,
          44313,
          33078,
          24320,
          42502,
          33497,
          39577,
          36974,
          41220,
          1,
          41539,
          19646,
          39924,
          33279,
          40259,
          25264,
          35677,
          35511,
          33027,
          23609,
          34553,
          31594,
          32557,
          31371
         ],
         "xaxis": "x",
         "yaxis": "y"
        }
       ],
       "layout": {
        "barmode": "relative",
        "font": {
         "family": "Arial",
         "size": 12
        },
        "legend": {
         "tracegroupgap": 0
        },
        "margin": {
         "t": 60
        },
        "template": {
         "data": {
          "bar": [
           {
            "error_x": {
             "color": "#2a3f5f"
            },
            "error_y": {
             "color": "#2a3f5f"
            },
            "marker": {
             "line": {
              "color": "#E5ECF6",
              "width": 0.5
             },
             "pattern": {
              "fillmode": "overlay",
              "size": 10,
              "solidity": 0.2
             }
            },
            "type": "bar"
           }
          ],
          "barpolar": [
           {
            "marker": {
             "line": {
              "color": "#E5ECF6",
              "width": 0.5
             },
             "pattern": {
              "fillmode": "overlay",
              "size": 10,
              "solidity": 0.2
             }
            },
            "type": "barpolar"
           }
          ],
          "carpet": [
           {
            "aaxis": {
             "endlinecolor": "#2a3f5f",
             "gridcolor": "white",
             "linecolor": "white",
             "minorgridcolor": "white",
             "startlinecolor": "#2a3f5f"
            },
            "baxis": {
             "endlinecolor": "#2a3f5f",
             "gridcolor": "white",
             "linecolor": "white",
             "minorgridcolor": "white",
             "startlinecolor": "#2a3f5f"
            },
            "type": "carpet"
           }
          ],
          "choropleth": [
           {
            "colorbar": {
             "outlinewidth": 0,
             "ticks": ""
            },
            "type": "choropleth"
           }
          ],
          "contour": [
           {
            "colorbar": {
             "outlinewidth": 0,
             "ticks": ""
            },
            "colorscale": [
             [
              0,
              "#0d0887"
             ],
             [
              0.1111111111111111,
              "#46039f"
             ],
             [
              0.2222222222222222,
              "#7201a8"
             ],
             [
              0.3333333333333333,
              "#9c179e"
             ],
             [
              0.4444444444444444,
              "#bd3786"
             ],
             [
              0.5555555555555556,
              "#d8576b"
             ],
             [
              0.6666666666666666,
              "#ed7953"
             ],
             [
              0.7777777777777778,
              "#fb9f3a"
             ],
             [
              0.8888888888888888,
              "#fdca26"
             ],
             [
              1,
              "#f0f921"
             ]
            ],
            "type": "contour"
           }
          ],
          "contourcarpet": [
           {
            "colorbar": {
             "outlinewidth": 0,
             "ticks": ""
            },
            "type": "contourcarpet"
           }
          ],
          "heatmap": [
           {
            "colorbar": {
             "outlinewidth": 0,
             "ticks": ""
            },
            "colorscale": [
             [
              0,
              "#0d0887"
             ],
             [
              0.1111111111111111,
              "#46039f"
             ],
             [
              0.2222222222222222,
              "#7201a8"
             ],
             [
              0.3333333333333333,
              "#9c179e"
             ],
             [
              0.4444444444444444,
              "#bd3786"
             ],
             [
              0.5555555555555556,
              "#d8576b"
             ],
             [
              0.6666666666666666,
              "#ed7953"
             ],
             [
              0.7777777777777778,
              "#fb9f3a"
             ],
             [
              0.8888888888888888,
              "#fdca26"
             ],
             [
              1,
              "#f0f921"
             ]
            ],
            "type": "heatmap"
           }
          ],
          "heatmapgl": [
           {
            "colorbar": {
             "outlinewidth": 0,
             "ticks": ""
            },
            "colorscale": [
             [
              0,
              "#0d0887"
             ],
             [
              0.1111111111111111,
              "#46039f"
             ],
             [
              0.2222222222222222,
              "#7201a8"
             ],
             [
              0.3333333333333333,
              "#9c179e"
             ],
             [
              0.4444444444444444,
              "#bd3786"
             ],
             [
              0.5555555555555556,
              "#d8576b"
             ],
             [
              0.6666666666666666,
              "#ed7953"
             ],
             [
              0.7777777777777778,
              "#fb9f3a"
             ],
             [
              0.8888888888888888,
              "#fdca26"
             ],
             [
              1,
              "#f0f921"
             ]
            ],
            "type": "heatmapgl"
           }
          ],
          "histogram": [
           {
            "marker": {
             "pattern": {
              "fillmode": "overlay",
              "size": 10,
              "solidity": 0.2
             }
            },
            "type": "histogram"
           }
          ],
          "histogram2d": [
           {
            "colorbar": {
             "outlinewidth": 0,
             "ticks": ""
            },
            "colorscale": [
             [
              0,
              "#0d0887"
             ],
             [
              0.1111111111111111,
              "#46039f"
             ],
             [
              0.2222222222222222,
              "#7201a8"
             ],
             [
              0.3333333333333333,
              "#9c179e"
             ],
             [
              0.4444444444444444,
              "#bd3786"
             ],
             [
              0.5555555555555556,
              "#d8576b"
             ],
             [
              0.6666666666666666,
              "#ed7953"
             ],
             [
              0.7777777777777778,
              "#fb9f3a"
             ],
             [
              0.8888888888888888,
              "#fdca26"
             ],
             [
              1,
              "#f0f921"
             ]
            ],
            "type": "histogram2d"
           }
          ],
          "histogram2dcontour": [
           {
            "colorbar": {
             "outlinewidth": 0,
             "ticks": ""
            },
            "colorscale": [
             [
              0,
              "#0d0887"
             ],
             [
              0.1111111111111111,
              "#46039f"
             ],
             [
              0.2222222222222222,
              "#7201a8"
             ],
             [
              0.3333333333333333,
              "#9c179e"
             ],
             [
              0.4444444444444444,
              "#bd3786"
             ],
             [
              0.5555555555555556,
              "#d8576b"
             ],
             [
              0.6666666666666666,
              "#ed7953"
             ],
             [
              0.7777777777777778,
              "#fb9f3a"
             ],
             [
              0.8888888888888888,
              "#fdca26"
             ],
             [
              1,
              "#f0f921"
             ]
            ],
            "type": "histogram2dcontour"
           }
          ],
          "mesh3d": [
           {
            "colorbar": {
             "outlinewidth": 0,
             "ticks": ""
            },
            "type": "mesh3d"
           }
          ],
          "parcoords": [
           {
            "line": {
             "colorbar": {
              "outlinewidth": 0,
              "ticks": ""
             }
            },
            "type": "parcoords"
           }
          ],
          "pie": [
           {
            "automargin": true,
            "type": "pie"
           }
          ],
          "scatter": [
           {
            "fillpattern": {
             "fillmode": "overlay",
             "size": 10,
             "solidity": 0.2
            },
            "type": "scatter"
           }
          ],
          "scatter3d": [
           {
            "line": {
             "colorbar": {
              "outlinewidth": 0,
              "ticks": ""
             }
            },
            "marker": {
             "colorbar": {
              "outlinewidth": 0,
              "ticks": ""
             }
            },
            "type": "scatter3d"
           }
          ],
          "scattercarpet": [
           {
            "marker": {
             "colorbar": {
              "outlinewidth": 0,
              "ticks": ""
             }
            },
            "type": "scattercarpet"
           }
          ],
          "scattergeo": [
           {
            "marker": {
             "colorbar": {
              "outlinewidth": 0,
              "ticks": ""
             }
            },
            "type": "scattergeo"
           }
          ],
          "scattergl": [
           {
            "marker": {
             "colorbar": {
              "outlinewidth": 0,
              "ticks": ""
             }
            },
            "type": "scattergl"
           }
          ],
          "scattermapbox": [
           {
            "marker": {
             "colorbar": {
              "outlinewidth": 0,
              "ticks": ""
             }
            },
            "type": "scattermapbox"
           }
          ],
          "scatterpolar": [
           {
            "marker": {
             "colorbar": {
              "outlinewidth": 0,
              "ticks": ""
             }
            },
            "type": "scatterpolar"
           }
          ],
          "scatterpolargl": [
           {
            "marker": {
             "colorbar": {
              "outlinewidth": 0,
              "ticks": ""
             }
            },
            "type": "scatterpolargl"
           }
          ],
          "scatterternary": [
           {
            "marker": {
             "colorbar": {
              "outlinewidth": 0,
              "ticks": ""
             }
            },
            "type": "scatterternary"
           }
          ],
          "surface": [
           {
            "colorbar": {
             "outlinewidth": 0,
             "ticks": ""
            },
            "colorscale": [
             [
              0,
              "#0d0887"
             ],
             [
              0.1111111111111111,
              "#46039f"
             ],
             [
              0.2222222222222222,
              "#7201a8"
             ],
             [
              0.3333333333333333,
              "#9c179e"
             ],
             [
              0.4444444444444444,
              "#bd3786"
             ],
             [
              0.5555555555555556,
              "#d8576b"
             ],
             [
              0.6666666666666666,
              "#ed7953"
             ],
             [
              0.7777777777777778,
              "#fb9f3a"
             ],
             [
              0.8888888888888888,
              "#fdca26"
             ],
             [
              1,
              "#f0f921"
             ]
            ],
            "type": "surface"
           }
          ],
          "table": [
           {
            "cells": {
             "fill": {
              "color": "#EBF0F8"
             },
             "line": {
              "color": "white"
             }
            },
            "header": {
             "fill": {
              "color": "#C8D4E3"
             },
             "line": {
              "color": "white"
             }
            },
            "type": "table"
           }
          ]
         },
         "layout": {
          "annotationdefaults": {
           "arrowcolor": "#2a3f5f",
           "arrowhead": 0,
           "arrowwidth": 1
          },
          "autotypenumbers": "strict",
          "coloraxis": {
           "colorbar": {
            "outlinewidth": 0,
            "ticks": ""
           }
          },
          "colorscale": {
           "diverging": [
            [
             0,
             "#8e0152"
            ],
            [
             0.1,
             "#c51b7d"
            ],
            [
             0.2,
             "#de77ae"
            ],
            [
             0.3,
             "#f1b6da"
            ],
            [
             0.4,
             "#fde0ef"
            ],
            [
             0.5,
             "#f7f7f7"
            ],
            [
             0.6,
             "#e6f5d0"
            ],
            [
             0.7,
             "#b8e186"
            ],
            [
             0.8,
             "#7fbc41"
            ],
            [
             0.9,
             "#4d9221"
            ],
            [
             1,
             "#276419"
            ]
           ],
           "sequential": [
            [
             0,
             "#0d0887"
            ],
            [
             0.1111111111111111,
             "#46039f"
            ],
            [
             0.2222222222222222,
             "#7201a8"
            ],
            [
             0.3333333333333333,
             "#9c179e"
            ],
            [
             0.4444444444444444,
             "#bd3786"
            ],
            [
             0.5555555555555556,
             "#d8576b"
            ],
            [
             0.6666666666666666,
             "#ed7953"
            ],
            [
             0.7777777777777778,
             "#fb9f3a"
            ],
            [
             0.8888888888888888,
             "#fdca26"
            ],
            [
             1,
             "#f0f921"
            ]
           ],
           "sequentialminus": [
            [
             0,
             "#0d0887"
            ],
            [
             0.1111111111111111,
             "#46039f"
            ],
            [
             0.2222222222222222,
             "#7201a8"
            ],
            [
             0.3333333333333333,
             "#9c179e"
            ],
            [
             0.4444444444444444,
             "#bd3786"
            ],
            [
             0.5555555555555556,
             "#d8576b"
            ],
            [
             0.6666666666666666,
             "#ed7953"
            ],
            [
             0.7777777777777778,
             "#fb9f3a"
            ],
            [
             0.8888888888888888,
             "#fdca26"
            ],
            [
             1,
             "#f0f921"
            ]
           ]
          },
          "colorway": [
           "#636efa",
           "#EF553B",
           "#00cc96",
           "#ab63fa",
           "#FFA15A",
           "#19d3f3",
           "#FF6692",
           "#B6E880",
           "#FF97FF",
           "#FECB52"
          ],
          "font": {
           "color": "#2a3f5f"
          },
          "geo": {
           "bgcolor": "white",
           "lakecolor": "white",
           "landcolor": "#E5ECF6",
           "showlakes": true,
           "showland": true,
           "subunitcolor": "white"
          },
          "hoverlabel": {
           "align": "left"
          },
          "hovermode": "closest",
          "mapbox": {
           "style": "light"
          },
          "paper_bgcolor": "white",
          "plot_bgcolor": "#E5ECF6",
          "polar": {
           "angularaxis": {
            "gridcolor": "white",
            "linecolor": "white",
            "ticks": ""
           },
           "bgcolor": "#E5ECF6",
           "radialaxis": {
            "gridcolor": "white",
            "linecolor": "white",
            "ticks": ""
           }
          },
          "scene": {
           "xaxis": {
            "backgroundcolor": "#E5ECF6",
            "gridcolor": "white",
            "gridwidth": 2,
            "linecolor": "white",
            "showbackground": true,
            "ticks": "",
            "zerolinecolor": "white"
           },
           "yaxis": {
            "backgroundcolor": "#E5ECF6",
            "gridcolor": "white",
            "gridwidth": 2,
            "linecolor": "white",
            "showbackground": true,
            "ticks": "",
            "zerolinecolor": "white"
           },
           "zaxis": {
            "backgroundcolor": "#E5ECF6",
            "gridcolor": "white",
            "gridwidth": 2,
            "linecolor": "white",
            "showbackground": true,
            "ticks": "",
            "zerolinecolor": "white"
           }
          },
          "shapedefaults": {
           "line": {
            "color": "#2a3f5f"
           }
          },
          "ternary": {
           "aaxis": {
            "gridcolor": "white",
            "linecolor": "white",
            "ticks": ""
           },
           "baxis": {
            "gridcolor": "white",
            "linecolor": "white",
            "ticks": ""
           },
           "bgcolor": "#E5ECF6",
           "caxis": {
            "gridcolor": "white",
            "linecolor": "white",
            "ticks": ""
           }
          },
          "title": {
           "x": 0.05
          },
          "xaxis": {
           "automargin": true,
           "gridcolor": "white",
           "linecolor": "white",
           "ticks": "",
           "title": {
            "standoff": 15
           },
           "zerolinecolor": "white",
           "zerolinewidth": 2
          },
          "yaxis": {
           "automargin": true,
           "gridcolor": "white",
           "linecolor": "white",
           "ticks": "",
           "title": {
            "standoff": 15
           },
           "zerolinecolor": "white",
           "zerolinewidth": 2
          }
         }
        },
        "xaxis": {
         "anchor": "y",
         "domain": [
          0,
          1
         ],
         "linecolor": "black",
         "linewidth": 2,
         "showgrid": false,
         "showline": false,
         "ticks": "outside",
         "title": {
          "text": "Mileage"
         }
        },
        "yaxis": {
         "anchor": "x",
         "domain": [
          0,
          1
         ],
         "linecolor": "black",
         "linewidth": 1,
         "showgrid": false,
         "showline": false,
         "title": {
          "text": "Count"
         }
        }
       }
      },
      "text/html": [
       "<div>                            <div id=\"44f124b1-eb23-4519-8d14-17fea02eb2c6\" class=\"plotly-graph-div\" style=\"height:525px; width:100%;\"></div>            <script type=\"text/javascript\">                require([\"plotly\"], function(Plotly) {                    window.PLOTLYENV=window.PLOTLYENV || {};                                    if (document.getElementById(\"44f124b1-eb23-4519-8d14-17fea02eb2c6\")) {                    Plotly.newPlot(                        \"44f124b1-eb23-4519-8d14-17fea02eb2c6\",                        [{\"alignmentgroup\":\"True\",\"bingroup\":\"x\",\"hovertemplate\":\"mileage=%{x}<br>count=%{y}<extra></extra>\",\"legendgroup\":\"\",\"marker\":{\"color\":\"#636efa\",\"pattern\":{\"shape\":\"\"}},\"name\":\"\",\"nbinsx\":15,\"offsetgroup\":\"\",\"orientation\":\"v\",\"showlegend\":false,\"x\":[39590.0,64146.0,6654.0,45561.0,23525.0,9371.0,63418.0,107856.0,39650.0,22909.0,100757.0,25747.0,46194.0,20002.0,35714.0,54380.0,30114.0,38823.0,61578.0,46010.0,105510.0,28040.0,11451.0,31039.0,44174.0,93698.0,26364.0,71967.0,46226.0,37792.0,58817.0,27965.0,110907.0,2430.0,32366.0,30049.0,97983.0,30442.0,38123.0,28972.0,30061.0,18414.0,46829.0,39886.0,31594.0,32107.0,44794.0,42648.0,39165.0,38355.0,46766.0,2473.0,38586.0,27842.0,31156.0,52435.0,29942.0,25281.0,32504.0,28649.0,35200.0,25602.0,34801.0,31009.0,35595.0,23765.0,31792.0,33135.0,30636.0,34502.0,25434.0,36732.0,41792.0,31992.0,32501.0,28395.0,36139.0,84413.0,33457.0,29245.0,12783.0,17617.0,36855.0,110316.0,88227.0,17626.0,120353.0,3641.0,39333.0,42930.0,24993.0,44929.0,16971.0,35598.0,40455.0,23164.0,19011.0,45191.0,21405.0,19117.0,42104.0,49496.0,32418.0,29882.0,34819.0,31923.0,29168.0,28307.0,33791.0,21770.0,18375.0,14158.0,30318.0,48086.0,26562.0,57611.0,47357.0,84916.0,24521.0,35888.0,59537.0,55222.0,32870.0,39687.0,47085.0,32224.0,51293.0,42989.0,31311.0,46091.0,49033.0,33957.0,19845.0,38910.0,31234.0,36767.0,57932.0,19420.0,93493.0,20942.0,86826.0,45787.0,50765.0,62774.0,76326.0,39029.0,72885.0,46467.0,6743.0,33514.0,39917.0,32504.0,77638.0,31727.0,52966.0,24157.0,51393.0,35461.0,47055.0,33110.0,39721.0,75785.0,33624.0,42289.0,79422.0,28844.0,66582.0,61436.0,58303.0,55618.0,33045.0,40747.0,26667.0,37176.0,18006.0,72445.0,44116.0,60219.0,32058.0,33928.0,90618.0,109360.0,71809.0,31563.0,42090.0,7232.0,60171.0,13826.0,55854.0,45757.0,16545.0,112893.0,13303.0,34061.0,70251.0,13679.0,42426.0,66452.0,18221.0,41455.0,35275.0,13885.0,38815.0,56479.0,61027.0,37321.0,112789.0,80394.0,68142.0,74203.0,57604.0,87229.0,90711.0,11135.0,66781.0,56007.0,32486.0,18020.0,83262.0,62015.0,36421.0,73321.0,28013.0,33291.0,43176.0,36876.0,111782.0,110489.0,84035.0,52521.0,101380.0,111476.0,76897.0,15780.0,31944.0,18937.0,9706.0,57289.0,19956.0,6075.0,21034.0,22881.0,37252.0,27601.0,15958.0,32251.0,25809.0,30553.0,26549.0,15854.0,56690.0,97142.0,10185.0,23514.0,86959.0,67279.0,16482.0,35687.0,17911.0,21278.0,47269.0,26914.0,67217.0,78698.0,41961.0,13273.0,31713.0,50732.0,52904.0,14195.0,43965.0,112182.0,49024.0,35821.0,1.0,32611.0,105244.0,46955.0,70443.0,1.0,18229.0,87673.0,42941.0,104405.0,57186.0,59808.0,1.0,20681.0,102700.0,53270.0,27195.0,20849.0,67347.0,117400.0,1.0,47798.0,19490.0,12038.0,43536.0,100893.0,90304.0,31394.0,25933.0,118250.0,46060.0,50593.0,62387.0,72527.0,17243.0,82899.0,76418.0,71404.0,30382.0,82534.0,83623.0,108895.0,33542.0,74754.0,115241.0,41577.0,109027.0,72732.0,77984.0,23177.0,26911.0,56461.0,95128.0,26786.0,35623.0,14541.0,36739.0,42616.0,65833.0,36122.0,88359.0,35905.0,35747.0,105020.0,11047.0,31233.0,19427.0,71991.0,29043.0,36064.0,47213.0,116480.0,72084.0,11396.0,33785.0,20103.0,32387.0,48140.0,34861.0,114119.0,34165.0,27442.0,11394.0,30546.0,23745.0,88274.0,38349.0,30142.0,44730.0,92476.0,25698.0,54332.0,119215.0,8930.0,46985.0,30220.0,37021.0,43152.0,34318.0,88287.0,105486.0,19850.0,116535.0,15777.0,87448.0,8395.0,30121.0,33687.0,37561.0,32256.0,25255.0,118009.0,114547.0,18647.0,16669.0,47970.0,12905.0,22123.0,40780.0,36596.0,30421.0,17355.0,27773.0,58366.0,11229.0,27492.0,41654.0,31954.0,93423.0,14053.0,25956.0,12253.0,34895.0,47753.0,39408.0,33599.0,28464.0,16702.0,11449.0,25847.0,49772.0,83915.0,40306.0,69622.0,36295.0,14856.0,44129.0,10861.0,82411.0,111612.0,35251.0,50408.0,15630.0,53273.0,14786.0,85315.0,16146.0,76211.0,15265.0,79965.0,16059.0,62739.0,15569.0,58932.0,17488.0,60733.0,18550.0,53194.0,17644.0,34454.0,17684.0,83279.0,16600.0,107971.0,17801.0,94150.0,17159.0,80711.0,17983.0,119981.0,17851.0,66079.0,18174.0,7654.0,18759.0,11564.0,18901.0,86541.0,21157.0,29937.0,23964.0,58504.0,20154.0,63500.0,23294.0,24293.0,20343.0,19655.0,19100.0,20014.0,21774.0,21201.0,21766.0,12406.0,17977.0,22805.0,16013.0,14382.0,9660.0,18969.0,24730.0,15847.0,25009.0,22115.0,11836.0,23765.0,25508.0,18196.0,16106.0,14907.0,12735.0,53424.0,17940.0,17417.0,37125.0,61428.0,17025.0,37668.0,15805.0,43761.0,11342.0,35664.0,12780.0,38458.0,34420.0,46497.0,21268.0,31029.0,40878.0,20270.0,32984.0,75506.0,39951.0,4445.0,67527.0,33588.0,10103.0,26474.0,40253.0,39624.0,48705.0,19659.0,91299.0,81614.0,179.0,5523.0,29841.0,8516.0,42941.0,27498.0,31141.0,20784.0,52667.0,26003.0,32332.0,44333.0,36198.0,33331.0,43082.0,24561.0,13485.0,15524.0,8996.0,47282.0,34470.0,87264.0,114344.0,111635.0,103955.0,66640.0,46915.0,53599.0,41672.0,36047.0,42561.0,40345.0,41751.0,27593.0,24009.0,85697.0,25223.0,27927.0,55532.0,72172.0,57751.0,96314.0,89152.0,114660.0,36423.0,23759.0,120667.0,65344.0,51347.0,52322.0,67620.0,59965.0,28739.0,77429.0,20847.0,44280.0,86031.0,7622.0,8067.0,16502.0,20681.0,54655.0,57825.0,58856.0,85072.0,79506.0,85301.0,69377.0,15577.0,23470.0,18715.0,61258.0,35705.0,48982.0,33745.0,42267.0,46863.0,36443.0,14939.0,22026.0,38278.0,46149.0,48427.0,48807.0,52618.0,46494.0,56296.0,33909.0,33028.0,44653.0,80516.0,105151.0,78368.0,78956.0,88564.0,78800.0,111856.0,80946.0,83168.0,58606.0,82020.0,102500.0,8150.0,6159.0,5938.0,9019.0,45836.0,60215.0,90944.0,82785.0,112267.0,82543.0,13532.0,14751.0,11150.0,91248.0,65336.0,48974.0,40011.0,37444.0,43199.0,43589.0,32870.0,38826.0,33739.0,35309.0,32248.0,36165.0,29922.0,26848.0,41163.0,32856.0,100315.0,91638.0,83173.0,94356.0,85792.0,27665.0,25427.0,78198.0,13886.0,34538.0,20575.0,26026.0,99015.0,27327.0,30229.0,43294.0,54309.0,52822.0,45554.0,37538.0,35153.0,23783.0,30759.0,38922.0,19235.0,9445.0,19164.0,54106.0,32051.0,14870.0,32294.0,7250.0,10145.0,59924.0,21304.0,52079.0,54960.0,80099.0,23987.0,84144.0,85639.0,50193.0,74392.0,76117.0,36358.0,90685.0,54141.0,82240.0,66167.0,24722.0,41198.0,26353.0,28280.0,15340.0,12265.0,94872.0,17946.0,26996.0,5775.0,6748.0,38128.0,41636.0,5359.0,70296.0,11346.0,107593.0,50639.0,6530.0,19636.0,41748.0,13162.0,32937.0,23095.0,34432.0,48162.0,68310.0,48000.0,105962.0,96575.0,13239.0,24934.0,46859.0,44468.0,62230.0,37082.0,23964.0,11204.0,7608.0,49982.0,4950.0,111628.0,15927.0,36299.0,28469.0,29086.0,35991.0,62224.0,86500.0,19636.0,34272.0,42909.0,55749.0,89142.0,20328.0,28551.0,35098.0,35365.0,88398.0,27957.0,30161.0,26292.0,25780.0,25032.0,72248.0,30630.0,86125.0,30408.0,35443.0,95377.0,32724.0,45089.0,35948.0,41601.0,26370.0,18271.0,9476.0,80899.0,57394.0,42190.0,22591.0,48681.0,42621.0,27761.0,107768.0,14355.0,9467.0,18313.0,19506.0,14750.0,11280.0,13944.0,26922.0,12690.0,74975.0,28289.0,38041.0,52386.0,34391.0,39515.0,22074.0,28782.0,30092.0,26443.0,28981.0,32865.0,117258.0,16397.0,16176.0,1091.0,17472.0,10341.0,19695.0,51041.0,22646.0,18138.0,23987.0,17160.0,26929.0,25815.0,81992.0,5000.0,62683.0,107224.0,35153.0,26474.0,30943.0,17154.0,79637.0,12123.0,107822.0,10221.0,95278.0,13457.0,69936.0,13520.0,96922.0,72594.0,17896.0,11088.0,29567.0,15655.0,26428.0,29003.0,32229.0,26503.0,15446.0,23369.0,8767.0,48319.0,15275.0,33826.0,16679.0,26184.0,21203.0,17870.0,17909.0,41126.0,14098.0,15003.0,29105.0,34794.0,20034.0,46942.0,14753.0,14359.0,34922.0,20944.0,9877.0,8949.0,13627.0,18291.0,38029.0,32593.0,37352.0,23030.0,30671.0,79544.0,15027.0,29115.0,93604.0,100203.0,35401.0,20279.0,26090.0,107924.0,14906.0,34407.0,18049.0,18132.0,109176.0,25456.0,38375.0,39792.0,30403.0,28252.0,31904.0,24336.0,23961.0,22919.0,22863.0,38817.0,48854.0,27288.0,5284.0,99988.0,84109.0,88539.0,33739.0,101017.0,13906.0,20601.0,23421.0,21309.0,10350.0,8605.0,10170.0,22272.0,101906.0,27019.0,10930.0,73552.0,37107.0,36993.0,67133.0,33580.0,94140.0,10447.0,10229.0,6269.0,98699.0,10631.0,44381.0,13960.0,14051.0,20800.0,8873.0,15502.0,9669.0,50873.0,14117.0,46820.0,7247.0,40991.0,9023.0,8047.0,41014.0,20907.0,89795.0,57158.0,83976.0,12554.0,60707.0,40110.0,28038.0,26643.0,36127.0,19983.0,29926.0,36750.0,27312.0,49575.0,30279.0,25825.0,32474.0,30585.0,36203.0,29602.0,28689.0,31447.0,39148.0,33495.0,35274.0,48745.0,31297.0,38745.0,37704.0,27060.0,40002.0,34930.0,22863.0,36876.0,34264.0,17515.0,27071.0,14656.0,35652.0,30055.0,43088.0,33641.0,34797.0,43943.0,35744.0,31542.0,26899.0,29985.0,37009.0,30731.0,30062.0,28295.0,25534.0,29716.0,34294.0,27643.0,35516.0,40674.0,32494.0,35047.0,32898.0,13740.0,23132.0,37174.0,34023.0,30021.0,51469.0,31237.0,30186.0,41956.0,30727.0,38956.0,22036.0,26462.0,23143.0,17340.0,29749.0,35248.0,40417.0,30309.0,42303.0,35326.0,92100.0,99375.0,72418.0,29733.0,119439.0,54396.0,91606.0,2807.0,78739.0,71955.0,48472.0,98470.0,28937.0,83693.0,90888.0,39943.0,5920.0,71478.0,119520.0,10882.0,29010.0,69003.0,16207.0,29748.0,25582.0,24520.0,104383.0,34164.0,6975.0,67150.0,100820.0,60015.0,64598.0,111532.0,43567.0,36004.0,10935.0,19363.0,42902.0,401.0,11077.0,34100.0,30018.0,18279.0,7373.0,2590.0,41662.0,15019.0,9420.0,41864.0,16829.0,6290.0,14599.0,25839.0,60715.0,23350.0,62386.0,6248.0,878.0,49710.0,2042.0,7742.0,39733.0,33701.0,67542.0,35095.0,8652.0,51107.0,14987.0,28252.0,16009.0,47866.0,11004.0,42895.0,9490.0,39027.0,13466.0,8737.0,23960.0,5562.0,13763.0,10444.0,41696.0,15787.0,9167.0,17541.0,15210.0,54601.0,35691.0,32788.0,42925.0,37385.0,15415.0,20047.0,16884.0,57936.0,15244.0,19842.0,38830.0,31899.0,69305.0,46098.0,29457.0,30765.0,29096.0,40437.0,69004.0,65179.0,75862.0,68319.0,80354.0,51441.0,70954.0,92500.0,66367.0,26484.0,28007.0,11251.0,10763.0,26451.0,43646.0,71989.0,95386.0,23740.0,36064.0,18805.0,10099.0,9800.0,10483.0,17544.0,10167.0,11457.0,26590.0,35346.0,12953.0,26693.0,25071.0,33538.0,9915.0,1.0,9910.0,16765.0,40785.0,108998.0,58576.0,55475.0,35929.0,21669.0,16079.0,41147.0,45798.0,21703.0,22284.0,24567.0,30594.0,52747.0,21592.0,25201.0,10351.0,1117.0,37279.0,30113.0,27570.0,45188.0,25030.0,105743.0,9861.0,1751.0,52883.0,122.0,28534.0,80699.0,72851.0,24078.0,38639.0,31871.0,76876.0,28070.0,3189.0,28359.0,42890.0,29328.0,47531.0,57345.0,67546.0,18153.0,63445.0,26422.0,18767.0,38289.0,22960.0,17263.0,13058.0,45887.0,21740.0,17707.0,19121.0,18856.0,84752.0,19555.0,16340.0,17242.0,28733.0,16019.0,75580.0,113444.0,19227.0,13633.0,37739.0,103541.0,24072.0,17657.0,77392.0,11930.0,15581.0,70181.0,16143.0,23926.0,57929.0,10028.0,21051.0,105880.0,102590.0,27612.0,90855.0,19936.0,64495.0,39477.0,25698.0,73849.0,25422.0,47866.0,31236.0,26755.0,49177.0,15003.0,12247.0,1.0,10808.0,11263.0,42307.0,17484.0,37106.0,9539.0,2384.0,20590.0,13896.0,9451.0,31657.0,33907.0,10028.0,30770.0,15141.0,18431.0,9604.0,9516.0,9718.0,16506.0,11028.0,11313.0,12886.0,9556.0,13269.0,16770.0,13526.0,16391.0,11437.0,17964.0,5440.0,13035.0,15759.0,30002.0,13673.0,24480.0,13230.0,13516.0,81660.0,11763.0,34165.0,13458.0,104867.0,14004.0,69829.0,13405.0,96151.0,12688.0,116519.0,12260.0,29367.0,18982.0,23795.0,76572.0,15964.0,28117.0,116730.0,21055.0,27794.0,56995.0,16625.0,27689.0,39851.0,31727.0,31586.0,33717.0,18418.0,39013.0,21346.0,21150.0,103862.0,22001.0,31261.0,14358.0,41672.0,95655.0,19493.0,36956.0,13085.0,36124.0,19147.0,24993.0,41127.0,32365.0,27774.0,105027.0,27806.0,54198.0,30181.0,82670.0,36305.0,10475.0,34734.0,12928.0,116539.0,59549.0,12174.0,96129.0,89809.0,18202.0,43527.0,15792.0,9278.0,41925.0,16924.0,119869.0,17260.0,89490.0,40772.0,25623.0,11669.0,13644.0,44456.0,20357.0,66366.0,43532.0,45218.0,85688.0,58902.0,59869.0,35021.0,100264.0,23222.0,87686.0,32526.0,69402.0,76336.0,47628.0,74181.0,77386.0,109600.0,110826.0,12198.0,45512.0,15656.0,23984.0,15821.0,12748.0,17858.0,6711.0,15820.0,6140.0,25552.0,54984.0,24783.0,34191.0,82072.0,104559.0,13265.0,22458.0,70106.0,23712.0,101848.0,14994.0,59726.0,16448.0,28801.0,28938.0,19022.0,93832.0,25046.0,22318.0,17301.0,27413.0,39733.0,74195.0,44383.0,19151.0,2452.0,36252.0,27136.0,35951.0,35221.0,33808.0,32022.0,34173.0,24272.0,19055.0,34822.0,15422.0,24765.0,23019.0,38243.0,16509.0,18762.0,28854.0,17392.0,13558.0,27082.0,17510.0,24662.0,96076.0,22858.0,740.0,110748.0,25090.0,7.0,34277.0,99923.0,39170.0,80612.0,36616.0,92165.0,44778.0,2089.0,91652.0,35801.0,88781.0,36978.0,35233.0,37044.0,15835.0,41928.0,37059.0,33763.0,29850.0,26675.0,17828.0,29632.0,11544.0,21976.0,43617.0,49254.0,51589.0,41399.0,11734.0,41628.0,15075.0,26591.0,22906.0,33462.0,32747.0,33717.0,85218.0,23512.0,57853.0,33324.0,23803.0,31260.0,69428.0,15755.0,90946.0,51370.0,99941.0,15456.0,2382.0,99544.0,21546.0,16293.0,40375.0,363.0,59656.0,37878.0,20628.0,71205.0,26186.0,38157.0,30325.0,31561.0,66655.0,19029.0,11739.0,50423.0,25638.0,59798.0,32284.0,40371.0,107569.0,96451.0,94851.0,108727.0,91979.0,76258.0,104764.0,16934.0,13822.0,5250.0,33451.0,14291.0,16725.0,13002.0,18902.0,9732.0,18947.0,8402.0,17450.0,53986.0,15848.0,10770.0,14587.0,98625.0,10916.0,107173.0,10134.0,43056.0,10655.0,14231.0,8985.0,84338.0,104290.0,45592.0,103960.0,110333.0,49094.0,97526.0,87420.0,67052.0,58913.0,14482.0,57084.0,90251.0,97320.0,80652.0,99816.0,115429.0,85549.0,83030.0,80090.0,118593.0,53507.0,48408.0,109672.0,28549.0,114500.0,67140.0,42168.0,80032.0,52240.0,34874.0,119689.0,37355.0,100947.0,26040.0,36638.0,31794.0,42291.0,13155.0,18454.0,16694.0,28922.0,23534.0,24581.0,35646.0,28669.0,32454.0,21800.0,23796.0,42506.0,6249.0,47496.0,10700.0,39604.0,7275.0,8806.0,105115.0,57340.0,36167.0,44941.0,53102.0,26637.0,45814.0,17310.0,24116.0,14128.0,49882.0,38964.0,102705.0,98620.0,15825.0,100255.0,16956.0,36896.0,77281.0,24795.0,16771.0,28692.0,113821.0,19793.0,27940.0,24987.0,18367.0,14109.0,27369.0,30208.0,24024.0,64999.0,8404.0,8884.0,24126.0,31713.0,109996.0,6821.0,17867.0,110253.0,39364.0,4018.0,21054.0,48309.0,68666.0,34071.0,13600.0,44956.0,72607.0,33815.0,31491.0,32149.0,26654.0,36637.0,17000.0,15960.0,40774.0,40338.0,40505.0,30735.0,33965.0,7339.0,42470.0,40670.0,41233.0,13162.0,38744.0,14023.0,9741.0,31017.0,37786.0,32415.0,10421.0,29305.0,51309.0,38001.0,18849.0,43269.0,36989.0,29320.0,34244.0,32938.0,40793.0,94741.0,25011.0,6881.0,80423.0,15436.0,104665.0,16194.0,48188.0,65164.0,35930.0,13674.0,9235.0,103002.0,12836.0,6921.0,14359.0,58118.0,31124.0,25734.0,14059.0,13472.0,35023.0,39509.0,4512.0,51884.0,4181.0,56703.0,4712.0,102800.0,7109.0,100943.0,3915.0,15550.0,62542.0,38370.0,671.0,61477.0,73891.0,82564.0,85649.0,48374.0,11990.0,64111.0,28771.0,27165.0,106546.0,54778.0,11729.0,85197.0,19130.0,72369.0,59646.0,68418.0,8400.0,45084.0,67037.0,64135.0,72377.0,39367.0,46540.0,40677.0,69438.0,96246.0,69719.0,75933.0,54325.0,24902.0,31793.0,74361.0,27868.0,34011.0,19993.0,48115.0,67091.0,28790.0,59391.0,71824.0,39159.0,18708.0,79430.0,12393.0,56329.0,12155.0,63291.0,36041.0,25810.0,23878.0,15460.0,46710.0,65342.0,64061.0,93164.0,35629.0,118483.0,71573.0,33660.0,61168.0,42241.0,21004.0,45003.0,45278.0,1.0,24747.0,48707.0,50874.0,70727.0,29382.0,33194.0,52084.0,51122.0,40286.0,55420.0,10282.0,85278.0,7258.0,93350.0,37166.0,69480.0,34679.0,24151.0,32796.0,67979.0,18690.0,78072.0,54251.0,32262.0,92358.0,90740.0,35225.0,49985.0,52340.0,21406.0,16619.0,41293.0,37053.0,34532.0,13328.0,56836.0,48080.0,12271.0,97318.0,12717.0,12764.0,19951.0,32458.0,21616.0,17755.0,73846.0,15771.0,29168.0,15296.0,30476.0,26095.0,22107.0,31207.0,112810.0,19058.0,109137.0,24058.0,6967.0,118340.0,36145.0,33942.0,38868.0,36190.0,37177.0,39267.0,33350.0,57889.0,34081.0,26821.0,40577.0,52355.0,30620.0,22019.0,36742.0,32473.0,43406.0,34696.0,43519.0,37716.0,41627.0,29986.0,41496.0,20613.0,33475.0,32305.0,38148.0,39976.0,50513.0,31408.0,41351.0,32038.0,38279.0,30471.0,41569.0,31142.0,31598.0,31380.0,22179.0,29266.0,42156.0,30875.0,30609.0,29508.0,12837.0,29633.0,27461.0,32154.0,29345.0,30054.0,11173.0,30902.0,31231.0,10728.0,35374.0,36715.0,33437.0,36788.0,35491.0,33644.0,35831.0,35050.0,34924.0,34962.0,39985.0,38816.0,41579.0,40455.0,39996.0,41077.0,39183.0,40478.0,38806.0,45331.0,43531.0,41033.0,40332.0,22319.0,22305.0,36996.0,1.0,27611.0,26516.0,31397.0,18300.0,26743.0,15832.0,31939.0,31037.0,22521.0,31335.0,28315.0,83437.0,42250.0,45732.0,49185.0,45826.0,36844.0,104343.0,34138.0,34761.0,32656.0,34837.0,30099.0,37088.0,41729.0,17195.0,43064.0,47510.0,52571.0,12129.0,62280.0,74859.0,59508.0,58529.0,24396.0,10317.0,37619.0,15160.0,91898.0,31198.0,15621.0,54815.0,53011.0,56255.0,100225.0,54117.0,54119.0,37655.0,101178.0,43187.0,105590.0,53903.0,73382.0,48977.0,77504.0,50871.0,107734.0,53098.0,51552.0,54692.0,18611.0,51654.0,24046.0,65184.0,37398.0,19597.0,34122.0,43651.0,15387.0,264.0,58126.0,62921.0,43279.0,117844.0,45043.0,42837.0,42782.0,24629.0,35902.0,12840.0,63933.0,100079.0,37953.0,8677.0,11583.0,14320.0,19723.0,29554.0,39309.0,34951.0,35870.0,44423.0,92982.0,36844.0,33605.0,28009.0,41366.0,98354.0,39598.0,21009.0,28880.0,28626.0,14850.0,41096.0,12748.0,14531.0,15931.0,10875.0,31172.0,16248.0,18137.0,25664.0,31026.0,41287.0,43612.0,29545.0,24303.0,29661.0,18857.0,14470.0,42364.0,37108.0,26432.0,24174.0,30756.0,32473.0,22947.0,17127.0,20793.0,32519.0,26930.0,40839.0,44732.0,19292.0,24155.0,33369.0,28918.0,21623.0,16224.0,26406.0,27790.0,19182.0,11837.0,21774.0,17738.0,27206.0,20508.0,24987.0,21273.0,23863.0,31566.0,25261.0,20628.0,48765.0,30645.0,60158.0,39985.0,39208.0,45080.0,39247.0,46382.0,39893.0,41203.0,40648.0,31551.0,38761.0,42838.0,41557.0,41136.0,41141.0,115716.0,52260.0,22041.0,83720.0,37605.0,63738.0,24143.0,1.0,28079.0,74906.0,53155.0,94258.0,65620.0,92878.0,25918.0,37830.0,13875.0,6024.0,76789.0,30409.0,44864.0,42397.0,16778.0,99767.0,34692.0,30721.0,53376.0,21282.0,81699.0,33048.0,10372.0,8889.0,59640.0,83975.0,46178.0,34460.0,30594.0,39817.0,40419.0,35493.0,37073.0,98384.0,34640.0,38760.0,34841.0,35065.0,37741.0,27488.0,37452.0,39797.0,36714.0,36207.0,38563.0,39885.0,41852.0,39454.0,40203.0,34547.0,75858.0,31123.0,33808.0,30599.0,33931.0,40359.0,44313.0,33078.0,24320.0,42502.0,33497.0,39577.0,36974.0,41220.0,1.0,41539.0,19646.0,39924.0,33279.0,40259.0,25264.0,35677.0,35511.0,33027.0,23609.0,34553.0,31594.0,32557.0,31371.0],\"xaxis\":\"x\",\"yaxis\":\"y\",\"type\":\"histogram\"}],                        {\"template\":{\"data\":{\"histogram2dcontour\":[{\"type\":\"histogram2dcontour\",\"colorbar\":{\"outlinewidth\":0,\"ticks\":\"\"},\"colorscale\":[[0.0,\"#0d0887\"],[0.1111111111111111,\"#46039f\"],[0.2222222222222222,\"#7201a8\"],[0.3333333333333333,\"#9c179e\"],[0.4444444444444444,\"#bd3786\"],[0.5555555555555556,\"#d8576b\"],[0.6666666666666666,\"#ed7953\"],[0.7777777777777778,\"#fb9f3a\"],[0.8888888888888888,\"#fdca26\"],[1.0,\"#f0f921\"]]}],\"choropleth\":[{\"type\":\"choropleth\",\"colorbar\":{\"outlinewidth\":0,\"ticks\":\"\"}}],\"histogram2d\":[{\"type\":\"histogram2d\",\"colorbar\":{\"outlinewidth\":0,\"ticks\":\"\"},\"colorscale\":[[0.0,\"#0d0887\"],[0.1111111111111111,\"#46039f\"],[0.2222222222222222,\"#7201a8\"],[0.3333333333333333,\"#9c179e\"],[0.4444444444444444,\"#bd3786\"],[0.5555555555555556,\"#d8576b\"],[0.6666666666666666,\"#ed7953\"],[0.7777777777777778,\"#fb9f3a\"],[0.8888888888888888,\"#fdca26\"],[1.0,\"#f0f921\"]]}],\"heatmap\":[{\"type\":\"heatmap\",\"colorbar\":{\"outlinewidth\":0,\"ticks\":\"\"},\"colorscale\":[[0.0,\"#0d0887\"],[0.1111111111111111,\"#46039f\"],[0.2222222222222222,\"#7201a8\"],[0.3333333333333333,\"#9c179e\"],[0.4444444444444444,\"#bd3786\"],[0.5555555555555556,\"#d8576b\"],[0.6666666666666666,\"#ed7953\"],[0.7777777777777778,\"#fb9f3a\"],[0.8888888888888888,\"#fdca26\"],[1.0,\"#f0f921\"]]}],\"heatmapgl\":[{\"type\":\"heatmapgl\",\"colorbar\":{\"outlinewidth\":0,\"ticks\":\"\"},\"colorscale\":[[0.0,\"#0d0887\"],[0.1111111111111111,\"#46039f\"],[0.2222222222222222,\"#7201a8\"],[0.3333333333333333,\"#9c179e\"],[0.4444444444444444,\"#bd3786\"],[0.5555555555555556,\"#d8576b\"],[0.6666666666666666,\"#ed7953\"],[0.7777777777777778,\"#fb9f3a\"],[0.8888888888888888,\"#fdca26\"],[1.0,\"#f0f921\"]]}],\"contourcarpet\":[{\"type\":\"contourcarpet\",\"colorbar\":{\"outlinewidth\":0,\"ticks\":\"\"}}],\"contour\":[{\"type\":\"contour\",\"colorbar\":{\"outlinewidth\":0,\"ticks\":\"\"},\"colorscale\":[[0.0,\"#0d0887\"],[0.1111111111111111,\"#46039f\"],[0.2222222222222222,\"#7201a8\"],[0.3333333333333333,\"#9c179e\"],[0.4444444444444444,\"#bd3786\"],[0.5555555555555556,\"#d8576b\"],[0.6666666666666666,\"#ed7953\"],[0.7777777777777778,\"#fb9f3a\"],[0.8888888888888888,\"#fdca26\"],[1.0,\"#f0f921\"]]}],\"surface\":[{\"type\":\"surface\",\"colorbar\":{\"outlinewidth\":0,\"ticks\":\"\"},\"colorscale\":[[0.0,\"#0d0887\"],[0.1111111111111111,\"#46039f\"],[0.2222222222222222,\"#7201a8\"],[0.3333333333333333,\"#9c179e\"],[0.4444444444444444,\"#bd3786\"],[0.5555555555555556,\"#d8576b\"],[0.6666666666666666,\"#ed7953\"],[0.7777777777777778,\"#fb9f3a\"],[0.8888888888888888,\"#fdca26\"],[1.0,\"#f0f921\"]]}],\"mesh3d\":[{\"type\":\"mesh3d\",\"colorbar\":{\"outlinewidth\":0,\"ticks\":\"\"}}],\"scatter\":[{\"fillpattern\":{\"fillmode\":\"overlay\",\"size\":10,\"solidity\":0.2},\"type\":\"scatter\"}],\"parcoords\":[{\"type\":\"parcoords\",\"line\":{\"colorbar\":{\"outlinewidth\":0,\"ticks\":\"\"}}}],\"scatterpolargl\":[{\"type\":\"scatterpolargl\",\"marker\":{\"colorbar\":{\"outlinewidth\":0,\"ticks\":\"\"}}}],\"bar\":[{\"error_x\":{\"color\":\"#2a3f5f\"},\"error_y\":{\"color\":\"#2a3f5f\"},\"marker\":{\"line\":{\"color\":\"#E5ECF6\",\"width\":0.5},\"pattern\":{\"fillmode\":\"overlay\",\"size\":10,\"solidity\":0.2}},\"type\":\"bar\"}],\"scattergeo\":[{\"type\":\"scattergeo\",\"marker\":{\"colorbar\":{\"outlinewidth\":0,\"ticks\":\"\"}}}],\"scatterpolar\":[{\"type\":\"scatterpolar\",\"marker\":{\"colorbar\":{\"outlinewidth\":0,\"ticks\":\"\"}}}],\"histogram\":[{\"marker\":{\"pattern\":{\"fillmode\":\"overlay\",\"size\":10,\"solidity\":0.2}},\"type\":\"histogram\"}],\"scattergl\":[{\"type\":\"scattergl\",\"marker\":{\"colorbar\":{\"outlinewidth\":0,\"ticks\":\"\"}}}],\"scatter3d\":[{\"type\":\"scatter3d\",\"line\":{\"colorbar\":{\"outlinewidth\":0,\"ticks\":\"\"}},\"marker\":{\"colorbar\":{\"outlinewidth\":0,\"ticks\":\"\"}}}],\"scattermapbox\":[{\"type\":\"scattermapbox\",\"marker\":{\"colorbar\":{\"outlinewidth\":0,\"ticks\":\"\"}}}],\"scatterternary\":[{\"type\":\"scatterternary\",\"marker\":{\"colorbar\":{\"outlinewidth\":0,\"ticks\":\"\"}}}],\"scattercarpet\":[{\"type\":\"scattercarpet\",\"marker\":{\"colorbar\":{\"outlinewidth\":0,\"ticks\":\"\"}}}],\"carpet\":[{\"aaxis\":{\"endlinecolor\":\"#2a3f5f\",\"gridcolor\":\"white\",\"linecolor\":\"white\",\"minorgridcolor\":\"white\",\"startlinecolor\":\"#2a3f5f\"},\"baxis\":{\"endlinecolor\":\"#2a3f5f\",\"gridcolor\":\"white\",\"linecolor\":\"white\",\"minorgridcolor\":\"white\",\"startlinecolor\":\"#2a3f5f\"},\"type\":\"carpet\"}],\"table\":[{\"cells\":{\"fill\":{\"color\":\"#EBF0F8\"},\"line\":{\"color\":\"white\"}},\"header\":{\"fill\":{\"color\":\"#C8D4E3\"},\"line\":{\"color\":\"white\"}},\"type\":\"table\"}],\"barpolar\":[{\"marker\":{\"line\":{\"color\":\"#E5ECF6\",\"width\":0.5},\"pattern\":{\"fillmode\":\"overlay\",\"size\":10,\"solidity\":0.2}},\"type\":\"barpolar\"}],\"pie\":[{\"automargin\":true,\"type\":\"pie\"}]},\"layout\":{\"autotypenumbers\":\"strict\",\"colorway\":[\"#636efa\",\"#EF553B\",\"#00cc96\",\"#ab63fa\",\"#FFA15A\",\"#19d3f3\",\"#FF6692\",\"#B6E880\",\"#FF97FF\",\"#FECB52\"],\"font\":{\"color\":\"#2a3f5f\"},\"hovermode\":\"closest\",\"hoverlabel\":{\"align\":\"left\"},\"paper_bgcolor\":\"white\",\"plot_bgcolor\":\"#E5ECF6\",\"polar\":{\"bgcolor\":\"#E5ECF6\",\"angularaxis\":{\"gridcolor\":\"white\",\"linecolor\":\"white\",\"ticks\":\"\"},\"radialaxis\":{\"gridcolor\":\"white\",\"linecolor\":\"white\",\"ticks\":\"\"}},\"ternary\":{\"bgcolor\":\"#E5ECF6\",\"aaxis\":{\"gridcolor\":\"white\",\"linecolor\":\"white\",\"ticks\":\"\"},\"baxis\":{\"gridcolor\":\"white\",\"linecolor\":\"white\",\"ticks\":\"\"},\"caxis\":{\"gridcolor\":\"white\",\"linecolor\":\"white\",\"ticks\":\"\"}},\"coloraxis\":{\"colorbar\":{\"outlinewidth\":0,\"ticks\":\"\"}},\"colorscale\":{\"sequential\":[[0.0,\"#0d0887\"],[0.1111111111111111,\"#46039f\"],[0.2222222222222222,\"#7201a8\"],[0.3333333333333333,\"#9c179e\"],[0.4444444444444444,\"#bd3786\"],[0.5555555555555556,\"#d8576b\"],[0.6666666666666666,\"#ed7953\"],[0.7777777777777778,\"#fb9f3a\"],[0.8888888888888888,\"#fdca26\"],[1.0,\"#f0f921\"]],\"sequentialminus\":[[0.0,\"#0d0887\"],[0.1111111111111111,\"#46039f\"],[0.2222222222222222,\"#7201a8\"],[0.3333333333333333,\"#9c179e\"],[0.4444444444444444,\"#bd3786\"],[0.5555555555555556,\"#d8576b\"],[0.6666666666666666,\"#ed7953\"],[0.7777777777777778,\"#fb9f3a\"],[0.8888888888888888,\"#fdca26\"],[1.0,\"#f0f921\"]],\"diverging\":[[0,\"#8e0152\"],[0.1,\"#c51b7d\"],[0.2,\"#de77ae\"],[0.3,\"#f1b6da\"],[0.4,\"#fde0ef\"],[0.5,\"#f7f7f7\"],[0.6,\"#e6f5d0\"],[0.7,\"#b8e186\"],[0.8,\"#7fbc41\"],[0.9,\"#4d9221\"],[1,\"#276419\"]]},\"xaxis\":{\"gridcolor\":\"white\",\"linecolor\":\"white\",\"ticks\":\"\",\"title\":{\"standoff\":15},\"zerolinecolor\":\"white\",\"automargin\":true,\"zerolinewidth\":2},\"yaxis\":{\"gridcolor\":\"white\",\"linecolor\":\"white\",\"ticks\":\"\",\"title\":{\"standoff\":15},\"zerolinecolor\":\"white\",\"automargin\":true,\"zerolinewidth\":2},\"scene\":{\"xaxis\":{\"backgroundcolor\":\"#E5ECF6\",\"gridcolor\":\"white\",\"linecolor\":\"white\",\"showbackground\":true,\"ticks\":\"\",\"zerolinecolor\":\"white\",\"gridwidth\":2},\"yaxis\":{\"backgroundcolor\":\"#E5ECF6\",\"gridcolor\":\"white\",\"linecolor\":\"white\",\"showbackground\":true,\"ticks\":\"\",\"zerolinecolor\":\"white\",\"gridwidth\":2},\"zaxis\":{\"backgroundcolor\":\"#E5ECF6\",\"gridcolor\":\"white\",\"linecolor\":\"white\",\"showbackground\":true,\"ticks\":\"\",\"zerolinecolor\":\"white\",\"gridwidth\":2}},\"shapedefaults\":{\"line\":{\"color\":\"#2a3f5f\"}},\"annotationdefaults\":{\"arrowcolor\":\"#2a3f5f\",\"arrowhead\":0,\"arrowwidth\":1},\"geo\":{\"bgcolor\":\"white\",\"landcolor\":\"#E5ECF6\",\"subunitcolor\":\"white\",\"showland\":true,\"showlakes\":true,\"lakecolor\":\"white\"},\"title\":{\"x\":0.05},\"mapbox\":{\"style\":\"light\"}}},\"xaxis\":{\"anchor\":\"y\",\"domain\":[0.0,1.0],\"title\":{\"text\":\"Mileage\"},\"showgrid\":false,\"showline\":false,\"linewidth\":2,\"linecolor\":\"black\",\"ticks\":\"outside\"},\"yaxis\":{\"anchor\":\"x\",\"domain\":[0.0,1.0],\"title\":{\"text\":\"Count\"},\"showgrid\":false,\"showline\":false,\"linewidth\":1,\"linecolor\":\"black\"},\"legend\":{\"tracegroupgap\":0},\"margin\":{\"t\":60},\"barmode\":\"relative\",\"font\":{\"size\":12,\"family\":\"Arial\"}},                        {\"responsive\": true}                    ).then(function(){\n",
       "                            \n",
       "var gd = document.getElementById('44f124b1-eb23-4519-8d14-17fea02eb2c6');\n",
       "var x = new MutationObserver(function (mutations, observer) {{\n",
       "        var display = window.getComputedStyle(gd).display;\n",
       "        if (!display || display === 'none') {{\n",
       "            console.log([gd, 'removed!']);\n",
       "            Plotly.purge(gd);\n",
       "            observer.disconnect();\n",
       "        }}\n",
       "}});\n",
       "\n",
       "// Listen for the removal of the full notebook cells\n",
       "var notebookContainer = gd.closest('#notebook-container');\n",
       "if (notebookContainer) {{\n",
       "    x.observe(notebookContainer, {childList: true});\n",
       "}}\n",
       "\n",
       "// Listen for the clearing of the current output cell\n",
       "var outputEl = gd.closest('.output');\n",
       "if (outputEl) {{\n",
       "    x.observe(outputEl, {childList: true});\n",
       "}}\n",
       "\n",
       "                        })                };                });            </script>        </div>"
      ]
     },
     "metadata": {},
     "output_type": "display_data"
    }
   ],
   "source": [
    "fig = px.histogram(df, x=\"mileage\", nbins=15)\n",
    "\n",
    "fig.update_xaxes(title='Mileage', showgrid=False, showline=False, linewidth=2, linecolor='black', ticks='outside')\n",
    "fig.update_yaxes(title='Count', showgrid=False, showline=False, linewidth=1, linecolor='black')\n",
    "fig.update_layout(font_size = 12, font_family='Arial')\n",
    "fig.show()"
   ]
  },
  {
   "cell_type": "markdown",
   "id": "c7cd03f4",
   "metadata": {},
   "source": [
    "- The mileage range which a majority of the vehicles fall into is between 30000 and 40000 miles. 489 cars fall in this range.\n",
    "- The next most popular mileage range is 10000 to 20000 miles. This range has 401 cars in it.\n",
    "- The mileage column has a long tail, meaning there are a not non-significant number of cars in each 10,000 mile range above 60,000 miles up to 120,000 miles."
   ]
  },
  {
   "cell_type": "markdown",
   "id": "f11a8e87",
   "metadata": {},
   "source": [
    "### Question: How does mileage on a car affect its price?"
   ]
  },
  {
   "cell_type": "code",
   "execution_count": 20,
   "id": "132b98c8",
   "metadata": {},
   "outputs": [
    {
     "data": {
      "text/plain": [
       "(30000, 40000]      489\n",
       "(10000, 20000]      401\n",
       "(20000, 30000]      369\n",
       "(40000, 50000]      256\n",
       "(50000, 60000]      133\n",
       "(0, 10000]          128\n",
       "(60000, 70000]       87\n",
       "(80000, 90000]       83\n",
       "(70000, 80000]       81\n",
       "(90000, 100000]      70\n",
       "(100000, 110000]     66\n",
       "(110000, 120000]     48\n",
       "Name: mileage_bins, dtype: int64"
      ]
     },
     "execution_count": 20,
     "metadata": {},
     "output_type": "execute_result"
    }
   ],
   "source": [
    "# Let's bin the mileage column into 12 equal bins of 10,000 miles each\n",
    "df['mileage_bins'] = pd.cut(df['mileage'], bins=np.arange(0, 130000, 10000))\n",
    "\n",
    "df['mileage_bins'].value_counts()"
   ]
  },
  {
   "cell_type": "code",
   "execution_count": 21,
   "id": "e3af0547",
   "metadata": {},
   "outputs": [
    {
     "data": {
      "text/html": [
       "<div>\n",
       "<style scoped>\n",
       "    .dataframe tbody tr th:only-of-type {\n",
       "        vertical-align: middle;\n",
       "    }\n",
       "\n",
       "    .dataframe tbody tr th {\n",
       "        vertical-align: top;\n",
       "    }\n",
       "\n",
       "    .dataframe thead th {\n",
       "        text-align: right;\n",
       "    }\n",
       "</style>\n",
       "<table border=\"1\" class=\"dataframe\">\n",
       "  <thead>\n",
       "    <tr style=\"text-align: right;\">\n",
       "      <th></th>\n",
       "      <th>price</th>\n",
       "      <th>brand</th>\n",
       "      <th>model</th>\n",
       "      <th>year</th>\n",
       "      <th>title_status</th>\n",
       "      <th>mileage</th>\n",
       "      <th>color</th>\n",
       "      <th>state</th>\n",
       "      <th>country</th>\n",
       "      <th>condition</th>\n",
       "      <th>mileage_bins</th>\n",
       "    </tr>\n",
       "  </thead>\n",
       "  <tbody>\n",
       "    <tr>\n",
       "      <th>2</th>\n",
       "      <td>5350</td>\n",
       "      <td>dodge</td>\n",
       "      <td>mpv</td>\n",
       "      <td>2018</td>\n",
       "      <td>clean vehicle</td>\n",
       "      <td>39,590.00</td>\n",
       "      <td>silver</td>\n",
       "      <td>georgia</td>\n",
       "      <td>usa</td>\n",
       "      <td>2 days left</td>\n",
       "      <td>(30000, 40000]</td>\n",
       "    </tr>\n",
       "    <tr>\n",
       "      <th>3</th>\n",
       "      <td>25000</td>\n",
       "      <td>ford</td>\n",
       "      <td>door</td>\n",
       "      <td>2014</td>\n",
       "      <td>clean vehicle</td>\n",
       "      <td>64,146.00</td>\n",
       "      <td>blue</td>\n",
       "      <td>virginia</td>\n",
       "      <td>usa</td>\n",
       "      <td>22 hours left</td>\n",
       "      <td>(60000, 70000]</td>\n",
       "    </tr>\n",
       "    <tr>\n",
       "      <th>4</th>\n",
       "      <td>27700</td>\n",
       "      <td>chevrolet</td>\n",
       "      <td>1500</td>\n",
       "      <td>2018</td>\n",
       "      <td>clean vehicle</td>\n",
       "      <td>6,654.00</td>\n",
       "      <td>red</td>\n",
       "      <td>florida</td>\n",
       "      <td>usa</td>\n",
       "      <td>22 hours left</td>\n",
       "      <td>(0, 10000]</td>\n",
       "    </tr>\n",
       "    <tr>\n",
       "      <th>5</th>\n",
       "      <td>5700</td>\n",
       "      <td>dodge</td>\n",
       "      <td>mpv</td>\n",
       "      <td>2018</td>\n",
       "      <td>clean vehicle</td>\n",
       "      <td>45,561.00</td>\n",
       "      <td>white</td>\n",
       "      <td>texas</td>\n",
       "      <td>usa</td>\n",
       "      <td>2 days left</td>\n",
       "      <td>(40000, 50000]</td>\n",
       "    </tr>\n",
       "    <tr>\n",
       "      <th>7</th>\n",
       "      <td>13350</td>\n",
       "      <td>gmc</td>\n",
       "      <td>door</td>\n",
       "      <td>2017</td>\n",
       "      <td>clean vehicle</td>\n",
       "      <td>23,525.00</td>\n",
       "      <td>gray</td>\n",
       "      <td>california</td>\n",
       "      <td>usa</td>\n",
       "      <td>20 hours left</td>\n",
       "      <td>(20000, 30000]</td>\n",
       "    </tr>\n",
       "  </tbody>\n",
       "</table>\n",
       "</div>"
      ],
      "text/plain": [
       "   price      brand model  year   title_status   mileage   color       state  \\\n",
       "2   5350      dodge   mpv  2018  clean vehicle 39,590.00  silver     georgia   \n",
       "3  25000       ford  door  2014  clean vehicle 64,146.00    blue    virginia   \n",
       "4  27700  chevrolet  1500  2018  clean vehicle  6,654.00     red     florida   \n",
       "5   5700      dodge   mpv  2018  clean vehicle 45,561.00   white       texas   \n",
       "7  13350        gmc  door  2017  clean vehicle 23,525.00    gray  california   \n",
       "\n",
       "  country      condition    mileage_bins  \n",
       "2     usa    2 days left  (30000, 40000]  \n",
       "3     usa  22 hours left  (60000, 70000]  \n",
       "4     usa  22 hours left      (0, 10000]  \n",
       "5     usa    2 days left  (40000, 50000]  \n",
       "7     usa  20 hours left  (20000, 30000]  "
      ]
     },
     "execution_count": 21,
     "metadata": {},
     "output_type": "execute_result"
    }
   ],
   "source": [
    "# View the new column\n",
    "df.head()"
   ]
  },
  {
   "cell_type": "code",
   "execution_count": 22,
   "id": "6cbc16ab",
   "metadata": {},
   "outputs": [
    {
     "data": {
      "text/html": [
       "<div>\n",
       "<style scoped>\n",
       "    .dataframe tbody tr th:only-of-type {\n",
       "        vertical-align: middle;\n",
       "    }\n",
       "\n",
       "    .dataframe tbody tr th {\n",
       "        vertical-align: top;\n",
       "    }\n",
       "\n",
       "    .dataframe thead th {\n",
       "        text-align: right;\n",
       "    }\n",
       "</style>\n",
       "<table border=\"1\" class=\"dataframe\">\n",
       "  <thead>\n",
       "    <tr style=\"text-align: right;\">\n",
       "      <th></th>\n",
       "      <th>count</th>\n",
       "      <th>average_price</th>\n",
       "    </tr>\n",
       "    <tr>\n",
       "      <th>mileage_bins</th>\n",
       "      <th></th>\n",
       "      <th></th>\n",
       "    </tr>\n",
       "  </thead>\n",
       "  <tbody>\n",
       "    <tr>\n",
       "      <th>(0, 10000]</th>\n",
       "      <td>128</td>\n",
       "      <td>24,206.66</td>\n",
       "    </tr>\n",
       "    <tr>\n",
       "      <th>(10000, 20000]</th>\n",
       "      <td>401</td>\n",
       "      <td>24,349.72</td>\n",
       "    </tr>\n",
       "    <tr>\n",
       "      <th>(20000, 30000]</th>\n",
       "      <td>369</td>\n",
       "      <td>21,888.54</td>\n",
       "    </tr>\n",
       "    <tr>\n",
       "      <th>(30000, 40000]</th>\n",
       "      <td>489</td>\n",
       "      <td>18,215.37</td>\n",
       "    </tr>\n",
       "    <tr>\n",
       "      <th>(40000, 50000]</th>\n",
       "      <td>256</td>\n",
       "      <td>17,703.27</td>\n",
       "    </tr>\n",
       "    <tr>\n",
       "      <th>(50000, 60000]</th>\n",
       "      <td>133</td>\n",
       "      <td>17,248.10</td>\n",
       "    </tr>\n",
       "    <tr>\n",
       "      <th>(60000, 70000]</th>\n",
       "      <td>87</td>\n",
       "      <td>15,251.92</td>\n",
       "    </tr>\n",
       "    <tr>\n",
       "      <th>(70000, 80000]</th>\n",
       "      <td>81</td>\n",
       "      <td>14,067.46</td>\n",
       "    </tr>\n",
       "    <tr>\n",
       "      <th>(80000, 90000]</th>\n",
       "      <td>83</td>\n",
       "      <td>12,609.75</td>\n",
       "    </tr>\n",
       "    <tr>\n",
       "      <th>(90000, 100000]</th>\n",
       "      <td>70</td>\n",
       "      <td>12,533.37</td>\n",
       "    </tr>\n",
       "    <tr>\n",
       "      <th>(100000, 110000]</th>\n",
       "      <td>66</td>\n",
       "      <td>9,762.27</td>\n",
       "    </tr>\n",
       "    <tr>\n",
       "      <th>(110000, 120000]</th>\n",
       "      <td>48</td>\n",
       "      <td>7,946.52</td>\n",
       "    </tr>\n",
       "  </tbody>\n",
       "</table>\n",
       "</div>"
      ],
      "text/plain": [
       "                  count  average_price\n",
       "mileage_bins                          \n",
       "(0, 10000]          128      24,206.66\n",
       "(10000, 20000]      401      24,349.72\n",
       "(20000, 30000]      369      21,888.54\n",
       "(30000, 40000]      489      18,215.37\n",
       "(40000, 50000]      256      17,703.27\n",
       "(50000, 60000]      133      17,248.10\n",
       "(60000, 70000]       87      15,251.92\n",
       "(70000, 80000]       81      14,067.46\n",
       "(80000, 90000]       83      12,609.75\n",
       "(90000, 100000]      70      12,533.37\n",
       "(100000, 110000]     66       9,762.27\n",
       "(110000, 120000]     48       7,946.52"
      ]
     },
     "execution_count": 22,
     "metadata": {},
     "output_type": "execute_result"
    }
   ],
   "source": [
    "# Average price of a car for each mileage bin\n",
    "price_by_mileage = df.groupby('mileage_bins')['price'].agg({'mean', 'count'})\n",
    "\n",
    "price_by_mileage.rename(columns={\"mean\": 'average_price'}, inplace=True)\n",
    "\n",
    "price_by_mileage.index = price_by_mileage.index.astype(str)\n",
    "\n",
    "price_by_mileage"
   ]
  },
  {
   "cell_type": "code",
   "execution_count": 23,
   "id": "9202a41f",
   "metadata": {},
   "outputs": [
    {
     "data": {
      "application/vnd.plotly.v1+json": {
       "config": {
        "plotlyServerURL": "https://plot.ly"
       },
       "data": [
        {
         "alignmentgroup": "True",
         "hovertemplate": "mileage_bins=%{x}<br>average_price=%{y}<br>count=%{text}<extra></extra>",
         "legendgroup": "",
         "marker": {
          "color": "#636efa",
          "pattern": {
           "shape": ""
          }
         },
         "name": "",
         "offsetgroup": "",
         "orientation": "v",
         "showlegend": false,
         "text": [
          128,
          401,
          369,
          489,
          256,
          133,
          87,
          81,
          83,
          70,
          66,
          48
         ],
         "textposition": "auto",
         "type": "bar",
         "x": [
          "(0, 10000]",
          "(10000, 20000]",
          "(20000, 30000]",
          "(30000, 40000]",
          "(40000, 50000]",
          "(50000, 60000]",
          "(60000, 70000]",
          "(70000, 80000]",
          "(80000, 90000]",
          "(90000, 100000]",
          "(100000, 110000]",
          "(110000, 120000]"
         ],
         "xaxis": "x",
         "y": [
          24206.65625,
          24349.718204488778,
          21888.536585365855,
          18215.366053169735,
          17703.26953125,
          17248.0977443609,
          15251.919540229885,
          14067.456790123457,
          12609.746987951807,
          12533.371428571429,
          9762.272727272728,
          7946.520833333333
         ],
         "yaxis": "y"
        }
       ],
       "layout": {
        "barmode": "relative",
        "font": {
         "family": "Arial",
         "size": 12
        },
        "legend": {
         "tracegroupgap": 0
        },
        "template": {
         "data": {
          "bar": [
           {
            "error_x": {
             "color": "#2a3f5f"
            },
            "error_y": {
             "color": "#2a3f5f"
            },
            "marker": {
             "line": {
              "color": "white",
              "width": 0.5
             },
             "pattern": {
              "fillmode": "overlay",
              "size": 10,
              "solidity": 0.2
             }
            },
            "type": "bar"
           }
          ],
          "barpolar": [
           {
            "marker": {
             "line": {
              "color": "white",
              "width": 0.5
             },
             "pattern": {
              "fillmode": "overlay",
              "size": 10,
              "solidity": 0.2
             }
            },
            "type": "barpolar"
           }
          ],
          "carpet": [
           {
            "aaxis": {
             "endlinecolor": "#2a3f5f",
             "gridcolor": "#C8D4E3",
             "linecolor": "#C8D4E3",
             "minorgridcolor": "#C8D4E3",
             "startlinecolor": "#2a3f5f"
            },
            "baxis": {
             "endlinecolor": "#2a3f5f",
             "gridcolor": "#C8D4E3",
             "linecolor": "#C8D4E3",
             "minorgridcolor": "#C8D4E3",
             "startlinecolor": "#2a3f5f"
            },
            "type": "carpet"
           }
          ],
          "choropleth": [
           {
            "colorbar": {
             "outlinewidth": 0,
             "ticks": ""
            },
            "type": "choropleth"
           }
          ],
          "contour": [
           {
            "colorbar": {
             "outlinewidth": 0,
             "ticks": ""
            },
            "colorscale": [
             [
              0,
              "#0d0887"
             ],
             [
              0.1111111111111111,
              "#46039f"
             ],
             [
              0.2222222222222222,
              "#7201a8"
             ],
             [
              0.3333333333333333,
              "#9c179e"
             ],
             [
              0.4444444444444444,
              "#bd3786"
             ],
             [
              0.5555555555555556,
              "#d8576b"
             ],
             [
              0.6666666666666666,
              "#ed7953"
             ],
             [
              0.7777777777777778,
              "#fb9f3a"
             ],
             [
              0.8888888888888888,
              "#fdca26"
             ],
             [
              1,
              "#f0f921"
             ]
            ],
            "type": "contour"
           }
          ],
          "contourcarpet": [
           {
            "colorbar": {
             "outlinewidth": 0,
             "ticks": ""
            },
            "type": "contourcarpet"
           }
          ],
          "heatmap": [
           {
            "colorbar": {
             "outlinewidth": 0,
             "ticks": ""
            },
            "colorscale": [
             [
              0,
              "#0d0887"
             ],
             [
              0.1111111111111111,
              "#46039f"
             ],
             [
              0.2222222222222222,
              "#7201a8"
             ],
             [
              0.3333333333333333,
              "#9c179e"
             ],
             [
              0.4444444444444444,
              "#bd3786"
             ],
             [
              0.5555555555555556,
              "#d8576b"
             ],
             [
              0.6666666666666666,
              "#ed7953"
             ],
             [
              0.7777777777777778,
              "#fb9f3a"
             ],
             [
              0.8888888888888888,
              "#fdca26"
             ],
             [
              1,
              "#f0f921"
             ]
            ],
            "type": "heatmap"
           }
          ],
          "heatmapgl": [
           {
            "colorbar": {
             "outlinewidth": 0,
             "ticks": ""
            },
            "colorscale": [
             [
              0,
              "#0d0887"
             ],
             [
              0.1111111111111111,
              "#46039f"
             ],
             [
              0.2222222222222222,
              "#7201a8"
             ],
             [
              0.3333333333333333,
              "#9c179e"
             ],
             [
              0.4444444444444444,
              "#bd3786"
             ],
             [
              0.5555555555555556,
              "#d8576b"
             ],
             [
              0.6666666666666666,
              "#ed7953"
             ],
             [
              0.7777777777777778,
              "#fb9f3a"
             ],
             [
              0.8888888888888888,
              "#fdca26"
             ],
             [
              1,
              "#f0f921"
             ]
            ],
            "type": "heatmapgl"
           }
          ],
          "histogram": [
           {
            "marker": {
             "pattern": {
              "fillmode": "overlay",
              "size": 10,
              "solidity": 0.2
             }
            },
            "type": "histogram"
           }
          ],
          "histogram2d": [
           {
            "colorbar": {
             "outlinewidth": 0,
             "ticks": ""
            },
            "colorscale": [
             [
              0,
              "#0d0887"
             ],
             [
              0.1111111111111111,
              "#46039f"
             ],
             [
              0.2222222222222222,
              "#7201a8"
             ],
             [
              0.3333333333333333,
              "#9c179e"
             ],
             [
              0.4444444444444444,
              "#bd3786"
             ],
             [
              0.5555555555555556,
              "#d8576b"
             ],
             [
              0.6666666666666666,
              "#ed7953"
             ],
             [
              0.7777777777777778,
              "#fb9f3a"
             ],
             [
              0.8888888888888888,
              "#fdca26"
             ],
             [
              1,
              "#f0f921"
             ]
            ],
            "type": "histogram2d"
           }
          ],
          "histogram2dcontour": [
           {
            "colorbar": {
             "outlinewidth": 0,
             "ticks": ""
            },
            "colorscale": [
             [
              0,
              "#0d0887"
             ],
             [
              0.1111111111111111,
              "#46039f"
             ],
             [
              0.2222222222222222,
              "#7201a8"
             ],
             [
              0.3333333333333333,
              "#9c179e"
             ],
             [
              0.4444444444444444,
              "#bd3786"
             ],
             [
              0.5555555555555556,
              "#d8576b"
             ],
             [
              0.6666666666666666,
              "#ed7953"
             ],
             [
              0.7777777777777778,
              "#fb9f3a"
             ],
             [
              0.8888888888888888,
              "#fdca26"
             ],
             [
              1,
              "#f0f921"
             ]
            ],
            "type": "histogram2dcontour"
           }
          ],
          "mesh3d": [
           {
            "colorbar": {
             "outlinewidth": 0,
             "ticks": ""
            },
            "type": "mesh3d"
           }
          ],
          "parcoords": [
           {
            "line": {
             "colorbar": {
              "outlinewidth": 0,
              "ticks": ""
             }
            },
            "type": "parcoords"
           }
          ],
          "pie": [
           {
            "automargin": true,
            "type": "pie"
           }
          ],
          "scatter": [
           {
            "fillpattern": {
             "fillmode": "overlay",
             "size": 10,
             "solidity": 0.2
            },
            "type": "scatter"
           }
          ],
          "scatter3d": [
           {
            "line": {
             "colorbar": {
              "outlinewidth": 0,
              "ticks": ""
             }
            },
            "marker": {
             "colorbar": {
              "outlinewidth": 0,
              "ticks": ""
             }
            },
            "type": "scatter3d"
           }
          ],
          "scattercarpet": [
           {
            "marker": {
             "colorbar": {
              "outlinewidth": 0,
              "ticks": ""
             }
            },
            "type": "scattercarpet"
           }
          ],
          "scattergeo": [
           {
            "marker": {
             "colorbar": {
              "outlinewidth": 0,
              "ticks": ""
             }
            },
            "type": "scattergeo"
           }
          ],
          "scattergl": [
           {
            "marker": {
             "colorbar": {
              "outlinewidth": 0,
              "ticks": ""
             }
            },
            "type": "scattergl"
           }
          ],
          "scattermapbox": [
           {
            "marker": {
             "colorbar": {
              "outlinewidth": 0,
              "ticks": ""
             }
            },
            "type": "scattermapbox"
           }
          ],
          "scatterpolar": [
           {
            "marker": {
             "colorbar": {
              "outlinewidth": 0,
              "ticks": ""
             }
            },
            "type": "scatterpolar"
           }
          ],
          "scatterpolargl": [
           {
            "marker": {
             "colorbar": {
              "outlinewidth": 0,
              "ticks": ""
             }
            },
            "type": "scatterpolargl"
           }
          ],
          "scatterternary": [
           {
            "marker": {
             "colorbar": {
              "outlinewidth": 0,
              "ticks": ""
             }
            },
            "type": "scatterternary"
           }
          ],
          "surface": [
           {
            "colorbar": {
             "outlinewidth": 0,
             "ticks": ""
            },
            "colorscale": [
             [
              0,
              "#0d0887"
             ],
             [
              0.1111111111111111,
              "#46039f"
             ],
             [
              0.2222222222222222,
              "#7201a8"
             ],
             [
              0.3333333333333333,
              "#9c179e"
             ],
             [
              0.4444444444444444,
              "#bd3786"
             ],
             [
              0.5555555555555556,
              "#d8576b"
             ],
             [
              0.6666666666666666,
              "#ed7953"
             ],
             [
              0.7777777777777778,
              "#fb9f3a"
             ],
             [
              0.8888888888888888,
              "#fdca26"
             ],
             [
              1,
              "#f0f921"
             ]
            ],
            "type": "surface"
           }
          ],
          "table": [
           {
            "cells": {
             "fill": {
              "color": "#EBF0F8"
             },
             "line": {
              "color": "white"
             }
            },
            "header": {
             "fill": {
              "color": "#C8D4E3"
             },
             "line": {
              "color": "white"
             }
            },
            "type": "table"
           }
          ]
         },
         "layout": {
          "annotationdefaults": {
           "arrowcolor": "#2a3f5f",
           "arrowhead": 0,
           "arrowwidth": 1
          },
          "autotypenumbers": "strict",
          "coloraxis": {
           "colorbar": {
            "outlinewidth": 0,
            "ticks": ""
           }
          },
          "colorscale": {
           "diverging": [
            [
             0,
             "#8e0152"
            ],
            [
             0.1,
             "#c51b7d"
            ],
            [
             0.2,
             "#de77ae"
            ],
            [
             0.3,
             "#f1b6da"
            ],
            [
             0.4,
             "#fde0ef"
            ],
            [
             0.5,
             "#f7f7f7"
            ],
            [
             0.6,
             "#e6f5d0"
            ],
            [
             0.7,
             "#b8e186"
            ],
            [
             0.8,
             "#7fbc41"
            ],
            [
             0.9,
             "#4d9221"
            ],
            [
             1,
             "#276419"
            ]
           ],
           "sequential": [
            [
             0,
             "#0d0887"
            ],
            [
             0.1111111111111111,
             "#46039f"
            ],
            [
             0.2222222222222222,
             "#7201a8"
            ],
            [
             0.3333333333333333,
             "#9c179e"
            ],
            [
             0.4444444444444444,
             "#bd3786"
            ],
            [
             0.5555555555555556,
             "#d8576b"
            ],
            [
             0.6666666666666666,
             "#ed7953"
            ],
            [
             0.7777777777777778,
             "#fb9f3a"
            ],
            [
             0.8888888888888888,
             "#fdca26"
            ],
            [
             1,
             "#f0f921"
            ]
           ],
           "sequentialminus": [
            [
             0,
             "#0d0887"
            ],
            [
             0.1111111111111111,
             "#46039f"
            ],
            [
             0.2222222222222222,
             "#7201a8"
            ],
            [
             0.3333333333333333,
             "#9c179e"
            ],
            [
             0.4444444444444444,
             "#bd3786"
            ],
            [
             0.5555555555555556,
             "#d8576b"
            ],
            [
             0.6666666666666666,
             "#ed7953"
            ],
            [
             0.7777777777777778,
             "#fb9f3a"
            ],
            [
             0.8888888888888888,
             "#fdca26"
            ],
            [
             1,
             "#f0f921"
            ]
           ]
          },
          "colorway": [
           "#636efa",
           "#EF553B",
           "#00cc96",
           "#ab63fa",
           "#FFA15A",
           "#19d3f3",
           "#FF6692",
           "#B6E880",
           "#FF97FF",
           "#FECB52"
          ],
          "font": {
           "color": "#2a3f5f"
          },
          "geo": {
           "bgcolor": "white",
           "lakecolor": "white",
           "landcolor": "white",
           "showlakes": true,
           "showland": true,
           "subunitcolor": "#C8D4E3"
          },
          "hoverlabel": {
           "align": "left"
          },
          "hovermode": "closest",
          "mapbox": {
           "style": "light"
          },
          "paper_bgcolor": "white",
          "plot_bgcolor": "white",
          "polar": {
           "angularaxis": {
            "gridcolor": "#EBF0F8",
            "linecolor": "#EBF0F8",
            "ticks": ""
           },
           "bgcolor": "white",
           "radialaxis": {
            "gridcolor": "#EBF0F8",
            "linecolor": "#EBF0F8",
            "ticks": ""
           }
          },
          "scene": {
           "xaxis": {
            "backgroundcolor": "white",
            "gridcolor": "#DFE8F3",
            "gridwidth": 2,
            "linecolor": "#EBF0F8",
            "showbackground": true,
            "ticks": "",
            "zerolinecolor": "#EBF0F8"
           },
           "yaxis": {
            "backgroundcolor": "white",
            "gridcolor": "#DFE8F3",
            "gridwidth": 2,
            "linecolor": "#EBF0F8",
            "showbackground": true,
            "ticks": "",
            "zerolinecolor": "#EBF0F8"
           },
           "zaxis": {
            "backgroundcolor": "white",
            "gridcolor": "#DFE8F3",
            "gridwidth": 2,
            "linecolor": "#EBF0F8",
            "showbackground": true,
            "ticks": "",
            "zerolinecolor": "#EBF0F8"
           }
          },
          "shapedefaults": {
           "line": {
            "color": "#2a3f5f"
           }
          },
          "ternary": {
           "aaxis": {
            "gridcolor": "#DFE8F3",
            "linecolor": "#A2B1C6",
            "ticks": ""
           },
           "baxis": {
            "gridcolor": "#DFE8F3",
            "linecolor": "#A2B1C6",
            "ticks": ""
           },
           "bgcolor": "white",
           "caxis": {
            "gridcolor": "#DFE8F3",
            "linecolor": "#A2B1C6",
            "ticks": ""
           }
          },
          "title": {
           "x": 0.05
          },
          "xaxis": {
           "automargin": true,
           "gridcolor": "#EBF0F8",
           "linecolor": "#EBF0F8",
           "ticks": "",
           "title": {
            "standoff": 15
           },
           "zerolinecolor": "#EBF0F8",
           "zerolinewidth": 2
          },
          "yaxis": {
           "automargin": true,
           "gridcolor": "#EBF0F8",
           "linecolor": "#EBF0F8",
           "ticks": "",
           "title": {
            "standoff": 15
           },
           "zerolinecolor": "#EBF0F8",
           "zerolinewidth": 2
          }
         }
        },
        "title": {
         "text": "Price by Mileage Bin"
        },
        "xaxis": {
         "anchor": "y",
         "domain": [
          0,
          1
         ],
         "linecolor": "black",
         "linewidth": 2,
         "showline": true,
         "ticks": "outside",
         "title": {
          "text": "Mileage_Bins"
         }
        },
        "yaxis": {
         "anchor": "x",
         "domain": [
          0,
          1
         ],
         "linecolor": "black",
         "linewidth": 1,
         "showgrid": true,
         "showline": true,
         "title": {
          "text": "Price"
         }
        }
       }
      },
      "text/html": [
       "<div>                            <div id=\"9214e63f-549e-429f-960f-4080fa1674c2\" class=\"plotly-graph-div\" style=\"height:525px; width:100%;\"></div>            <script type=\"text/javascript\">                require([\"plotly\"], function(Plotly) {                    window.PLOTLYENV=window.PLOTLYENV || {};                                    if (document.getElementById(\"9214e63f-549e-429f-960f-4080fa1674c2\")) {                    Plotly.newPlot(                        \"9214e63f-549e-429f-960f-4080fa1674c2\",                        [{\"alignmentgroup\":\"True\",\"hovertemplate\":\"mileage_bins=%{x}<br>average_price=%{y}<br>count=%{text}<extra></extra>\",\"legendgroup\":\"\",\"marker\":{\"color\":\"#636efa\",\"pattern\":{\"shape\":\"\"}},\"name\":\"\",\"offsetgroup\":\"\",\"orientation\":\"v\",\"showlegend\":false,\"text\":[128.0,401.0,369.0,489.0,256.0,133.0,87.0,81.0,83.0,70.0,66.0,48.0],\"textposition\":\"auto\",\"x\":[\"(0, 10000]\",\"(10000, 20000]\",\"(20000, 30000]\",\"(30000, 40000]\",\"(40000, 50000]\",\"(50000, 60000]\",\"(60000, 70000]\",\"(70000, 80000]\",\"(80000, 90000]\",\"(90000, 100000]\",\"(100000, 110000]\",\"(110000, 120000]\"],\"xaxis\":\"x\",\"y\":[24206.65625,24349.718204488778,21888.536585365855,18215.366053169735,17703.26953125,17248.0977443609,15251.919540229885,14067.456790123457,12609.746987951807,12533.371428571429,9762.272727272728,7946.520833333333],\"yaxis\":\"y\",\"type\":\"bar\"}],                        {\"template\":{\"data\":{\"barpolar\":[{\"marker\":{\"line\":{\"color\":\"white\",\"width\":0.5},\"pattern\":{\"fillmode\":\"overlay\",\"size\":10,\"solidity\":0.2}},\"type\":\"barpolar\"}],\"bar\":[{\"error_x\":{\"color\":\"#2a3f5f\"},\"error_y\":{\"color\":\"#2a3f5f\"},\"marker\":{\"line\":{\"color\":\"white\",\"width\":0.5},\"pattern\":{\"fillmode\":\"overlay\",\"size\":10,\"solidity\":0.2}},\"type\":\"bar\"}],\"carpet\":[{\"aaxis\":{\"endlinecolor\":\"#2a3f5f\",\"gridcolor\":\"#C8D4E3\",\"linecolor\":\"#C8D4E3\",\"minorgridcolor\":\"#C8D4E3\",\"startlinecolor\":\"#2a3f5f\"},\"baxis\":{\"endlinecolor\":\"#2a3f5f\",\"gridcolor\":\"#C8D4E3\",\"linecolor\":\"#C8D4E3\",\"minorgridcolor\":\"#C8D4E3\",\"startlinecolor\":\"#2a3f5f\"},\"type\":\"carpet\"}],\"choropleth\":[{\"colorbar\":{\"outlinewidth\":0,\"ticks\":\"\"},\"type\":\"choropleth\"}],\"contourcarpet\":[{\"colorbar\":{\"outlinewidth\":0,\"ticks\":\"\"},\"type\":\"contourcarpet\"}],\"contour\":[{\"colorbar\":{\"outlinewidth\":0,\"ticks\":\"\"},\"colorscale\":[[0.0,\"#0d0887\"],[0.1111111111111111,\"#46039f\"],[0.2222222222222222,\"#7201a8\"],[0.3333333333333333,\"#9c179e\"],[0.4444444444444444,\"#bd3786\"],[0.5555555555555556,\"#d8576b\"],[0.6666666666666666,\"#ed7953\"],[0.7777777777777778,\"#fb9f3a\"],[0.8888888888888888,\"#fdca26\"],[1.0,\"#f0f921\"]],\"type\":\"contour\"}],\"heatmapgl\":[{\"colorbar\":{\"outlinewidth\":0,\"ticks\":\"\"},\"colorscale\":[[0.0,\"#0d0887\"],[0.1111111111111111,\"#46039f\"],[0.2222222222222222,\"#7201a8\"],[0.3333333333333333,\"#9c179e\"],[0.4444444444444444,\"#bd3786\"],[0.5555555555555556,\"#d8576b\"],[0.6666666666666666,\"#ed7953\"],[0.7777777777777778,\"#fb9f3a\"],[0.8888888888888888,\"#fdca26\"],[1.0,\"#f0f921\"]],\"type\":\"heatmapgl\"}],\"heatmap\":[{\"colorbar\":{\"outlinewidth\":0,\"ticks\":\"\"},\"colorscale\":[[0.0,\"#0d0887\"],[0.1111111111111111,\"#46039f\"],[0.2222222222222222,\"#7201a8\"],[0.3333333333333333,\"#9c179e\"],[0.4444444444444444,\"#bd3786\"],[0.5555555555555556,\"#d8576b\"],[0.6666666666666666,\"#ed7953\"],[0.7777777777777778,\"#fb9f3a\"],[0.8888888888888888,\"#fdca26\"],[1.0,\"#f0f921\"]],\"type\":\"heatmap\"}],\"histogram2dcontour\":[{\"colorbar\":{\"outlinewidth\":0,\"ticks\":\"\"},\"colorscale\":[[0.0,\"#0d0887\"],[0.1111111111111111,\"#46039f\"],[0.2222222222222222,\"#7201a8\"],[0.3333333333333333,\"#9c179e\"],[0.4444444444444444,\"#bd3786\"],[0.5555555555555556,\"#d8576b\"],[0.6666666666666666,\"#ed7953\"],[0.7777777777777778,\"#fb9f3a\"],[0.8888888888888888,\"#fdca26\"],[1.0,\"#f0f921\"]],\"type\":\"histogram2dcontour\"}],\"histogram2d\":[{\"colorbar\":{\"outlinewidth\":0,\"ticks\":\"\"},\"colorscale\":[[0.0,\"#0d0887\"],[0.1111111111111111,\"#46039f\"],[0.2222222222222222,\"#7201a8\"],[0.3333333333333333,\"#9c179e\"],[0.4444444444444444,\"#bd3786\"],[0.5555555555555556,\"#d8576b\"],[0.6666666666666666,\"#ed7953\"],[0.7777777777777778,\"#fb9f3a\"],[0.8888888888888888,\"#fdca26\"],[1.0,\"#f0f921\"]],\"type\":\"histogram2d\"}],\"histogram\":[{\"marker\":{\"pattern\":{\"fillmode\":\"overlay\",\"size\":10,\"solidity\":0.2}},\"type\":\"histogram\"}],\"mesh3d\":[{\"colorbar\":{\"outlinewidth\":0,\"ticks\":\"\"},\"type\":\"mesh3d\"}],\"parcoords\":[{\"line\":{\"colorbar\":{\"outlinewidth\":0,\"ticks\":\"\"}},\"type\":\"parcoords\"}],\"pie\":[{\"automargin\":true,\"type\":\"pie\"}],\"scatter3d\":[{\"line\":{\"colorbar\":{\"outlinewidth\":0,\"ticks\":\"\"}},\"marker\":{\"colorbar\":{\"outlinewidth\":0,\"ticks\":\"\"}},\"type\":\"scatter3d\"}],\"scattercarpet\":[{\"marker\":{\"colorbar\":{\"outlinewidth\":0,\"ticks\":\"\"}},\"type\":\"scattercarpet\"}],\"scattergeo\":[{\"marker\":{\"colorbar\":{\"outlinewidth\":0,\"ticks\":\"\"}},\"type\":\"scattergeo\"}],\"scattergl\":[{\"marker\":{\"colorbar\":{\"outlinewidth\":0,\"ticks\":\"\"}},\"type\":\"scattergl\"}],\"scattermapbox\":[{\"marker\":{\"colorbar\":{\"outlinewidth\":0,\"ticks\":\"\"}},\"type\":\"scattermapbox\"}],\"scatterpolargl\":[{\"marker\":{\"colorbar\":{\"outlinewidth\":0,\"ticks\":\"\"}},\"type\":\"scatterpolargl\"}],\"scatterpolar\":[{\"marker\":{\"colorbar\":{\"outlinewidth\":0,\"ticks\":\"\"}},\"type\":\"scatterpolar\"}],\"scatter\":[{\"fillpattern\":{\"fillmode\":\"overlay\",\"size\":10,\"solidity\":0.2},\"type\":\"scatter\"}],\"scatterternary\":[{\"marker\":{\"colorbar\":{\"outlinewidth\":0,\"ticks\":\"\"}},\"type\":\"scatterternary\"}],\"surface\":[{\"colorbar\":{\"outlinewidth\":0,\"ticks\":\"\"},\"colorscale\":[[0.0,\"#0d0887\"],[0.1111111111111111,\"#46039f\"],[0.2222222222222222,\"#7201a8\"],[0.3333333333333333,\"#9c179e\"],[0.4444444444444444,\"#bd3786\"],[0.5555555555555556,\"#d8576b\"],[0.6666666666666666,\"#ed7953\"],[0.7777777777777778,\"#fb9f3a\"],[0.8888888888888888,\"#fdca26\"],[1.0,\"#f0f921\"]],\"type\":\"surface\"}],\"table\":[{\"cells\":{\"fill\":{\"color\":\"#EBF0F8\"},\"line\":{\"color\":\"white\"}},\"header\":{\"fill\":{\"color\":\"#C8D4E3\"},\"line\":{\"color\":\"white\"}},\"type\":\"table\"}]},\"layout\":{\"annotationdefaults\":{\"arrowcolor\":\"#2a3f5f\",\"arrowhead\":0,\"arrowwidth\":1},\"autotypenumbers\":\"strict\",\"coloraxis\":{\"colorbar\":{\"outlinewidth\":0,\"ticks\":\"\"}},\"colorscale\":{\"diverging\":[[0,\"#8e0152\"],[0.1,\"#c51b7d\"],[0.2,\"#de77ae\"],[0.3,\"#f1b6da\"],[0.4,\"#fde0ef\"],[0.5,\"#f7f7f7\"],[0.6,\"#e6f5d0\"],[0.7,\"#b8e186\"],[0.8,\"#7fbc41\"],[0.9,\"#4d9221\"],[1,\"#276419\"]],\"sequential\":[[0.0,\"#0d0887\"],[0.1111111111111111,\"#46039f\"],[0.2222222222222222,\"#7201a8\"],[0.3333333333333333,\"#9c179e\"],[0.4444444444444444,\"#bd3786\"],[0.5555555555555556,\"#d8576b\"],[0.6666666666666666,\"#ed7953\"],[0.7777777777777778,\"#fb9f3a\"],[0.8888888888888888,\"#fdca26\"],[1.0,\"#f0f921\"]],\"sequentialminus\":[[0.0,\"#0d0887\"],[0.1111111111111111,\"#46039f\"],[0.2222222222222222,\"#7201a8\"],[0.3333333333333333,\"#9c179e\"],[0.4444444444444444,\"#bd3786\"],[0.5555555555555556,\"#d8576b\"],[0.6666666666666666,\"#ed7953\"],[0.7777777777777778,\"#fb9f3a\"],[0.8888888888888888,\"#fdca26\"],[1.0,\"#f0f921\"]]},\"colorway\":[\"#636efa\",\"#EF553B\",\"#00cc96\",\"#ab63fa\",\"#FFA15A\",\"#19d3f3\",\"#FF6692\",\"#B6E880\",\"#FF97FF\",\"#FECB52\"],\"font\":{\"color\":\"#2a3f5f\"},\"geo\":{\"bgcolor\":\"white\",\"lakecolor\":\"white\",\"landcolor\":\"white\",\"showlakes\":true,\"showland\":true,\"subunitcolor\":\"#C8D4E3\"},\"hoverlabel\":{\"align\":\"left\"},\"hovermode\":\"closest\",\"mapbox\":{\"style\":\"light\"},\"paper_bgcolor\":\"white\",\"plot_bgcolor\":\"white\",\"polar\":{\"angularaxis\":{\"gridcolor\":\"#EBF0F8\",\"linecolor\":\"#EBF0F8\",\"ticks\":\"\"},\"bgcolor\":\"white\",\"radialaxis\":{\"gridcolor\":\"#EBF0F8\",\"linecolor\":\"#EBF0F8\",\"ticks\":\"\"}},\"scene\":{\"xaxis\":{\"backgroundcolor\":\"white\",\"gridcolor\":\"#DFE8F3\",\"gridwidth\":2,\"linecolor\":\"#EBF0F8\",\"showbackground\":true,\"ticks\":\"\",\"zerolinecolor\":\"#EBF0F8\"},\"yaxis\":{\"backgroundcolor\":\"white\",\"gridcolor\":\"#DFE8F3\",\"gridwidth\":2,\"linecolor\":\"#EBF0F8\",\"showbackground\":true,\"ticks\":\"\",\"zerolinecolor\":\"#EBF0F8\"},\"zaxis\":{\"backgroundcolor\":\"white\",\"gridcolor\":\"#DFE8F3\",\"gridwidth\":2,\"linecolor\":\"#EBF0F8\",\"showbackground\":true,\"ticks\":\"\",\"zerolinecolor\":\"#EBF0F8\"}},\"shapedefaults\":{\"line\":{\"color\":\"#2a3f5f\"}},\"ternary\":{\"aaxis\":{\"gridcolor\":\"#DFE8F3\",\"linecolor\":\"#A2B1C6\",\"ticks\":\"\"},\"baxis\":{\"gridcolor\":\"#DFE8F3\",\"linecolor\":\"#A2B1C6\",\"ticks\":\"\"},\"bgcolor\":\"white\",\"caxis\":{\"gridcolor\":\"#DFE8F3\",\"linecolor\":\"#A2B1C6\",\"ticks\":\"\"}},\"title\":{\"x\":0.05},\"xaxis\":{\"automargin\":true,\"gridcolor\":\"#EBF0F8\",\"linecolor\":\"#EBF0F8\",\"ticks\":\"\",\"title\":{\"standoff\":15},\"zerolinecolor\":\"#EBF0F8\",\"zerolinewidth\":2},\"yaxis\":{\"automargin\":true,\"gridcolor\":\"#EBF0F8\",\"linecolor\":\"#EBF0F8\",\"ticks\":\"\",\"title\":{\"standoff\":15},\"zerolinecolor\":\"#EBF0F8\",\"zerolinewidth\":2}}},\"xaxis\":{\"anchor\":\"y\",\"domain\":[0.0,1.0],\"title\":{\"text\":\"Mileage_Bins\"},\"showline\":true,\"linewidth\":2,\"linecolor\":\"black\",\"ticks\":\"outside\"},\"yaxis\":{\"anchor\":\"x\",\"domain\":[0.0,1.0],\"title\":{\"text\":\"Price\"},\"showgrid\":true,\"showline\":true,\"linewidth\":1,\"linecolor\":\"black\"},\"legend\":{\"tracegroupgap\":0},\"title\":{\"text\":\"Price by Mileage Bin\"},\"barmode\":\"relative\",\"font\":{\"size\":12,\"family\":\"Arial\"}},                        {\"responsive\": true}                    ).then(function(){\n",
       "                            \n",
       "var gd = document.getElementById('9214e63f-549e-429f-960f-4080fa1674c2');\n",
       "var x = new MutationObserver(function (mutations, observer) {{\n",
       "        var display = window.getComputedStyle(gd).display;\n",
       "        if (!display || display === 'none') {{\n",
       "            console.log([gd, 'removed!']);\n",
       "            Plotly.purge(gd);\n",
       "            observer.disconnect();\n",
       "        }}\n",
       "}});\n",
       "\n",
       "// Listen for the removal of the full notebook cells\n",
       "var notebookContainer = gd.closest('#notebook-container');\n",
       "if (notebookContainer) {{\n",
       "    x.observe(notebookContainer, {childList: true});\n",
       "}}\n",
       "\n",
       "// Listen for the clearing of the current output cell\n",
       "var outputEl = gd.closest('.output');\n",
       "if (outputEl) {{\n",
       "    x.observe(outputEl, {childList: true});\n",
       "}}\n",
       "\n",
       "                        })                };                });            </script>        </div>"
      ]
     },
     "metadata": {},
     "output_type": "display_data"
    }
   ],
   "source": [
    "fig = px.bar(price_by_mileage, y='average_price', text='count', template='plotly_white', title='Price by Mileage Bin')\n",
    "\n",
    "fig.update_xaxes(title='Mileage_Bins', showline=True, linewidth=2, linecolor='black', ticks='outside')\n",
    "fig.update_yaxes(title='Price', showgrid=True, showline=True, linewidth=1, linecolor='black')\n",
    "fig.update_layout(font_size = 12, font_family='Arial')\n",
    "fig.show()"
   ]
  },
  {
   "cell_type": "markdown",
   "id": "a0fa5eab",
   "metadata": {},
   "source": [
    "#### Observations:\n",
    "- For the most part, as the mileage increases, cars become less expensive.\n",
    "- The only exception to this is that cars with mileage between 10,000 and 20,000 are priced slightly higher than those between 0 and 10000 miles."
   ]
  },
  {
   "cell_type": "markdown",
   "id": "ca3aabf4",
   "metadata": {},
   "source": [
    "#### Price to mileage ratio"
   ]
  },
  {
   "cell_type": "code",
   "execution_count": 24,
   "id": "e02bac49",
   "metadata": {
    "scrolled": true
   },
   "outputs": [
    {
     "data": {
      "text/html": [
       "<div>\n",
       "<style scoped>\n",
       "    .dataframe tbody tr th:only-of-type {\n",
       "        vertical-align: middle;\n",
       "    }\n",
       "\n",
       "    .dataframe tbody tr th {\n",
       "        vertical-align: top;\n",
       "    }\n",
       "\n",
       "    .dataframe thead th {\n",
       "        text-align: right;\n",
       "    }\n",
       "</style>\n",
       "<table border=\"1\" class=\"dataframe\">\n",
       "  <thead>\n",
       "    <tr style=\"text-align: right;\">\n",
       "      <th></th>\n",
       "      <th>price</th>\n",
       "      <th>brand</th>\n",
       "      <th>model</th>\n",
       "      <th>year</th>\n",
       "      <th>title_status</th>\n",
       "      <th>mileage</th>\n",
       "      <th>color</th>\n",
       "      <th>state</th>\n",
       "      <th>country</th>\n",
       "      <th>condition</th>\n",
       "      <th>mileage_bins</th>\n",
       "      <th>pm_ratio</th>\n",
       "    </tr>\n",
       "  </thead>\n",
       "  <tbody>\n",
       "    <tr>\n",
       "      <th>2085</th>\n",
       "      <td>31000</td>\n",
       "      <td>ford</td>\n",
       "      <td>door</td>\n",
       "      <td>2017</td>\n",
       "      <td>clean vehicle</td>\n",
       "      <td>1.00</td>\n",
       "      <td>black</td>\n",
       "      <td>illinois</td>\n",
       "      <td>usa</td>\n",
       "      <td>2 days left</td>\n",
       "      <td>(0, 10000]</td>\n",
       "      <td>31,000.00</td>\n",
       "    </tr>\n",
       "    <tr>\n",
       "      <th>1479</th>\n",
       "      <td>26000</td>\n",
       "      <td>ford</td>\n",
       "      <td>f-150</td>\n",
       "      <td>2018</td>\n",
       "      <td>clean vehicle</td>\n",
       "      <td>1.00</td>\n",
       "      <td>black</td>\n",
       "      <td>illinois</td>\n",
       "      <td>usa</td>\n",
       "      <td>2 days left</td>\n",
       "      <td>(0, 10000]</td>\n",
       "      <td>26,000.00</td>\n",
       "    </tr>\n",
       "    <tr>\n",
       "      <th>342</th>\n",
       "      <td>6680</td>\n",
       "      <td>heartland</td>\n",
       "      <td>country</td>\n",
       "      <td>2011</td>\n",
       "      <td>clean vehicle</td>\n",
       "      <td>1.00</td>\n",
       "      <td>gray</td>\n",
       "      <td>pennsylvania</td>\n",
       "      <td>usa</td>\n",
       "      <td>7 days left</td>\n",
       "      <td>(0, 10000]</td>\n",
       "      <td>6,680.00</td>\n",
       "    </tr>\n",
       "    <tr>\n",
       "      <th>325</th>\n",
       "      <td>4050</td>\n",
       "      <td>heartland</td>\n",
       "      <td>pioneer</td>\n",
       "      <td>2018</td>\n",
       "      <td>clean vehicle</td>\n",
       "      <td>1.00</td>\n",
       "      <td>gray</td>\n",
       "      <td>pennsylvania</td>\n",
       "      <td>usa</td>\n",
       "      <td>7 days left</td>\n",
       "      <td>(0, 10000]</td>\n",
       "      <td>4,050.00</td>\n",
       "    </tr>\n",
       "    <tr>\n",
       "      <th>2232</th>\n",
       "      <td>4000</td>\n",
       "      <td>nissan</td>\n",
       "      <td>sentra</td>\n",
       "      <td>2019</td>\n",
       "      <td>clean vehicle</td>\n",
       "      <td>1.00</td>\n",
       "      <td>black</td>\n",
       "      <td>arizona</td>\n",
       "      <td>usa</td>\n",
       "      <td>2 days left</td>\n",
       "      <td>(0, 10000]</td>\n",
       "      <td>4,000.00</td>\n",
       "    </tr>\n",
       "  </tbody>\n",
       "</table>\n",
       "</div>"
      ],
      "text/plain": [
       "      price      brand    model  year   title_status  mileage  color  \\\n",
       "2085  31000       ford     door  2017  clean vehicle     1.00  black   \n",
       "1479  26000       ford    f-150  2018  clean vehicle     1.00  black   \n",
       "342    6680  heartland  country  2011  clean vehicle     1.00   gray   \n",
       "325    4050  heartland  pioneer  2018  clean vehicle     1.00   gray   \n",
       "2232   4000     nissan   sentra  2019  clean vehicle     1.00  black   \n",
       "\n",
       "             state country    condition mileage_bins  pm_ratio  \n",
       "2085      illinois     usa  2 days left   (0, 10000] 31,000.00  \n",
       "1479      illinois     usa  2 days left   (0, 10000] 26,000.00  \n",
       "342   pennsylvania     usa  7 days left   (0, 10000]  6,680.00  \n",
       "325   pennsylvania     usa  7 days left   (0, 10000]  4,050.00  \n",
       "2232       arizona     usa  2 days left   (0, 10000]  4,000.00  "
      ]
     },
     "execution_count": 24,
     "metadata": {},
     "output_type": "execute_result"
    }
   ],
   "source": [
    "df['pm_ratio'] = df['price'] / df['mileage']\n",
    "\n",
    "df.sort_values(by='pm_ratio', ascending=False).head()"
   ]
  },
  {
   "cell_type": "code",
   "execution_count": 25,
   "id": "6fa989be",
   "metadata": {},
   "outputs": [
    {
     "data": {
      "text/html": [
       "<div>\n",
       "<style scoped>\n",
       "    .dataframe tbody tr th:only-of-type {\n",
       "        vertical-align: middle;\n",
       "    }\n",
       "\n",
       "    .dataframe tbody tr th {\n",
       "        vertical-align: top;\n",
       "    }\n",
       "\n",
       "    .dataframe thead th {\n",
       "        text-align: right;\n",
       "    }\n",
       "</style>\n",
       "<table border=\"1\" class=\"dataframe\">\n",
       "  <thead>\n",
       "    <tr style=\"text-align: right;\">\n",
       "      <th></th>\n",
       "      <th>price</th>\n",
       "      <th>brand</th>\n",
       "      <th>model</th>\n",
       "      <th>year</th>\n",
       "      <th>title_status</th>\n",
       "      <th>mileage</th>\n",
       "      <th>color</th>\n",
       "      <th>state</th>\n",
       "      <th>country</th>\n",
       "      <th>condition</th>\n",
       "      <th>mileage_bins</th>\n",
       "      <th>pm_ratio</th>\n",
       "    </tr>\n",
       "  </thead>\n",
       "  <tbody>\n",
       "    <tr>\n",
       "      <th>1714</th>\n",
       "      <td>43900</td>\n",
       "      <td>ford</td>\n",
       "      <td>explorer</td>\n",
       "      <td>2020</td>\n",
       "      <td>clean vehicle</td>\n",
       "      <td>2,089.00</td>\n",
       "      <td>no_color</td>\n",
       "      <td>south carolina</td>\n",
       "      <td>usa</td>\n",
       "      <td>21 hours left</td>\n",
       "      <td>(0, 10000]</td>\n",
       "      <td>21.01</td>\n",
       "    </tr>\n",
       "    <tr>\n",
       "      <th>966</th>\n",
       "      <td>19500</td>\n",
       "      <td>dodge</td>\n",
       "      <td>caravan</td>\n",
       "      <td>2019</td>\n",
       "      <td>clean vehicle</td>\n",
       "      <td>1,091.00</td>\n",
       "      <td>gray</td>\n",
       "      <td>arizona</td>\n",
       "      <td>usa</td>\n",
       "      <td>20 hours left</td>\n",
       "      <td>(0, 10000]</td>\n",
       "      <td>17.87</td>\n",
       "    </tr>\n",
       "    <tr>\n",
       "      <th>1269</th>\n",
       "      <td>35000</td>\n",
       "      <td>ford</td>\n",
       "      <td>mustang</td>\n",
       "      <td>2018</td>\n",
       "      <td>clean vehicle</td>\n",
       "      <td>2,042.00</td>\n",
       "      <td>blue</td>\n",
       "      <td>illinois</td>\n",
       "      <td>usa</td>\n",
       "      <td>21 hours left</td>\n",
       "      <td>(0, 10000]</td>\n",
       "      <td>17.14</td>\n",
       "    </tr>\n",
       "    <tr>\n",
       "      <th>1759</th>\n",
       "      <td>37500</td>\n",
       "      <td>ford</td>\n",
       "      <td>srw</td>\n",
       "      <td>2019</td>\n",
       "      <td>clean vehicle</td>\n",
       "      <td>2,382.00</td>\n",
       "      <td>silver</td>\n",
       "      <td>nevada</td>\n",
       "      <td>usa</td>\n",
       "      <td>5 days left</td>\n",
       "      <td>(0, 10000]</td>\n",
       "      <td>15.74</td>\n",
       "    </tr>\n",
       "    <tr>\n",
       "      <th>1486</th>\n",
       "      <td>37000</td>\n",
       "      <td>ford</td>\n",
       "      <td>f-150</td>\n",
       "      <td>2019</td>\n",
       "      <td>clean vehicle</td>\n",
       "      <td>2,384.00</td>\n",
       "      <td>gray</td>\n",
       "      <td>pennsylvania</td>\n",
       "      <td>usa</td>\n",
       "      <td>3 days left</td>\n",
       "      <td>(0, 10000]</td>\n",
       "      <td>15.52</td>\n",
       "    </tr>\n",
       "    <tr>\n",
       "      <th>1388</th>\n",
       "      <td>17000</td>\n",
       "      <td>ford</td>\n",
       "      <td>fusion</td>\n",
       "      <td>2020</td>\n",
       "      <td>clean vehicle</td>\n",
       "      <td>1,117.00</td>\n",
       "      <td>gray</td>\n",
       "      <td>pennsylvania</td>\n",
       "      <td>usa</td>\n",
       "      <td>2 days left</td>\n",
       "      <td>(0, 10000]</td>\n",
       "      <td>15.22</td>\n",
       "    </tr>\n",
       "    <tr>\n",
       "      <th>1253</th>\n",
       "      <td>30000</td>\n",
       "      <td>ford</td>\n",
       "      <td>ranger</td>\n",
       "      <td>2019</td>\n",
       "      <td>clean vehicle</td>\n",
       "      <td>2,590.00</td>\n",
       "      <td>gray</td>\n",
       "      <td>wisconsin</td>\n",
       "      <td>usa</td>\n",
       "      <td>21 hours left</td>\n",
       "      <td>(0, 10000]</td>\n",
       "      <td>11.58</td>\n",
       "    </tr>\n",
       "    <tr>\n",
       "      <th>94</th>\n",
       "      <td>39800</td>\n",
       "      <td>dodge</td>\n",
       "      <td>challenger</td>\n",
       "      <td>2015</td>\n",
       "      <td>clean vehicle</td>\n",
       "      <td>3,641.00</td>\n",
       "      <td>white</td>\n",
       "      <td>pennsylvania</td>\n",
       "      <td>usa</td>\n",
       "      <td>2 days left</td>\n",
       "      <td>(0, 10000]</td>\n",
       "      <td>10.93</td>\n",
       "    </tr>\n",
       "    <tr>\n",
       "      <th>646</th>\n",
       "      <td>46000</td>\n",
       "      <td>chevrolet</td>\n",
       "      <td>corvette</td>\n",
       "      <td>2016</td>\n",
       "      <td>clean vehicle</td>\n",
       "      <td>4,445.00</td>\n",
       "      <td>black</td>\n",
       "      <td>illinois</td>\n",
       "      <td>usa</td>\n",
       "      <td>2 days left</td>\n",
       "      <td>(0, 10000]</td>\n",
       "      <td>10.35</td>\n",
       "    </tr>\n",
       "    <tr>\n",
       "      <th>1676</th>\n",
       "      <td>23400</td>\n",
       "      <td>ford</td>\n",
       "      <td>fusion</td>\n",
       "      <td>2020</td>\n",
       "      <td>clean vehicle</td>\n",
       "      <td>2,452.00</td>\n",
       "      <td>gray</td>\n",
       "      <td>michigan</td>\n",
       "      <td>usa</td>\n",
       "      <td>21 hours left</td>\n",
       "      <td>(0, 10000]</td>\n",
       "      <td>9.54</td>\n",
       "    </tr>\n",
       "  </tbody>\n",
       "</table>\n",
       "</div>"
      ],
      "text/plain": [
       "      price      brand       model  year   title_status  mileage     color  \\\n",
       "1714  43900       ford    explorer  2020  clean vehicle 2,089.00  no_color   \n",
       "966   19500      dodge     caravan  2019  clean vehicle 1,091.00      gray   \n",
       "1269  35000       ford     mustang  2018  clean vehicle 2,042.00      blue   \n",
       "1759  37500       ford         srw  2019  clean vehicle 2,382.00    silver   \n",
       "1486  37000       ford       f-150  2019  clean vehicle 2,384.00      gray   \n",
       "1388  17000       ford      fusion  2020  clean vehicle 1,117.00      gray   \n",
       "1253  30000       ford      ranger  2019  clean vehicle 2,590.00      gray   \n",
       "94    39800      dodge  challenger  2015  clean vehicle 3,641.00     white   \n",
       "646   46000  chevrolet    corvette  2016  clean vehicle 4,445.00     black   \n",
       "1676  23400       ford      fusion  2020  clean vehicle 2,452.00      gray   \n",
       "\n",
       "               state country      condition mileage_bins  pm_ratio  \n",
       "1714  south carolina     usa  21 hours left   (0, 10000]     21.01  \n",
       "966          arizona     usa  20 hours left   (0, 10000]     17.87  \n",
       "1269        illinois     usa  21 hours left   (0, 10000]     17.14  \n",
       "1759          nevada     usa    5 days left   (0, 10000]     15.74  \n",
       "1486    pennsylvania     usa    3 days left   (0, 10000]     15.52  \n",
       "1388    pennsylvania     usa    2 days left   (0, 10000]     15.22  \n",
       "1253       wisconsin     usa  21 hours left   (0, 10000]     11.58  \n",
       "94      pennsylvania     usa    2 days left   (0, 10000]     10.93  \n",
       "646         illinois     usa    2 days left   (0, 10000]     10.35  \n",
       "1676        michigan     usa  21 hours left   (0, 10000]      9.54  "
      ]
     },
     "execution_count": 25,
     "metadata": {},
     "output_type": "execute_result"
    }
   ],
   "source": [
    "# Only inclue vehicles with at least 1000 miles on them because pm_ratio is skewed heavily to vehicles with low mileage\n",
    "df2 = df[df['mileage'] >= 1000]\n",
    "\n",
    "df2.sort_values(by='pm_ratio', ascending=False).head(10)"
   ]
  },
  {
   "cell_type": "code",
   "execution_count": 26,
   "id": "eebdbd8c",
   "metadata": {},
   "outputs": [
    {
     "data": {
      "text/plain": [
       "count   2,194.00\n",
       "mean        0.90\n",
       "std         1.35\n",
       "min         0.00\n",
       "25%         0.25\n",
       "50%         0.52\n",
       "75%         1.11\n",
       "max        21.01\n",
       "Name: pm_ratio, dtype: float64"
      ]
     },
     "execution_count": 26,
     "metadata": {},
     "output_type": "execute_result"
    }
   ],
   "source": [
    "df2['pm_ratio'].describe()"
   ]
  },
  {
   "cell_type": "markdown",
   "id": "ad6c8eb1",
   "metadata": {},
   "source": [
    "- We lose 120 cars by filtering for cars with at least 1000 miles on them.\n",
    "- The highest pm_ratio is 21.01 and the lowest pm_ratio is 0"
   ]
  },
  {
   "cell_type": "code",
   "execution_count": 27,
   "id": "7867920f",
   "metadata": {},
   "outputs": [
    {
     "data": {
      "text/plain": [
       "21.014602092956697"
      ]
     },
     "execution_count": 27,
     "metadata": {},
     "output_type": "execute_result"
    }
   ],
   "source": [
    "max_ratio = df2['pm_ratio'].max()\n",
    "min_ratio = df2['pm_ratio'].min()\n",
    "\n",
    "ratio_diff = max_ratio - min_ratio\n",
    "\n",
    "ratio_diff"
   ]
  },
  {
   "cell_type": "code",
   "execution_count": 28,
   "id": "3e3c9916",
   "metadata": {},
   "outputs": [
    {
     "data": {
      "text/html": [
       "<div>\n",
       "<style scoped>\n",
       "    .dataframe tbody tr th:only-of-type {\n",
       "        vertical-align: middle;\n",
       "    }\n",
       "\n",
       "    .dataframe tbody tr th {\n",
       "        vertical-align: top;\n",
       "    }\n",
       "\n",
       "    .dataframe thead th {\n",
       "        text-align: right;\n",
       "    }\n",
       "</style>\n",
       "<table border=\"1\" class=\"dataframe\">\n",
       "  <thead>\n",
       "    <tr style=\"text-align: right;\">\n",
       "      <th></th>\n",
       "      <th>price</th>\n",
       "      <th>brand</th>\n",
       "      <th>model</th>\n",
       "      <th>year</th>\n",
       "      <th>title_status</th>\n",
       "      <th>mileage</th>\n",
       "      <th>color</th>\n",
       "      <th>state</th>\n",
       "      <th>country</th>\n",
       "      <th>condition</th>\n",
       "      <th>mileage_bins</th>\n",
       "      <th>pm_ratio</th>\n",
       "      <th>value_earned</th>\n",
       "    </tr>\n",
       "  </thead>\n",
       "  <tbody>\n",
       "    <tr>\n",
       "      <th>1714</th>\n",
       "      <td>43900</td>\n",
       "      <td>ford</td>\n",
       "      <td>explorer</td>\n",
       "      <td>2020</td>\n",
       "      <td>clean vehicle</td>\n",
       "      <td>2,089.00</td>\n",
       "      <td>no_color</td>\n",
       "      <td>south carolina</td>\n",
       "      <td>usa</td>\n",
       "      <td>21 hours left</td>\n",
       "      <td>(0, 10000]</td>\n",
       "      <td>21.01</td>\n",
       "      <td>10.00</td>\n",
       "    </tr>\n",
       "    <tr>\n",
       "      <th>966</th>\n",
       "      <td>19500</td>\n",
       "      <td>dodge</td>\n",
       "      <td>caravan</td>\n",
       "      <td>2019</td>\n",
       "      <td>clean vehicle</td>\n",
       "      <td>1,091.00</td>\n",
       "      <td>gray</td>\n",
       "      <td>arizona</td>\n",
       "      <td>usa</td>\n",
       "      <td>20 hours left</td>\n",
       "      <td>(0, 10000]</td>\n",
       "      <td>17.87</td>\n",
       "      <td>8.51</td>\n",
       "    </tr>\n",
       "    <tr>\n",
       "      <th>1269</th>\n",
       "      <td>35000</td>\n",
       "      <td>ford</td>\n",
       "      <td>mustang</td>\n",
       "      <td>2018</td>\n",
       "      <td>clean vehicle</td>\n",
       "      <td>2,042.00</td>\n",
       "      <td>blue</td>\n",
       "      <td>illinois</td>\n",
       "      <td>usa</td>\n",
       "      <td>21 hours left</td>\n",
       "      <td>(0, 10000]</td>\n",
       "      <td>17.14</td>\n",
       "      <td>8.16</td>\n",
       "    </tr>\n",
       "    <tr>\n",
       "      <th>1759</th>\n",
       "      <td>37500</td>\n",
       "      <td>ford</td>\n",
       "      <td>srw</td>\n",
       "      <td>2019</td>\n",
       "      <td>clean vehicle</td>\n",
       "      <td>2,382.00</td>\n",
       "      <td>silver</td>\n",
       "      <td>nevada</td>\n",
       "      <td>usa</td>\n",
       "      <td>5 days left</td>\n",
       "      <td>(0, 10000]</td>\n",
       "      <td>15.74</td>\n",
       "      <td>7.49</td>\n",
       "    </tr>\n",
       "    <tr>\n",
       "      <th>1486</th>\n",
       "      <td>37000</td>\n",
       "      <td>ford</td>\n",
       "      <td>f-150</td>\n",
       "      <td>2019</td>\n",
       "      <td>clean vehicle</td>\n",
       "      <td>2,384.00</td>\n",
       "      <td>gray</td>\n",
       "      <td>pennsylvania</td>\n",
       "      <td>usa</td>\n",
       "      <td>3 days left</td>\n",
       "      <td>(0, 10000]</td>\n",
       "      <td>15.52</td>\n",
       "      <td>7.39</td>\n",
       "    </tr>\n",
       "    <tr>\n",
       "      <th>1388</th>\n",
       "      <td>17000</td>\n",
       "      <td>ford</td>\n",
       "      <td>fusion</td>\n",
       "      <td>2020</td>\n",
       "      <td>clean vehicle</td>\n",
       "      <td>1,117.00</td>\n",
       "      <td>gray</td>\n",
       "      <td>pennsylvania</td>\n",
       "      <td>usa</td>\n",
       "      <td>2 days left</td>\n",
       "      <td>(0, 10000]</td>\n",
       "      <td>15.22</td>\n",
       "      <td>7.24</td>\n",
       "    </tr>\n",
       "    <tr>\n",
       "      <th>1253</th>\n",
       "      <td>30000</td>\n",
       "      <td>ford</td>\n",
       "      <td>ranger</td>\n",
       "      <td>2019</td>\n",
       "      <td>clean vehicle</td>\n",
       "      <td>2,590.00</td>\n",
       "      <td>gray</td>\n",
       "      <td>wisconsin</td>\n",
       "      <td>usa</td>\n",
       "      <td>21 hours left</td>\n",
       "      <td>(0, 10000]</td>\n",
       "      <td>11.58</td>\n",
       "      <td>5.51</td>\n",
       "    </tr>\n",
       "    <tr>\n",
       "      <th>94</th>\n",
       "      <td>39800</td>\n",
       "      <td>dodge</td>\n",
       "      <td>challenger</td>\n",
       "      <td>2015</td>\n",
       "      <td>clean vehicle</td>\n",
       "      <td>3,641.00</td>\n",
       "      <td>white</td>\n",
       "      <td>pennsylvania</td>\n",
       "      <td>usa</td>\n",
       "      <td>2 days left</td>\n",
       "      <td>(0, 10000]</td>\n",
       "      <td>10.93</td>\n",
       "      <td>5.20</td>\n",
       "    </tr>\n",
       "    <tr>\n",
       "      <th>646</th>\n",
       "      <td>46000</td>\n",
       "      <td>chevrolet</td>\n",
       "      <td>corvette</td>\n",
       "      <td>2016</td>\n",
       "      <td>clean vehicle</td>\n",
       "      <td>4,445.00</td>\n",
       "      <td>black</td>\n",
       "      <td>illinois</td>\n",
       "      <td>usa</td>\n",
       "      <td>2 days left</td>\n",
       "      <td>(0, 10000]</td>\n",
       "      <td>10.35</td>\n",
       "      <td>4.92</td>\n",
       "    </tr>\n",
       "    <tr>\n",
       "      <th>1676</th>\n",
       "      <td>23400</td>\n",
       "      <td>ford</td>\n",
       "      <td>fusion</td>\n",
       "      <td>2020</td>\n",
       "      <td>clean vehicle</td>\n",
       "      <td>2,452.00</td>\n",
       "      <td>gray</td>\n",
       "      <td>michigan</td>\n",
       "      <td>usa</td>\n",
       "      <td>21 hours left</td>\n",
       "      <td>(0, 10000]</td>\n",
       "      <td>9.54</td>\n",
       "      <td>4.54</td>\n",
       "    </tr>\n",
       "  </tbody>\n",
       "</table>\n",
       "</div>"
      ],
      "text/plain": [
       "      price      brand       model  year   title_status  mileage     color  \\\n",
       "1714  43900       ford    explorer  2020  clean vehicle 2,089.00  no_color   \n",
       "966   19500      dodge     caravan  2019  clean vehicle 1,091.00      gray   \n",
       "1269  35000       ford     mustang  2018  clean vehicle 2,042.00      blue   \n",
       "1759  37500       ford         srw  2019  clean vehicle 2,382.00    silver   \n",
       "1486  37000       ford       f-150  2019  clean vehicle 2,384.00      gray   \n",
       "1388  17000       ford      fusion  2020  clean vehicle 1,117.00      gray   \n",
       "1253  30000       ford      ranger  2019  clean vehicle 2,590.00      gray   \n",
       "94    39800      dodge  challenger  2015  clean vehicle 3,641.00     white   \n",
       "646   46000  chevrolet    corvette  2016  clean vehicle 4,445.00     black   \n",
       "1676  23400       ford      fusion  2020  clean vehicle 2,452.00      gray   \n",
       "\n",
       "               state country      condition mileage_bins  pm_ratio  \\\n",
       "1714  south carolina     usa  21 hours left   (0, 10000]     21.01   \n",
       "966          arizona     usa  20 hours left   (0, 10000]     17.87   \n",
       "1269        illinois     usa  21 hours left   (0, 10000]     17.14   \n",
       "1759          nevada     usa    5 days left   (0, 10000]     15.74   \n",
       "1486    pennsylvania     usa    3 days left   (0, 10000]     15.52   \n",
       "1388    pennsylvania     usa    2 days left   (0, 10000]     15.22   \n",
       "1253       wisconsin     usa  21 hours left   (0, 10000]     11.58   \n",
       "94      pennsylvania     usa    2 days left   (0, 10000]     10.93   \n",
       "646         illinois     usa    2 days left   (0, 10000]     10.35   \n",
       "1676        michigan     usa  21 hours left   (0, 10000]      9.54   \n",
       "\n",
       "      value_earned  \n",
       "1714         10.00  \n",
       "966           8.51  \n",
       "1269          8.16  \n",
       "1759          7.49  \n",
       "1486          7.39  \n",
       "1388          7.24  \n",
       "1253          5.51  \n",
       "94            5.20  \n",
       "646           4.92  \n",
       "1676          4.54  "
      ]
     },
     "execution_count": 28,
     "metadata": {},
     "output_type": "execute_result"
    }
   ],
   "source": [
    "# Create a new \"value earned\" column\n",
    "df2['value_earned'] = ((10 * (df['pm_ratio'] - min_ratio)) / ratio_diff)\n",
    "\n",
    "# Top 10 most \"valuable\" cars\n",
    "df2.sort_values(by='value_earned', ascending=False).head(10)"
   ]
  },
  {
   "cell_type": "code",
   "execution_count": 106,
   "id": "6d149627",
   "metadata": {
    "scrolled": true
   },
   "outputs": [
    {
     "data": {
      "text/html": [
       "<div>\n",
       "<style scoped>\n",
       "    .dataframe tbody tr th:only-of-type {\n",
       "        vertical-align: middle;\n",
       "    }\n",
       "\n",
       "    .dataframe tbody tr th {\n",
       "        vertical-align: top;\n",
       "    }\n",
       "\n",
       "    .dataframe thead th {\n",
       "        text-align: right;\n",
       "    }\n",
       "</style>\n",
       "<table border=\"1\" class=\"dataframe\">\n",
       "  <thead>\n",
       "    <tr style=\"text-align: right;\">\n",
       "      <th></th>\n",
       "      <th>price</th>\n",
       "      <th>brand</th>\n",
       "      <th>model</th>\n",
       "      <th>year</th>\n",
       "      <th>title_status</th>\n",
       "      <th>mileage</th>\n",
       "      <th>color</th>\n",
       "      <th>state</th>\n",
       "      <th>country</th>\n",
       "      <th>condition</th>\n",
       "      <th>mileage_bins</th>\n",
       "      <th>pm_ratio</th>\n",
       "      <th>value_earned</th>\n",
       "    </tr>\n",
       "  </thead>\n",
       "  <tbody>\n",
       "    <tr>\n",
       "      <th>252</th>\n",
       "      <td>6530</td>\n",
       "      <td>jeep</td>\n",
       "      <td>mpv</td>\n",
       "      <td>2019</td>\n",
       "      <td>clean vehicle</td>\n",
       "      <td>10,185.00</td>\n",
       "      <td>black</td>\n",
       "      <td>georgia</td>\n",
       "      <td>usa</td>\n",
       "      <td>17 hours left</td>\n",
       "      <td>(10000, 20000]</td>\n",
       "      <td>0.64</td>\n",
       "      <td>0.30</td>\n",
       "    </tr>\n",
       "    <tr>\n",
       "      <th>148</th>\n",
       "      <td>4160</td>\n",
       "      <td>dodge</td>\n",
       "      <td>mpv</td>\n",
       "      <td>2018</td>\n",
       "      <td>clean vehicle</td>\n",
       "      <td>6,743.00</td>\n",
       "      <td>gray</td>\n",
       "      <td>florida</td>\n",
       "      <td>usa</td>\n",
       "      <td>16 hours left</td>\n",
       "      <td>(0, 10000]</td>\n",
       "      <td>0.62</td>\n",
       "      <td>0.29</td>\n",
       "    </tr>\n",
       "    <tr>\n",
       "      <th>1771</th>\n",
       "      <td>10000</td>\n",
       "      <td>ford</td>\n",
       "      <td>escape</td>\n",
       "      <td>2019</td>\n",
       "      <td>clean vehicle</td>\n",
       "      <td>19,993.00</td>\n",
       "      <td>silver</td>\n",
       "      <td>illinois</td>\n",
       "      <td>usa</td>\n",
       "      <td>19 hours left</td>\n",
       "      <td>(10000, 20000]</td>\n",
       "      <td>0.50</td>\n",
       "      <td>0.24</td>\n",
       "    </tr>\n",
       "    <tr>\n",
       "      <th>1945</th>\n",
       "      <td>7800</td>\n",
       "      <td>nissan</td>\n",
       "      <td>versa</td>\n",
       "      <td>2019</td>\n",
       "      <td>clean vehicle</td>\n",
       "      <td>15,832.00</td>\n",
       "      <td>black</td>\n",
       "      <td>arizona</td>\n",
       "      <td>usa</td>\n",
       "      <td>2 days left</td>\n",
       "      <td>(10000, 20000]</td>\n",
       "      <td>0.49</td>\n",
       "      <td>0.23</td>\n",
       "    </tr>\n",
       "    <tr>\n",
       "      <th>2181</th>\n",
       "      <td>9500</td>\n",
       "      <td>nissan</td>\n",
       "      <td>sentra</td>\n",
       "      <td>2019</td>\n",
       "      <td>clean vehicle</td>\n",
       "      <td>19,646.00</td>\n",
       "      <td>black</td>\n",
       "      <td>california</td>\n",
       "      <td>usa</td>\n",
       "      <td>1 days left</td>\n",
       "      <td>(10000, 20000]</td>\n",
       "      <td>0.48</td>\n",
       "      <td>0.23</td>\n",
       "    </tr>\n",
       "    <tr>\n",
       "      <th>292</th>\n",
       "      <td>9270</td>\n",
       "      <td>gmc</td>\n",
       "      <td>mpv</td>\n",
       "      <td>2017</td>\n",
       "      <td>clean vehicle</td>\n",
       "      <td>19,490.00</td>\n",
       "      <td>gray</td>\n",
       "      <td>virginia</td>\n",
       "      <td>usa</td>\n",
       "      <td>17 hours left</td>\n",
       "      <td>(10000, 20000]</td>\n",
       "      <td>0.48</td>\n",
       "      <td>0.23</td>\n",
       "    </tr>\n",
       "    <tr>\n",
       "      <th>249</th>\n",
       "      <td>7340</td>\n",
       "      <td>ford</td>\n",
       "      <td>doors</td>\n",
       "      <td>2019</td>\n",
       "      <td>clean vehicle</td>\n",
       "      <td>15,854.00</td>\n",
       "      <td>gray</td>\n",
       "      <td>florida</td>\n",
       "      <td>usa</td>\n",
       "      <td>17 hours left</td>\n",
       "      <td>(10000, 20000]</td>\n",
       "      <td>0.46</td>\n",
       "      <td>0.22</td>\n",
       "    </tr>\n",
       "    <tr>\n",
       "      <th>256</th>\n",
       "      <td>7400</td>\n",
       "      <td>ford</td>\n",
       "      <td>doors</td>\n",
       "      <td>2019</td>\n",
       "      <td>clean vehicle</td>\n",
       "      <td>16,482.00</td>\n",
       "      <td>gray</td>\n",
       "      <td>florida</td>\n",
       "      <td>usa</td>\n",
       "      <td>17 hours left</td>\n",
       "      <td>(10000, 20000]</td>\n",
       "      <td>0.45</td>\n",
       "      <td>0.21</td>\n",
       "    </tr>\n",
       "    <tr>\n",
       "      <th>109</th>\n",
       "      <td>9200</td>\n",
       "      <td>ford</td>\n",
       "      <td>door</td>\n",
       "      <td>2017</td>\n",
       "      <td>clean vehicle</td>\n",
       "      <td>21,770.00</td>\n",
       "      <td>black</td>\n",
       "      <td>texas</td>\n",
       "      <td>usa</td>\n",
       "      <td>2 days left</td>\n",
       "      <td>(20000, 30000]</td>\n",
       "      <td>0.42</td>\n",
       "      <td>0.20</td>\n",
       "    </tr>\n",
       "    <tr>\n",
       "      <th>98</th>\n",
       "      <td>8700</td>\n",
       "      <td>ford</td>\n",
       "      <td>focus</td>\n",
       "      <td>2018</td>\n",
       "      <td>clean vehicle</td>\n",
       "      <td>21,405.00</td>\n",
       "      <td>white</td>\n",
       "      <td>south carolina</td>\n",
       "      <td>usa</td>\n",
       "      <td>21 hours left</td>\n",
       "      <td>(20000, 30000]</td>\n",
       "      <td>0.41</td>\n",
       "      <td>0.19</td>\n",
       "    </tr>\n",
       "  </tbody>\n",
       "</table>\n",
       "</div>"
      ],
      "text/plain": [
       "      price   brand   model  year   title_status   mileage   color  \\\n",
       "252    6530    jeep     mpv  2019  clean vehicle 10,185.00   black   \n",
       "148    4160   dodge     mpv  2018  clean vehicle  6,743.00    gray   \n",
       "1771  10000    ford  escape  2019  clean vehicle 19,993.00  silver   \n",
       "1945   7800  nissan   versa  2019  clean vehicle 15,832.00   black   \n",
       "2181   9500  nissan  sentra  2019  clean vehicle 19,646.00   black   \n",
       "292    9270     gmc     mpv  2017  clean vehicle 19,490.00    gray   \n",
       "249    7340    ford   doors  2019  clean vehicle 15,854.00    gray   \n",
       "256    7400    ford   doors  2019  clean vehicle 16,482.00    gray   \n",
       "109    9200    ford    door  2017  clean vehicle 21,770.00   black   \n",
       "98     8700    ford   focus  2018  clean vehicle 21,405.00   white   \n",
       "\n",
       "               state country      condition    mileage_bins  pm_ratio  \\\n",
       "252          georgia     usa  17 hours left  (10000, 20000]      0.64   \n",
       "148          florida     usa  16 hours left      (0, 10000]      0.62   \n",
       "1771        illinois     usa  19 hours left  (10000, 20000]      0.50   \n",
       "1945         arizona     usa    2 days left  (10000, 20000]      0.49   \n",
       "2181      california     usa    1 days left  (10000, 20000]      0.48   \n",
       "292         virginia     usa  17 hours left  (10000, 20000]      0.48   \n",
       "249          florida     usa  17 hours left  (10000, 20000]      0.46   \n",
       "256          florida     usa  17 hours left  (10000, 20000]      0.45   \n",
       "109            texas     usa    2 days left  (20000, 30000]      0.42   \n",
       "98    south carolina     usa  21 hours left  (20000, 30000]      0.41   \n",
       "\n",
       "      value_earned  \n",
       "252           0.30  \n",
       "148           0.29  \n",
       "1771          0.24  \n",
       "1945          0.23  \n",
       "2181          0.23  \n",
       "292           0.23  \n",
       "249           0.22  \n",
       "256           0.21  \n",
       "109           0.20  \n",
       "98            0.19  "
      ]
     },
     "execution_count": 106,
     "metadata": {},
     "output_type": "execute_result"
    }
   ],
   "source": [
    "# Filter for cars that are priced at $10,000 or less because that is my budget\n",
    "df3 = df2[df2['price'] <= 10000]\n",
    "\n",
    "# Only include 'clean vehicles'\n",
    "df3 = df3[df3['title_status'] == 'clean vehicle']\n",
    "\n",
    "# Top 10 most \"valuable\" cars priced at $10,000 or less\n",
    "df3.sort_values(by='value_earned', ascending=False).head(10)"
   ]
  },
  {
   "cell_type": "markdown",
   "id": "26750f61",
   "metadata": {},
   "source": [
    "- The **Jeep MPV** (Multi-Purpose Vehicle) is the most **\"valuable\"** car in this dataset priced at **$10,000 or less**."
   ]
  },
  {
   "cell_type": "markdown",
   "id": "8240d370",
   "metadata": {},
   "source": [
    "### Year Column"
   ]
  },
  {
   "cell_type": "code",
   "execution_count": 132,
   "id": "b52b40d1",
   "metadata": {},
   "outputs": [
    {
     "data": {
      "text/html": [
       "<div>\n",
       "<style scoped>\n",
       "    .dataframe tbody tr th:only-of-type {\n",
       "        vertical-align: middle;\n",
       "    }\n",
       "\n",
       "    .dataframe tbody tr th {\n",
       "        vertical-align: top;\n",
       "    }\n",
       "\n",
       "    .dataframe thead th {\n",
       "        text-align: right;\n",
       "    }\n",
       "</style>\n",
       "<table border=\"1\" class=\"dataframe\">\n",
       "  <thead>\n",
       "    <tr style=\"text-align: right;\">\n",
       "      <th></th>\n",
       "      <th>year</th>\n",
       "      <th>count</th>\n",
       "    </tr>\n",
       "  </thead>\n",
       "  <tbody>\n",
       "    <tr>\n",
       "      <th>9</th>\n",
       "      <td>2011</td>\n",
       "      <td>15</td>\n",
       "    </tr>\n",
       "    <tr>\n",
       "      <th>10</th>\n",
       "      <td>2012</td>\n",
       "      <td>32</td>\n",
       "    </tr>\n",
       "    <tr>\n",
       "      <th>11</th>\n",
       "      <td>2013</td>\n",
       "      <td>56</td>\n",
       "    </tr>\n",
       "    <tr>\n",
       "      <th>12</th>\n",
       "      <td>2014</td>\n",
       "      <td>75</td>\n",
       "    </tr>\n",
       "    <tr>\n",
       "      <th>13</th>\n",
       "      <td>2015</td>\n",
       "      <td>179</td>\n",
       "    </tr>\n",
       "    <tr>\n",
       "      <th>14</th>\n",
       "      <td>2016</td>\n",
       "      <td>195</td>\n",
       "    </tr>\n",
       "    <tr>\n",
       "      <th>15</th>\n",
       "      <td>2017</td>\n",
       "      <td>353</td>\n",
       "    </tr>\n",
       "    <tr>\n",
       "      <th>16</th>\n",
       "      <td>2018</td>\n",
       "      <td>388</td>\n",
       "    </tr>\n",
       "    <tr>\n",
       "      <th>17</th>\n",
       "      <td>2019</td>\n",
       "      <td>857</td>\n",
       "    </tr>\n",
       "    <tr>\n",
       "      <th>18</th>\n",
       "      <td>2020</td>\n",
       "      <td>45</td>\n",
       "    </tr>\n",
       "  </tbody>\n",
       "</table>\n",
       "</div>"
      ],
      "text/plain": [
       "    year  count\n",
       "9   2011     15\n",
       "10  2012     32\n",
       "11  2013     56\n",
       "12  2014     75\n",
       "13  2015    179\n",
       "14  2016    195\n",
       "15  2017    353\n",
       "16  2018    388\n",
       "17  2019    857\n",
       "18  2020     45"
      ]
     },
     "execution_count": 132,
     "metadata": {},
     "output_type": "execute_result"
    }
   ],
   "source": [
    "cars_by_year = df.groupby('year')['model'].count().reset_index(name='count')\n",
    "\n",
    "# Only include cars from 2011 or later (since their are so few cars for the years before then)\n",
    "cars_by_year = cars_by_model_year[cars_by_model_year['year'] >= 2011]\n",
    "\n",
    "cars_by_year"
   ]
  },
  {
   "cell_type": "markdown",
   "id": "4c3114e2",
   "metadata": {},
   "source": [
    "### Question: What is the average price of a car by year for cars manufactured in 2011 or later?"
   ]
  },
  {
   "cell_type": "code",
   "execution_count": 150,
   "id": "259fb935",
   "metadata": {},
   "outputs": [
    {
     "data": {
      "text/html": [
       "<div>\n",
       "<style scoped>\n",
       "    .dataframe tbody tr th:only-of-type {\n",
       "        vertical-align: middle;\n",
       "    }\n",
       "\n",
       "    .dataframe tbody tr th {\n",
       "        vertical-align: top;\n",
       "    }\n",
       "\n",
       "    .dataframe thead th {\n",
       "        text-align: right;\n",
       "    }\n",
       "</style>\n",
       "<table border=\"1\" class=\"dataframe\">\n",
       "  <thead>\n",
       "    <tr style=\"text-align: right;\">\n",
       "      <th></th>\n",
       "      <th>count</th>\n",
       "      <th>average_price</th>\n",
       "    </tr>\n",
       "    <tr>\n",
       "      <th>year</th>\n",
       "      <th></th>\n",
       "      <th></th>\n",
       "    </tr>\n",
       "  </thead>\n",
       "  <tbody>\n",
       "    <tr>\n",
       "      <th>2011</th>\n",
       "      <td>15</td>\n",
       "      <td>8,274.33</td>\n",
       "    </tr>\n",
       "    <tr>\n",
       "      <th>2012</th>\n",
       "      <td>32</td>\n",
       "      <td>9,707.44</td>\n",
       "    </tr>\n",
       "    <tr>\n",
       "      <th>2013</th>\n",
       "      <td>56</td>\n",
       "      <td>9,693.30</td>\n",
       "    </tr>\n",
       "    <tr>\n",
       "      <th>2014</th>\n",
       "      <td>75</td>\n",
       "      <td>12,921.76</td>\n",
       "    </tr>\n",
       "    <tr>\n",
       "      <th>2015</th>\n",
       "      <td>179</td>\n",
       "      <td>15,758.92</td>\n",
       "    </tr>\n",
       "    <tr>\n",
       "      <th>2016</th>\n",
       "      <td>195</td>\n",
       "      <td>17,424.85</td>\n",
       "    </tr>\n",
       "    <tr>\n",
       "      <th>2017</th>\n",
       "      <td>353</td>\n",
       "      <td>17,406.84</td>\n",
       "    </tr>\n",
       "    <tr>\n",
       "      <th>2018</th>\n",
       "      <td>388</td>\n",
       "      <td>18,391.87</td>\n",
       "    </tr>\n",
       "    <tr>\n",
       "      <th>2019</th>\n",
       "      <td>857</td>\n",
       "      <td>22,744.35</td>\n",
       "    </tr>\n",
       "    <tr>\n",
       "      <th>2020</th>\n",
       "      <td>45</td>\n",
       "      <td>22,829.44</td>\n",
       "    </tr>\n",
       "  </tbody>\n",
       "</table>\n",
       "</div>"
      ],
      "text/plain": [
       "      count  average_price\n",
       "year                      \n",
       "2011     15       8,274.33\n",
       "2012     32       9,707.44\n",
       "2013     56       9,693.30\n",
       "2014     75      12,921.76\n",
       "2015    179      15,758.92\n",
       "2016    195      17,424.85\n",
       "2017    353      17,406.84\n",
       "2018    388      18,391.87\n",
       "2019    857      22,744.35\n",
       "2020     45      22,829.44"
      ]
     },
     "execution_count": 150,
     "metadata": {},
     "output_type": "execute_result"
    }
   ],
   "source": [
    "# Average price of a car by year\n",
    "price_by_year = df.groupby('year')['price'].agg({'mean', 'count'})\n",
    "\n",
    "# Rename 'mean' to 'average_price'\n",
    "price_by_year.rename(columns={\"mean\": 'average_price'}, inplace=True)\n",
    "\n",
    "# Filter for 2011 and later\n",
    "price_by_year = price_by_year[price_by_year.index >= 2011]\n",
    "\n",
    "price_by_year"
   ]
  },
  {
   "cell_type": "code",
   "execution_count": 173,
   "id": "67baaa23",
   "metadata": {
    "scrolled": true
   },
   "outputs": [
    {
     "data": {
      "text/html": [
       "<div>\n",
       "<style scoped>\n",
       "    .dataframe tbody tr th:only-of-type {\n",
       "        vertical-align: middle;\n",
       "    }\n",
       "\n",
       "    .dataframe tbody tr th {\n",
       "        vertical-align: top;\n",
       "    }\n",
       "\n",
       "    .dataframe thead th {\n",
       "        text-align: right;\n",
       "    }\n",
       "</style>\n",
       "<table border=\"1\" class=\"dataframe\">\n",
       "  <thead>\n",
       "    <tr style=\"text-align: right;\">\n",
       "      <th></th>\n",
       "      <th>mileage</th>\n",
       "    </tr>\n",
       "    <tr>\n",
       "      <th>year</th>\n",
       "      <th></th>\n",
       "    </tr>\n",
       "  </thead>\n",
       "  <tbody>\n",
       "    <tr>\n",
       "      <th>2011</th>\n",
       "      <td>84,025.00</td>\n",
       "    </tr>\n",
       "    <tr>\n",
       "      <th>2012</th>\n",
       "      <td>84,567.00</td>\n",
       "    </tr>\n",
       "    <tr>\n",
       "      <th>2013</th>\n",
       "      <td>91,462.00</td>\n",
       "    </tr>\n",
       "    <tr>\n",
       "      <th>2014</th>\n",
       "      <td>73,883.00</td>\n",
       "    </tr>\n",
       "    <tr>\n",
       "      <th>2015</th>\n",
       "      <td>63,722.00</td>\n",
       "    </tr>\n",
       "    <tr>\n",
       "      <th>2016</th>\n",
       "      <td>56,833.00</td>\n",
       "    </tr>\n",
       "    <tr>\n",
       "      <th>2017</th>\n",
       "      <td>46,880.00</td>\n",
       "    </tr>\n",
       "    <tr>\n",
       "      <th>2018</th>\n",
       "      <td>34,357.00</td>\n",
       "    </tr>\n",
       "    <tr>\n",
       "      <th>2019</th>\n",
       "      <td>24,358.00</td>\n",
       "    </tr>\n",
       "    <tr>\n",
       "      <th>2020</th>\n",
       "      <td>10,945.00</td>\n",
       "    </tr>\n",
       "  </tbody>\n",
       "</table>\n",
       "</div>"
      ],
      "text/plain": [
       "       mileage\n",
       "year          \n",
       "2011 84,025.00\n",
       "2012 84,567.00\n",
       "2013 91,462.00\n",
       "2014 73,883.00\n",
       "2015 63,722.00\n",
       "2016 56,833.00\n",
       "2017 46,880.00\n",
       "2018 34,357.00\n",
       "2019 24,358.00\n",
       "2020 10,945.00"
      ]
     },
     "execution_count": 173,
     "metadata": {},
     "output_type": "execute_result"
    }
   ],
   "source": [
    "mileage_by_year = pd.DataFrame(df.groupby('year')['mileage'].mean())\n",
    "\n",
    "# Filter for 2011 and later\n",
    "mileage_by_year = mileage_by_year[mileage_by_year.index >= 2011]\n",
    "\n",
    "mileage_by_year = pd.DataFrame(mileage_by_year['mileage'].round(decimals=0))\n",
    "\n",
    "mileage_by_year"
   ]
  },
  {
   "cell_type": "code",
   "execution_count": 186,
   "id": "90ed0d6f",
   "metadata": {},
   "outputs": [
    {
     "data": {
      "text/html": [
       "<div>\n",
       "<style scoped>\n",
       "    .dataframe tbody tr th:only-of-type {\n",
       "        vertical-align: middle;\n",
       "    }\n",
       "\n",
       "    .dataframe tbody tr th {\n",
       "        vertical-align: top;\n",
       "    }\n",
       "\n",
       "    .dataframe thead th {\n",
       "        text-align: right;\n",
       "    }\n",
       "</style>\n",
       "<table border=\"1\" class=\"dataframe\">\n",
       "  <thead>\n",
       "    <tr style=\"text-align: right;\">\n",
       "      <th></th>\n",
       "      <th>count</th>\n",
       "      <th>average_price</th>\n",
       "      <th>text</th>\n",
       "    </tr>\n",
       "    <tr>\n",
       "      <th>year</th>\n",
       "      <th></th>\n",
       "      <th></th>\n",
       "      <th></th>\n",
       "    </tr>\n",
       "  </thead>\n",
       "  <tbody>\n",
       "    <tr>\n",
       "      <th>2011</th>\n",
       "      <td>15</td>\n",
       "      <td>8,274.33</td>\n",
       "      <td>15 cars, 84025.0 miles</td>\n",
       "    </tr>\n",
       "    <tr>\n",
       "      <th>2012</th>\n",
       "      <td>32</td>\n",
       "      <td>9,707.44</td>\n",
       "      <td>32 cars, 84567.0 miles</td>\n",
       "    </tr>\n",
       "    <tr>\n",
       "      <th>2013</th>\n",
       "      <td>56</td>\n",
       "      <td>9,693.30</td>\n",
       "      <td>56 cars, 91462.0 miles</td>\n",
       "    </tr>\n",
       "    <tr>\n",
       "      <th>2014</th>\n",
       "      <td>75</td>\n",
       "      <td>12,921.76</td>\n",
       "      <td>75 cars, 73883.0 miles</td>\n",
       "    </tr>\n",
       "    <tr>\n",
       "      <th>2015</th>\n",
       "      <td>179</td>\n",
       "      <td>15,758.92</td>\n",
       "      <td>179 cars, 63722.0 miles</td>\n",
       "    </tr>\n",
       "    <tr>\n",
       "      <th>2016</th>\n",
       "      <td>195</td>\n",
       "      <td>17,424.85</td>\n",
       "      <td>195 cars, 56833.0 miles</td>\n",
       "    </tr>\n",
       "    <tr>\n",
       "      <th>2017</th>\n",
       "      <td>353</td>\n",
       "      <td>17,406.84</td>\n",
       "      <td>353 cars, 46880.0 miles</td>\n",
       "    </tr>\n",
       "    <tr>\n",
       "      <th>2018</th>\n",
       "      <td>388</td>\n",
       "      <td>18,391.87</td>\n",
       "      <td>388 cars, 34357.0 miles</td>\n",
       "    </tr>\n",
       "    <tr>\n",
       "      <th>2019</th>\n",
       "      <td>857</td>\n",
       "      <td>22,744.35</td>\n",
       "      <td>857 cars, 24358.0 miles</td>\n",
       "    </tr>\n",
       "    <tr>\n",
       "      <th>2020</th>\n",
       "      <td>45</td>\n",
       "      <td>22,829.44</td>\n",
       "      <td>45 cars, 10945.0 miles</td>\n",
       "    </tr>\n",
       "  </tbody>\n",
       "</table>\n",
       "</div>"
      ],
      "text/plain": [
       "      count  average_price                     text\n",
       "year                                               \n",
       "2011     15       8,274.33   15 cars, 84025.0 miles\n",
       "2012     32       9,707.44   32 cars, 84567.0 miles\n",
       "2013     56       9,693.30   56 cars, 91462.0 miles\n",
       "2014     75      12,921.76   75 cars, 73883.0 miles\n",
       "2015    179      15,758.92  179 cars, 63722.0 miles\n",
       "2016    195      17,424.85  195 cars, 56833.0 miles\n",
       "2017    353      17,406.84  353 cars, 46880.0 miles\n",
       "2018    388      18,391.87  388 cars, 34357.0 miles\n",
       "2019    857      22,744.35  857 cars, 24358.0 miles\n",
       "2020     45      22,829.44   45 cars, 10945.0 miles"
      ]
     },
     "execution_count": 186,
     "metadata": {},
     "output_type": "execute_result"
    }
   ],
   "source": [
    "price_by_year['text'] = price_by_year[\"count\"].map(str) + ' cars, ' + mileage_by_year['mileage'].map(str) + ' miles'\n",
    "\n",
    "price_by_year"
   ]
  },
  {
   "cell_type": "code",
   "execution_count": 200,
   "id": "f167ba92",
   "metadata": {
    "scrolled": true
   },
   "outputs": [
    {
     "data": {
      "application/vnd.plotly.v1+json": {
       "config": {
        "plotlyServerURL": "https://plot.ly"
       },
       "data": [
        {
         "alignmentgroup": "True",
         "hovertemplate": "year=%{x}<br>average_price=%{y}<br>text=%{text}<extra></extra>",
         "legendgroup": "",
         "marker": {
          "color": "#636efa",
          "pattern": {
           "shape": ""
          }
         },
         "name": "",
         "offsetgroup": "",
         "orientation": "v",
         "showlegend": false,
         "text": [
          "15 cars, 84025.0 miles",
          "32 cars, 84567.0 miles",
          "56 cars, 91462.0 miles",
          "75 cars, 73883.0 miles",
          "179 cars, 63722.0 miles",
          "195 cars, 56833.0 miles",
          "353 cars, 46880.0 miles",
          "388 cars, 34357.0 miles",
          "857 cars, 24358.0 miles",
          "45 cars, 10945.0 miles"
         ],
         "textangle": 0,
         "textfont": {
          "size": 14
         },
         "textposition": "auto",
         "type": "bar",
         "x": [
          2011,
          2012,
          2013,
          2014,
          2015,
          2016,
          2017,
          2018,
          2019,
          2020
         ],
         "xaxis": "x",
         "y": [
          8274.333333333334,
          9707.4375,
          9693.30357142857,
          12921.76,
          15758.921787709498,
          17424.846153846152,
          17406.838526912183,
          18391.865979381444,
          22744.353558926487,
          22829.444444444445
         ],
         "yaxis": "y"
        }
       ],
       "layout": {
        "barmode": "relative",
        "font": {
         "family": "Arial",
         "size": 12
        },
        "legend": {
         "tracegroupgap": 0
        },
        "template": {
         "data": {
          "bar": [
           {
            "error_x": {
             "color": "#2a3f5f"
            },
            "error_y": {
             "color": "#2a3f5f"
            },
            "marker": {
             "line": {
              "color": "white",
              "width": 0.5
             },
             "pattern": {
              "fillmode": "overlay",
              "size": 10,
              "solidity": 0.2
             }
            },
            "type": "bar"
           }
          ],
          "barpolar": [
           {
            "marker": {
             "line": {
              "color": "white",
              "width": 0.5
             },
             "pattern": {
              "fillmode": "overlay",
              "size": 10,
              "solidity": 0.2
             }
            },
            "type": "barpolar"
           }
          ],
          "carpet": [
           {
            "aaxis": {
             "endlinecolor": "#2a3f5f",
             "gridcolor": "#C8D4E3",
             "linecolor": "#C8D4E3",
             "minorgridcolor": "#C8D4E3",
             "startlinecolor": "#2a3f5f"
            },
            "baxis": {
             "endlinecolor": "#2a3f5f",
             "gridcolor": "#C8D4E3",
             "linecolor": "#C8D4E3",
             "minorgridcolor": "#C8D4E3",
             "startlinecolor": "#2a3f5f"
            },
            "type": "carpet"
           }
          ],
          "choropleth": [
           {
            "colorbar": {
             "outlinewidth": 0,
             "ticks": ""
            },
            "type": "choropleth"
           }
          ],
          "contour": [
           {
            "colorbar": {
             "outlinewidth": 0,
             "ticks": ""
            },
            "colorscale": [
             [
              0,
              "#0d0887"
             ],
             [
              0.1111111111111111,
              "#46039f"
             ],
             [
              0.2222222222222222,
              "#7201a8"
             ],
             [
              0.3333333333333333,
              "#9c179e"
             ],
             [
              0.4444444444444444,
              "#bd3786"
             ],
             [
              0.5555555555555556,
              "#d8576b"
             ],
             [
              0.6666666666666666,
              "#ed7953"
             ],
             [
              0.7777777777777778,
              "#fb9f3a"
             ],
             [
              0.8888888888888888,
              "#fdca26"
             ],
             [
              1,
              "#f0f921"
             ]
            ],
            "type": "contour"
           }
          ],
          "contourcarpet": [
           {
            "colorbar": {
             "outlinewidth": 0,
             "ticks": ""
            },
            "type": "contourcarpet"
           }
          ],
          "heatmap": [
           {
            "colorbar": {
             "outlinewidth": 0,
             "ticks": ""
            },
            "colorscale": [
             [
              0,
              "#0d0887"
             ],
             [
              0.1111111111111111,
              "#46039f"
             ],
             [
              0.2222222222222222,
              "#7201a8"
             ],
             [
              0.3333333333333333,
              "#9c179e"
             ],
             [
              0.4444444444444444,
              "#bd3786"
             ],
             [
              0.5555555555555556,
              "#d8576b"
             ],
             [
              0.6666666666666666,
              "#ed7953"
             ],
             [
              0.7777777777777778,
              "#fb9f3a"
             ],
             [
              0.8888888888888888,
              "#fdca26"
             ],
             [
              1,
              "#f0f921"
             ]
            ],
            "type": "heatmap"
           }
          ],
          "heatmapgl": [
           {
            "colorbar": {
             "outlinewidth": 0,
             "ticks": ""
            },
            "colorscale": [
             [
              0,
              "#0d0887"
             ],
             [
              0.1111111111111111,
              "#46039f"
             ],
             [
              0.2222222222222222,
              "#7201a8"
             ],
             [
              0.3333333333333333,
              "#9c179e"
             ],
             [
              0.4444444444444444,
              "#bd3786"
             ],
             [
              0.5555555555555556,
              "#d8576b"
             ],
             [
              0.6666666666666666,
              "#ed7953"
             ],
             [
              0.7777777777777778,
              "#fb9f3a"
             ],
             [
              0.8888888888888888,
              "#fdca26"
             ],
             [
              1,
              "#f0f921"
             ]
            ],
            "type": "heatmapgl"
           }
          ],
          "histogram": [
           {
            "marker": {
             "pattern": {
              "fillmode": "overlay",
              "size": 10,
              "solidity": 0.2
             }
            },
            "type": "histogram"
           }
          ],
          "histogram2d": [
           {
            "colorbar": {
             "outlinewidth": 0,
             "ticks": ""
            },
            "colorscale": [
             [
              0,
              "#0d0887"
             ],
             [
              0.1111111111111111,
              "#46039f"
             ],
             [
              0.2222222222222222,
              "#7201a8"
             ],
             [
              0.3333333333333333,
              "#9c179e"
             ],
             [
              0.4444444444444444,
              "#bd3786"
             ],
             [
              0.5555555555555556,
              "#d8576b"
             ],
             [
              0.6666666666666666,
              "#ed7953"
             ],
             [
              0.7777777777777778,
              "#fb9f3a"
             ],
             [
              0.8888888888888888,
              "#fdca26"
             ],
             [
              1,
              "#f0f921"
             ]
            ],
            "type": "histogram2d"
           }
          ],
          "histogram2dcontour": [
           {
            "colorbar": {
             "outlinewidth": 0,
             "ticks": ""
            },
            "colorscale": [
             [
              0,
              "#0d0887"
             ],
             [
              0.1111111111111111,
              "#46039f"
             ],
             [
              0.2222222222222222,
              "#7201a8"
             ],
             [
              0.3333333333333333,
              "#9c179e"
             ],
             [
              0.4444444444444444,
              "#bd3786"
             ],
             [
              0.5555555555555556,
              "#d8576b"
             ],
             [
              0.6666666666666666,
              "#ed7953"
             ],
             [
              0.7777777777777778,
              "#fb9f3a"
             ],
             [
              0.8888888888888888,
              "#fdca26"
             ],
             [
              1,
              "#f0f921"
             ]
            ],
            "type": "histogram2dcontour"
           }
          ],
          "mesh3d": [
           {
            "colorbar": {
             "outlinewidth": 0,
             "ticks": ""
            },
            "type": "mesh3d"
           }
          ],
          "parcoords": [
           {
            "line": {
             "colorbar": {
              "outlinewidth": 0,
              "ticks": ""
             }
            },
            "type": "parcoords"
           }
          ],
          "pie": [
           {
            "automargin": true,
            "type": "pie"
           }
          ],
          "scatter": [
           {
            "fillpattern": {
             "fillmode": "overlay",
             "size": 10,
             "solidity": 0.2
            },
            "type": "scatter"
           }
          ],
          "scatter3d": [
           {
            "line": {
             "colorbar": {
              "outlinewidth": 0,
              "ticks": ""
             }
            },
            "marker": {
             "colorbar": {
              "outlinewidth": 0,
              "ticks": ""
             }
            },
            "type": "scatter3d"
           }
          ],
          "scattercarpet": [
           {
            "marker": {
             "colorbar": {
              "outlinewidth": 0,
              "ticks": ""
             }
            },
            "type": "scattercarpet"
           }
          ],
          "scattergeo": [
           {
            "marker": {
             "colorbar": {
              "outlinewidth": 0,
              "ticks": ""
             }
            },
            "type": "scattergeo"
           }
          ],
          "scattergl": [
           {
            "marker": {
             "colorbar": {
              "outlinewidth": 0,
              "ticks": ""
             }
            },
            "type": "scattergl"
           }
          ],
          "scattermapbox": [
           {
            "marker": {
             "colorbar": {
              "outlinewidth": 0,
              "ticks": ""
             }
            },
            "type": "scattermapbox"
           }
          ],
          "scatterpolar": [
           {
            "marker": {
             "colorbar": {
              "outlinewidth": 0,
              "ticks": ""
             }
            },
            "type": "scatterpolar"
           }
          ],
          "scatterpolargl": [
           {
            "marker": {
             "colorbar": {
              "outlinewidth": 0,
              "ticks": ""
             }
            },
            "type": "scatterpolargl"
           }
          ],
          "scatterternary": [
           {
            "marker": {
             "colorbar": {
              "outlinewidth": 0,
              "ticks": ""
             }
            },
            "type": "scatterternary"
           }
          ],
          "surface": [
           {
            "colorbar": {
             "outlinewidth": 0,
             "ticks": ""
            },
            "colorscale": [
             [
              0,
              "#0d0887"
             ],
             [
              0.1111111111111111,
              "#46039f"
             ],
             [
              0.2222222222222222,
              "#7201a8"
             ],
             [
              0.3333333333333333,
              "#9c179e"
             ],
             [
              0.4444444444444444,
              "#bd3786"
             ],
             [
              0.5555555555555556,
              "#d8576b"
             ],
             [
              0.6666666666666666,
              "#ed7953"
             ],
             [
              0.7777777777777778,
              "#fb9f3a"
             ],
             [
              0.8888888888888888,
              "#fdca26"
             ],
             [
              1,
              "#f0f921"
             ]
            ],
            "type": "surface"
           }
          ],
          "table": [
           {
            "cells": {
             "fill": {
              "color": "#EBF0F8"
             },
             "line": {
              "color": "white"
             }
            },
            "header": {
             "fill": {
              "color": "#C8D4E3"
             },
             "line": {
              "color": "white"
             }
            },
            "type": "table"
           }
          ]
         },
         "layout": {
          "annotationdefaults": {
           "arrowcolor": "#2a3f5f",
           "arrowhead": 0,
           "arrowwidth": 1
          },
          "autotypenumbers": "strict",
          "coloraxis": {
           "colorbar": {
            "outlinewidth": 0,
            "ticks": ""
           }
          },
          "colorscale": {
           "diverging": [
            [
             0,
             "#8e0152"
            ],
            [
             0.1,
             "#c51b7d"
            ],
            [
             0.2,
             "#de77ae"
            ],
            [
             0.3,
             "#f1b6da"
            ],
            [
             0.4,
             "#fde0ef"
            ],
            [
             0.5,
             "#f7f7f7"
            ],
            [
             0.6,
             "#e6f5d0"
            ],
            [
             0.7,
             "#b8e186"
            ],
            [
             0.8,
             "#7fbc41"
            ],
            [
             0.9,
             "#4d9221"
            ],
            [
             1,
             "#276419"
            ]
           ],
           "sequential": [
            [
             0,
             "#0d0887"
            ],
            [
             0.1111111111111111,
             "#46039f"
            ],
            [
             0.2222222222222222,
             "#7201a8"
            ],
            [
             0.3333333333333333,
             "#9c179e"
            ],
            [
             0.4444444444444444,
             "#bd3786"
            ],
            [
             0.5555555555555556,
             "#d8576b"
            ],
            [
             0.6666666666666666,
             "#ed7953"
            ],
            [
             0.7777777777777778,
             "#fb9f3a"
            ],
            [
             0.8888888888888888,
             "#fdca26"
            ],
            [
             1,
             "#f0f921"
            ]
           ],
           "sequentialminus": [
            [
             0,
             "#0d0887"
            ],
            [
             0.1111111111111111,
             "#46039f"
            ],
            [
             0.2222222222222222,
             "#7201a8"
            ],
            [
             0.3333333333333333,
             "#9c179e"
            ],
            [
             0.4444444444444444,
             "#bd3786"
            ],
            [
             0.5555555555555556,
             "#d8576b"
            ],
            [
             0.6666666666666666,
             "#ed7953"
            ],
            [
             0.7777777777777778,
             "#fb9f3a"
            ],
            [
             0.8888888888888888,
             "#fdca26"
            ],
            [
             1,
             "#f0f921"
            ]
           ]
          },
          "colorway": [
           "#636efa",
           "#EF553B",
           "#00cc96",
           "#ab63fa",
           "#FFA15A",
           "#19d3f3",
           "#FF6692",
           "#B6E880",
           "#FF97FF",
           "#FECB52"
          ],
          "font": {
           "color": "#2a3f5f"
          },
          "geo": {
           "bgcolor": "white",
           "lakecolor": "white",
           "landcolor": "white",
           "showlakes": true,
           "showland": true,
           "subunitcolor": "#C8D4E3"
          },
          "hoverlabel": {
           "align": "left"
          },
          "hovermode": "closest",
          "mapbox": {
           "style": "light"
          },
          "paper_bgcolor": "white",
          "plot_bgcolor": "white",
          "polar": {
           "angularaxis": {
            "gridcolor": "#EBF0F8",
            "linecolor": "#EBF0F8",
            "ticks": ""
           },
           "bgcolor": "white",
           "radialaxis": {
            "gridcolor": "#EBF0F8",
            "linecolor": "#EBF0F8",
            "ticks": ""
           }
          },
          "scene": {
           "xaxis": {
            "backgroundcolor": "white",
            "gridcolor": "#DFE8F3",
            "gridwidth": 2,
            "linecolor": "#EBF0F8",
            "showbackground": true,
            "ticks": "",
            "zerolinecolor": "#EBF0F8"
           },
           "yaxis": {
            "backgroundcolor": "white",
            "gridcolor": "#DFE8F3",
            "gridwidth": 2,
            "linecolor": "#EBF0F8",
            "showbackground": true,
            "ticks": "",
            "zerolinecolor": "#EBF0F8"
           },
           "zaxis": {
            "backgroundcolor": "white",
            "gridcolor": "#DFE8F3",
            "gridwidth": 2,
            "linecolor": "#EBF0F8",
            "showbackground": true,
            "ticks": "",
            "zerolinecolor": "#EBF0F8"
           }
          },
          "shapedefaults": {
           "line": {
            "color": "#2a3f5f"
           }
          },
          "ternary": {
           "aaxis": {
            "gridcolor": "#DFE8F3",
            "linecolor": "#A2B1C6",
            "ticks": ""
           },
           "baxis": {
            "gridcolor": "#DFE8F3",
            "linecolor": "#A2B1C6",
            "ticks": ""
           },
           "bgcolor": "white",
           "caxis": {
            "gridcolor": "#DFE8F3",
            "linecolor": "#A2B1C6",
            "ticks": ""
           }
          },
          "title": {
           "x": 0.05
          },
          "xaxis": {
           "automargin": true,
           "gridcolor": "#EBF0F8",
           "linecolor": "#EBF0F8",
           "ticks": "",
           "title": {
            "standoff": 15
           },
           "zerolinecolor": "#EBF0F8",
           "zerolinewidth": 2
          },
          "yaxis": {
           "automargin": true,
           "gridcolor": "#EBF0F8",
           "linecolor": "#EBF0F8",
           "ticks": "",
           "title": {
            "standoff": 15
           },
           "zerolinecolor": "#EBF0F8",
           "zerolinewidth": 2
          }
         }
        },
        "title": {
         "text": "Average Price of a Car by Year"
        },
        "xaxis": {
         "anchor": "y",
         "domain": [
          0,
          1
         ],
         "linecolor": "black",
         "linewidth": 2,
         "showgrid": false,
         "showline": false,
         "ticks": "outside",
         "title": {
          "text": "Year"
         },
         "type": "category"
        },
        "yaxis": {
         "anchor": "x",
         "domain": [
          0,
          1
         ],
         "linecolor": "black",
         "linewidth": 1,
         "showgrid": false,
         "showline": false,
         "title": {
          "text": "Price"
         }
        }
       }
      },
      "text/html": [
       "<div>                            <div id=\"2c82b34c-39fa-4d56-970d-e5f8d419f2d1\" class=\"plotly-graph-div\" style=\"height:525px; width:100%;\"></div>            <script type=\"text/javascript\">                require([\"plotly\"], function(Plotly) {                    window.PLOTLYENV=window.PLOTLYENV || {};                                    if (document.getElementById(\"2c82b34c-39fa-4d56-970d-e5f8d419f2d1\")) {                    Plotly.newPlot(                        \"2c82b34c-39fa-4d56-970d-e5f8d419f2d1\",                        [{\"alignmentgroup\":\"True\",\"hovertemplate\":\"year=%{x}<br>average_price=%{y}<br>text=%{text}<extra></extra>\",\"legendgroup\":\"\",\"marker\":{\"color\":\"#636efa\",\"pattern\":{\"shape\":\"\"}},\"name\":\"\",\"offsetgroup\":\"\",\"orientation\":\"v\",\"showlegend\":false,\"text\":[\"15 cars, 84025.0 miles\",\"32 cars, 84567.0 miles\",\"56 cars, 91462.0 miles\",\"75 cars, 73883.0 miles\",\"179 cars, 63722.0 miles\",\"195 cars, 56833.0 miles\",\"353 cars, 46880.0 miles\",\"388 cars, 34357.0 miles\",\"857 cars, 24358.0 miles\",\"45 cars, 10945.0 miles\"],\"textposition\":\"auto\",\"x\":[2011,2012,2013,2014,2015,2016,2017,2018,2019,2020],\"xaxis\":\"x\",\"y\":[8274.333333333334,9707.4375,9693.30357142857,12921.76,15758.921787709498,17424.846153846152,17406.838526912183,18391.865979381444,22744.353558926487,22829.444444444445],\"yaxis\":\"y\",\"type\":\"bar\",\"textfont\":{\"size\":14},\"textangle\":0}],                        {\"template\":{\"data\":{\"barpolar\":[{\"marker\":{\"line\":{\"color\":\"white\",\"width\":0.5},\"pattern\":{\"fillmode\":\"overlay\",\"size\":10,\"solidity\":0.2}},\"type\":\"barpolar\"}],\"bar\":[{\"error_x\":{\"color\":\"#2a3f5f\"},\"error_y\":{\"color\":\"#2a3f5f\"},\"marker\":{\"line\":{\"color\":\"white\",\"width\":0.5},\"pattern\":{\"fillmode\":\"overlay\",\"size\":10,\"solidity\":0.2}},\"type\":\"bar\"}],\"carpet\":[{\"aaxis\":{\"endlinecolor\":\"#2a3f5f\",\"gridcolor\":\"#C8D4E3\",\"linecolor\":\"#C8D4E3\",\"minorgridcolor\":\"#C8D4E3\",\"startlinecolor\":\"#2a3f5f\"},\"baxis\":{\"endlinecolor\":\"#2a3f5f\",\"gridcolor\":\"#C8D4E3\",\"linecolor\":\"#C8D4E3\",\"minorgridcolor\":\"#C8D4E3\",\"startlinecolor\":\"#2a3f5f\"},\"type\":\"carpet\"}],\"choropleth\":[{\"colorbar\":{\"outlinewidth\":0,\"ticks\":\"\"},\"type\":\"choropleth\"}],\"contourcarpet\":[{\"colorbar\":{\"outlinewidth\":0,\"ticks\":\"\"},\"type\":\"contourcarpet\"}],\"contour\":[{\"colorbar\":{\"outlinewidth\":0,\"ticks\":\"\"},\"colorscale\":[[0.0,\"#0d0887\"],[0.1111111111111111,\"#46039f\"],[0.2222222222222222,\"#7201a8\"],[0.3333333333333333,\"#9c179e\"],[0.4444444444444444,\"#bd3786\"],[0.5555555555555556,\"#d8576b\"],[0.6666666666666666,\"#ed7953\"],[0.7777777777777778,\"#fb9f3a\"],[0.8888888888888888,\"#fdca26\"],[1.0,\"#f0f921\"]],\"type\":\"contour\"}],\"heatmapgl\":[{\"colorbar\":{\"outlinewidth\":0,\"ticks\":\"\"},\"colorscale\":[[0.0,\"#0d0887\"],[0.1111111111111111,\"#46039f\"],[0.2222222222222222,\"#7201a8\"],[0.3333333333333333,\"#9c179e\"],[0.4444444444444444,\"#bd3786\"],[0.5555555555555556,\"#d8576b\"],[0.6666666666666666,\"#ed7953\"],[0.7777777777777778,\"#fb9f3a\"],[0.8888888888888888,\"#fdca26\"],[1.0,\"#f0f921\"]],\"type\":\"heatmapgl\"}],\"heatmap\":[{\"colorbar\":{\"outlinewidth\":0,\"ticks\":\"\"},\"colorscale\":[[0.0,\"#0d0887\"],[0.1111111111111111,\"#46039f\"],[0.2222222222222222,\"#7201a8\"],[0.3333333333333333,\"#9c179e\"],[0.4444444444444444,\"#bd3786\"],[0.5555555555555556,\"#d8576b\"],[0.6666666666666666,\"#ed7953\"],[0.7777777777777778,\"#fb9f3a\"],[0.8888888888888888,\"#fdca26\"],[1.0,\"#f0f921\"]],\"type\":\"heatmap\"}],\"histogram2dcontour\":[{\"colorbar\":{\"outlinewidth\":0,\"ticks\":\"\"},\"colorscale\":[[0.0,\"#0d0887\"],[0.1111111111111111,\"#46039f\"],[0.2222222222222222,\"#7201a8\"],[0.3333333333333333,\"#9c179e\"],[0.4444444444444444,\"#bd3786\"],[0.5555555555555556,\"#d8576b\"],[0.6666666666666666,\"#ed7953\"],[0.7777777777777778,\"#fb9f3a\"],[0.8888888888888888,\"#fdca26\"],[1.0,\"#f0f921\"]],\"type\":\"histogram2dcontour\"}],\"histogram2d\":[{\"colorbar\":{\"outlinewidth\":0,\"ticks\":\"\"},\"colorscale\":[[0.0,\"#0d0887\"],[0.1111111111111111,\"#46039f\"],[0.2222222222222222,\"#7201a8\"],[0.3333333333333333,\"#9c179e\"],[0.4444444444444444,\"#bd3786\"],[0.5555555555555556,\"#d8576b\"],[0.6666666666666666,\"#ed7953\"],[0.7777777777777778,\"#fb9f3a\"],[0.8888888888888888,\"#fdca26\"],[1.0,\"#f0f921\"]],\"type\":\"histogram2d\"}],\"histogram\":[{\"marker\":{\"pattern\":{\"fillmode\":\"overlay\",\"size\":10,\"solidity\":0.2}},\"type\":\"histogram\"}],\"mesh3d\":[{\"colorbar\":{\"outlinewidth\":0,\"ticks\":\"\"},\"type\":\"mesh3d\"}],\"parcoords\":[{\"line\":{\"colorbar\":{\"outlinewidth\":0,\"ticks\":\"\"}},\"type\":\"parcoords\"}],\"pie\":[{\"automargin\":true,\"type\":\"pie\"}],\"scatter3d\":[{\"line\":{\"colorbar\":{\"outlinewidth\":0,\"ticks\":\"\"}},\"marker\":{\"colorbar\":{\"outlinewidth\":0,\"ticks\":\"\"}},\"type\":\"scatter3d\"}],\"scattercarpet\":[{\"marker\":{\"colorbar\":{\"outlinewidth\":0,\"ticks\":\"\"}},\"type\":\"scattercarpet\"}],\"scattergeo\":[{\"marker\":{\"colorbar\":{\"outlinewidth\":0,\"ticks\":\"\"}},\"type\":\"scattergeo\"}],\"scattergl\":[{\"marker\":{\"colorbar\":{\"outlinewidth\":0,\"ticks\":\"\"}},\"type\":\"scattergl\"}],\"scattermapbox\":[{\"marker\":{\"colorbar\":{\"outlinewidth\":0,\"ticks\":\"\"}},\"type\":\"scattermapbox\"}],\"scatterpolargl\":[{\"marker\":{\"colorbar\":{\"outlinewidth\":0,\"ticks\":\"\"}},\"type\":\"scatterpolargl\"}],\"scatterpolar\":[{\"marker\":{\"colorbar\":{\"outlinewidth\":0,\"ticks\":\"\"}},\"type\":\"scatterpolar\"}],\"scatter\":[{\"fillpattern\":{\"fillmode\":\"overlay\",\"size\":10,\"solidity\":0.2},\"type\":\"scatter\"}],\"scatterternary\":[{\"marker\":{\"colorbar\":{\"outlinewidth\":0,\"ticks\":\"\"}},\"type\":\"scatterternary\"}],\"surface\":[{\"colorbar\":{\"outlinewidth\":0,\"ticks\":\"\"},\"colorscale\":[[0.0,\"#0d0887\"],[0.1111111111111111,\"#46039f\"],[0.2222222222222222,\"#7201a8\"],[0.3333333333333333,\"#9c179e\"],[0.4444444444444444,\"#bd3786\"],[0.5555555555555556,\"#d8576b\"],[0.6666666666666666,\"#ed7953\"],[0.7777777777777778,\"#fb9f3a\"],[0.8888888888888888,\"#fdca26\"],[1.0,\"#f0f921\"]],\"type\":\"surface\"}],\"table\":[{\"cells\":{\"fill\":{\"color\":\"#EBF0F8\"},\"line\":{\"color\":\"white\"}},\"header\":{\"fill\":{\"color\":\"#C8D4E3\"},\"line\":{\"color\":\"white\"}},\"type\":\"table\"}]},\"layout\":{\"annotationdefaults\":{\"arrowcolor\":\"#2a3f5f\",\"arrowhead\":0,\"arrowwidth\":1},\"autotypenumbers\":\"strict\",\"coloraxis\":{\"colorbar\":{\"outlinewidth\":0,\"ticks\":\"\"}},\"colorscale\":{\"diverging\":[[0,\"#8e0152\"],[0.1,\"#c51b7d\"],[0.2,\"#de77ae\"],[0.3,\"#f1b6da\"],[0.4,\"#fde0ef\"],[0.5,\"#f7f7f7\"],[0.6,\"#e6f5d0\"],[0.7,\"#b8e186\"],[0.8,\"#7fbc41\"],[0.9,\"#4d9221\"],[1,\"#276419\"]],\"sequential\":[[0.0,\"#0d0887\"],[0.1111111111111111,\"#46039f\"],[0.2222222222222222,\"#7201a8\"],[0.3333333333333333,\"#9c179e\"],[0.4444444444444444,\"#bd3786\"],[0.5555555555555556,\"#d8576b\"],[0.6666666666666666,\"#ed7953\"],[0.7777777777777778,\"#fb9f3a\"],[0.8888888888888888,\"#fdca26\"],[1.0,\"#f0f921\"]],\"sequentialminus\":[[0.0,\"#0d0887\"],[0.1111111111111111,\"#46039f\"],[0.2222222222222222,\"#7201a8\"],[0.3333333333333333,\"#9c179e\"],[0.4444444444444444,\"#bd3786\"],[0.5555555555555556,\"#d8576b\"],[0.6666666666666666,\"#ed7953\"],[0.7777777777777778,\"#fb9f3a\"],[0.8888888888888888,\"#fdca26\"],[1.0,\"#f0f921\"]]},\"colorway\":[\"#636efa\",\"#EF553B\",\"#00cc96\",\"#ab63fa\",\"#FFA15A\",\"#19d3f3\",\"#FF6692\",\"#B6E880\",\"#FF97FF\",\"#FECB52\"],\"font\":{\"color\":\"#2a3f5f\"},\"geo\":{\"bgcolor\":\"white\",\"lakecolor\":\"white\",\"landcolor\":\"white\",\"showlakes\":true,\"showland\":true,\"subunitcolor\":\"#C8D4E3\"},\"hoverlabel\":{\"align\":\"left\"},\"hovermode\":\"closest\",\"mapbox\":{\"style\":\"light\"},\"paper_bgcolor\":\"white\",\"plot_bgcolor\":\"white\",\"polar\":{\"angularaxis\":{\"gridcolor\":\"#EBF0F8\",\"linecolor\":\"#EBF0F8\",\"ticks\":\"\"},\"bgcolor\":\"white\",\"radialaxis\":{\"gridcolor\":\"#EBF0F8\",\"linecolor\":\"#EBF0F8\",\"ticks\":\"\"}},\"scene\":{\"xaxis\":{\"backgroundcolor\":\"white\",\"gridcolor\":\"#DFE8F3\",\"gridwidth\":2,\"linecolor\":\"#EBF0F8\",\"showbackground\":true,\"ticks\":\"\",\"zerolinecolor\":\"#EBF0F8\"},\"yaxis\":{\"backgroundcolor\":\"white\",\"gridcolor\":\"#DFE8F3\",\"gridwidth\":2,\"linecolor\":\"#EBF0F8\",\"showbackground\":true,\"ticks\":\"\",\"zerolinecolor\":\"#EBF0F8\"},\"zaxis\":{\"backgroundcolor\":\"white\",\"gridcolor\":\"#DFE8F3\",\"gridwidth\":2,\"linecolor\":\"#EBF0F8\",\"showbackground\":true,\"ticks\":\"\",\"zerolinecolor\":\"#EBF0F8\"}},\"shapedefaults\":{\"line\":{\"color\":\"#2a3f5f\"}},\"ternary\":{\"aaxis\":{\"gridcolor\":\"#DFE8F3\",\"linecolor\":\"#A2B1C6\",\"ticks\":\"\"},\"baxis\":{\"gridcolor\":\"#DFE8F3\",\"linecolor\":\"#A2B1C6\",\"ticks\":\"\"},\"bgcolor\":\"white\",\"caxis\":{\"gridcolor\":\"#DFE8F3\",\"linecolor\":\"#A2B1C6\",\"ticks\":\"\"}},\"title\":{\"x\":0.05},\"xaxis\":{\"automargin\":true,\"gridcolor\":\"#EBF0F8\",\"linecolor\":\"#EBF0F8\",\"ticks\":\"\",\"title\":{\"standoff\":15},\"zerolinecolor\":\"#EBF0F8\",\"zerolinewidth\":2},\"yaxis\":{\"automargin\":true,\"gridcolor\":\"#EBF0F8\",\"linecolor\":\"#EBF0F8\",\"ticks\":\"\",\"title\":{\"standoff\":15},\"zerolinecolor\":\"#EBF0F8\",\"zerolinewidth\":2}}},\"xaxis\":{\"anchor\":\"y\",\"domain\":[0.0,1.0],\"title\":{\"text\":\"Year\"},\"type\":\"category\",\"showgrid\":false,\"showline\":false,\"linewidth\":2,\"linecolor\":\"black\",\"ticks\":\"outside\"},\"yaxis\":{\"anchor\":\"x\",\"domain\":[0.0,1.0],\"title\":{\"text\":\"Price\"},\"showgrid\":false,\"showline\":false,\"linewidth\":1,\"linecolor\":\"black\"},\"legend\":{\"tracegroupgap\":0},\"title\":{\"text\":\"Average Price of a Car by Year\"},\"barmode\":\"relative\",\"font\":{\"size\":12,\"family\":\"Arial\"}},                        {\"responsive\": true}                    ).then(function(){\n",
       "                            \n",
       "var gd = document.getElementById('2c82b34c-39fa-4d56-970d-e5f8d419f2d1');\n",
       "var x = new MutationObserver(function (mutations, observer) {{\n",
       "        var display = window.getComputedStyle(gd).display;\n",
       "        if (!display || display === 'none') {{\n",
       "            console.log([gd, 'removed!']);\n",
       "            Plotly.purge(gd);\n",
       "            observer.disconnect();\n",
       "        }}\n",
       "}});\n",
       "\n",
       "// Listen for the removal of the full notebook cells\n",
       "var notebookContainer = gd.closest('#notebook-container');\n",
       "if (notebookContainer) {{\n",
       "    x.observe(notebookContainer, {childList: true});\n",
       "}}\n",
       "\n",
       "// Listen for the clearing of the current output cell\n",
       "var outputEl = gd.closest('.output');\n",
       "if (outputEl) {{\n",
       "    x.observe(outputEl, {childList: true});\n",
       "}}\n",
       "\n",
       "                        })                };                });            </script>        </div>"
      ]
     },
     "metadata": {},
     "output_type": "display_data"
    }
   ],
   "source": [
    "# Plot average price of a car by year\n",
    "fig = px.bar(price_by_year, x=price_by_year.index, y='average_price', text=price_by_year['text'], template='plotly_white', \n",
    "             title='Average Price of a Car by Year')\n",
    "\n",
    "fig.update_xaxes(type='category', title='Year', showgrid=False, showline=False, linewidth=2, linecolor='black', ticks='outside')\n",
    "fig.update_yaxes(title='Price', showgrid=False, showline=False, linewidth=1, linecolor='black')\n",
    "fig.update_layout(font_size = 12, font_family='Arial')\n",
    "fig.update_traces(textangle=0, textfont_size=14)\n",
    "fig.show()"
   ]
  },
  {
   "cell_type": "markdown",
   "id": "6b552356",
   "metadata": {},
   "source": [
    "- As expected, the newer the car is, the more expensive on average it is.\n",
    "- **2019** is the most represented year with **857 cars**. The **average price** for a car from 2019 is **22,745 dollars**.\n",
    "- For a budget conscious consumer, getting a car from **2018** as opposed to **2019** could **save you** more than **$4000 on average**."
   ]
  },
  {
   "cell_type": "code",
   "execution_count": null,
   "id": "2eeec217",
   "metadata": {},
   "outputs": [],
   "source": []
  },
  {
   "cell_type": "code",
   "execution_count": null,
   "id": "4ea65ee5",
   "metadata": {},
   "outputs": [],
   "source": []
  },
  {
   "cell_type": "markdown",
   "id": "df58a559",
   "metadata": {},
   "source": [
    "### Categorical Column Exploration"
   ]
  },
  {
   "cell_type": "code",
   "execution_count": 30,
   "id": "ec2eaabf",
   "metadata": {},
   "outputs": [
    {
     "data": {
      "text/html": [
       "<div>\n",
       "<style scoped>\n",
       "    .dataframe tbody tr th:only-of-type {\n",
       "        vertical-align: middle;\n",
       "    }\n",
       "\n",
       "    .dataframe tbody tr th {\n",
       "        vertical-align: top;\n",
       "    }\n",
       "\n",
       "    .dataframe thead th {\n",
       "        text-align: right;\n",
       "    }\n",
       "</style>\n",
       "<table border=\"1\" class=\"dataframe\">\n",
       "  <thead>\n",
       "    <tr style=\"text-align: right;\">\n",
       "      <th></th>\n",
       "      <th>price</th>\n",
       "      <th>brand</th>\n",
       "      <th>model</th>\n",
       "      <th>year</th>\n",
       "      <th>title_status</th>\n",
       "      <th>mileage</th>\n",
       "      <th>color</th>\n",
       "      <th>state</th>\n",
       "      <th>country</th>\n",
       "      <th>condition</th>\n",
       "      <th>mileage_bins</th>\n",
       "      <th>pm_ratio</th>\n",
       "      <th>value_earned</th>\n",
       "    </tr>\n",
       "  </thead>\n",
       "  <tbody>\n",
       "    <tr>\n",
       "      <th>0</th>\n",
       "      <td>5350</td>\n",
       "      <td>dodge</td>\n",
       "      <td>mpv</td>\n",
       "      <td>2018</td>\n",
       "      <td>clean vehicle</td>\n",
       "      <td>39,590.00</td>\n",
       "      <td>silver</td>\n",
       "      <td>georgia</td>\n",
       "      <td>usa</td>\n",
       "      <td>2 days left</td>\n",
       "      <td>(30000, 40000]</td>\n",
       "      <td>0.14</td>\n",
       "      <td>0.06</td>\n",
       "    </tr>\n",
       "    <tr>\n",
       "      <th>1</th>\n",
       "      <td>25000</td>\n",
       "      <td>ford</td>\n",
       "      <td>door</td>\n",
       "      <td>2014</td>\n",
       "      <td>clean vehicle</td>\n",
       "      <td>64,146.00</td>\n",
       "      <td>blue</td>\n",
       "      <td>virginia</td>\n",
       "      <td>usa</td>\n",
       "      <td>22 hours left</td>\n",
       "      <td>(60000, 70000]</td>\n",
       "      <td>0.39</td>\n",
       "      <td>0.19</td>\n",
       "    </tr>\n",
       "    <tr>\n",
       "      <th>2</th>\n",
       "      <td>27700</td>\n",
       "      <td>chevrolet</td>\n",
       "      <td>1500</td>\n",
       "      <td>2018</td>\n",
       "      <td>clean vehicle</td>\n",
       "      <td>6,654.00</td>\n",
       "      <td>red</td>\n",
       "      <td>florida</td>\n",
       "      <td>usa</td>\n",
       "      <td>22 hours left</td>\n",
       "      <td>(0, 10000]</td>\n",
       "      <td>4.16</td>\n",
       "      <td>1.98</td>\n",
       "    </tr>\n",
       "    <tr>\n",
       "      <th>3</th>\n",
       "      <td>5700</td>\n",
       "      <td>dodge</td>\n",
       "      <td>mpv</td>\n",
       "      <td>2018</td>\n",
       "      <td>clean vehicle</td>\n",
       "      <td>45,561.00</td>\n",
       "      <td>white</td>\n",
       "      <td>texas</td>\n",
       "      <td>usa</td>\n",
       "      <td>2 days left</td>\n",
       "      <td>(40000, 50000]</td>\n",
       "      <td>0.13</td>\n",
       "      <td>0.06</td>\n",
       "    </tr>\n",
       "    <tr>\n",
       "      <th>4</th>\n",
       "      <td>13350</td>\n",
       "      <td>gmc</td>\n",
       "      <td>door</td>\n",
       "      <td>2017</td>\n",
       "      <td>clean vehicle</td>\n",
       "      <td>23,525.00</td>\n",
       "      <td>gray</td>\n",
       "      <td>california</td>\n",
       "      <td>usa</td>\n",
       "      <td>20 hours left</td>\n",
       "      <td>(20000, 30000]</td>\n",
       "      <td>0.57</td>\n",
       "      <td>0.27</td>\n",
       "    </tr>\n",
       "  </tbody>\n",
       "</table>\n",
       "</div>"
      ],
      "text/plain": [
       "   price      brand model  year   title_status   mileage   color       state  \\\n",
       "0   5350      dodge   mpv  2018  clean vehicle 39,590.00  silver     georgia   \n",
       "1  25000       ford  door  2014  clean vehicle 64,146.00    blue    virginia   \n",
       "2  27700  chevrolet  1500  2018  clean vehicle  6,654.00     red     florida   \n",
       "3   5700      dodge   mpv  2018  clean vehicle 45,561.00   white       texas   \n",
       "4  13350        gmc  door  2017  clean vehicle 23,525.00    gray  california   \n",
       "\n",
       "  country      condition    mileage_bins  pm_ratio  value_earned  \n",
       "0     usa    2 days left  (30000, 40000]      0.14          0.06  \n",
       "1     usa  22 hours left  (60000, 70000]      0.39          0.19  \n",
       "2     usa  22 hours left      (0, 10000]      4.16          1.98  \n",
       "3     usa    2 days left  (40000, 50000]      0.13          0.06  \n",
       "4     usa  20 hours left  (20000, 30000]      0.57          0.27  "
      ]
     },
     "execution_count": 30,
     "metadata": {},
     "output_type": "execute_result"
    }
   ],
   "source": [
    "# Resetting the index after the data cleaning\n",
    "df2 = df2.reset_index(drop=True)\n",
    "\n",
    "# Using df2 as it filters for cars with at least 1000 miles on them\n",
    "df2.head()"
   ]
  },
  {
   "cell_type": "code",
   "execution_count": 31,
   "id": "f8a8cec6",
   "metadata": {},
   "outputs": [
    {
     "data": {
      "text/html": [
       "<div>\n",
       "<style scoped>\n",
       "    .dataframe tbody tr th:only-of-type {\n",
       "        vertical-align: middle;\n",
       "    }\n",
       "\n",
       "    .dataframe tbody tr th {\n",
       "        vertical-align: top;\n",
       "    }\n",
       "\n",
       "    .dataframe thead th {\n",
       "        text-align: right;\n",
       "    }\n",
       "</style>\n",
       "<table border=\"1\" class=\"dataframe\">\n",
       "  <thead>\n",
       "    <tr style=\"text-align: right;\">\n",
       "      <th></th>\n",
       "      <th>brand</th>\n",
       "    </tr>\n",
       "  </thead>\n",
       "  <tbody>\n",
       "    <tr>\n",
       "      <th>ford</th>\n",
       "      <td>1055</td>\n",
       "    </tr>\n",
       "    <tr>\n",
       "      <th>dodge</th>\n",
       "      <td>404</td>\n",
       "    </tr>\n",
       "    <tr>\n",
       "      <th>nissan</th>\n",
       "      <td>299</td>\n",
       "    </tr>\n",
       "    <tr>\n",
       "      <th>chevrolet</th>\n",
       "      <td>255</td>\n",
       "    </tr>\n",
       "    <tr>\n",
       "      <th>gmc</th>\n",
       "      <td>35</td>\n",
       "    </tr>\n",
       "  </tbody>\n",
       "</table>\n",
       "</div>"
      ],
      "text/plain": [
       "           brand\n",
       "ford        1055\n",
       "dodge        404\n",
       "nissan       299\n",
       "chevrolet    255\n",
       "gmc           35"
      ]
     },
     "metadata": {},
     "output_type": "display_data"
    },
    {
     "data": {
      "text/html": [
       "<div>\n",
       "<style scoped>\n",
       "    .dataframe tbody tr th:only-of-type {\n",
       "        vertical-align: middle;\n",
       "    }\n",
       "\n",
       "    .dataframe tbody tr th {\n",
       "        vertical-align: top;\n",
       "    }\n",
       "\n",
       "    .dataframe thead th {\n",
       "        text-align: right;\n",
       "    }\n",
       "</style>\n",
       "<table border=\"1\" class=\"dataframe\">\n",
       "  <thead>\n",
       "    <tr style=\"text-align: right;\">\n",
       "      <th></th>\n",
       "      <th>model</th>\n",
       "    </tr>\n",
       "  </thead>\n",
       "  <tbody>\n",
       "    <tr>\n",
       "      <th>door</th>\n",
       "      <td>490</td>\n",
       "    </tr>\n",
       "    <tr>\n",
       "      <th>f-150</th>\n",
       "      <td>211</td>\n",
       "    </tr>\n",
       "    <tr>\n",
       "      <th>doors</th>\n",
       "      <td>145</td>\n",
       "    </tr>\n",
       "    <tr>\n",
       "      <th>caravan</th>\n",
       "      <td>101</td>\n",
       "    </tr>\n",
       "    <tr>\n",
       "      <th>mpv</th>\n",
       "      <td>86</td>\n",
       "    </tr>\n",
       "  </tbody>\n",
       "</table>\n",
       "</div>"
      ],
      "text/plain": [
       "         model\n",
       "door       490\n",
       "f-150      211\n",
       "doors      145\n",
       "caravan    101\n",
       "mpv         86"
      ]
     },
     "metadata": {},
     "output_type": "display_data"
    },
    {
     "data": {
      "text/html": [
       "<div>\n",
       "<style scoped>\n",
       "    .dataframe tbody tr th:only-of-type {\n",
       "        vertical-align: middle;\n",
       "    }\n",
       "\n",
       "    .dataframe tbody tr th {\n",
       "        vertical-align: top;\n",
       "    }\n",
       "\n",
       "    .dataframe thead th {\n",
       "        text-align: right;\n",
       "    }\n",
       "</style>\n",
       "<table border=\"1\" class=\"dataframe\">\n",
       "  <thead>\n",
       "    <tr style=\"text-align: right;\">\n",
       "      <th></th>\n",
       "      <th>title_status</th>\n",
       "    </tr>\n",
       "  </thead>\n",
       "  <tbody>\n",
       "    <tr>\n",
       "      <th>clean vehicle</th>\n",
       "      <td>2141</td>\n",
       "    </tr>\n",
       "    <tr>\n",
       "      <th>salvage insurance</th>\n",
       "      <td>53</td>\n",
       "    </tr>\n",
       "  </tbody>\n",
       "</table>\n",
       "</div>"
      ],
      "text/plain": [
       "                   title_status\n",
       "clean vehicle              2141\n",
       "salvage insurance            53"
      ]
     },
     "metadata": {},
     "output_type": "display_data"
    },
    {
     "data": {
      "text/html": [
       "<div>\n",
       "<style scoped>\n",
       "    .dataframe tbody tr th:only-of-type {\n",
       "        vertical-align: middle;\n",
       "    }\n",
       "\n",
       "    .dataframe tbody tr th {\n",
       "        vertical-align: top;\n",
       "    }\n",
       "\n",
       "    .dataframe thead th {\n",
       "        text-align: right;\n",
       "    }\n",
       "</style>\n",
       "<table border=\"1\" class=\"dataframe\">\n",
       "  <thead>\n",
       "    <tr style=\"text-align: right;\">\n",
       "      <th></th>\n",
       "      <th>color</th>\n",
       "    </tr>\n",
       "  </thead>\n",
       "  <tbody>\n",
       "    <tr>\n",
       "      <th>white</th>\n",
       "      <td>618</td>\n",
       "    </tr>\n",
       "    <tr>\n",
       "      <th>black</th>\n",
       "      <td>457</td>\n",
       "    </tr>\n",
       "    <tr>\n",
       "      <th>gray</th>\n",
       "      <td>361</td>\n",
       "    </tr>\n",
       "    <tr>\n",
       "      <th>silver</th>\n",
       "      <td>278</td>\n",
       "    </tr>\n",
       "    <tr>\n",
       "      <th>red</th>\n",
       "      <td>164</td>\n",
       "    </tr>\n",
       "  </tbody>\n",
       "</table>\n",
       "</div>"
      ],
      "text/plain": [
       "        color\n",
       "white     618\n",
       "black     457\n",
       "gray      361\n",
       "silver    278\n",
       "red       164"
      ]
     },
     "metadata": {},
     "output_type": "display_data"
    },
    {
     "data": {
      "text/html": [
       "<div>\n",
       "<style scoped>\n",
       "    .dataframe tbody tr th:only-of-type {\n",
       "        vertical-align: middle;\n",
       "    }\n",
       "\n",
       "    .dataframe tbody tr th {\n",
       "        vertical-align: top;\n",
       "    }\n",
       "\n",
       "    .dataframe thead th {\n",
       "        text-align: right;\n",
       "    }\n",
       "</style>\n",
       "<table border=\"1\" class=\"dataframe\">\n",
       "  <thead>\n",
       "    <tr style=\"text-align: right;\">\n",
       "      <th></th>\n",
       "      <th>state</th>\n",
       "    </tr>\n",
       "  </thead>\n",
       "  <tbody>\n",
       "    <tr>\n",
       "      <th>pennsylvania</th>\n",
       "      <td>269</td>\n",
       "    </tr>\n",
       "    <tr>\n",
       "      <th>florida</th>\n",
       "      <td>220</td>\n",
       "    </tr>\n",
       "    <tr>\n",
       "      <th>california</th>\n",
       "      <td>172</td>\n",
       "    </tr>\n",
       "    <tr>\n",
       "      <th>texas</th>\n",
       "      <td>171</td>\n",
       "    </tr>\n",
       "    <tr>\n",
       "      <th>michigan</th>\n",
       "      <td>157</td>\n",
       "    </tr>\n",
       "  </tbody>\n",
       "</table>\n",
       "</div>"
      ],
      "text/plain": [
       "              state\n",
       "pennsylvania    269\n",
       "florida         220\n",
       "california      172\n",
       "texas           171\n",
       "michigan        157"
      ]
     },
     "metadata": {},
     "output_type": "display_data"
    },
    {
     "data": {
      "text/html": [
       "<div>\n",
       "<style scoped>\n",
       "    .dataframe tbody tr th:only-of-type {\n",
       "        vertical-align: middle;\n",
       "    }\n",
       "\n",
       "    .dataframe tbody tr th {\n",
       "        vertical-align: top;\n",
       "    }\n",
       "\n",
       "    .dataframe thead th {\n",
       "        text-align: right;\n",
       "    }\n",
       "</style>\n",
       "<table border=\"1\" class=\"dataframe\">\n",
       "  <thead>\n",
       "    <tr style=\"text-align: right;\">\n",
       "      <th></th>\n",
       "      <th>country</th>\n",
       "    </tr>\n",
       "  </thead>\n",
       "  <tbody>\n",
       "    <tr>\n",
       "      <th>usa</th>\n",
       "      <td>2187</td>\n",
       "    </tr>\n",
       "    <tr>\n",
       "      <th>canada</th>\n",
       "      <td>7</td>\n",
       "    </tr>\n",
       "  </tbody>\n",
       "</table>\n",
       "</div>"
      ],
      "text/plain": [
       "         country\n",
       " usa        2187\n",
       " canada        7"
      ]
     },
     "metadata": {},
     "output_type": "display_data"
    },
    {
     "data": {
      "text/html": [
       "<div>\n",
       "<style scoped>\n",
       "    .dataframe tbody tr th:only-of-type {\n",
       "        vertical-align: middle;\n",
       "    }\n",
       "\n",
       "    .dataframe tbody tr th {\n",
       "        vertical-align: top;\n",
       "    }\n",
       "\n",
       "    .dataframe thead th {\n",
       "        text-align: right;\n",
       "    }\n",
       "</style>\n",
       "<table border=\"1\" class=\"dataframe\">\n",
       "  <thead>\n",
       "    <tr style=\"text-align: right;\">\n",
       "      <th></th>\n",
       "      <th>condition</th>\n",
       "    </tr>\n",
       "  </thead>\n",
       "  <tbody>\n",
       "    <tr>\n",
       "      <th>2 days left</th>\n",
       "      <td>741</td>\n",
       "    </tr>\n",
       "    <tr>\n",
       "      <th>21 hours left</th>\n",
       "      <td>447</td>\n",
       "    </tr>\n",
       "    <tr>\n",
       "      <th>3 days left</th>\n",
       "      <td>117</td>\n",
       "    </tr>\n",
       "    <tr>\n",
       "      <th>14 hours left</th>\n",
       "      <td>105</td>\n",
       "    </tr>\n",
       "    <tr>\n",
       "      <th>1 days left</th>\n",
       "      <td>84</td>\n",
       "    </tr>\n",
       "  </tbody>\n",
       "</table>\n",
       "</div>"
      ],
      "text/plain": [
       "               condition\n",
       "2 days left          741\n",
       "21 hours left        447\n",
       "3 days left          117\n",
       "14 hours left        105\n",
       "1 days left           84"
      ]
     },
     "metadata": {},
     "output_type": "display_data"
    }
   ],
   "source": [
    "# Let's get the top 5 number of occurences for each column which is a 'object' column\n",
    "for i in df2.select_dtypes(include=['object']).columns:\n",
    "    display(pd.DataFrame(df2[i].value_counts().head()))"
   ]
  },
  {
   "cell_type": "markdown",
   "id": "cb9299cb",
   "metadata": {},
   "source": [
    "## Column by Column Exploration"
   ]
  },
  {
   "cell_type": "markdown",
   "id": "f8f59f9a",
   "metadata": {
    "scrolled": true
   },
   "source": [
    "### Brand column"
   ]
  },
  {
   "cell_type": "code",
   "execution_count": 32,
   "id": "932e628d",
   "metadata": {},
   "outputs": [
    {
     "name": "stdout",
     "output_type": "stream",
     "text": [
      "There are 25 car brands represented in the dataset.\n",
      "---------------------------------------------------------------------------\n",
      "The unique brands are: ['dodge' 'ford' 'chevrolet' 'gmc' 'kia' 'buick' 'infiniti' 'mercedes-benz'\n",
      " 'jeep' 'chrysler' 'bmw' 'cadillac' 'hyundai' 'heartland' 'jaguar' 'acura'\n",
      " 'honda' 'lincoln' 'nissan' 'audi' 'land' 'maserati' 'lexus' 'ram' 'mazda']\n"
     ]
    }
   ],
   "source": [
    "print(\"There are \" + str(df['brand'].nunique()) + \" car brands represented in the dataset.\")\n",
    "print('---'*25)\n",
    "print(\"The unique brands are: \" + str(df['brand'].unique()))"
   ]
  },
  {
   "cell_type": "markdown",
   "id": "3b0e6872",
   "metadata": {},
   "source": [
    "#### There are 25 brands represented in this dataset. The only car brand I am not familiar with is 'heartland'. Let's explore the brand column some more."
   ]
  },
  {
   "cell_type": "code",
   "execution_count": 33,
   "id": "cb1a503b",
   "metadata": {},
   "outputs": [
    {
     "data": {
      "text/html": [
       "<div>\n",
       "<style scoped>\n",
       "    .dataframe tbody tr th:only-of-type {\n",
       "        vertical-align: middle;\n",
       "    }\n",
       "\n",
       "    .dataframe tbody tr th {\n",
       "        vertical-align: top;\n",
       "    }\n",
       "\n",
       "    .dataframe thead th {\n",
       "        text-align: right;\n",
       "    }\n",
       "</style>\n",
       "<table border=\"1\" class=\"dataframe\">\n",
       "  <thead>\n",
       "    <tr style=\"text-align: right;\">\n",
       "      <th></th>\n",
       "      <th>brand</th>\n",
       "      <th>count</th>\n",
       "    </tr>\n",
       "  </thead>\n",
       "  <tbody>\n",
       "    <tr>\n",
       "      <th>0</th>\n",
       "      <td>ford</td>\n",
       "      <td>1065</td>\n",
       "    </tr>\n",
       "    <tr>\n",
       "      <th>1</th>\n",
       "      <td>dodge</td>\n",
       "      <td>404</td>\n",
       "    </tr>\n",
       "    <tr>\n",
       "      <th>2</th>\n",
       "      <td>nissan</td>\n",
       "      <td>303</td>\n",
       "    </tr>\n",
       "    <tr>\n",
       "      <th>3</th>\n",
       "      <td>chevrolet</td>\n",
       "      <td>256</td>\n",
       "    </tr>\n",
       "    <tr>\n",
       "      <th>4</th>\n",
       "      <td>gmc</td>\n",
       "      <td>35</td>\n",
       "    </tr>\n",
       "    <tr>\n",
       "      <th>5</th>\n",
       "      <td>jeep</td>\n",
       "      <td>28</td>\n",
       "    </tr>\n",
       "    <tr>\n",
       "      <th>6</th>\n",
       "      <td>bmw</td>\n",
       "      <td>14</td>\n",
       "    </tr>\n",
       "    <tr>\n",
       "      <th>7</th>\n",
       "      <td>chrysler</td>\n",
       "      <td>14</td>\n",
       "    </tr>\n",
       "    <tr>\n",
       "      <th>8</th>\n",
       "      <td>hyundai</td>\n",
       "      <td>13</td>\n",
       "    </tr>\n",
       "    <tr>\n",
       "      <th>9</th>\n",
       "      <td>infiniti</td>\n",
       "      <td>12</td>\n",
       "    </tr>\n",
       "  </tbody>\n",
       "</table>\n",
       "</div>"
      ],
      "text/plain": [
       "       brand  count\n",
       "0       ford   1065\n",
       "1      dodge    404\n",
       "2     nissan    303\n",
       "3  chevrolet    256\n",
       "4        gmc     35\n",
       "5       jeep     28\n",
       "6        bmw     14\n",
       "7   chrysler     14\n",
       "8    hyundai     13\n",
       "9   infiniti     12"
      ]
     },
     "execution_count": 33,
     "metadata": {},
     "output_type": "execute_result"
    }
   ],
   "source": [
    "# Top 10 Most popular brands\n",
    "brand_df = pd.DataFrame(df['brand'].value_counts().head(10))\n",
    "\n",
    "# Reset the index of the new dataframe\n",
    "brand_df.reset_index(inplace=True)\n",
    "\n",
    "# Rename the columns\n",
    "brand_df.rename(columns={\"index\": 'brand', \"brand\": 'count'}, inplace=True)\n",
    "\n",
    "brand_df"
   ]
  },
  {
   "cell_type": "code",
   "execution_count": 34,
   "id": "6b6585b0",
   "metadata": {},
   "outputs": [
    {
     "data": {
      "application/vnd.plotly.v1+json": {
       "config": {
        "plotlyServerURL": "https://plot.ly"
       },
       "data": [
        {
         "alignmentgroup": "True",
         "hovertemplate": "brand=%{x}<br>count=%{text}<extra></extra>",
         "legendgroup": "",
         "marker": {
          "color": "#636efa",
          "pattern": {
           "shape": ""
          }
         },
         "name": "",
         "offsetgroup": "",
         "orientation": "v",
         "showlegend": false,
         "text": [
          1065,
          404,
          303,
          256,
          35,
          28,
          14,
          14,
          13,
          12
         ],
         "textposition": "auto",
         "type": "bar",
         "x": [
          "ford",
          "dodge",
          "nissan",
          "chevrolet",
          "gmc",
          "jeep",
          "bmw",
          "chrysler",
          "hyundai",
          "infiniti"
         ],
         "xaxis": "x",
         "y": [
          1065,
          404,
          303,
          256,
          35,
          28,
          14,
          14,
          13,
          12
         ],
         "yaxis": "y"
        }
       ],
       "layout": {
        "barmode": "relative",
        "font": {
         "family": "Arial",
         "size": 12
        },
        "legend": {
         "tracegroupgap": 0
        },
        "template": {
         "data": {
          "bar": [
           {
            "error_x": {
             "color": "#2a3f5f"
            },
            "error_y": {
             "color": "#2a3f5f"
            },
            "marker": {
             "line": {
              "color": "white",
              "width": 0.5
             },
             "pattern": {
              "fillmode": "overlay",
              "size": 10,
              "solidity": 0.2
             }
            },
            "type": "bar"
           }
          ],
          "barpolar": [
           {
            "marker": {
             "line": {
              "color": "white",
              "width": 0.5
             },
             "pattern": {
              "fillmode": "overlay",
              "size": 10,
              "solidity": 0.2
             }
            },
            "type": "barpolar"
           }
          ],
          "carpet": [
           {
            "aaxis": {
             "endlinecolor": "#2a3f5f",
             "gridcolor": "#C8D4E3",
             "linecolor": "#C8D4E3",
             "minorgridcolor": "#C8D4E3",
             "startlinecolor": "#2a3f5f"
            },
            "baxis": {
             "endlinecolor": "#2a3f5f",
             "gridcolor": "#C8D4E3",
             "linecolor": "#C8D4E3",
             "minorgridcolor": "#C8D4E3",
             "startlinecolor": "#2a3f5f"
            },
            "type": "carpet"
           }
          ],
          "choropleth": [
           {
            "colorbar": {
             "outlinewidth": 0,
             "ticks": ""
            },
            "type": "choropleth"
           }
          ],
          "contour": [
           {
            "colorbar": {
             "outlinewidth": 0,
             "ticks": ""
            },
            "colorscale": [
             [
              0,
              "#0d0887"
             ],
             [
              0.1111111111111111,
              "#46039f"
             ],
             [
              0.2222222222222222,
              "#7201a8"
             ],
             [
              0.3333333333333333,
              "#9c179e"
             ],
             [
              0.4444444444444444,
              "#bd3786"
             ],
             [
              0.5555555555555556,
              "#d8576b"
             ],
             [
              0.6666666666666666,
              "#ed7953"
             ],
             [
              0.7777777777777778,
              "#fb9f3a"
             ],
             [
              0.8888888888888888,
              "#fdca26"
             ],
             [
              1,
              "#f0f921"
             ]
            ],
            "type": "contour"
           }
          ],
          "contourcarpet": [
           {
            "colorbar": {
             "outlinewidth": 0,
             "ticks": ""
            },
            "type": "contourcarpet"
           }
          ],
          "heatmap": [
           {
            "colorbar": {
             "outlinewidth": 0,
             "ticks": ""
            },
            "colorscale": [
             [
              0,
              "#0d0887"
             ],
             [
              0.1111111111111111,
              "#46039f"
             ],
             [
              0.2222222222222222,
              "#7201a8"
             ],
             [
              0.3333333333333333,
              "#9c179e"
             ],
             [
              0.4444444444444444,
              "#bd3786"
             ],
             [
              0.5555555555555556,
              "#d8576b"
             ],
             [
              0.6666666666666666,
              "#ed7953"
             ],
             [
              0.7777777777777778,
              "#fb9f3a"
             ],
             [
              0.8888888888888888,
              "#fdca26"
             ],
             [
              1,
              "#f0f921"
             ]
            ],
            "type": "heatmap"
           }
          ],
          "heatmapgl": [
           {
            "colorbar": {
             "outlinewidth": 0,
             "ticks": ""
            },
            "colorscale": [
             [
              0,
              "#0d0887"
             ],
             [
              0.1111111111111111,
              "#46039f"
             ],
             [
              0.2222222222222222,
              "#7201a8"
             ],
             [
              0.3333333333333333,
              "#9c179e"
             ],
             [
              0.4444444444444444,
              "#bd3786"
             ],
             [
              0.5555555555555556,
              "#d8576b"
             ],
             [
              0.6666666666666666,
              "#ed7953"
             ],
             [
              0.7777777777777778,
              "#fb9f3a"
             ],
             [
              0.8888888888888888,
              "#fdca26"
             ],
             [
              1,
              "#f0f921"
             ]
            ],
            "type": "heatmapgl"
           }
          ],
          "histogram": [
           {
            "marker": {
             "pattern": {
              "fillmode": "overlay",
              "size": 10,
              "solidity": 0.2
             }
            },
            "type": "histogram"
           }
          ],
          "histogram2d": [
           {
            "colorbar": {
             "outlinewidth": 0,
             "ticks": ""
            },
            "colorscale": [
             [
              0,
              "#0d0887"
             ],
             [
              0.1111111111111111,
              "#46039f"
             ],
             [
              0.2222222222222222,
              "#7201a8"
             ],
             [
              0.3333333333333333,
              "#9c179e"
             ],
             [
              0.4444444444444444,
              "#bd3786"
             ],
             [
              0.5555555555555556,
              "#d8576b"
             ],
             [
              0.6666666666666666,
              "#ed7953"
             ],
             [
              0.7777777777777778,
              "#fb9f3a"
             ],
             [
              0.8888888888888888,
              "#fdca26"
             ],
             [
              1,
              "#f0f921"
             ]
            ],
            "type": "histogram2d"
           }
          ],
          "histogram2dcontour": [
           {
            "colorbar": {
             "outlinewidth": 0,
             "ticks": ""
            },
            "colorscale": [
             [
              0,
              "#0d0887"
             ],
             [
              0.1111111111111111,
              "#46039f"
             ],
             [
              0.2222222222222222,
              "#7201a8"
             ],
             [
              0.3333333333333333,
              "#9c179e"
             ],
             [
              0.4444444444444444,
              "#bd3786"
             ],
             [
              0.5555555555555556,
              "#d8576b"
             ],
             [
              0.6666666666666666,
              "#ed7953"
             ],
             [
              0.7777777777777778,
              "#fb9f3a"
             ],
             [
              0.8888888888888888,
              "#fdca26"
             ],
             [
              1,
              "#f0f921"
             ]
            ],
            "type": "histogram2dcontour"
           }
          ],
          "mesh3d": [
           {
            "colorbar": {
             "outlinewidth": 0,
             "ticks": ""
            },
            "type": "mesh3d"
           }
          ],
          "parcoords": [
           {
            "line": {
             "colorbar": {
              "outlinewidth": 0,
              "ticks": ""
             }
            },
            "type": "parcoords"
           }
          ],
          "pie": [
           {
            "automargin": true,
            "type": "pie"
           }
          ],
          "scatter": [
           {
            "fillpattern": {
             "fillmode": "overlay",
             "size": 10,
             "solidity": 0.2
            },
            "type": "scatter"
           }
          ],
          "scatter3d": [
           {
            "line": {
             "colorbar": {
              "outlinewidth": 0,
              "ticks": ""
             }
            },
            "marker": {
             "colorbar": {
              "outlinewidth": 0,
              "ticks": ""
             }
            },
            "type": "scatter3d"
           }
          ],
          "scattercarpet": [
           {
            "marker": {
             "colorbar": {
              "outlinewidth": 0,
              "ticks": ""
             }
            },
            "type": "scattercarpet"
           }
          ],
          "scattergeo": [
           {
            "marker": {
             "colorbar": {
              "outlinewidth": 0,
              "ticks": ""
             }
            },
            "type": "scattergeo"
           }
          ],
          "scattergl": [
           {
            "marker": {
             "colorbar": {
              "outlinewidth": 0,
              "ticks": ""
             }
            },
            "type": "scattergl"
           }
          ],
          "scattermapbox": [
           {
            "marker": {
             "colorbar": {
              "outlinewidth": 0,
              "ticks": ""
             }
            },
            "type": "scattermapbox"
           }
          ],
          "scatterpolar": [
           {
            "marker": {
             "colorbar": {
              "outlinewidth": 0,
              "ticks": ""
             }
            },
            "type": "scatterpolar"
           }
          ],
          "scatterpolargl": [
           {
            "marker": {
             "colorbar": {
              "outlinewidth": 0,
              "ticks": ""
             }
            },
            "type": "scatterpolargl"
           }
          ],
          "scatterternary": [
           {
            "marker": {
             "colorbar": {
              "outlinewidth": 0,
              "ticks": ""
             }
            },
            "type": "scatterternary"
           }
          ],
          "surface": [
           {
            "colorbar": {
             "outlinewidth": 0,
             "ticks": ""
            },
            "colorscale": [
             [
              0,
              "#0d0887"
             ],
             [
              0.1111111111111111,
              "#46039f"
             ],
             [
              0.2222222222222222,
              "#7201a8"
             ],
             [
              0.3333333333333333,
              "#9c179e"
             ],
             [
              0.4444444444444444,
              "#bd3786"
             ],
             [
              0.5555555555555556,
              "#d8576b"
             ],
             [
              0.6666666666666666,
              "#ed7953"
             ],
             [
              0.7777777777777778,
              "#fb9f3a"
             ],
             [
              0.8888888888888888,
              "#fdca26"
             ],
             [
              1,
              "#f0f921"
             ]
            ],
            "type": "surface"
           }
          ],
          "table": [
           {
            "cells": {
             "fill": {
              "color": "#EBF0F8"
             },
             "line": {
              "color": "white"
             }
            },
            "header": {
             "fill": {
              "color": "#C8D4E3"
             },
             "line": {
              "color": "white"
             }
            },
            "type": "table"
           }
          ]
         },
         "layout": {
          "annotationdefaults": {
           "arrowcolor": "#2a3f5f",
           "arrowhead": 0,
           "arrowwidth": 1
          },
          "autotypenumbers": "strict",
          "coloraxis": {
           "colorbar": {
            "outlinewidth": 0,
            "ticks": ""
           }
          },
          "colorscale": {
           "diverging": [
            [
             0,
             "#8e0152"
            ],
            [
             0.1,
             "#c51b7d"
            ],
            [
             0.2,
             "#de77ae"
            ],
            [
             0.3,
             "#f1b6da"
            ],
            [
             0.4,
             "#fde0ef"
            ],
            [
             0.5,
             "#f7f7f7"
            ],
            [
             0.6,
             "#e6f5d0"
            ],
            [
             0.7,
             "#b8e186"
            ],
            [
             0.8,
             "#7fbc41"
            ],
            [
             0.9,
             "#4d9221"
            ],
            [
             1,
             "#276419"
            ]
           ],
           "sequential": [
            [
             0,
             "#0d0887"
            ],
            [
             0.1111111111111111,
             "#46039f"
            ],
            [
             0.2222222222222222,
             "#7201a8"
            ],
            [
             0.3333333333333333,
             "#9c179e"
            ],
            [
             0.4444444444444444,
             "#bd3786"
            ],
            [
             0.5555555555555556,
             "#d8576b"
            ],
            [
             0.6666666666666666,
             "#ed7953"
            ],
            [
             0.7777777777777778,
             "#fb9f3a"
            ],
            [
             0.8888888888888888,
             "#fdca26"
            ],
            [
             1,
             "#f0f921"
            ]
           ],
           "sequentialminus": [
            [
             0,
             "#0d0887"
            ],
            [
             0.1111111111111111,
             "#46039f"
            ],
            [
             0.2222222222222222,
             "#7201a8"
            ],
            [
             0.3333333333333333,
             "#9c179e"
            ],
            [
             0.4444444444444444,
             "#bd3786"
            ],
            [
             0.5555555555555556,
             "#d8576b"
            ],
            [
             0.6666666666666666,
             "#ed7953"
            ],
            [
             0.7777777777777778,
             "#fb9f3a"
            ],
            [
             0.8888888888888888,
             "#fdca26"
            ],
            [
             1,
             "#f0f921"
            ]
           ]
          },
          "colorway": [
           "#636efa",
           "#EF553B",
           "#00cc96",
           "#ab63fa",
           "#FFA15A",
           "#19d3f3",
           "#FF6692",
           "#B6E880",
           "#FF97FF",
           "#FECB52"
          ],
          "font": {
           "color": "#2a3f5f"
          },
          "geo": {
           "bgcolor": "white",
           "lakecolor": "white",
           "landcolor": "white",
           "showlakes": true,
           "showland": true,
           "subunitcolor": "#C8D4E3"
          },
          "hoverlabel": {
           "align": "left"
          },
          "hovermode": "closest",
          "mapbox": {
           "style": "light"
          },
          "paper_bgcolor": "white",
          "plot_bgcolor": "white",
          "polar": {
           "angularaxis": {
            "gridcolor": "#EBF0F8",
            "linecolor": "#EBF0F8",
            "ticks": ""
           },
           "bgcolor": "white",
           "radialaxis": {
            "gridcolor": "#EBF0F8",
            "linecolor": "#EBF0F8",
            "ticks": ""
           }
          },
          "scene": {
           "xaxis": {
            "backgroundcolor": "white",
            "gridcolor": "#DFE8F3",
            "gridwidth": 2,
            "linecolor": "#EBF0F8",
            "showbackground": true,
            "ticks": "",
            "zerolinecolor": "#EBF0F8"
           },
           "yaxis": {
            "backgroundcolor": "white",
            "gridcolor": "#DFE8F3",
            "gridwidth": 2,
            "linecolor": "#EBF0F8",
            "showbackground": true,
            "ticks": "",
            "zerolinecolor": "#EBF0F8"
           },
           "zaxis": {
            "backgroundcolor": "white",
            "gridcolor": "#DFE8F3",
            "gridwidth": 2,
            "linecolor": "#EBF0F8",
            "showbackground": true,
            "ticks": "",
            "zerolinecolor": "#EBF0F8"
           }
          },
          "shapedefaults": {
           "line": {
            "color": "#2a3f5f"
           }
          },
          "ternary": {
           "aaxis": {
            "gridcolor": "#DFE8F3",
            "linecolor": "#A2B1C6",
            "ticks": ""
           },
           "baxis": {
            "gridcolor": "#DFE8F3",
            "linecolor": "#A2B1C6",
            "ticks": ""
           },
           "bgcolor": "white",
           "caxis": {
            "gridcolor": "#DFE8F3",
            "linecolor": "#A2B1C6",
            "ticks": ""
           }
          },
          "title": {
           "x": 0.05
          },
          "xaxis": {
           "automargin": true,
           "gridcolor": "#EBF0F8",
           "linecolor": "#EBF0F8",
           "ticks": "",
           "title": {
            "standoff": 15
           },
           "zerolinecolor": "#EBF0F8",
           "zerolinewidth": 2
          },
          "yaxis": {
           "automargin": true,
           "gridcolor": "#EBF0F8",
           "linecolor": "#EBF0F8",
           "ticks": "",
           "title": {
            "standoff": 15
           },
           "zerolinecolor": "#EBF0F8",
           "zerolinewidth": 2
          }
         }
        },
        "title": {
         "text": "Most Popular Car Brands"
        },
        "xaxis": {
         "anchor": "y",
         "domain": [
          0,
          1
         ],
         "linecolor": "black",
         "linewidth": 2,
         "showline": true,
         "ticks": "outside",
         "title": {
          "text": "Brand"
         }
        },
        "yaxis": {
         "anchor": "x",
         "domain": [
          0,
          1
         ],
         "linecolor": "black",
         "linewidth": 1,
         "showgrid": true,
         "showline": true,
         "title": {
          "text": "Count"
         }
        }
       }
      },
      "text/html": [
       "<div>                            <div id=\"777790de-c356-4ffc-bc09-f060656fbab0\" class=\"plotly-graph-div\" style=\"height:525px; width:100%;\"></div>            <script type=\"text/javascript\">                require([\"plotly\"], function(Plotly) {                    window.PLOTLYENV=window.PLOTLYENV || {};                                    if (document.getElementById(\"777790de-c356-4ffc-bc09-f060656fbab0\")) {                    Plotly.newPlot(                        \"777790de-c356-4ffc-bc09-f060656fbab0\",                        [{\"alignmentgroup\":\"True\",\"hovertemplate\":\"brand=%{x}<br>count=%{text}<extra></extra>\",\"legendgroup\":\"\",\"marker\":{\"color\":\"#636efa\",\"pattern\":{\"shape\":\"\"}},\"name\":\"\",\"offsetgroup\":\"\",\"orientation\":\"v\",\"showlegend\":false,\"text\":[1065.0,404.0,303.0,256.0,35.0,28.0,14.0,14.0,13.0,12.0],\"textposition\":\"auto\",\"x\":[\"ford\",\"dodge\",\"nissan\",\"chevrolet\",\"gmc\",\"jeep\",\"bmw\",\"chrysler\",\"hyundai\",\"infiniti\"],\"xaxis\":\"x\",\"y\":[1065,404,303,256,35,28,14,14,13,12],\"yaxis\":\"y\",\"type\":\"bar\"}],                        {\"template\":{\"data\":{\"barpolar\":[{\"marker\":{\"line\":{\"color\":\"white\",\"width\":0.5},\"pattern\":{\"fillmode\":\"overlay\",\"size\":10,\"solidity\":0.2}},\"type\":\"barpolar\"}],\"bar\":[{\"error_x\":{\"color\":\"#2a3f5f\"},\"error_y\":{\"color\":\"#2a3f5f\"},\"marker\":{\"line\":{\"color\":\"white\",\"width\":0.5},\"pattern\":{\"fillmode\":\"overlay\",\"size\":10,\"solidity\":0.2}},\"type\":\"bar\"}],\"carpet\":[{\"aaxis\":{\"endlinecolor\":\"#2a3f5f\",\"gridcolor\":\"#C8D4E3\",\"linecolor\":\"#C8D4E3\",\"minorgridcolor\":\"#C8D4E3\",\"startlinecolor\":\"#2a3f5f\"},\"baxis\":{\"endlinecolor\":\"#2a3f5f\",\"gridcolor\":\"#C8D4E3\",\"linecolor\":\"#C8D4E3\",\"minorgridcolor\":\"#C8D4E3\",\"startlinecolor\":\"#2a3f5f\"},\"type\":\"carpet\"}],\"choropleth\":[{\"colorbar\":{\"outlinewidth\":0,\"ticks\":\"\"},\"type\":\"choropleth\"}],\"contourcarpet\":[{\"colorbar\":{\"outlinewidth\":0,\"ticks\":\"\"},\"type\":\"contourcarpet\"}],\"contour\":[{\"colorbar\":{\"outlinewidth\":0,\"ticks\":\"\"},\"colorscale\":[[0.0,\"#0d0887\"],[0.1111111111111111,\"#46039f\"],[0.2222222222222222,\"#7201a8\"],[0.3333333333333333,\"#9c179e\"],[0.4444444444444444,\"#bd3786\"],[0.5555555555555556,\"#d8576b\"],[0.6666666666666666,\"#ed7953\"],[0.7777777777777778,\"#fb9f3a\"],[0.8888888888888888,\"#fdca26\"],[1.0,\"#f0f921\"]],\"type\":\"contour\"}],\"heatmapgl\":[{\"colorbar\":{\"outlinewidth\":0,\"ticks\":\"\"},\"colorscale\":[[0.0,\"#0d0887\"],[0.1111111111111111,\"#46039f\"],[0.2222222222222222,\"#7201a8\"],[0.3333333333333333,\"#9c179e\"],[0.4444444444444444,\"#bd3786\"],[0.5555555555555556,\"#d8576b\"],[0.6666666666666666,\"#ed7953\"],[0.7777777777777778,\"#fb9f3a\"],[0.8888888888888888,\"#fdca26\"],[1.0,\"#f0f921\"]],\"type\":\"heatmapgl\"}],\"heatmap\":[{\"colorbar\":{\"outlinewidth\":0,\"ticks\":\"\"},\"colorscale\":[[0.0,\"#0d0887\"],[0.1111111111111111,\"#46039f\"],[0.2222222222222222,\"#7201a8\"],[0.3333333333333333,\"#9c179e\"],[0.4444444444444444,\"#bd3786\"],[0.5555555555555556,\"#d8576b\"],[0.6666666666666666,\"#ed7953\"],[0.7777777777777778,\"#fb9f3a\"],[0.8888888888888888,\"#fdca26\"],[1.0,\"#f0f921\"]],\"type\":\"heatmap\"}],\"histogram2dcontour\":[{\"colorbar\":{\"outlinewidth\":0,\"ticks\":\"\"},\"colorscale\":[[0.0,\"#0d0887\"],[0.1111111111111111,\"#46039f\"],[0.2222222222222222,\"#7201a8\"],[0.3333333333333333,\"#9c179e\"],[0.4444444444444444,\"#bd3786\"],[0.5555555555555556,\"#d8576b\"],[0.6666666666666666,\"#ed7953\"],[0.7777777777777778,\"#fb9f3a\"],[0.8888888888888888,\"#fdca26\"],[1.0,\"#f0f921\"]],\"type\":\"histogram2dcontour\"}],\"histogram2d\":[{\"colorbar\":{\"outlinewidth\":0,\"ticks\":\"\"},\"colorscale\":[[0.0,\"#0d0887\"],[0.1111111111111111,\"#46039f\"],[0.2222222222222222,\"#7201a8\"],[0.3333333333333333,\"#9c179e\"],[0.4444444444444444,\"#bd3786\"],[0.5555555555555556,\"#d8576b\"],[0.6666666666666666,\"#ed7953\"],[0.7777777777777778,\"#fb9f3a\"],[0.8888888888888888,\"#fdca26\"],[1.0,\"#f0f921\"]],\"type\":\"histogram2d\"}],\"histogram\":[{\"marker\":{\"pattern\":{\"fillmode\":\"overlay\",\"size\":10,\"solidity\":0.2}},\"type\":\"histogram\"}],\"mesh3d\":[{\"colorbar\":{\"outlinewidth\":0,\"ticks\":\"\"},\"type\":\"mesh3d\"}],\"parcoords\":[{\"line\":{\"colorbar\":{\"outlinewidth\":0,\"ticks\":\"\"}},\"type\":\"parcoords\"}],\"pie\":[{\"automargin\":true,\"type\":\"pie\"}],\"scatter3d\":[{\"line\":{\"colorbar\":{\"outlinewidth\":0,\"ticks\":\"\"}},\"marker\":{\"colorbar\":{\"outlinewidth\":0,\"ticks\":\"\"}},\"type\":\"scatter3d\"}],\"scattercarpet\":[{\"marker\":{\"colorbar\":{\"outlinewidth\":0,\"ticks\":\"\"}},\"type\":\"scattercarpet\"}],\"scattergeo\":[{\"marker\":{\"colorbar\":{\"outlinewidth\":0,\"ticks\":\"\"}},\"type\":\"scattergeo\"}],\"scattergl\":[{\"marker\":{\"colorbar\":{\"outlinewidth\":0,\"ticks\":\"\"}},\"type\":\"scattergl\"}],\"scattermapbox\":[{\"marker\":{\"colorbar\":{\"outlinewidth\":0,\"ticks\":\"\"}},\"type\":\"scattermapbox\"}],\"scatterpolargl\":[{\"marker\":{\"colorbar\":{\"outlinewidth\":0,\"ticks\":\"\"}},\"type\":\"scatterpolargl\"}],\"scatterpolar\":[{\"marker\":{\"colorbar\":{\"outlinewidth\":0,\"ticks\":\"\"}},\"type\":\"scatterpolar\"}],\"scatter\":[{\"fillpattern\":{\"fillmode\":\"overlay\",\"size\":10,\"solidity\":0.2},\"type\":\"scatter\"}],\"scatterternary\":[{\"marker\":{\"colorbar\":{\"outlinewidth\":0,\"ticks\":\"\"}},\"type\":\"scatterternary\"}],\"surface\":[{\"colorbar\":{\"outlinewidth\":0,\"ticks\":\"\"},\"colorscale\":[[0.0,\"#0d0887\"],[0.1111111111111111,\"#46039f\"],[0.2222222222222222,\"#7201a8\"],[0.3333333333333333,\"#9c179e\"],[0.4444444444444444,\"#bd3786\"],[0.5555555555555556,\"#d8576b\"],[0.6666666666666666,\"#ed7953\"],[0.7777777777777778,\"#fb9f3a\"],[0.8888888888888888,\"#fdca26\"],[1.0,\"#f0f921\"]],\"type\":\"surface\"}],\"table\":[{\"cells\":{\"fill\":{\"color\":\"#EBF0F8\"},\"line\":{\"color\":\"white\"}},\"header\":{\"fill\":{\"color\":\"#C8D4E3\"},\"line\":{\"color\":\"white\"}},\"type\":\"table\"}]},\"layout\":{\"annotationdefaults\":{\"arrowcolor\":\"#2a3f5f\",\"arrowhead\":0,\"arrowwidth\":1},\"autotypenumbers\":\"strict\",\"coloraxis\":{\"colorbar\":{\"outlinewidth\":0,\"ticks\":\"\"}},\"colorscale\":{\"diverging\":[[0,\"#8e0152\"],[0.1,\"#c51b7d\"],[0.2,\"#de77ae\"],[0.3,\"#f1b6da\"],[0.4,\"#fde0ef\"],[0.5,\"#f7f7f7\"],[0.6,\"#e6f5d0\"],[0.7,\"#b8e186\"],[0.8,\"#7fbc41\"],[0.9,\"#4d9221\"],[1,\"#276419\"]],\"sequential\":[[0.0,\"#0d0887\"],[0.1111111111111111,\"#46039f\"],[0.2222222222222222,\"#7201a8\"],[0.3333333333333333,\"#9c179e\"],[0.4444444444444444,\"#bd3786\"],[0.5555555555555556,\"#d8576b\"],[0.6666666666666666,\"#ed7953\"],[0.7777777777777778,\"#fb9f3a\"],[0.8888888888888888,\"#fdca26\"],[1.0,\"#f0f921\"]],\"sequentialminus\":[[0.0,\"#0d0887\"],[0.1111111111111111,\"#46039f\"],[0.2222222222222222,\"#7201a8\"],[0.3333333333333333,\"#9c179e\"],[0.4444444444444444,\"#bd3786\"],[0.5555555555555556,\"#d8576b\"],[0.6666666666666666,\"#ed7953\"],[0.7777777777777778,\"#fb9f3a\"],[0.8888888888888888,\"#fdca26\"],[1.0,\"#f0f921\"]]},\"colorway\":[\"#636efa\",\"#EF553B\",\"#00cc96\",\"#ab63fa\",\"#FFA15A\",\"#19d3f3\",\"#FF6692\",\"#B6E880\",\"#FF97FF\",\"#FECB52\"],\"font\":{\"color\":\"#2a3f5f\"},\"geo\":{\"bgcolor\":\"white\",\"lakecolor\":\"white\",\"landcolor\":\"white\",\"showlakes\":true,\"showland\":true,\"subunitcolor\":\"#C8D4E3\"},\"hoverlabel\":{\"align\":\"left\"},\"hovermode\":\"closest\",\"mapbox\":{\"style\":\"light\"},\"paper_bgcolor\":\"white\",\"plot_bgcolor\":\"white\",\"polar\":{\"angularaxis\":{\"gridcolor\":\"#EBF0F8\",\"linecolor\":\"#EBF0F8\",\"ticks\":\"\"},\"bgcolor\":\"white\",\"radialaxis\":{\"gridcolor\":\"#EBF0F8\",\"linecolor\":\"#EBF0F8\",\"ticks\":\"\"}},\"scene\":{\"xaxis\":{\"backgroundcolor\":\"white\",\"gridcolor\":\"#DFE8F3\",\"gridwidth\":2,\"linecolor\":\"#EBF0F8\",\"showbackground\":true,\"ticks\":\"\",\"zerolinecolor\":\"#EBF0F8\"},\"yaxis\":{\"backgroundcolor\":\"white\",\"gridcolor\":\"#DFE8F3\",\"gridwidth\":2,\"linecolor\":\"#EBF0F8\",\"showbackground\":true,\"ticks\":\"\",\"zerolinecolor\":\"#EBF0F8\"},\"zaxis\":{\"backgroundcolor\":\"white\",\"gridcolor\":\"#DFE8F3\",\"gridwidth\":2,\"linecolor\":\"#EBF0F8\",\"showbackground\":true,\"ticks\":\"\",\"zerolinecolor\":\"#EBF0F8\"}},\"shapedefaults\":{\"line\":{\"color\":\"#2a3f5f\"}},\"ternary\":{\"aaxis\":{\"gridcolor\":\"#DFE8F3\",\"linecolor\":\"#A2B1C6\",\"ticks\":\"\"},\"baxis\":{\"gridcolor\":\"#DFE8F3\",\"linecolor\":\"#A2B1C6\",\"ticks\":\"\"},\"bgcolor\":\"white\",\"caxis\":{\"gridcolor\":\"#DFE8F3\",\"linecolor\":\"#A2B1C6\",\"ticks\":\"\"}},\"title\":{\"x\":0.05},\"xaxis\":{\"automargin\":true,\"gridcolor\":\"#EBF0F8\",\"linecolor\":\"#EBF0F8\",\"ticks\":\"\",\"title\":{\"standoff\":15},\"zerolinecolor\":\"#EBF0F8\",\"zerolinewidth\":2},\"yaxis\":{\"automargin\":true,\"gridcolor\":\"#EBF0F8\",\"linecolor\":\"#EBF0F8\",\"ticks\":\"\",\"title\":{\"standoff\":15},\"zerolinecolor\":\"#EBF0F8\",\"zerolinewidth\":2}}},\"xaxis\":{\"anchor\":\"y\",\"domain\":[0.0,1.0],\"title\":{\"text\":\"Brand\"},\"showline\":true,\"linewidth\":2,\"linecolor\":\"black\",\"ticks\":\"outside\"},\"yaxis\":{\"anchor\":\"x\",\"domain\":[0.0,1.0],\"title\":{\"text\":\"Count\"},\"showgrid\":true,\"showline\":true,\"linewidth\":1,\"linecolor\":\"black\"},\"legend\":{\"tracegroupgap\":0},\"title\":{\"text\":\"Most Popular Car Brands\"},\"barmode\":\"relative\",\"font\":{\"size\":12,\"family\":\"Arial\"}},                        {\"responsive\": true}                    ).then(function(){\n",
       "                            \n",
       "var gd = document.getElementById('777790de-c356-4ffc-bc09-f060656fbab0');\n",
       "var x = new MutationObserver(function (mutations, observer) {{\n",
       "        var display = window.getComputedStyle(gd).display;\n",
       "        if (!display || display === 'none') {{\n",
       "            console.log([gd, 'removed!']);\n",
       "            Plotly.purge(gd);\n",
       "            observer.disconnect();\n",
       "        }}\n",
       "}});\n",
       "\n",
       "// Listen for the removal of the full notebook cells\n",
       "var notebookContainer = gd.closest('#notebook-container');\n",
       "if (notebookContainer) {{\n",
       "    x.observe(notebookContainer, {childList: true});\n",
       "}}\n",
       "\n",
       "// Listen for the clearing of the current output cell\n",
       "var outputEl = gd.closest('.output');\n",
       "if (outputEl) {{\n",
       "    x.observe(outputEl, {childList: true});\n",
       "}}\n",
       "\n",
       "                        })                };                });            </script>        </div>"
      ]
     },
     "metadata": {},
     "output_type": "display_data"
    }
   ],
   "source": [
    "fig = px.bar(brand_df, y='count', x='brand', template='plotly_white', title='Most Popular Car Brands', text='count')\n",
    "\n",
    "fig.update_xaxes(title='Brand', showline=True, linewidth=2, linecolor='black', ticks='outside')\n",
    "fig.update_yaxes(title='Count', showgrid=True, showline=True, linewidth=1, linecolor='black')\n",
    "fig.update_layout(font_size = 12, font_family='Arial')\n",
    "fig.show()"
   ]
  },
  {
   "cell_type": "markdown",
   "id": "e43d60e9",
   "metadata": {},
   "source": [
    "- Ford is by far the most represented brand with almost 1100 vehicles. Next are Dodge, Nissan and Chevrolet.\n",
    "- The top 6 most represented brands are all American companies\n",
    "- Every other company outside the top 4 has fewer than 50 cars represented. This tells me that I can get a solid understanding of the cars for these 4 brands, but I will be hard pressed to make conclusive statements about the cars of the other companies."
   ]
  },
  {
   "cell_type": "markdown",
   "id": "cdecf1bf",
   "metadata": {},
   "source": [
    "### Question: What is the average price of a car for each brand?"
   ]
  },
  {
   "cell_type": "code",
   "execution_count": 116,
   "id": "63688ff5",
   "metadata": {},
   "outputs": [],
   "source": [
    "brand_price_df = df2.groupby('brand')['price'].agg({'mean','count'})\n",
    "\n",
    "brand_price_df.reset_index(inplace=True)"
   ]
  },
  {
   "cell_type": "code",
   "execution_count": 117,
   "id": "94af952c",
   "metadata": {},
   "outputs": [],
   "source": [
    "# Only include the top 10 most represented brands\n",
    "brand_price_df = brand_price_df.sort_values(by='count', ascending=False).head(10)"
   ]
  },
  {
   "cell_type": "code",
   "execution_count": 118,
   "id": "0a27e4ae",
   "metadata": {},
   "outputs": [
    {
     "data": {
      "text/html": [
       "<div>\n",
       "<style scoped>\n",
       "    .dataframe tbody tr th:only-of-type {\n",
       "        vertical-align: middle;\n",
       "    }\n",
       "\n",
       "    .dataframe tbody tr th {\n",
       "        vertical-align: top;\n",
       "    }\n",
       "\n",
       "    .dataframe thead th {\n",
       "        text-align: right;\n",
       "    }\n",
       "</style>\n",
       "<table border=\"1\" class=\"dataframe\">\n",
       "  <thead>\n",
       "    <tr style=\"text-align: right;\">\n",
       "      <th></th>\n",
       "      <th>brand</th>\n",
       "      <th>count</th>\n",
       "      <th>mean</th>\n",
       "    </tr>\n",
       "  </thead>\n",
       "  <tbody>\n",
       "    <tr>\n",
       "      <th>2</th>\n",
       "      <td>bmw</td>\n",
       "      <td>14</td>\n",
       "      <td>23,860.71</td>\n",
       "    </tr>\n",
       "    <tr>\n",
       "      <th>8</th>\n",
       "      <td>ford</td>\n",
       "      <td>1055</td>\n",
       "      <td>21,539.30</td>\n",
       "    </tr>\n",
       "    <tr>\n",
       "      <th>5</th>\n",
       "      <td>chevrolet</td>\n",
       "      <td>255</td>\n",
       "      <td>20,400.51</td>\n",
       "    </tr>\n",
       "    <tr>\n",
       "      <th>7</th>\n",
       "      <td>dodge</td>\n",
       "      <td>404</td>\n",
       "      <td>18,214.84</td>\n",
       "    </tr>\n",
       "    <tr>\n",
       "      <th>6</th>\n",
       "      <td>chrysler</td>\n",
       "      <td>14</td>\n",
       "      <td>16,982.86</td>\n",
       "    </tr>\n",
       "    <tr>\n",
       "      <th>12</th>\n",
       "      <td>infiniti</td>\n",
       "      <td>12</td>\n",
       "      <td>13,098.33</td>\n",
       "    </tr>\n",
       "    <tr>\n",
       "      <th>22</th>\n",
       "      <td>nissan</td>\n",
       "      <td>299</td>\n",
       "      <td>12,445.67</td>\n",
       "    </tr>\n",
       "    <tr>\n",
       "      <th>9</th>\n",
       "      <td>gmc</td>\n",
       "      <td>35</td>\n",
       "      <td>12,217.43</td>\n",
       "    </tr>\n",
       "    <tr>\n",
       "      <th>14</th>\n",
       "      <td>jeep</td>\n",
       "      <td>28</td>\n",
       "      <td>11,706.79</td>\n",
       "    </tr>\n",
       "    <tr>\n",
       "      <th>11</th>\n",
       "      <td>hyundai</td>\n",
       "      <td>13</td>\n",
       "      <td>5,276.15</td>\n",
       "    </tr>\n",
       "  </tbody>\n",
       "</table>\n",
       "</div>"
      ],
      "text/plain": [
       "        brand  count      mean\n",
       "2         bmw     14 23,860.71\n",
       "8        ford   1055 21,539.30\n",
       "5   chevrolet    255 20,400.51\n",
       "7       dodge    404 18,214.84\n",
       "6    chrysler     14 16,982.86\n",
       "12   infiniti     12 13,098.33\n",
       "22     nissan    299 12,445.67\n",
       "9         gmc     35 12,217.43\n",
       "14       jeep     28 11,706.79\n",
       "11    hyundai     13  5,276.15"
      ]
     },
     "execution_count": 118,
     "metadata": {},
     "output_type": "execute_result"
    }
   ],
   "source": [
    "# Sort by the average price of each brand from highest to lowest\n",
    "brand_price_df.sort_values(by='mean', ascending=False, inplace=True)\n",
    "\n",
    "brand_price_df"
   ]
  },
  {
   "cell_type": "code",
   "execution_count": 36,
   "id": "e4f558d5",
   "metadata": {},
   "outputs": [
    {
     "data": {
      "application/vnd.plotly.v1+json": {
       "config": {
        "plotlyServerURL": "https://plot.ly"
       },
       "data": [
        {
         "alignmentgroup": "True",
         "hovertemplate": "brand=%{x}<br>mean=%{y}<br>count=%{text}<extra></extra>",
         "legendgroup": "",
         "marker": {
          "color": "#636efa",
          "pattern": {
           "shape": ""
          }
         },
         "name": "",
         "offsetgroup": "",
         "orientation": "v",
         "showlegend": false,
         "text": [
          14,
          1055,
          255,
          404,
          14,
          12,
          299,
          35,
          28,
          13
         ],
         "textposition": "auto",
         "type": "bar",
         "x": [
          "bmw",
          "ford",
          "chevrolet",
          "dodge",
          "chrysler",
          "infiniti",
          "nissan",
          "gmc",
          "jeep",
          "hyundai"
         ],
         "xaxis": "x",
         "y": [
          23860.714285714286,
          21539.303317535545,
          20400.513725490197,
          18214.836633663366,
          16982.85714285714,
          13098.333333333334,
          12445.672240802676,
          12217.42857142857,
          11706.785714285714,
          5276.153846153846
         ],
         "yaxis": "y"
        }
       ],
       "layout": {
        "barmode": "relative",
        "font": {
         "family": "Arial",
         "size": 12
        },
        "legend": {
         "tracegroupgap": 0
        },
        "template": {
         "data": {
          "bar": [
           {
            "error_x": {
             "color": "#2a3f5f"
            },
            "error_y": {
             "color": "#2a3f5f"
            },
            "marker": {
             "line": {
              "color": "white",
              "width": 0.5
             },
             "pattern": {
              "fillmode": "overlay",
              "size": 10,
              "solidity": 0.2
             }
            },
            "type": "bar"
           }
          ],
          "barpolar": [
           {
            "marker": {
             "line": {
              "color": "white",
              "width": 0.5
             },
             "pattern": {
              "fillmode": "overlay",
              "size": 10,
              "solidity": 0.2
             }
            },
            "type": "barpolar"
           }
          ],
          "carpet": [
           {
            "aaxis": {
             "endlinecolor": "#2a3f5f",
             "gridcolor": "#C8D4E3",
             "linecolor": "#C8D4E3",
             "minorgridcolor": "#C8D4E3",
             "startlinecolor": "#2a3f5f"
            },
            "baxis": {
             "endlinecolor": "#2a3f5f",
             "gridcolor": "#C8D4E3",
             "linecolor": "#C8D4E3",
             "minorgridcolor": "#C8D4E3",
             "startlinecolor": "#2a3f5f"
            },
            "type": "carpet"
           }
          ],
          "choropleth": [
           {
            "colorbar": {
             "outlinewidth": 0,
             "ticks": ""
            },
            "type": "choropleth"
           }
          ],
          "contour": [
           {
            "colorbar": {
             "outlinewidth": 0,
             "ticks": ""
            },
            "colorscale": [
             [
              0,
              "#0d0887"
             ],
             [
              0.1111111111111111,
              "#46039f"
             ],
             [
              0.2222222222222222,
              "#7201a8"
             ],
             [
              0.3333333333333333,
              "#9c179e"
             ],
             [
              0.4444444444444444,
              "#bd3786"
             ],
             [
              0.5555555555555556,
              "#d8576b"
             ],
             [
              0.6666666666666666,
              "#ed7953"
             ],
             [
              0.7777777777777778,
              "#fb9f3a"
             ],
             [
              0.8888888888888888,
              "#fdca26"
             ],
             [
              1,
              "#f0f921"
             ]
            ],
            "type": "contour"
           }
          ],
          "contourcarpet": [
           {
            "colorbar": {
             "outlinewidth": 0,
             "ticks": ""
            },
            "type": "contourcarpet"
           }
          ],
          "heatmap": [
           {
            "colorbar": {
             "outlinewidth": 0,
             "ticks": ""
            },
            "colorscale": [
             [
              0,
              "#0d0887"
             ],
             [
              0.1111111111111111,
              "#46039f"
             ],
             [
              0.2222222222222222,
              "#7201a8"
             ],
             [
              0.3333333333333333,
              "#9c179e"
             ],
             [
              0.4444444444444444,
              "#bd3786"
             ],
             [
              0.5555555555555556,
              "#d8576b"
             ],
             [
              0.6666666666666666,
              "#ed7953"
             ],
             [
              0.7777777777777778,
              "#fb9f3a"
             ],
             [
              0.8888888888888888,
              "#fdca26"
             ],
             [
              1,
              "#f0f921"
             ]
            ],
            "type": "heatmap"
           }
          ],
          "heatmapgl": [
           {
            "colorbar": {
             "outlinewidth": 0,
             "ticks": ""
            },
            "colorscale": [
             [
              0,
              "#0d0887"
             ],
             [
              0.1111111111111111,
              "#46039f"
             ],
             [
              0.2222222222222222,
              "#7201a8"
             ],
             [
              0.3333333333333333,
              "#9c179e"
             ],
             [
              0.4444444444444444,
              "#bd3786"
             ],
             [
              0.5555555555555556,
              "#d8576b"
             ],
             [
              0.6666666666666666,
              "#ed7953"
             ],
             [
              0.7777777777777778,
              "#fb9f3a"
             ],
             [
              0.8888888888888888,
              "#fdca26"
             ],
             [
              1,
              "#f0f921"
             ]
            ],
            "type": "heatmapgl"
           }
          ],
          "histogram": [
           {
            "marker": {
             "pattern": {
              "fillmode": "overlay",
              "size": 10,
              "solidity": 0.2
             }
            },
            "type": "histogram"
           }
          ],
          "histogram2d": [
           {
            "colorbar": {
             "outlinewidth": 0,
             "ticks": ""
            },
            "colorscale": [
             [
              0,
              "#0d0887"
             ],
             [
              0.1111111111111111,
              "#46039f"
             ],
             [
              0.2222222222222222,
              "#7201a8"
             ],
             [
              0.3333333333333333,
              "#9c179e"
             ],
             [
              0.4444444444444444,
              "#bd3786"
             ],
             [
              0.5555555555555556,
              "#d8576b"
             ],
             [
              0.6666666666666666,
              "#ed7953"
             ],
             [
              0.7777777777777778,
              "#fb9f3a"
             ],
             [
              0.8888888888888888,
              "#fdca26"
             ],
             [
              1,
              "#f0f921"
             ]
            ],
            "type": "histogram2d"
           }
          ],
          "histogram2dcontour": [
           {
            "colorbar": {
             "outlinewidth": 0,
             "ticks": ""
            },
            "colorscale": [
             [
              0,
              "#0d0887"
             ],
             [
              0.1111111111111111,
              "#46039f"
             ],
             [
              0.2222222222222222,
              "#7201a8"
             ],
             [
              0.3333333333333333,
              "#9c179e"
             ],
             [
              0.4444444444444444,
              "#bd3786"
             ],
             [
              0.5555555555555556,
              "#d8576b"
             ],
             [
              0.6666666666666666,
              "#ed7953"
             ],
             [
              0.7777777777777778,
              "#fb9f3a"
             ],
             [
              0.8888888888888888,
              "#fdca26"
             ],
             [
              1,
              "#f0f921"
             ]
            ],
            "type": "histogram2dcontour"
           }
          ],
          "mesh3d": [
           {
            "colorbar": {
             "outlinewidth": 0,
             "ticks": ""
            },
            "type": "mesh3d"
           }
          ],
          "parcoords": [
           {
            "line": {
             "colorbar": {
              "outlinewidth": 0,
              "ticks": ""
             }
            },
            "type": "parcoords"
           }
          ],
          "pie": [
           {
            "automargin": true,
            "type": "pie"
           }
          ],
          "scatter": [
           {
            "fillpattern": {
             "fillmode": "overlay",
             "size": 10,
             "solidity": 0.2
            },
            "type": "scatter"
           }
          ],
          "scatter3d": [
           {
            "line": {
             "colorbar": {
              "outlinewidth": 0,
              "ticks": ""
             }
            },
            "marker": {
             "colorbar": {
              "outlinewidth": 0,
              "ticks": ""
             }
            },
            "type": "scatter3d"
           }
          ],
          "scattercarpet": [
           {
            "marker": {
             "colorbar": {
              "outlinewidth": 0,
              "ticks": ""
             }
            },
            "type": "scattercarpet"
           }
          ],
          "scattergeo": [
           {
            "marker": {
             "colorbar": {
              "outlinewidth": 0,
              "ticks": ""
             }
            },
            "type": "scattergeo"
           }
          ],
          "scattergl": [
           {
            "marker": {
             "colorbar": {
              "outlinewidth": 0,
              "ticks": ""
             }
            },
            "type": "scattergl"
           }
          ],
          "scattermapbox": [
           {
            "marker": {
             "colorbar": {
              "outlinewidth": 0,
              "ticks": ""
             }
            },
            "type": "scattermapbox"
           }
          ],
          "scatterpolar": [
           {
            "marker": {
             "colorbar": {
              "outlinewidth": 0,
              "ticks": ""
             }
            },
            "type": "scatterpolar"
           }
          ],
          "scatterpolargl": [
           {
            "marker": {
             "colorbar": {
              "outlinewidth": 0,
              "ticks": ""
             }
            },
            "type": "scatterpolargl"
           }
          ],
          "scatterternary": [
           {
            "marker": {
             "colorbar": {
              "outlinewidth": 0,
              "ticks": ""
             }
            },
            "type": "scatterternary"
           }
          ],
          "surface": [
           {
            "colorbar": {
             "outlinewidth": 0,
             "ticks": ""
            },
            "colorscale": [
             [
              0,
              "#0d0887"
             ],
             [
              0.1111111111111111,
              "#46039f"
             ],
             [
              0.2222222222222222,
              "#7201a8"
             ],
             [
              0.3333333333333333,
              "#9c179e"
             ],
             [
              0.4444444444444444,
              "#bd3786"
             ],
             [
              0.5555555555555556,
              "#d8576b"
             ],
             [
              0.6666666666666666,
              "#ed7953"
             ],
             [
              0.7777777777777778,
              "#fb9f3a"
             ],
             [
              0.8888888888888888,
              "#fdca26"
             ],
             [
              1,
              "#f0f921"
             ]
            ],
            "type": "surface"
           }
          ],
          "table": [
           {
            "cells": {
             "fill": {
              "color": "#EBF0F8"
             },
             "line": {
              "color": "white"
             }
            },
            "header": {
             "fill": {
              "color": "#C8D4E3"
             },
             "line": {
              "color": "white"
             }
            },
            "type": "table"
           }
          ]
         },
         "layout": {
          "annotationdefaults": {
           "arrowcolor": "#2a3f5f",
           "arrowhead": 0,
           "arrowwidth": 1
          },
          "autotypenumbers": "strict",
          "coloraxis": {
           "colorbar": {
            "outlinewidth": 0,
            "ticks": ""
           }
          },
          "colorscale": {
           "diverging": [
            [
             0,
             "#8e0152"
            ],
            [
             0.1,
             "#c51b7d"
            ],
            [
             0.2,
             "#de77ae"
            ],
            [
             0.3,
             "#f1b6da"
            ],
            [
             0.4,
             "#fde0ef"
            ],
            [
             0.5,
             "#f7f7f7"
            ],
            [
             0.6,
             "#e6f5d0"
            ],
            [
             0.7,
             "#b8e186"
            ],
            [
             0.8,
             "#7fbc41"
            ],
            [
             0.9,
             "#4d9221"
            ],
            [
             1,
             "#276419"
            ]
           ],
           "sequential": [
            [
             0,
             "#0d0887"
            ],
            [
             0.1111111111111111,
             "#46039f"
            ],
            [
             0.2222222222222222,
             "#7201a8"
            ],
            [
             0.3333333333333333,
             "#9c179e"
            ],
            [
             0.4444444444444444,
             "#bd3786"
            ],
            [
             0.5555555555555556,
             "#d8576b"
            ],
            [
             0.6666666666666666,
             "#ed7953"
            ],
            [
             0.7777777777777778,
             "#fb9f3a"
            ],
            [
             0.8888888888888888,
             "#fdca26"
            ],
            [
             1,
             "#f0f921"
            ]
           ],
           "sequentialminus": [
            [
             0,
             "#0d0887"
            ],
            [
             0.1111111111111111,
             "#46039f"
            ],
            [
             0.2222222222222222,
             "#7201a8"
            ],
            [
             0.3333333333333333,
             "#9c179e"
            ],
            [
             0.4444444444444444,
             "#bd3786"
            ],
            [
             0.5555555555555556,
             "#d8576b"
            ],
            [
             0.6666666666666666,
             "#ed7953"
            ],
            [
             0.7777777777777778,
             "#fb9f3a"
            ],
            [
             0.8888888888888888,
             "#fdca26"
            ],
            [
             1,
             "#f0f921"
            ]
           ]
          },
          "colorway": [
           "#636efa",
           "#EF553B",
           "#00cc96",
           "#ab63fa",
           "#FFA15A",
           "#19d3f3",
           "#FF6692",
           "#B6E880",
           "#FF97FF",
           "#FECB52"
          ],
          "font": {
           "color": "#2a3f5f"
          },
          "geo": {
           "bgcolor": "white",
           "lakecolor": "white",
           "landcolor": "white",
           "showlakes": true,
           "showland": true,
           "subunitcolor": "#C8D4E3"
          },
          "hoverlabel": {
           "align": "left"
          },
          "hovermode": "closest",
          "mapbox": {
           "style": "light"
          },
          "paper_bgcolor": "white",
          "plot_bgcolor": "white",
          "polar": {
           "angularaxis": {
            "gridcolor": "#EBF0F8",
            "linecolor": "#EBF0F8",
            "ticks": ""
           },
           "bgcolor": "white",
           "radialaxis": {
            "gridcolor": "#EBF0F8",
            "linecolor": "#EBF0F8",
            "ticks": ""
           }
          },
          "scene": {
           "xaxis": {
            "backgroundcolor": "white",
            "gridcolor": "#DFE8F3",
            "gridwidth": 2,
            "linecolor": "#EBF0F8",
            "showbackground": true,
            "ticks": "",
            "zerolinecolor": "#EBF0F8"
           },
           "yaxis": {
            "backgroundcolor": "white",
            "gridcolor": "#DFE8F3",
            "gridwidth": 2,
            "linecolor": "#EBF0F8",
            "showbackground": true,
            "ticks": "",
            "zerolinecolor": "#EBF0F8"
           },
           "zaxis": {
            "backgroundcolor": "white",
            "gridcolor": "#DFE8F3",
            "gridwidth": 2,
            "linecolor": "#EBF0F8",
            "showbackground": true,
            "ticks": "",
            "zerolinecolor": "#EBF0F8"
           }
          },
          "shapedefaults": {
           "line": {
            "color": "#2a3f5f"
           }
          },
          "ternary": {
           "aaxis": {
            "gridcolor": "#DFE8F3",
            "linecolor": "#A2B1C6",
            "ticks": ""
           },
           "baxis": {
            "gridcolor": "#DFE8F3",
            "linecolor": "#A2B1C6",
            "ticks": ""
           },
           "bgcolor": "white",
           "caxis": {
            "gridcolor": "#DFE8F3",
            "linecolor": "#A2B1C6",
            "ticks": ""
           }
          },
          "title": {
           "x": 0.05
          },
          "xaxis": {
           "automargin": true,
           "gridcolor": "#EBF0F8",
           "linecolor": "#EBF0F8",
           "ticks": "",
           "title": {
            "standoff": 15
           },
           "zerolinecolor": "#EBF0F8",
           "zerolinewidth": 2
          },
          "yaxis": {
           "automargin": true,
           "gridcolor": "#EBF0F8",
           "linecolor": "#EBF0F8",
           "ticks": "",
           "title": {
            "standoff": 15
           },
           "zerolinecolor": "#EBF0F8",
           "zerolinewidth": 2
          }
         }
        },
        "title": {
         "text": "Average Price of Top 10 Most Represented Brands"
        },
        "xaxis": {
         "anchor": "y",
         "domain": [
          0,
          1
         ],
         "linecolor": "black",
         "linewidth": 2,
         "showline": true,
         "ticks": "outside",
         "title": {
          "text": "Brand"
         }
        },
        "yaxis": {
         "anchor": "x",
         "domain": [
          0,
          1
         ],
         "linecolor": "black",
         "linewidth": 1,
         "showgrid": true,
         "showline": true,
         "title": {
          "text": "Price"
         }
        }
       }
      },
      "text/html": [
       "<div>                            <div id=\"21f8960d-7121-4136-9269-8e8abbd63a58\" class=\"plotly-graph-div\" style=\"height:525px; width:100%;\"></div>            <script type=\"text/javascript\">                require([\"plotly\"], function(Plotly) {                    window.PLOTLYENV=window.PLOTLYENV || {};                                    if (document.getElementById(\"21f8960d-7121-4136-9269-8e8abbd63a58\")) {                    Plotly.newPlot(                        \"21f8960d-7121-4136-9269-8e8abbd63a58\",                        [{\"alignmentgroup\":\"True\",\"hovertemplate\":\"brand=%{x}<br>mean=%{y}<br>count=%{text}<extra></extra>\",\"legendgroup\":\"\",\"marker\":{\"color\":\"#636efa\",\"pattern\":{\"shape\":\"\"}},\"name\":\"\",\"offsetgroup\":\"\",\"orientation\":\"v\",\"showlegend\":false,\"text\":[14.0,1055.0,255.0,404.0,14.0,12.0,299.0,35.0,28.0,13.0],\"textposition\":\"auto\",\"x\":[\"bmw\",\"ford\",\"chevrolet\",\"dodge\",\"chrysler\",\"infiniti\",\"nissan\",\"gmc\",\"jeep\",\"hyundai\"],\"xaxis\":\"x\",\"y\":[23860.714285714286,21539.303317535545,20400.513725490197,18214.836633663366,16982.85714285714,13098.333333333334,12445.672240802676,12217.42857142857,11706.785714285714,5276.153846153846],\"yaxis\":\"y\",\"type\":\"bar\"}],                        {\"template\":{\"data\":{\"barpolar\":[{\"marker\":{\"line\":{\"color\":\"white\",\"width\":0.5},\"pattern\":{\"fillmode\":\"overlay\",\"size\":10,\"solidity\":0.2}},\"type\":\"barpolar\"}],\"bar\":[{\"error_x\":{\"color\":\"#2a3f5f\"},\"error_y\":{\"color\":\"#2a3f5f\"},\"marker\":{\"line\":{\"color\":\"white\",\"width\":0.5},\"pattern\":{\"fillmode\":\"overlay\",\"size\":10,\"solidity\":0.2}},\"type\":\"bar\"}],\"carpet\":[{\"aaxis\":{\"endlinecolor\":\"#2a3f5f\",\"gridcolor\":\"#C8D4E3\",\"linecolor\":\"#C8D4E3\",\"minorgridcolor\":\"#C8D4E3\",\"startlinecolor\":\"#2a3f5f\"},\"baxis\":{\"endlinecolor\":\"#2a3f5f\",\"gridcolor\":\"#C8D4E3\",\"linecolor\":\"#C8D4E3\",\"minorgridcolor\":\"#C8D4E3\",\"startlinecolor\":\"#2a3f5f\"},\"type\":\"carpet\"}],\"choropleth\":[{\"colorbar\":{\"outlinewidth\":0,\"ticks\":\"\"},\"type\":\"choropleth\"}],\"contourcarpet\":[{\"colorbar\":{\"outlinewidth\":0,\"ticks\":\"\"},\"type\":\"contourcarpet\"}],\"contour\":[{\"colorbar\":{\"outlinewidth\":0,\"ticks\":\"\"},\"colorscale\":[[0.0,\"#0d0887\"],[0.1111111111111111,\"#46039f\"],[0.2222222222222222,\"#7201a8\"],[0.3333333333333333,\"#9c179e\"],[0.4444444444444444,\"#bd3786\"],[0.5555555555555556,\"#d8576b\"],[0.6666666666666666,\"#ed7953\"],[0.7777777777777778,\"#fb9f3a\"],[0.8888888888888888,\"#fdca26\"],[1.0,\"#f0f921\"]],\"type\":\"contour\"}],\"heatmapgl\":[{\"colorbar\":{\"outlinewidth\":0,\"ticks\":\"\"},\"colorscale\":[[0.0,\"#0d0887\"],[0.1111111111111111,\"#46039f\"],[0.2222222222222222,\"#7201a8\"],[0.3333333333333333,\"#9c179e\"],[0.4444444444444444,\"#bd3786\"],[0.5555555555555556,\"#d8576b\"],[0.6666666666666666,\"#ed7953\"],[0.7777777777777778,\"#fb9f3a\"],[0.8888888888888888,\"#fdca26\"],[1.0,\"#f0f921\"]],\"type\":\"heatmapgl\"}],\"heatmap\":[{\"colorbar\":{\"outlinewidth\":0,\"ticks\":\"\"},\"colorscale\":[[0.0,\"#0d0887\"],[0.1111111111111111,\"#46039f\"],[0.2222222222222222,\"#7201a8\"],[0.3333333333333333,\"#9c179e\"],[0.4444444444444444,\"#bd3786\"],[0.5555555555555556,\"#d8576b\"],[0.6666666666666666,\"#ed7953\"],[0.7777777777777778,\"#fb9f3a\"],[0.8888888888888888,\"#fdca26\"],[1.0,\"#f0f921\"]],\"type\":\"heatmap\"}],\"histogram2dcontour\":[{\"colorbar\":{\"outlinewidth\":0,\"ticks\":\"\"},\"colorscale\":[[0.0,\"#0d0887\"],[0.1111111111111111,\"#46039f\"],[0.2222222222222222,\"#7201a8\"],[0.3333333333333333,\"#9c179e\"],[0.4444444444444444,\"#bd3786\"],[0.5555555555555556,\"#d8576b\"],[0.6666666666666666,\"#ed7953\"],[0.7777777777777778,\"#fb9f3a\"],[0.8888888888888888,\"#fdca26\"],[1.0,\"#f0f921\"]],\"type\":\"histogram2dcontour\"}],\"histogram2d\":[{\"colorbar\":{\"outlinewidth\":0,\"ticks\":\"\"},\"colorscale\":[[0.0,\"#0d0887\"],[0.1111111111111111,\"#46039f\"],[0.2222222222222222,\"#7201a8\"],[0.3333333333333333,\"#9c179e\"],[0.4444444444444444,\"#bd3786\"],[0.5555555555555556,\"#d8576b\"],[0.6666666666666666,\"#ed7953\"],[0.7777777777777778,\"#fb9f3a\"],[0.8888888888888888,\"#fdca26\"],[1.0,\"#f0f921\"]],\"type\":\"histogram2d\"}],\"histogram\":[{\"marker\":{\"pattern\":{\"fillmode\":\"overlay\",\"size\":10,\"solidity\":0.2}},\"type\":\"histogram\"}],\"mesh3d\":[{\"colorbar\":{\"outlinewidth\":0,\"ticks\":\"\"},\"type\":\"mesh3d\"}],\"parcoords\":[{\"line\":{\"colorbar\":{\"outlinewidth\":0,\"ticks\":\"\"}},\"type\":\"parcoords\"}],\"pie\":[{\"automargin\":true,\"type\":\"pie\"}],\"scatter3d\":[{\"line\":{\"colorbar\":{\"outlinewidth\":0,\"ticks\":\"\"}},\"marker\":{\"colorbar\":{\"outlinewidth\":0,\"ticks\":\"\"}},\"type\":\"scatter3d\"}],\"scattercarpet\":[{\"marker\":{\"colorbar\":{\"outlinewidth\":0,\"ticks\":\"\"}},\"type\":\"scattercarpet\"}],\"scattergeo\":[{\"marker\":{\"colorbar\":{\"outlinewidth\":0,\"ticks\":\"\"}},\"type\":\"scattergeo\"}],\"scattergl\":[{\"marker\":{\"colorbar\":{\"outlinewidth\":0,\"ticks\":\"\"}},\"type\":\"scattergl\"}],\"scattermapbox\":[{\"marker\":{\"colorbar\":{\"outlinewidth\":0,\"ticks\":\"\"}},\"type\":\"scattermapbox\"}],\"scatterpolargl\":[{\"marker\":{\"colorbar\":{\"outlinewidth\":0,\"ticks\":\"\"}},\"type\":\"scatterpolargl\"}],\"scatterpolar\":[{\"marker\":{\"colorbar\":{\"outlinewidth\":0,\"ticks\":\"\"}},\"type\":\"scatterpolar\"}],\"scatter\":[{\"fillpattern\":{\"fillmode\":\"overlay\",\"size\":10,\"solidity\":0.2},\"type\":\"scatter\"}],\"scatterternary\":[{\"marker\":{\"colorbar\":{\"outlinewidth\":0,\"ticks\":\"\"}},\"type\":\"scatterternary\"}],\"surface\":[{\"colorbar\":{\"outlinewidth\":0,\"ticks\":\"\"},\"colorscale\":[[0.0,\"#0d0887\"],[0.1111111111111111,\"#46039f\"],[0.2222222222222222,\"#7201a8\"],[0.3333333333333333,\"#9c179e\"],[0.4444444444444444,\"#bd3786\"],[0.5555555555555556,\"#d8576b\"],[0.6666666666666666,\"#ed7953\"],[0.7777777777777778,\"#fb9f3a\"],[0.8888888888888888,\"#fdca26\"],[1.0,\"#f0f921\"]],\"type\":\"surface\"}],\"table\":[{\"cells\":{\"fill\":{\"color\":\"#EBF0F8\"},\"line\":{\"color\":\"white\"}},\"header\":{\"fill\":{\"color\":\"#C8D4E3\"},\"line\":{\"color\":\"white\"}},\"type\":\"table\"}]},\"layout\":{\"annotationdefaults\":{\"arrowcolor\":\"#2a3f5f\",\"arrowhead\":0,\"arrowwidth\":1},\"autotypenumbers\":\"strict\",\"coloraxis\":{\"colorbar\":{\"outlinewidth\":0,\"ticks\":\"\"}},\"colorscale\":{\"diverging\":[[0,\"#8e0152\"],[0.1,\"#c51b7d\"],[0.2,\"#de77ae\"],[0.3,\"#f1b6da\"],[0.4,\"#fde0ef\"],[0.5,\"#f7f7f7\"],[0.6,\"#e6f5d0\"],[0.7,\"#b8e186\"],[0.8,\"#7fbc41\"],[0.9,\"#4d9221\"],[1,\"#276419\"]],\"sequential\":[[0.0,\"#0d0887\"],[0.1111111111111111,\"#46039f\"],[0.2222222222222222,\"#7201a8\"],[0.3333333333333333,\"#9c179e\"],[0.4444444444444444,\"#bd3786\"],[0.5555555555555556,\"#d8576b\"],[0.6666666666666666,\"#ed7953\"],[0.7777777777777778,\"#fb9f3a\"],[0.8888888888888888,\"#fdca26\"],[1.0,\"#f0f921\"]],\"sequentialminus\":[[0.0,\"#0d0887\"],[0.1111111111111111,\"#46039f\"],[0.2222222222222222,\"#7201a8\"],[0.3333333333333333,\"#9c179e\"],[0.4444444444444444,\"#bd3786\"],[0.5555555555555556,\"#d8576b\"],[0.6666666666666666,\"#ed7953\"],[0.7777777777777778,\"#fb9f3a\"],[0.8888888888888888,\"#fdca26\"],[1.0,\"#f0f921\"]]},\"colorway\":[\"#636efa\",\"#EF553B\",\"#00cc96\",\"#ab63fa\",\"#FFA15A\",\"#19d3f3\",\"#FF6692\",\"#B6E880\",\"#FF97FF\",\"#FECB52\"],\"font\":{\"color\":\"#2a3f5f\"},\"geo\":{\"bgcolor\":\"white\",\"lakecolor\":\"white\",\"landcolor\":\"white\",\"showlakes\":true,\"showland\":true,\"subunitcolor\":\"#C8D4E3\"},\"hoverlabel\":{\"align\":\"left\"},\"hovermode\":\"closest\",\"mapbox\":{\"style\":\"light\"},\"paper_bgcolor\":\"white\",\"plot_bgcolor\":\"white\",\"polar\":{\"angularaxis\":{\"gridcolor\":\"#EBF0F8\",\"linecolor\":\"#EBF0F8\",\"ticks\":\"\"},\"bgcolor\":\"white\",\"radialaxis\":{\"gridcolor\":\"#EBF0F8\",\"linecolor\":\"#EBF0F8\",\"ticks\":\"\"}},\"scene\":{\"xaxis\":{\"backgroundcolor\":\"white\",\"gridcolor\":\"#DFE8F3\",\"gridwidth\":2,\"linecolor\":\"#EBF0F8\",\"showbackground\":true,\"ticks\":\"\",\"zerolinecolor\":\"#EBF0F8\"},\"yaxis\":{\"backgroundcolor\":\"white\",\"gridcolor\":\"#DFE8F3\",\"gridwidth\":2,\"linecolor\":\"#EBF0F8\",\"showbackground\":true,\"ticks\":\"\",\"zerolinecolor\":\"#EBF0F8\"},\"zaxis\":{\"backgroundcolor\":\"white\",\"gridcolor\":\"#DFE8F3\",\"gridwidth\":2,\"linecolor\":\"#EBF0F8\",\"showbackground\":true,\"ticks\":\"\",\"zerolinecolor\":\"#EBF0F8\"}},\"shapedefaults\":{\"line\":{\"color\":\"#2a3f5f\"}},\"ternary\":{\"aaxis\":{\"gridcolor\":\"#DFE8F3\",\"linecolor\":\"#A2B1C6\",\"ticks\":\"\"},\"baxis\":{\"gridcolor\":\"#DFE8F3\",\"linecolor\":\"#A2B1C6\",\"ticks\":\"\"},\"bgcolor\":\"white\",\"caxis\":{\"gridcolor\":\"#DFE8F3\",\"linecolor\":\"#A2B1C6\",\"ticks\":\"\"}},\"title\":{\"x\":0.05},\"xaxis\":{\"automargin\":true,\"gridcolor\":\"#EBF0F8\",\"linecolor\":\"#EBF0F8\",\"ticks\":\"\",\"title\":{\"standoff\":15},\"zerolinecolor\":\"#EBF0F8\",\"zerolinewidth\":2},\"yaxis\":{\"automargin\":true,\"gridcolor\":\"#EBF0F8\",\"linecolor\":\"#EBF0F8\",\"ticks\":\"\",\"title\":{\"standoff\":15},\"zerolinecolor\":\"#EBF0F8\",\"zerolinewidth\":2}}},\"xaxis\":{\"anchor\":\"y\",\"domain\":[0.0,1.0],\"title\":{\"text\":\"Brand\"},\"showline\":true,\"linewidth\":2,\"linecolor\":\"black\",\"ticks\":\"outside\"},\"yaxis\":{\"anchor\":\"x\",\"domain\":[0.0,1.0],\"title\":{\"text\":\"Price\"},\"showgrid\":true,\"showline\":true,\"linewidth\":1,\"linecolor\":\"black\"},\"legend\":{\"tracegroupgap\":0},\"title\":{\"text\":\"Average Price of Top 10 Most Represented Brands\"},\"barmode\":\"relative\",\"font\":{\"size\":12,\"family\":\"Arial\"}},                        {\"responsive\": true}                    ).then(function(){\n",
       "                            \n",
       "var gd = document.getElementById('21f8960d-7121-4136-9269-8e8abbd63a58');\n",
       "var x = new MutationObserver(function (mutations, observer) {{\n",
       "        var display = window.getComputedStyle(gd).display;\n",
       "        if (!display || display === 'none') {{\n",
       "            console.log([gd, 'removed!']);\n",
       "            Plotly.purge(gd);\n",
       "            observer.disconnect();\n",
       "        }}\n",
       "}});\n",
       "\n",
       "// Listen for the removal of the full notebook cells\n",
       "var notebookContainer = gd.closest('#notebook-container');\n",
       "if (notebookContainer) {{\n",
       "    x.observe(notebookContainer, {childList: true});\n",
       "}}\n",
       "\n",
       "// Listen for the clearing of the current output cell\n",
       "var outputEl = gd.closest('.output');\n",
       "if (outputEl) {{\n",
       "    x.observe(outputEl, {childList: true});\n",
       "}}\n",
       "\n",
       "                        })                };                });            </script>        </div>"
      ]
     },
     "metadata": {},
     "output_type": "display_data"
    }
   ],
   "source": [
    "# Plot the average price of the top 10 most represented brands\n",
    "fig = px.bar(brand_price_df, y='mean', x='brand', template='plotly_white', \n",
    "             title='Average Price of Top 10 Most Represented Brands', text='count')\n",
    "\n",
    "fig.update_xaxes(title='Brand', showline=True, linewidth=2, linecolor='black', ticks='outside')\n",
    "fig.update_yaxes(title='Price', showgrid=True, showline=True, linewidth=1, linecolor='black')\n",
    "fig.update_layout(font_size = 12, font_family='Arial')\n",
    "fig.show()"
   ]
  },
  {
   "cell_type": "markdown",
   "id": "cbb6f234",
   "metadata": {},
   "source": [
    "- **BMW** has the highest average price of any car brand in the top 10 at **23,861 dollars**. This makes sense since it is a luxury car maker.\n",
    "- **Ford** and **Chevrolet** are the next most expensive brands. This is surprising because these brands are considered more \"affordable\". I would expect these cars to have a similar average to **Nissan** which has an average price of **12,450 dollars**. In comparison, **Ford** cars average **21,540 dollars** and **Chevrolet** cars average **20,400 dollars**."
   ]
  },
  {
   "cell_type": "markdown",
   "id": "d07b964a",
   "metadata": {},
   "source": [
    "### Question: Which brands are the most valuable? Which brands are the least valuable?"
   ]
  },
  {
   "cell_type": "markdown",
   "id": "de92c04f",
   "metadata": {},
   "source": [
    "- We have already created our \"**value**\" metric"
   ]
  },
  {
   "cell_type": "code",
   "execution_count": 37,
   "id": "3c8366d9",
   "metadata": {},
   "outputs": [
    {
     "data": {
      "text/html": [
       "<div>\n",
       "<style scoped>\n",
       "    .dataframe tbody tr th:only-of-type {\n",
       "        vertical-align: middle;\n",
       "    }\n",
       "\n",
       "    .dataframe tbody tr th {\n",
       "        vertical-align: top;\n",
       "    }\n",
       "\n",
       "    .dataframe thead th {\n",
       "        text-align: right;\n",
       "    }\n",
       "</style>\n",
       "<table border=\"1\" class=\"dataframe\">\n",
       "  <thead>\n",
       "    <tr style=\"text-align: right;\">\n",
       "      <th></th>\n",
       "      <th>count</th>\n",
       "      <th>mean</th>\n",
       "    </tr>\n",
       "    <tr>\n",
       "      <th>brand</th>\n",
       "      <th></th>\n",
       "      <th></th>\n",
       "    </tr>\n",
       "  </thead>\n",
       "  <tbody>\n",
       "    <tr>\n",
       "      <th>chrysler</th>\n",
       "      <td>14</td>\n",
       "      <td>0.55</td>\n",
       "    </tr>\n",
       "    <tr>\n",
       "      <th>ford</th>\n",
       "      <td>1055</td>\n",
       "      <td>0.51</td>\n",
       "    </tr>\n",
       "    <tr>\n",
       "      <th>cadillac</th>\n",
       "      <td>9</td>\n",
       "      <td>0.48</td>\n",
       "    </tr>\n",
       "    <tr>\n",
       "      <th>buick</th>\n",
       "      <td>12</td>\n",
       "      <td>0.47</td>\n",
       "    </tr>\n",
       "    <tr>\n",
       "      <th>dodge</th>\n",
       "      <td>404</td>\n",
       "      <td>0.44</td>\n",
       "    </tr>\n",
       "  </tbody>\n",
       "</table>\n",
       "</div>"
      ],
      "text/plain": [
       "          count  mean\n",
       "brand                \n",
       "chrysler     14  0.55\n",
       "ford       1055  0.51\n",
       "cadillac      9  0.48\n",
       "buick        12  0.47\n",
       "dodge       404  0.44"
      ]
     },
     "execution_count": 37,
     "metadata": {},
     "output_type": "execute_result"
    }
   ],
   "source": [
    "brands_by_value = df2.groupby('brand')['value_earned'].agg({'mean','count'})\n",
    "\n",
    "# Only include brands with at least 5 vehicles \n",
    "brands_by_value_5 = brands_by_value[brands_by_value['count'] >=5]\n",
    "\n",
    "# Top 5 most valuable brands \n",
    "brands_by_value_5.sort_values(by='mean', ascending=False).head(5)"
   ]
  },
  {
   "cell_type": "markdown",
   "id": "8b725b63",
   "metadata": {},
   "source": [
    "- The **Top 5 most valuable brands** are **Chrysler**, **Ford**, **Cadillac**, **Buick** and **Dodge**\n",
    "- Although **Ford** has the **second highest average price** of any car company, they make up for it by being the **second most valuable brand**"
   ]
  },
  {
   "cell_type": "code",
   "execution_count": 38,
   "id": "79f45d0e",
   "metadata": {},
   "outputs": [
    {
     "data": {
      "text/html": [
       "<div>\n",
       "<style scoped>\n",
       "    .dataframe tbody tr th:only-of-type {\n",
       "        vertical-align: middle;\n",
       "    }\n",
       "\n",
       "    .dataframe tbody tr th {\n",
       "        vertical-align: top;\n",
       "    }\n",
       "\n",
       "    .dataframe thead th {\n",
       "        text-align: right;\n",
       "    }\n",
       "</style>\n",
       "<table border=\"1\" class=\"dataframe\">\n",
       "  <thead>\n",
       "    <tr style=\"text-align: right;\">\n",
       "      <th></th>\n",
       "      <th>count</th>\n",
       "      <th>mean</th>\n",
       "    </tr>\n",
       "    <tr>\n",
       "      <th>brand</th>\n",
       "      <th></th>\n",
       "      <th></th>\n",
       "    </tr>\n",
       "  </thead>\n",
       "  <tbody>\n",
       "    <tr>\n",
       "      <th>hyundai</th>\n",
       "      <td>13</td>\n",
       "      <td>0.06</td>\n",
       "    </tr>\n",
       "    <tr>\n",
       "      <th>honda</th>\n",
       "      <td>9</td>\n",
       "      <td>0.07</td>\n",
       "    </tr>\n",
       "    <tr>\n",
       "      <th>kia</th>\n",
       "      <td>12</td>\n",
       "      <td>0.19</td>\n",
       "    </tr>\n",
       "    <tr>\n",
       "      <th>nissan</th>\n",
       "      <td>299</td>\n",
       "      <td>0.21</td>\n",
       "    </tr>\n",
       "    <tr>\n",
       "      <th>gmc</th>\n",
       "      <td>35</td>\n",
       "      <td>0.22</td>\n",
       "    </tr>\n",
       "  </tbody>\n",
       "</table>\n",
       "</div>"
      ],
      "text/plain": [
       "         count  mean\n",
       "brand               \n",
       "hyundai     13  0.06\n",
       "honda        9  0.07\n",
       "kia         12  0.19\n",
       "nissan     299  0.21\n",
       "gmc         35  0.22"
      ]
     },
     "execution_count": 38,
     "metadata": {},
     "output_type": "execute_result"
    }
   ],
   "source": [
    "# Top 5 least valuable brands\n",
    "brands_by_value_5.sort_values(by='mean').head()"
   ]
  },
  {
   "cell_type": "markdown",
   "id": "6adcfc39",
   "metadata": {},
   "source": [
    "- The **Top 5 least valuable brands** are **Hyundai**, **Honda**, **Kia**, **Nissan** and **GMC**\n",
    "- Although **Hyundai** has the **lowest average price** of any car company, their vehicles are the **least valuable**"
   ]
  },
  {
   "cell_type": "markdown",
   "id": "23467ce6",
   "metadata": {},
   "source": [
    "### Model column"
   ]
  },
  {
   "cell_type": "code",
   "execution_count": 39,
   "id": "d51b61a1",
   "metadata": {},
   "outputs": [
    {
     "name": "stdout",
     "output_type": "stream",
     "text": [
      "There are 117 car models represented in the dataset.\n",
      "---------------------------------------------------------------------------\n",
      "The unique car models are: ['mpv' 'door' '1500' 'malibu' 'coupe' 'forte' 'encore' 'sorento' 'doors'\n",
      " 'chassis' 'q70' 'camaro' 'convertible' 'vans' 'compass' 'enclave' '300'\n",
      " 'cherokee' 'pacifica' 'x3' 'equinox' 'challenger' 'colorado' 'focus'\n",
      " 'durango' 'escape' 'charger' 'explorer' 'f-150' 'caravan' 'van' 'dart'\n",
      " '2500' 'esv' 'el' 'edge' 'series' 'flex' 'srx' 'wagon' 'pickup' 'vehicl'\n",
      " 'trax' 'tahoe' 'suburban' 'drw' 'fiesta' 'impala' 'cab' 'soul' 'elantra'\n",
      " 'pioneer' 'trail' 'traverse' 'country' 'nautilus' 'q5' 'gle' 'sportage'\n",
      " '5' 'sport' 'discovery' 'acadia' 'ghibli' 'glc' 'e-class' 'cutaway'\n",
      " 'utility' 'limited' 'cx-3' '2500hd' 'sonic' 'corvette' 'mdx' 'xt5'\n",
      " 'fusion' 'mustang' '3500' 'passenger' 'volt' 'spark' 'cruze' 'ld'\n",
      " 'journey' 'srw' 'transit' 'ranger' 'taurus' 'energi' 'expedition' 'max'\n",
      " 'bus' 'ecosport' 'd' 'dr' 'hybrid' 'suv' 'connect' 'f-650' 'sentra'\n",
      " 'altima' 'frontier' 'rogue' 'maxima' 'versa' 'note' 'armada' 'pathfinder'\n",
      " 'titan' 'sedan' 'juke' 'cargo' 'murano' 'xterra' 'kicks' 'xd' 'nvp']\n"
     ]
    }
   ],
   "source": [
    "print(\"There are \" + str(df['model'].nunique()) + \" car models represented in the dataset.\")\n",
    "print('---'*25)\n",
    "print(\"The unique car models are: \" + str(df['model'].unique()))"
   ]
  },
  {
   "cell_type": "markdown",
   "id": "b2c871f8",
   "metadata": {},
   "source": [
    "- There are 117 different car models in the dataset\n",
    "- Let's check which model of car is most represented in the dataset for each company."
   ]
  },
  {
   "cell_type": "markdown",
   "id": "37b85878",
   "metadata": {},
   "source": [
    "#### Popular Brand Model Combinations"
   ]
  },
  {
   "cell_type": "code",
   "execution_count": 40,
   "id": "a91d992b",
   "metadata": {},
   "outputs": [
    {
     "data": {
      "text/html": [
       "<div>\n",
       "<style scoped>\n",
       "    .dataframe tbody tr th:only-of-type {\n",
       "        vertical-align: middle;\n",
       "    }\n",
       "\n",
       "    .dataframe tbody tr th {\n",
       "        vertical-align: top;\n",
       "    }\n",
       "\n",
       "    .dataframe thead th {\n",
       "        text-align: right;\n",
       "    }\n",
       "</style>\n",
       "<table border=\"1\" class=\"dataframe\">\n",
       "  <thead>\n",
       "    <tr style=\"text-align: right;\">\n",
       "      <th></th>\n",
       "      <th>brand</th>\n",
       "      <th>model</th>\n",
       "      <th>count</th>\n",
       "    </tr>\n",
       "  </thead>\n",
       "  <tbody>\n",
       "    <tr>\n",
       "      <th>0</th>\n",
       "      <td>acura</td>\n",
       "      <td>door</td>\n",
       "      <td>1</td>\n",
       "    </tr>\n",
       "    <tr>\n",
       "      <th>1</th>\n",
       "      <td>acura</td>\n",
       "      <td>mdx</td>\n",
       "      <td>1</td>\n",
       "    </tr>\n",
       "    <tr>\n",
       "      <th>2</th>\n",
       "      <td>audi</td>\n",
       "      <td>5</td>\n",
       "      <td>1</td>\n",
       "    </tr>\n",
       "    <tr>\n",
       "      <th>3</th>\n",
       "      <td>audi</td>\n",
       "      <td>q5</td>\n",
       "      <td>1</td>\n",
       "    </tr>\n",
       "    <tr>\n",
       "      <th>4</th>\n",
       "      <td>bmw</td>\n",
       "      <td>coupe</td>\n",
       "      <td>1</td>\n",
       "    </tr>\n",
       "    <tr>\n",
       "      <th>5</th>\n",
       "      <td>bmw</td>\n",
       "      <td>door</td>\n",
       "      <td>4</td>\n",
       "    </tr>\n",
       "    <tr>\n",
       "      <th>6</th>\n",
       "      <td>bmw</td>\n",
       "      <td>series</td>\n",
       "      <td>7</td>\n",
       "    </tr>\n",
       "    <tr>\n",
       "      <th>7</th>\n",
       "      <td>bmw</td>\n",
       "      <td>x3</td>\n",
       "      <td>2</td>\n",
       "    </tr>\n",
       "    <tr>\n",
       "      <th>8</th>\n",
       "      <td>buick</td>\n",
       "      <td>door</td>\n",
       "      <td>7</td>\n",
       "    </tr>\n",
       "    <tr>\n",
       "      <th>9</th>\n",
       "      <td>buick</td>\n",
       "      <td>enclave</td>\n",
       "      <td>2</td>\n",
       "    </tr>\n",
       "    <tr>\n",
       "      <th>10</th>\n",
       "      <td>buick</td>\n",
       "      <td>encore</td>\n",
       "      <td>3</td>\n",
       "    </tr>\n",
       "  </tbody>\n",
       "</table>\n",
       "</div>"
      ],
      "text/plain": [
       "    brand    model  count\n",
       "0   acura     door      1\n",
       "1   acura      mdx      1\n",
       "2    audi        5      1\n",
       "3    audi       q5      1\n",
       "4     bmw    coupe      1\n",
       "5     bmw     door      4\n",
       "6     bmw   series      7\n",
       "7     bmw       x3      2\n",
       "8   buick     door      7\n",
       "9   buick  enclave      2\n",
       "10  buick   encore      3"
      ]
     },
     "execution_count": 40,
     "metadata": {},
     "output_type": "execute_result"
    }
   ],
   "source": [
    "brand_model_grouped = df.groupby(['brand', 'model'])['model'].count()\n",
    "\n",
    "# Let's look at the first 10 rows of the new dataframe to see some popular brand model combinations\n",
    "brand_model_grouped.reset_index(name='count').head(11)"
   ]
  },
  {
   "cell_type": "markdown",
   "id": "8695a354",
   "metadata": {},
   "source": [
    "**Observations**\n",
    "- The 'series' model is the most popular BMW model\n",
    "- The 'door' model is the most popular Buick model\n",
    "- These model types are not very descriptive. BMW makes cars from series 2 up to series 8. We can only make reasonable guesses on which model car it is on the price"
   ]
  },
  {
   "cell_type": "markdown",
   "id": "80259ed7",
   "metadata": {},
   "source": [
    "#### Let's look at the most popular brand model combinations in the dataset`"
   ]
  },
  {
   "cell_type": "code",
   "execution_count": 41,
   "id": "6ce38884",
   "metadata": {},
   "outputs": [
    {
     "data": {
      "text/html": [
       "<div>\n",
       "<style scoped>\n",
       "    .dataframe tbody tr th:only-of-type {\n",
       "        vertical-align: middle;\n",
       "    }\n",
       "\n",
       "    .dataframe tbody tr th {\n",
       "        vertical-align: top;\n",
       "    }\n",
       "\n",
       "    .dataframe thead th {\n",
       "        text-align: right;\n",
       "    }\n",
       "</style>\n",
       "<table border=\"1\" class=\"dataframe\">\n",
       "  <thead>\n",
       "    <tr style=\"text-align: right;\">\n",
       "      <th></th>\n",
       "      <th>brand</th>\n",
       "      <th>model</th>\n",
       "      <th>count</th>\n",
       "    </tr>\n",
       "  </thead>\n",
       "  <tbody>\n",
       "    <tr>\n",
       "      <th>0</th>\n",
       "      <td>ford</td>\n",
       "      <td>door</td>\n",
       "      <td>272</td>\n",
       "    </tr>\n",
       "    <tr>\n",
       "      <th>1</th>\n",
       "      <td>ford</td>\n",
       "      <td>f-150</td>\n",
       "      <td>213</td>\n",
       "    </tr>\n",
       "    <tr>\n",
       "      <th>2</th>\n",
       "      <td>dodge</td>\n",
       "      <td>caravan</td>\n",
       "      <td>101</td>\n",
       "    </tr>\n",
       "    <tr>\n",
       "      <th>3</th>\n",
       "      <td>ford</td>\n",
       "      <td>doors</td>\n",
       "      <td>96</td>\n",
       "    </tr>\n",
       "    <tr>\n",
       "      <th>4</th>\n",
       "      <td>chevrolet</td>\n",
       "      <td>door</td>\n",
       "      <td>76</td>\n",
       "    </tr>\n",
       "    <tr>\n",
       "      <th>5</th>\n",
       "      <td>ford</td>\n",
       "      <td>fusion</td>\n",
       "      <td>65</td>\n",
       "    </tr>\n",
       "    <tr>\n",
       "      <th>6</th>\n",
       "      <td>dodge</td>\n",
       "      <td>durango</td>\n",
       "      <td>63</td>\n",
       "    </tr>\n",
       "    <tr>\n",
       "      <th>7</th>\n",
       "      <td>dodge</td>\n",
       "      <td>journey</td>\n",
       "      <td>61</td>\n",
       "    </tr>\n",
       "    <tr>\n",
       "      <th>8</th>\n",
       "      <td>nissan</td>\n",
       "      <td>rogue</td>\n",
       "      <td>54</td>\n",
       "    </tr>\n",
       "    <tr>\n",
       "      <th>9</th>\n",
       "      <td>dodge</td>\n",
       "      <td>door</td>\n",
       "      <td>52</td>\n",
       "    </tr>\n",
       "  </tbody>\n",
       "</table>\n",
       "</div>"
      ],
      "text/plain": [
       "       brand    model  count\n",
       "0       ford     door    272\n",
       "1       ford    f-150    213\n",
       "2      dodge  caravan    101\n",
       "3       ford    doors     96\n",
       "4  chevrolet     door     76\n",
       "5       ford   fusion     65\n",
       "6      dodge  durango     63\n",
       "7      dodge  journey     61\n",
       "8     nissan    rogue     54\n",
       "9      dodge     door     52"
      ]
     },
     "execution_count": 41,
     "metadata": {},
     "output_type": "execute_result"
    }
   ],
   "source": [
    "table = brand_model_grouped.sort_values(ascending=False).reset_index(name='count').head(10)\n",
    "\n",
    "table"
   ]
  },
  {
   "cell_type": "code",
   "execution_count": 42,
   "id": "5e0ce2dc",
   "metadata": {},
   "outputs": [
    {
     "data": {
      "application/vnd.plotly.v1+json": {
       "config": {
        "plotlyServerURL": "https://plot.ly"
       },
       "data": [
        {
         "alignmentgroup": "True",
         "hovertemplate": "brand=%{x}<br>count=%{y}<br>model=%{text}<extra></extra>",
         "legendgroup": "ford",
         "marker": {
          "color": "#636efa",
          "pattern": {
           "shape": ""
          }
         },
         "name": "ford",
         "offsetgroup": "ford",
         "orientation": "v",
         "showlegend": true,
         "text": [
          "door",
          "f-150",
          "doors",
          "fusion"
         ],
         "textposition": "auto",
         "type": "bar",
         "x": [
          "ford",
          "ford",
          "ford",
          "ford"
         ],
         "xaxis": "x",
         "y": [
          272,
          213,
          96,
          65
         ],
         "yaxis": "y"
        },
        {
         "alignmentgroup": "True",
         "hovertemplate": "brand=%{x}<br>count=%{y}<br>model=%{text}<extra></extra>",
         "legendgroup": "dodge",
         "marker": {
          "color": "#EF553B",
          "pattern": {
           "shape": ""
          }
         },
         "name": "dodge",
         "offsetgroup": "dodge",
         "orientation": "v",
         "showlegend": true,
         "text": [
          "caravan",
          "durango",
          "journey",
          "door"
         ],
         "textposition": "auto",
         "type": "bar",
         "x": [
          "dodge",
          "dodge",
          "dodge",
          "dodge"
         ],
         "xaxis": "x",
         "y": [
          101,
          63,
          61,
          52
         ],
         "yaxis": "y"
        },
        {
         "alignmentgroup": "True",
         "hovertemplate": "brand=%{x}<br>count=%{y}<br>model=%{text}<extra></extra>",
         "legendgroup": "chevrolet",
         "marker": {
          "color": "#00cc96",
          "pattern": {
           "shape": ""
          }
         },
         "name": "chevrolet",
         "offsetgroup": "chevrolet",
         "orientation": "v",
         "showlegend": true,
         "text": [
          "door"
         ],
         "textposition": "auto",
         "type": "bar",
         "x": [
          "chevrolet"
         ],
         "xaxis": "x",
         "y": [
          76
         ],
         "yaxis": "y"
        },
        {
         "alignmentgroup": "True",
         "hovertemplate": "brand=%{x}<br>count=%{y}<br>model=%{text}<extra></extra>",
         "legendgroup": "nissan",
         "marker": {
          "color": "#ab63fa",
          "pattern": {
           "shape": ""
          }
         },
         "name": "nissan",
         "offsetgroup": "nissan",
         "orientation": "v",
         "showlegend": true,
         "text": [
          "rogue"
         ],
         "textposition": "auto",
         "type": "bar",
         "x": [
          "nissan"
         ],
         "xaxis": "x",
         "y": [
          54
         ],
         "yaxis": "y"
        }
       ],
       "layout": {
        "barmode": "relative",
        "font": {
         "family": "Arial",
         "size": 12
        },
        "legend": {
         "title": {
          "text": "brand"
         },
         "tracegroupgap": 0
        },
        "template": {
         "data": {
          "bar": [
           {
            "error_x": {
             "color": "#2a3f5f"
            },
            "error_y": {
             "color": "#2a3f5f"
            },
            "marker": {
             "line": {
              "color": "white",
              "width": 0.5
             },
             "pattern": {
              "fillmode": "overlay",
              "size": 10,
              "solidity": 0.2
             }
            },
            "type": "bar"
           }
          ],
          "barpolar": [
           {
            "marker": {
             "line": {
              "color": "white",
              "width": 0.5
             },
             "pattern": {
              "fillmode": "overlay",
              "size": 10,
              "solidity": 0.2
             }
            },
            "type": "barpolar"
           }
          ],
          "carpet": [
           {
            "aaxis": {
             "endlinecolor": "#2a3f5f",
             "gridcolor": "#C8D4E3",
             "linecolor": "#C8D4E3",
             "minorgridcolor": "#C8D4E3",
             "startlinecolor": "#2a3f5f"
            },
            "baxis": {
             "endlinecolor": "#2a3f5f",
             "gridcolor": "#C8D4E3",
             "linecolor": "#C8D4E3",
             "minorgridcolor": "#C8D4E3",
             "startlinecolor": "#2a3f5f"
            },
            "type": "carpet"
           }
          ],
          "choropleth": [
           {
            "colorbar": {
             "outlinewidth": 0,
             "ticks": ""
            },
            "type": "choropleth"
           }
          ],
          "contour": [
           {
            "colorbar": {
             "outlinewidth": 0,
             "ticks": ""
            },
            "colorscale": [
             [
              0,
              "#0d0887"
             ],
             [
              0.1111111111111111,
              "#46039f"
             ],
             [
              0.2222222222222222,
              "#7201a8"
             ],
             [
              0.3333333333333333,
              "#9c179e"
             ],
             [
              0.4444444444444444,
              "#bd3786"
             ],
             [
              0.5555555555555556,
              "#d8576b"
             ],
             [
              0.6666666666666666,
              "#ed7953"
             ],
             [
              0.7777777777777778,
              "#fb9f3a"
             ],
             [
              0.8888888888888888,
              "#fdca26"
             ],
             [
              1,
              "#f0f921"
             ]
            ],
            "type": "contour"
           }
          ],
          "contourcarpet": [
           {
            "colorbar": {
             "outlinewidth": 0,
             "ticks": ""
            },
            "type": "contourcarpet"
           }
          ],
          "heatmap": [
           {
            "colorbar": {
             "outlinewidth": 0,
             "ticks": ""
            },
            "colorscale": [
             [
              0,
              "#0d0887"
             ],
             [
              0.1111111111111111,
              "#46039f"
             ],
             [
              0.2222222222222222,
              "#7201a8"
             ],
             [
              0.3333333333333333,
              "#9c179e"
             ],
             [
              0.4444444444444444,
              "#bd3786"
             ],
             [
              0.5555555555555556,
              "#d8576b"
             ],
             [
              0.6666666666666666,
              "#ed7953"
             ],
             [
              0.7777777777777778,
              "#fb9f3a"
             ],
             [
              0.8888888888888888,
              "#fdca26"
             ],
             [
              1,
              "#f0f921"
             ]
            ],
            "type": "heatmap"
           }
          ],
          "heatmapgl": [
           {
            "colorbar": {
             "outlinewidth": 0,
             "ticks": ""
            },
            "colorscale": [
             [
              0,
              "#0d0887"
             ],
             [
              0.1111111111111111,
              "#46039f"
             ],
             [
              0.2222222222222222,
              "#7201a8"
             ],
             [
              0.3333333333333333,
              "#9c179e"
             ],
             [
              0.4444444444444444,
              "#bd3786"
             ],
             [
              0.5555555555555556,
              "#d8576b"
             ],
             [
              0.6666666666666666,
              "#ed7953"
             ],
             [
              0.7777777777777778,
              "#fb9f3a"
             ],
             [
              0.8888888888888888,
              "#fdca26"
             ],
             [
              1,
              "#f0f921"
             ]
            ],
            "type": "heatmapgl"
           }
          ],
          "histogram": [
           {
            "marker": {
             "pattern": {
              "fillmode": "overlay",
              "size": 10,
              "solidity": 0.2
             }
            },
            "type": "histogram"
           }
          ],
          "histogram2d": [
           {
            "colorbar": {
             "outlinewidth": 0,
             "ticks": ""
            },
            "colorscale": [
             [
              0,
              "#0d0887"
             ],
             [
              0.1111111111111111,
              "#46039f"
             ],
             [
              0.2222222222222222,
              "#7201a8"
             ],
             [
              0.3333333333333333,
              "#9c179e"
             ],
             [
              0.4444444444444444,
              "#bd3786"
             ],
             [
              0.5555555555555556,
              "#d8576b"
             ],
             [
              0.6666666666666666,
              "#ed7953"
             ],
             [
              0.7777777777777778,
              "#fb9f3a"
             ],
             [
              0.8888888888888888,
              "#fdca26"
             ],
             [
              1,
              "#f0f921"
             ]
            ],
            "type": "histogram2d"
           }
          ],
          "histogram2dcontour": [
           {
            "colorbar": {
             "outlinewidth": 0,
             "ticks": ""
            },
            "colorscale": [
             [
              0,
              "#0d0887"
             ],
             [
              0.1111111111111111,
              "#46039f"
             ],
             [
              0.2222222222222222,
              "#7201a8"
             ],
             [
              0.3333333333333333,
              "#9c179e"
             ],
             [
              0.4444444444444444,
              "#bd3786"
             ],
             [
              0.5555555555555556,
              "#d8576b"
             ],
             [
              0.6666666666666666,
              "#ed7953"
             ],
             [
              0.7777777777777778,
              "#fb9f3a"
             ],
             [
              0.8888888888888888,
              "#fdca26"
             ],
             [
              1,
              "#f0f921"
             ]
            ],
            "type": "histogram2dcontour"
           }
          ],
          "mesh3d": [
           {
            "colorbar": {
             "outlinewidth": 0,
             "ticks": ""
            },
            "type": "mesh3d"
           }
          ],
          "parcoords": [
           {
            "line": {
             "colorbar": {
              "outlinewidth": 0,
              "ticks": ""
             }
            },
            "type": "parcoords"
           }
          ],
          "pie": [
           {
            "automargin": true,
            "type": "pie"
           }
          ],
          "scatter": [
           {
            "fillpattern": {
             "fillmode": "overlay",
             "size": 10,
             "solidity": 0.2
            },
            "type": "scatter"
           }
          ],
          "scatter3d": [
           {
            "line": {
             "colorbar": {
              "outlinewidth": 0,
              "ticks": ""
             }
            },
            "marker": {
             "colorbar": {
              "outlinewidth": 0,
              "ticks": ""
             }
            },
            "type": "scatter3d"
           }
          ],
          "scattercarpet": [
           {
            "marker": {
             "colorbar": {
              "outlinewidth": 0,
              "ticks": ""
             }
            },
            "type": "scattercarpet"
           }
          ],
          "scattergeo": [
           {
            "marker": {
             "colorbar": {
              "outlinewidth": 0,
              "ticks": ""
             }
            },
            "type": "scattergeo"
           }
          ],
          "scattergl": [
           {
            "marker": {
             "colorbar": {
              "outlinewidth": 0,
              "ticks": ""
             }
            },
            "type": "scattergl"
           }
          ],
          "scattermapbox": [
           {
            "marker": {
             "colorbar": {
              "outlinewidth": 0,
              "ticks": ""
             }
            },
            "type": "scattermapbox"
           }
          ],
          "scatterpolar": [
           {
            "marker": {
             "colorbar": {
              "outlinewidth": 0,
              "ticks": ""
             }
            },
            "type": "scatterpolar"
           }
          ],
          "scatterpolargl": [
           {
            "marker": {
             "colorbar": {
              "outlinewidth": 0,
              "ticks": ""
             }
            },
            "type": "scatterpolargl"
           }
          ],
          "scatterternary": [
           {
            "marker": {
             "colorbar": {
              "outlinewidth": 0,
              "ticks": ""
             }
            },
            "type": "scatterternary"
           }
          ],
          "surface": [
           {
            "colorbar": {
             "outlinewidth": 0,
             "ticks": ""
            },
            "colorscale": [
             [
              0,
              "#0d0887"
             ],
             [
              0.1111111111111111,
              "#46039f"
             ],
             [
              0.2222222222222222,
              "#7201a8"
             ],
             [
              0.3333333333333333,
              "#9c179e"
             ],
             [
              0.4444444444444444,
              "#bd3786"
             ],
             [
              0.5555555555555556,
              "#d8576b"
             ],
             [
              0.6666666666666666,
              "#ed7953"
             ],
             [
              0.7777777777777778,
              "#fb9f3a"
             ],
             [
              0.8888888888888888,
              "#fdca26"
             ],
             [
              1,
              "#f0f921"
             ]
            ],
            "type": "surface"
           }
          ],
          "table": [
           {
            "cells": {
             "fill": {
              "color": "#EBF0F8"
             },
             "line": {
              "color": "white"
             }
            },
            "header": {
             "fill": {
              "color": "#C8D4E3"
             },
             "line": {
              "color": "white"
             }
            },
            "type": "table"
           }
          ]
         },
         "layout": {
          "annotationdefaults": {
           "arrowcolor": "#2a3f5f",
           "arrowhead": 0,
           "arrowwidth": 1
          },
          "autotypenumbers": "strict",
          "coloraxis": {
           "colorbar": {
            "outlinewidth": 0,
            "ticks": ""
           }
          },
          "colorscale": {
           "diverging": [
            [
             0,
             "#8e0152"
            ],
            [
             0.1,
             "#c51b7d"
            ],
            [
             0.2,
             "#de77ae"
            ],
            [
             0.3,
             "#f1b6da"
            ],
            [
             0.4,
             "#fde0ef"
            ],
            [
             0.5,
             "#f7f7f7"
            ],
            [
             0.6,
             "#e6f5d0"
            ],
            [
             0.7,
             "#b8e186"
            ],
            [
             0.8,
             "#7fbc41"
            ],
            [
             0.9,
             "#4d9221"
            ],
            [
             1,
             "#276419"
            ]
           ],
           "sequential": [
            [
             0,
             "#0d0887"
            ],
            [
             0.1111111111111111,
             "#46039f"
            ],
            [
             0.2222222222222222,
             "#7201a8"
            ],
            [
             0.3333333333333333,
             "#9c179e"
            ],
            [
             0.4444444444444444,
             "#bd3786"
            ],
            [
             0.5555555555555556,
             "#d8576b"
            ],
            [
             0.6666666666666666,
             "#ed7953"
            ],
            [
             0.7777777777777778,
             "#fb9f3a"
            ],
            [
             0.8888888888888888,
             "#fdca26"
            ],
            [
             1,
             "#f0f921"
            ]
           ],
           "sequentialminus": [
            [
             0,
             "#0d0887"
            ],
            [
             0.1111111111111111,
             "#46039f"
            ],
            [
             0.2222222222222222,
             "#7201a8"
            ],
            [
             0.3333333333333333,
             "#9c179e"
            ],
            [
             0.4444444444444444,
             "#bd3786"
            ],
            [
             0.5555555555555556,
             "#d8576b"
            ],
            [
             0.6666666666666666,
             "#ed7953"
            ],
            [
             0.7777777777777778,
             "#fb9f3a"
            ],
            [
             0.8888888888888888,
             "#fdca26"
            ],
            [
             1,
             "#f0f921"
            ]
           ]
          },
          "colorway": [
           "#636efa",
           "#EF553B",
           "#00cc96",
           "#ab63fa",
           "#FFA15A",
           "#19d3f3",
           "#FF6692",
           "#B6E880",
           "#FF97FF",
           "#FECB52"
          ],
          "font": {
           "color": "#2a3f5f"
          },
          "geo": {
           "bgcolor": "white",
           "lakecolor": "white",
           "landcolor": "white",
           "showlakes": true,
           "showland": true,
           "subunitcolor": "#C8D4E3"
          },
          "hoverlabel": {
           "align": "left"
          },
          "hovermode": "closest",
          "mapbox": {
           "style": "light"
          },
          "paper_bgcolor": "white",
          "plot_bgcolor": "white",
          "polar": {
           "angularaxis": {
            "gridcolor": "#EBF0F8",
            "linecolor": "#EBF0F8",
            "ticks": ""
           },
           "bgcolor": "white",
           "radialaxis": {
            "gridcolor": "#EBF0F8",
            "linecolor": "#EBF0F8",
            "ticks": ""
           }
          },
          "scene": {
           "xaxis": {
            "backgroundcolor": "white",
            "gridcolor": "#DFE8F3",
            "gridwidth": 2,
            "linecolor": "#EBF0F8",
            "showbackground": true,
            "ticks": "",
            "zerolinecolor": "#EBF0F8"
           },
           "yaxis": {
            "backgroundcolor": "white",
            "gridcolor": "#DFE8F3",
            "gridwidth": 2,
            "linecolor": "#EBF0F8",
            "showbackground": true,
            "ticks": "",
            "zerolinecolor": "#EBF0F8"
           },
           "zaxis": {
            "backgroundcolor": "white",
            "gridcolor": "#DFE8F3",
            "gridwidth": 2,
            "linecolor": "#EBF0F8",
            "showbackground": true,
            "ticks": "",
            "zerolinecolor": "#EBF0F8"
           }
          },
          "shapedefaults": {
           "line": {
            "color": "#2a3f5f"
           }
          },
          "ternary": {
           "aaxis": {
            "gridcolor": "#DFE8F3",
            "linecolor": "#A2B1C6",
            "ticks": ""
           },
           "baxis": {
            "gridcolor": "#DFE8F3",
            "linecolor": "#A2B1C6",
            "ticks": ""
           },
           "bgcolor": "white",
           "caxis": {
            "gridcolor": "#DFE8F3",
            "linecolor": "#A2B1C6",
            "ticks": ""
           }
          },
          "title": {
           "x": 0.05
          },
          "xaxis": {
           "automargin": true,
           "gridcolor": "#EBF0F8",
           "linecolor": "#EBF0F8",
           "ticks": "",
           "title": {
            "standoff": 15
           },
           "zerolinecolor": "#EBF0F8",
           "zerolinewidth": 2
          },
          "yaxis": {
           "automargin": true,
           "gridcolor": "#EBF0F8",
           "linecolor": "#EBF0F8",
           "ticks": "",
           "title": {
            "standoff": 15
           },
           "zerolinecolor": "#EBF0F8",
           "zerolinewidth": 2
          }
         }
        },
        "title": {
         "text": "Most Popular Brand Model combinations"
        },
        "xaxis": {
         "anchor": "y",
         "categoryarray": [
          "ford",
          "dodge",
          "chevrolet",
          "nissan"
         ],
         "categoryorder": "array",
         "domain": [
          0,
          1
         ],
         "linecolor": "black",
         "linewidth": 2,
         "showgrid": false,
         "showline": true,
         "title": {
          "text": "Brand Name"
         }
        },
        "yaxis": {
         "anchor": "x",
         "domain": [
          0,
          1
         ],
         "showgrid": false,
         "showline": true,
         "title": {
          "text": "Count of model"
         }
        }
       }
      },
      "text/html": [
       "<div>                            <div id=\"b14cac11-7ee0-4ef7-a030-8ae292fab459\" class=\"plotly-graph-div\" style=\"height:525px; width:100%;\"></div>            <script type=\"text/javascript\">                require([\"plotly\"], function(Plotly) {                    window.PLOTLYENV=window.PLOTLYENV || {};                                    if (document.getElementById(\"b14cac11-7ee0-4ef7-a030-8ae292fab459\")) {                    Plotly.newPlot(                        \"b14cac11-7ee0-4ef7-a030-8ae292fab459\",                        [{\"alignmentgroup\":\"True\",\"hovertemplate\":\"brand=%{x}<br>count=%{y}<br>model=%{text}<extra></extra>\",\"legendgroup\":\"ford\",\"marker\":{\"color\":\"#636efa\",\"pattern\":{\"shape\":\"\"}},\"name\":\"ford\",\"offsetgroup\":\"ford\",\"orientation\":\"v\",\"showlegend\":true,\"text\":[\"door\",\"f-150\",\"doors\",\"fusion\"],\"textposition\":\"auto\",\"x\":[\"ford\",\"ford\",\"ford\",\"ford\"],\"xaxis\":\"x\",\"y\":[272,213,96,65],\"yaxis\":\"y\",\"type\":\"bar\"},{\"alignmentgroup\":\"True\",\"hovertemplate\":\"brand=%{x}<br>count=%{y}<br>model=%{text}<extra></extra>\",\"legendgroup\":\"dodge\",\"marker\":{\"color\":\"#EF553B\",\"pattern\":{\"shape\":\"\"}},\"name\":\"dodge\",\"offsetgroup\":\"dodge\",\"orientation\":\"v\",\"showlegend\":true,\"text\":[\"caravan\",\"durango\",\"journey\",\"door\"],\"textposition\":\"auto\",\"x\":[\"dodge\",\"dodge\",\"dodge\",\"dodge\"],\"xaxis\":\"x\",\"y\":[101,63,61,52],\"yaxis\":\"y\",\"type\":\"bar\"},{\"alignmentgroup\":\"True\",\"hovertemplate\":\"brand=%{x}<br>count=%{y}<br>model=%{text}<extra></extra>\",\"legendgroup\":\"chevrolet\",\"marker\":{\"color\":\"#00cc96\",\"pattern\":{\"shape\":\"\"}},\"name\":\"chevrolet\",\"offsetgroup\":\"chevrolet\",\"orientation\":\"v\",\"showlegend\":true,\"text\":[\"door\"],\"textposition\":\"auto\",\"x\":[\"chevrolet\"],\"xaxis\":\"x\",\"y\":[76],\"yaxis\":\"y\",\"type\":\"bar\"},{\"alignmentgroup\":\"True\",\"hovertemplate\":\"brand=%{x}<br>count=%{y}<br>model=%{text}<extra></extra>\",\"legendgroup\":\"nissan\",\"marker\":{\"color\":\"#ab63fa\",\"pattern\":{\"shape\":\"\"}},\"name\":\"nissan\",\"offsetgroup\":\"nissan\",\"orientation\":\"v\",\"showlegend\":true,\"text\":[\"rogue\"],\"textposition\":\"auto\",\"x\":[\"nissan\"],\"xaxis\":\"x\",\"y\":[54],\"yaxis\":\"y\",\"type\":\"bar\"}],                        {\"template\":{\"data\":{\"barpolar\":[{\"marker\":{\"line\":{\"color\":\"white\",\"width\":0.5},\"pattern\":{\"fillmode\":\"overlay\",\"size\":10,\"solidity\":0.2}},\"type\":\"barpolar\"}],\"bar\":[{\"error_x\":{\"color\":\"#2a3f5f\"},\"error_y\":{\"color\":\"#2a3f5f\"},\"marker\":{\"line\":{\"color\":\"white\",\"width\":0.5},\"pattern\":{\"fillmode\":\"overlay\",\"size\":10,\"solidity\":0.2}},\"type\":\"bar\"}],\"carpet\":[{\"aaxis\":{\"endlinecolor\":\"#2a3f5f\",\"gridcolor\":\"#C8D4E3\",\"linecolor\":\"#C8D4E3\",\"minorgridcolor\":\"#C8D4E3\",\"startlinecolor\":\"#2a3f5f\"},\"baxis\":{\"endlinecolor\":\"#2a3f5f\",\"gridcolor\":\"#C8D4E3\",\"linecolor\":\"#C8D4E3\",\"minorgridcolor\":\"#C8D4E3\",\"startlinecolor\":\"#2a3f5f\"},\"type\":\"carpet\"}],\"choropleth\":[{\"colorbar\":{\"outlinewidth\":0,\"ticks\":\"\"},\"type\":\"choropleth\"}],\"contourcarpet\":[{\"colorbar\":{\"outlinewidth\":0,\"ticks\":\"\"},\"type\":\"contourcarpet\"}],\"contour\":[{\"colorbar\":{\"outlinewidth\":0,\"ticks\":\"\"},\"colorscale\":[[0.0,\"#0d0887\"],[0.1111111111111111,\"#46039f\"],[0.2222222222222222,\"#7201a8\"],[0.3333333333333333,\"#9c179e\"],[0.4444444444444444,\"#bd3786\"],[0.5555555555555556,\"#d8576b\"],[0.6666666666666666,\"#ed7953\"],[0.7777777777777778,\"#fb9f3a\"],[0.8888888888888888,\"#fdca26\"],[1.0,\"#f0f921\"]],\"type\":\"contour\"}],\"heatmapgl\":[{\"colorbar\":{\"outlinewidth\":0,\"ticks\":\"\"},\"colorscale\":[[0.0,\"#0d0887\"],[0.1111111111111111,\"#46039f\"],[0.2222222222222222,\"#7201a8\"],[0.3333333333333333,\"#9c179e\"],[0.4444444444444444,\"#bd3786\"],[0.5555555555555556,\"#d8576b\"],[0.6666666666666666,\"#ed7953\"],[0.7777777777777778,\"#fb9f3a\"],[0.8888888888888888,\"#fdca26\"],[1.0,\"#f0f921\"]],\"type\":\"heatmapgl\"}],\"heatmap\":[{\"colorbar\":{\"outlinewidth\":0,\"ticks\":\"\"},\"colorscale\":[[0.0,\"#0d0887\"],[0.1111111111111111,\"#46039f\"],[0.2222222222222222,\"#7201a8\"],[0.3333333333333333,\"#9c179e\"],[0.4444444444444444,\"#bd3786\"],[0.5555555555555556,\"#d8576b\"],[0.6666666666666666,\"#ed7953\"],[0.7777777777777778,\"#fb9f3a\"],[0.8888888888888888,\"#fdca26\"],[1.0,\"#f0f921\"]],\"type\":\"heatmap\"}],\"histogram2dcontour\":[{\"colorbar\":{\"outlinewidth\":0,\"ticks\":\"\"},\"colorscale\":[[0.0,\"#0d0887\"],[0.1111111111111111,\"#46039f\"],[0.2222222222222222,\"#7201a8\"],[0.3333333333333333,\"#9c179e\"],[0.4444444444444444,\"#bd3786\"],[0.5555555555555556,\"#d8576b\"],[0.6666666666666666,\"#ed7953\"],[0.7777777777777778,\"#fb9f3a\"],[0.8888888888888888,\"#fdca26\"],[1.0,\"#f0f921\"]],\"type\":\"histogram2dcontour\"}],\"histogram2d\":[{\"colorbar\":{\"outlinewidth\":0,\"ticks\":\"\"},\"colorscale\":[[0.0,\"#0d0887\"],[0.1111111111111111,\"#46039f\"],[0.2222222222222222,\"#7201a8\"],[0.3333333333333333,\"#9c179e\"],[0.4444444444444444,\"#bd3786\"],[0.5555555555555556,\"#d8576b\"],[0.6666666666666666,\"#ed7953\"],[0.7777777777777778,\"#fb9f3a\"],[0.8888888888888888,\"#fdca26\"],[1.0,\"#f0f921\"]],\"type\":\"histogram2d\"}],\"histogram\":[{\"marker\":{\"pattern\":{\"fillmode\":\"overlay\",\"size\":10,\"solidity\":0.2}},\"type\":\"histogram\"}],\"mesh3d\":[{\"colorbar\":{\"outlinewidth\":0,\"ticks\":\"\"},\"type\":\"mesh3d\"}],\"parcoords\":[{\"line\":{\"colorbar\":{\"outlinewidth\":0,\"ticks\":\"\"}},\"type\":\"parcoords\"}],\"pie\":[{\"automargin\":true,\"type\":\"pie\"}],\"scatter3d\":[{\"line\":{\"colorbar\":{\"outlinewidth\":0,\"ticks\":\"\"}},\"marker\":{\"colorbar\":{\"outlinewidth\":0,\"ticks\":\"\"}},\"type\":\"scatter3d\"}],\"scattercarpet\":[{\"marker\":{\"colorbar\":{\"outlinewidth\":0,\"ticks\":\"\"}},\"type\":\"scattercarpet\"}],\"scattergeo\":[{\"marker\":{\"colorbar\":{\"outlinewidth\":0,\"ticks\":\"\"}},\"type\":\"scattergeo\"}],\"scattergl\":[{\"marker\":{\"colorbar\":{\"outlinewidth\":0,\"ticks\":\"\"}},\"type\":\"scattergl\"}],\"scattermapbox\":[{\"marker\":{\"colorbar\":{\"outlinewidth\":0,\"ticks\":\"\"}},\"type\":\"scattermapbox\"}],\"scatterpolargl\":[{\"marker\":{\"colorbar\":{\"outlinewidth\":0,\"ticks\":\"\"}},\"type\":\"scatterpolargl\"}],\"scatterpolar\":[{\"marker\":{\"colorbar\":{\"outlinewidth\":0,\"ticks\":\"\"}},\"type\":\"scatterpolar\"}],\"scatter\":[{\"fillpattern\":{\"fillmode\":\"overlay\",\"size\":10,\"solidity\":0.2},\"type\":\"scatter\"}],\"scatterternary\":[{\"marker\":{\"colorbar\":{\"outlinewidth\":0,\"ticks\":\"\"}},\"type\":\"scatterternary\"}],\"surface\":[{\"colorbar\":{\"outlinewidth\":0,\"ticks\":\"\"},\"colorscale\":[[0.0,\"#0d0887\"],[0.1111111111111111,\"#46039f\"],[0.2222222222222222,\"#7201a8\"],[0.3333333333333333,\"#9c179e\"],[0.4444444444444444,\"#bd3786\"],[0.5555555555555556,\"#d8576b\"],[0.6666666666666666,\"#ed7953\"],[0.7777777777777778,\"#fb9f3a\"],[0.8888888888888888,\"#fdca26\"],[1.0,\"#f0f921\"]],\"type\":\"surface\"}],\"table\":[{\"cells\":{\"fill\":{\"color\":\"#EBF0F8\"},\"line\":{\"color\":\"white\"}},\"header\":{\"fill\":{\"color\":\"#C8D4E3\"},\"line\":{\"color\":\"white\"}},\"type\":\"table\"}]},\"layout\":{\"annotationdefaults\":{\"arrowcolor\":\"#2a3f5f\",\"arrowhead\":0,\"arrowwidth\":1},\"autotypenumbers\":\"strict\",\"coloraxis\":{\"colorbar\":{\"outlinewidth\":0,\"ticks\":\"\"}},\"colorscale\":{\"diverging\":[[0,\"#8e0152\"],[0.1,\"#c51b7d\"],[0.2,\"#de77ae\"],[0.3,\"#f1b6da\"],[0.4,\"#fde0ef\"],[0.5,\"#f7f7f7\"],[0.6,\"#e6f5d0\"],[0.7,\"#b8e186\"],[0.8,\"#7fbc41\"],[0.9,\"#4d9221\"],[1,\"#276419\"]],\"sequential\":[[0.0,\"#0d0887\"],[0.1111111111111111,\"#46039f\"],[0.2222222222222222,\"#7201a8\"],[0.3333333333333333,\"#9c179e\"],[0.4444444444444444,\"#bd3786\"],[0.5555555555555556,\"#d8576b\"],[0.6666666666666666,\"#ed7953\"],[0.7777777777777778,\"#fb9f3a\"],[0.8888888888888888,\"#fdca26\"],[1.0,\"#f0f921\"]],\"sequentialminus\":[[0.0,\"#0d0887\"],[0.1111111111111111,\"#46039f\"],[0.2222222222222222,\"#7201a8\"],[0.3333333333333333,\"#9c179e\"],[0.4444444444444444,\"#bd3786\"],[0.5555555555555556,\"#d8576b\"],[0.6666666666666666,\"#ed7953\"],[0.7777777777777778,\"#fb9f3a\"],[0.8888888888888888,\"#fdca26\"],[1.0,\"#f0f921\"]]},\"colorway\":[\"#636efa\",\"#EF553B\",\"#00cc96\",\"#ab63fa\",\"#FFA15A\",\"#19d3f3\",\"#FF6692\",\"#B6E880\",\"#FF97FF\",\"#FECB52\"],\"font\":{\"color\":\"#2a3f5f\"},\"geo\":{\"bgcolor\":\"white\",\"lakecolor\":\"white\",\"landcolor\":\"white\",\"showlakes\":true,\"showland\":true,\"subunitcolor\":\"#C8D4E3\"},\"hoverlabel\":{\"align\":\"left\"},\"hovermode\":\"closest\",\"mapbox\":{\"style\":\"light\"},\"paper_bgcolor\":\"white\",\"plot_bgcolor\":\"white\",\"polar\":{\"angularaxis\":{\"gridcolor\":\"#EBF0F8\",\"linecolor\":\"#EBF0F8\",\"ticks\":\"\"},\"bgcolor\":\"white\",\"radialaxis\":{\"gridcolor\":\"#EBF0F8\",\"linecolor\":\"#EBF0F8\",\"ticks\":\"\"}},\"scene\":{\"xaxis\":{\"backgroundcolor\":\"white\",\"gridcolor\":\"#DFE8F3\",\"gridwidth\":2,\"linecolor\":\"#EBF0F8\",\"showbackground\":true,\"ticks\":\"\",\"zerolinecolor\":\"#EBF0F8\"},\"yaxis\":{\"backgroundcolor\":\"white\",\"gridcolor\":\"#DFE8F3\",\"gridwidth\":2,\"linecolor\":\"#EBF0F8\",\"showbackground\":true,\"ticks\":\"\",\"zerolinecolor\":\"#EBF0F8\"},\"zaxis\":{\"backgroundcolor\":\"white\",\"gridcolor\":\"#DFE8F3\",\"gridwidth\":2,\"linecolor\":\"#EBF0F8\",\"showbackground\":true,\"ticks\":\"\",\"zerolinecolor\":\"#EBF0F8\"}},\"shapedefaults\":{\"line\":{\"color\":\"#2a3f5f\"}},\"ternary\":{\"aaxis\":{\"gridcolor\":\"#DFE8F3\",\"linecolor\":\"#A2B1C6\",\"ticks\":\"\"},\"baxis\":{\"gridcolor\":\"#DFE8F3\",\"linecolor\":\"#A2B1C6\",\"ticks\":\"\"},\"bgcolor\":\"white\",\"caxis\":{\"gridcolor\":\"#DFE8F3\",\"linecolor\":\"#A2B1C6\",\"ticks\":\"\"}},\"title\":{\"x\":0.05},\"xaxis\":{\"automargin\":true,\"gridcolor\":\"#EBF0F8\",\"linecolor\":\"#EBF0F8\",\"ticks\":\"\",\"title\":{\"standoff\":15},\"zerolinecolor\":\"#EBF0F8\",\"zerolinewidth\":2},\"yaxis\":{\"automargin\":true,\"gridcolor\":\"#EBF0F8\",\"linecolor\":\"#EBF0F8\",\"ticks\":\"\",\"title\":{\"standoff\":15},\"zerolinecolor\":\"#EBF0F8\",\"zerolinewidth\":2}}},\"xaxis\":{\"anchor\":\"y\",\"domain\":[0.0,1.0],\"title\":{\"text\":\"Brand Name\"},\"categoryorder\":\"array\",\"categoryarray\":[\"ford\",\"dodge\",\"chevrolet\",\"nissan\"],\"showgrid\":false,\"showline\":true,\"linewidth\":2,\"linecolor\":\"black\"},\"yaxis\":{\"anchor\":\"x\",\"domain\":[0.0,1.0],\"title\":{\"text\":\"Count of model\"},\"showgrid\":false,\"showline\":true},\"legend\":{\"title\":{\"text\":\"brand\"},\"tracegroupgap\":0},\"title\":{\"text\":\"Most Popular Brand Model combinations\"},\"barmode\":\"relative\",\"font\":{\"size\":12,\"family\":\"Arial\"}},                        {\"responsive\": true}                    ).then(function(){\n",
       "                            \n",
       "var gd = document.getElementById('b14cac11-7ee0-4ef7-a030-8ae292fab459');\n",
       "var x = new MutationObserver(function (mutations, observer) {{\n",
       "        var display = window.getComputedStyle(gd).display;\n",
       "        if (!display || display === 'none') {{\n",
       "            console.log([gd, 'removed!']);\n",
       "            Plotly.purge(gd);\n",
       "            observer.disconnect();\n",
       "        }}\n",
       "}});\n",
       "\n",
       "// Listen for the removal of the full notebook cells\n",
       "var notebookContainer = gd.closest('#notebook-container');\n",
       "if (notebookContainer) {{\n",
       "    x.observe(notebookContainer, {childList: true});\n",
       "}}\n",
       "\n",
       "// Listen for the clearing of the current output cell\n",
       "var outputEl = gd.closest('.output');\n",
       "if (outputEl) {{\n",
       "    x.observe(outputEl, {childList: true});\n",
       "}}\n",
       "\n",
       "                        })                };                });            </script>        </div>"
      ]
     },
     "metadata": {},
     "output_type": "display_data"
    }
   ],
   "source": [
    "fig = px.bar(table, x='brand', y='count', color='brand', text='model',\n",
    "             title= 'Most Popular Brand Model combinations')\n",
    "\n",
    "fig.update_xaxes(title='Brand Name', showgrid=False, showline=True, linewidth=2, linecolor='black')\n",
    "fig.update_yaxes(title='Count of model', showgrid=False, showline=True)\n",
    "fig.update_layout(font_size = 12, template='plotly_white', font_family='Arial')\n",
    "fig.show()"
   ]
  },
  {
   "cell_type": "markdown",
   "id": "7951cc9d",
   "metadata": {},
   "source": [
    "- 8 of the 10 model combinations are vehicles made by ford and dodge which is to be expected since they make a majority of the listings.\n",
    "- The most popular Ford vehicle is the 'Door model', followed by the F-150 \n",
    "- The Caravan is the most popular Dodge vehicle, followed by the Durango"
   ]
  },
  {
   "cell_type": "code",
   "execution_count": 43,
   "id": "d14b0254",
   "metadata": {},
   "outputs": [
    {
     "data": {
      "text/html": [
       "<div>\n",
       "<style scoped>\n",
       "    .dataframe tbody tr th:only-of-type {\n",
       "        vertical-align: middle;\n",
       "    }\n",
       "\n",
       "    .dataframe tbody tr th {\n",
       "        vertical-align: top;\n",
       "    }\n",
       "\n",
       "    .dataframe thead th {\n",
       "        text-align: right;\n",
       "    }\n",
       "</style>\n",
       "<table border=\"1\" class=\"dataframe\">\n",
       "  <thead>\n",
       "    <tr style=\"text-align: right;\">\n",
       "      <th></th>\n",
       "      <th></th>\n",
       "      <th>count</th>\n",
       "      <th>mean</th>\n",
       "    </tr>\n",
       "    <tr>\n",
       "      <th>brand</th>\n",
       "      <th>model</th>\n",
       "      <th></th>\n",
       "      <th></th>\n",
       "    </tr>\n",
       "  </thead>\n",
       "  <tbody>\n",
       "    <tr>\n",
       "      <th>chevrolet</th>\n",
       "      <th>3500</th>\n",
       "      <td>2</td>\n",
       "      <td>45,050.00</td>\n",
       "    </tr>\n",
       "    <tr>\n",
       "      <th>ford</th>\n",
       "      <th>max</th>\n",
       "      <td>30</td>\n",
       "      <td>41,980.00</td>\n",
       "    </tr>\n",
       "    <tr>\n",
       "      <th>chevrolet</th>\n",
       "      <th>corvette</th>\n",
       "      <td>2</td>\n",
       "      <td>41,450.00</td>\n",
       "    </tr>\n",
       "    <tr>\n",
       "      <th>ford</th>\n",
       "      <th>expedition</th>\n",
       "      <td>20</td>\n",
       "      <td>39,135.00</td>\n",
       "    </tr>\n",
       "    <tr>\n",
       "      <th>chevrolet</th>\n",
       "      <th>tahoe</th>\n",
       "      <td>8</td>\n",
       "      <td>37,862.50</td>\n",
       "    </tr>\n",
       "  </tbody>\n",
       "</table>\n",
       "</div>"
      ],
      "text/plain": [
       "                      count      mean\n",
       "brand     model                      \n",
       "chevrolet 3500            2 45,050.00\n",
       "ford      max            30 41,980.00\n",
       "chevrolet corvette        2 41,450.00\n",
       "ford      expedition     20 39,135.00\n",
       "chevrolet tahoe           8 37,862.50"
      ]
     },
     "execution_count": 43,
     "metadata": {},
     "output_type": "execute_result"
    }
   ],
   "source": [
    "# Let's get a sense of the average price of each brand model combination in the dataset, and how many of each vehicle there are\n",
    "brand_model_price = df.groupby(['brand', 'model'])['price'].agg({'mean', 'count'})\n",
    "\n",
    "# Filter for cars that are represented at least 2 times\n",
    "brand_model_price = brand_model_price[brand_model_price['count'] >=2]\n",
    "\n",
    "# Top 5 most expensive brand model combinations\n",
    "brand_model_price.sort_values(by='mean', ascending=False).head()"
   ]
  },
  {
   "cell_type": "markdown",
   "id": "8cf913b9",
   "metadata": {},
   "source": [
    "- The **Top 5 most expensive** brand model combinations are the **Chevrolet 3500**, the **Ford Max**, the **Chevrolet Corvette**, the **Ford Expedition**, and the **Chevrolet Tahoe**"
   ]
  },
  {
   "cell_type": "code",
   "execution_count": 44,
   "id": "58f1d0d1",
   "metadata": {},
   "outputs": [
    {
     "data": {
      "text/html": [
       "<div>\n",
       "<style scoped>\n",
       "    .dataframe tbody tr th:only-of-type {\n",
       "        vertical-align: middle;\n",
       "    }\n",
       "\n",
       "    .dataframe tbody tr th {\n",
       "        vertical-align: top;\n",
       "    }\n",
       "\n",
       "    .dataframe thead th {\n",
       "        text-align: right;\n",
       "    }\n",
       "</style>\n",
       "<table border=\"1\" class=\"dataframe\">\n",
       "  <thead>\n",
       "    <tr style=\"text-align: right;\">\n",
       "      <th></th>\n",
       "      <th></th>\n",
       "      <th>count</th>\n",
       "      <th>mean</th>\n",
       "    </tr>\n",
       "    <tr>\n",
       "      <th>brand</th>\n",
       "      <th>model</th>\n",
       "      <th></th>\n",
       "      <th></th>\n",
       "    </tr>\n",
       "  </thead>\n",
       "  <tbody>\n",
       "    <tr>\n",
       "      <th>hyundai</th>\n",
       "      <th>doors</th>\n",
       "      <td>4</td>\n",
       "      <td>3,792.50</td>\n",
       "    </tr>\n",
       "    <tr>\n",
       "      <th>chrysler</th>\n",
       "      <th>door</th>\n",
       "      <td>3</td>\n",
       "      <td>4,073.33</td>\n",
       "    </tr>\n",
       "    <tr>\n",
       "      <th>heartland</th>\n",
       "      <th>country</th>\n",
       "      <td>2</td>\n",
       "      <td>4,450.00</td>\n",
       "    </tr>\n",
       "    <tr>\n",
       "      <th>honda</th>\n",
       "      <th>doors</th>\n",
       "      <td>2</td>\n",
       "      <td>4,660.00</td>\n",
       "    </tr>\n",
       "    <tr>\n",
       "      <th>nissan</th>\n",
       "      <th>mpv</th>\n",
       "      <td>2</td>\n",
       "      <td>4,755.00</td>\n",
       "    </tr>\n",
       "  </tbody>\n",
       "</table>\n",
       "</div>"
      ],
      "text/plain": [
       "                   count     mean\n",
       "brand     model                  \n",
       "hyundai   doors        4 3,792.50\n",
       "chrysler  door         3 4,073.33\n",
       "heartland country      2 4,450.00\n",
       "honda     doors        2 4,660.00\n",
       "nissan    mpv          2 4,755.00"
      ]
     },
     "execution_count": 44,
     "metadata": {},
     "output_type": "execute_result"
    }
   ],
   "source": [
    "brand_model_price.sort_values(by='mean').head()"
   ]
  },
  {
   "cell_type": "markdown",
   "id": "83f86e3e",
   "metadata": {},
   "source": [
    "- The **Top 5 least expensive** brand model combinations are the **Hyundai Doors**, the **Chrysler door*, the **Heartland Country**, the **Honda Doors**, and the **Nissan MPV**."
   ]
  },
  {
   "cell_type": "markdown",
   "id": "6943bd47",
   "metadata": {},
   "source": [
    "### Color column"
   ]
  },
  {
   "cell_type": "code",
   "execution_count": 45,
   "id": "557307a1",
   "metadata": {},
   "outputs": [
    {
     "name": "stdout",
     "output_type": "stream",
     "text": [
      "There are 44 colors represented in the dataset.\n",
      "---------------------------------------------------------------------------\n",
      "The unique car colors are: ['silver' 'blue' 'red' 'white' 'gray' 'black' 'orange' 'brown' 'no_color'\n",
      " 'gold' 'charcoal' 'turquoise' 'beige' 'green' 'yellow' 'toreador red'\n",
      " 'bright white clearcoat' 'billet silver metallic clearcoat'\n",
      " 'black clearcoat' 'jazz blue pearlcoat' 'purple'\n",
      " 'ruby red metallic tinted clearcoat' 'triple yellow tri-coat'\n",
      " 'competition orange' 'color:' 'shadow black' 'magnetic metallic'\n",
      " 'ingot silver metallic' 'ruby red'\n",
      " 'royal crimson metallic tinted clearcoat' 'kona blue metallic'\n",
      " 'oxford white' 'lightning blue' 'ingot silver'\n",
      " 'white platinum tri-coat metallic' 'guard' 'tuxedo black metallic'\n",
      " 'off-white' 'tan' 'super black' 'cayenne red' 'morningsky blue'\n",
      " 'pearl white' 'glacier white']\n"
     ]
    }
   ],
   "source": [
    "print(\"There are \" + str(df['color'].nunique()) + \" colors represented in the dataset.\")\n",
    "print('---'*25)\n",
    "print(\"The unique car colors are: \" + str(df['color'].unique()))"
   ]
  },
  {
   "cell_type": "code",
   "execution_count": 46,
   "id": "114acc38",
   "metadata": {},
   "outputs": [
    {
     "data": {
      "text/html": [
       "<div>\n",
       "<style scoped>\n",
       "    .dataframe tbody tr th:only-of-type {\n",
       "        vertical-align: middle;\n",
       "    }\n",
       "\n",
       "    .dataframe tbody tr th {\n",
       "        vertical-align: top;\n",
       "    }\n",
       "\n",
       "    .dataframe thead th {\n",
       "        text-align: right;\n",
       "    }\n",
       "</style>\n",
       "<table border=\"1\" class=\"dataframe\">\n",
       "  <thead>\n",
       "    <tr style=\"text-align: right;\">\n",
       "      <th></th>\n",
       "      <th>color</th>\n",
       "      <th>count</th>\n",
       "    </tr>\n",
       "  </thead>\n",
       "  <tbody>\n",
       "    <tr>\n",
       "      <th>0</th>\n",
       "      <td>white</td>\n",
       "      <td>621</td>\n",
       "    </tr>\n",
       "    <tr>\n",
       "      <th>1</th>\n",
       "      <td>black</td>\n",
       "      <td>462</td>\n",
       "    </tr>\n",
       "    <tr>\n",
       "      <th>2</th>\n",
       "      <td>gray</td>\n",
       "      <td>365</td>\n",
       "    </tr>\n",
       "    <tr>\n",
       "      <th>3</th>\n",
       "      <td>silver</td>\n",
       "      <td>280</td>\n",
       "    </tr>\n",
       "    <tr>\n",
       "      <th>4</th>\n",
       "      <td>red</td>\n",
       "      <td>166</td>\n",
       "    </tr>\n",
       "    <tr>\n",
       "      <th>5</th>\n",
       "      <td>blue</td>\n",
       "      <td>127</td>\n",
       "    </tr>\n",
       "    <tr>\n",
       "      <th>6</th>\n",
       "      <td>no_color</td>\n",
       "      <td>48</td>\n",
       "    </tr>\n",
       "    <tr>\n",
       "      <th>7</th>\n",
       "      <td>charcoal</td>\n",
       "      <td>18</td>\n",
       "    </tr>\n",
       "    <tr>\n",
       "      <th>8</th>\n",
       "      <td>green</td>\n",
       "      <td>17</td>\n",
       "    </tr>\n",
       "    <tr>\n",
       "      <th>9</th>\n",
       "      <td>gold</td>\n",
       "      <td>14</td>\n",
       "    </tr>\n",
       "  </tbody>\n",
       "</table>\n",
       "</div>"
      ],
      "text/plain": [
       "      color  count\n",
       "0     white    621\n",
       "1     black    462\n",
       "2      gray    365\n",
       "3    silver    280\n",
       "4       red    166\n",
       "5      blue    127\n",
       "6  no_color     48\n",
       "7  charcoal     18\n",
       "8     green     17\n",
       "9      gold     14"
      ]
     },
     "execution_count": 46,
     "metadata": {},
     "output_type": "execute_result"
    }
   ],
   "source": [
    "# Top 10 most popular colors for a car\n",
    "color_df = pd.DataFrame(df['color'].value_counts().head(10))\n",
    "\n",
    "color_df.reset_index(inplace=True)\n",
    "\n",
    "color_df.rename(columns={\"index\": 'color', \"color\": 'count'}, inplace=True)\n",
    "\n",
    "color_df"
   ]
  },
  {
   "cell_type": "code",
   "execution_count": 47,
   "id": "8cf5f56e",
   "metadata": {},
   "outputs": [
    {
     "data": {
      "application/vnd.plotly.v1+json": {
       "config": {
        "plotlyServerURL": "https://plot.ly"
       },
       "data": [
        {
         "alignmentgroup": "True",
         "hovertemplate": "color=%{x}<br>count=%{text}<extra></extra>",
         "legendgroup": "",
         "marker": {
          "color": "#636efa",
          "pattern": {
           "shape": ""
          }
         },
         "name": "",
         "offsetgroup": "",
         "orientation": "v",
         "showlegend": false,
         "text": [
          621,
          462,
          365,
          280,
          166,
          127,
          48,
          18,
          17,
          14
         ],
         "textposition": "auto",
         "type": "bar",
         "x": [
          "white",
          "black",
          "gray",
          "silver",
          "red",
          "blue",
          "no_color",
          "charcoal",
          "green",
          "gold"
         ],
         "xaxis": "x",
         "y": [
          621,
          462,
          365,
          280,
          166,
          127,
          48,
          18,
          17,
          14
         ],
         "yaxis": "y"
        }
       ],
       "layout": {
        "barmode": "relative",
        "font": {
         "family": "Arial",
         "size": 12
        },
        "legend": {
         "tracegroupgap": 0
        },
        "template": {
         "data": {
          "bar": [
           {
            "error_x": {
             "color": "#2a3f5f"
            },
            "error_y": {
             "color": "#2a3f5f"
            },
            "marker": {
             "line": {
              "color": "white",
              "width": 0.5
             },
             "pattern": {
              "fillmode": "overlay",
              "size": 10,
              "solidity": 0.2
             }
            },
            "type": "bar"
           }
          ],
          "barpolar": [
           {
            "marker": {
             "line": {
              "color": "white",
              "width": 0.5
             },
             "pattern": {
              "fillmode": "overlay",
              "size": 10,
              "solidity": 0.2
             }
            },
            "type": "barpolar"
           }
          ],
          "carpet": [
           {
            "aaxis": {
             "endlinecolor": "#2a3f5f",
             "gridcolor": "#C8D4E3",
             "linecolor": "#C8D4E3",
             "minorgridcolor": "#C8D4E3",
             "startlinecolor": "#2a3f5f"
            },
            "baxis": {
             "endlinecolor": "#2a3f5f",
             "gridcolor": "#C8D4E3",
             "linecolor": "#C8D4E3",
             "minorgridcolor": "#C8D4E3",
             "startlinecolor": "#2a3f5f"
            },
            "type": "carpet"
           }
          ],
          "choropleth": [
           {
            "colorbar": {
             "outlinewidth": 0,
             "ticks": ""
            },
            "type": "choropleth"
           }
          ],
          "contour": [
           {
            "colorbar": {
             "outlinewidth": 0,
             "ticks": ""
            },
            "colorscale": [
             [
              0,
              "#0d0887"
             ],
             [
              0.1111111111111111,
              "#46039f"
             ],
             [
              0.2222222222222222,
              "#7201a8"
             ],
             [
              0.3333333333333333,
              "#9c179e"
             ],
             [
              0.4444444444444444,
              "#bd3786"
             ],
             [
              0.5555555555555556,
              "#d8576b"
             ],
             [
              0.6666666666666666,
              "#ed7953"
             ],
             [
              0.7777777777777778,
              "#fb9f3a"
             ],
             [
              0.8888888888888888,
              "#fdca26"
             ],
             [
              1,
              "#f0f921"
             ]
            ],
            "type": "contour"
           }
          ],
          "contourcarpet": [
           {
            "colorbar": {
             "outlinewidth": 0,
             "ticks": ""
            },
            "type": "contourcarpet"
           }
          ],
          "heatmap": [
           {
            "colorbar": {
             "outlinewidth": 0,
             "ticks": ""
            },
            "colorscale": [
             [
              0,
              "#0d0887"
             ],
             [
              0.1111111111111111,
              "#46039f"
             ],
             [
              0.2222222222222222,
              "#7201a8"
             ],
             [
              0.3333333333333333,
              "#9c179e"
             ],
             [
              0.4444444444444444,
              "#bd3786"
             ],
             [
              0.5555555555555556,
              "#d8576b"
             ],
             [
              0.6666666666666666,
              "#ed7953"
             ],
             [
              0.7777777777777778,
              "#fb9f3a"
             ],
             [
              0.8888888888888888,
              "#fdca26"
             ],
             [
              1,
              "#f0f921"
             ]
            ],
            "type": "heatmap"
           }
          ],
          "heatmapgl": [
           {
            "colorbar": {
             "outlinewidth": 0,
             "ticks": ""
            },
            "colorscale": [
             [
              0,
              "#0d0887"
             ],
             [
              0.1111111111111111,
              "#46039f"
             ],
             [
              0.2222222222222222,
              "#7201a8"
             ],
             [
              0.3333333333333333,
              "#9c179e"
             ],
             [
              0.4444444444444444,
              "#bd3786"
             ],
             [
              0.5555555555555556,
              "#d8576b"
             ],
             [
              0.6666666666666666,
              "#ed7953"
             ],
             [
              0.7777777777777778,
              "#fb9f3a"
             ],
             [
              0.8888888888888888,
              "#fdca26"
             ],
             [
              1,
              "#f0f921"
             ]
            ],
            "type": "heatmapgl"
           }
          ],
          "histogram": [
           {
            "marker": {
             "pattern": {
              "fillmode": "overlay",
              "size": 10,
              "solidity": 0.2
             }
            },
            "type": "histogram"
           }
          ],
          "histogram2d": [
           {
            "colorbar": {
             "outlinewidth": 0,
             "ticks": ""
            },
            "colorscale": [
             [
              0,
              "#0d0887"
             ],
             [
              0.1111111111111111,
              "#46039f"
             ],
             [
              0.2222222222222222,
              "#7201a8"
             ],
             [
              0.3333333333333333,
              "#9c179e"
             ],
             [
              0.4444444444444444,
              "#bd3786"
             ],
             [
              0.5555555555555556,
              "#d8576b"
             ],
             [
              0.6666666666666666,
              "#ed7953"
             ],
             [
              0.7777777777777778,
              "#fb9f3a"
             ],
             [
              0.8888888888888888,
              "#fdca26"
             ],
             [
              1,
              "#f0f921"
             ]
            ],
            "type": "histogram2d"
           }
          ],
          "histogram2dcontour": [
           {
            "colorbar": {
             "outlinewidth": 0,
             "ticks": ""
            },
            "colorscale": [
             [
              0,
              "#0d0887"
             ],
             [
              0.1111111111111111,
              "#46039f"
             ],
             [
              0.2222222222222222,
              "#7201a8"
             ],
             [
              0.3333333333333333,
              "#9c179e"
             ],
             [
              0.4444444444444444,
              "#bd3786"
             ],
             [
              0.5555555555555556,
              "#d8576b"
             ],
             [
              0.6666666666666666,
              "#ed7953"
             ],
             [
              0.7777777777777778,
              "#fb9f3a"
             ],
             [
              0.8888888888888888,
              "#fdca26"
             ],
             [
              1,
              "#f0f921"
             ]
            ],
            "type": "histogram2dcontour"
           }
          ],
          "mesh3d": [
           {
            "colorbar": {
             "outlinewidth": 0,
             "ticks": ""
            },
            "type": "mesh3d"
           }
          ],
          "parcoords": [
           {
            "line": {
             "colorbar": {
              "outlinewidth": 0,
              "ticks": ""
             }
            },
            "type": "parcoords"
           }
          ],
          "pie": [
           {
            "automargin": true,
            "type": "pie"
           }
          ],
          "scatter": [
           {
            "fillpattern": {
             "fillmode": "overlay",
             "size": 10,
             "solidity": 0.2
            },
            "type": "scatter"
           }
          ],
          "scatter3d": [
           {
            "line": {
             "colorbar": {
              "outlinewidth": 0,
              "ticks": ""
             }
            },
            "marker": {
             "colorbar": {
              "outlinewidth": 0,
              "ticks": ""
             }
            },
            "type": "scatter3d"
           }
          ],
          "scattercarpet": [
           {
            "marker": {
             "colorbar": {
              "outlinewidth": 0,
              "ticks": ""
             }
            },
            "type": "scattercarpet"
           }
          ],
          "scattergeo": [
           {
            "marker": {
             "colorbar": {
              "outlinewidth": 0,
              "ticks": ""
             }
            },
            "type": "scattergeo"
           }
          ],
          "scattergl": [
           {
            "marker": {
             "colorbar": {
              "outlinewidth": 0,
              "ticks": ""
             }
            },
            "type": "scattergl"
           }
          ],
          "scattermapbox": [
           {
            "marker": {
             "colorbar": {
              "outlinewidth": 0,
              "ticks": ""
             }
            },
            "type": "scattermapbox"
           }
          ],
          "scatterpolar": [
           {
            "marker": {
             "colorbar": {
              "outlinewidth": 0,
              "ticks": ""
             }
            },
            "type": "scatterpolar"
           }
          ],
          "scatterpolargl": [
           {
            "marker": {
             "colorbar": {
              "outlinewidth": 0,
              "ticks": ""
             }
            },
            "type": "scatterpolargl"
           }
          ],
          "scatterternary": [
           {
            "marker": {
             "colorbar": {
              "outlinewidth": 0,
              "ticks": ""
             }
            },
            "type": "scatterternary"
           }
          ],
          "surface": [
           {
            "colorbar": {
             "outlinewidth": 0,
             "ticks": ""
            },
            "colorscale": [
             [
              0,
              "#0d0887"
             ],
             [
              0.1111111111111111,
              "#46039f"
             ],
             [
              0.2222222222222222,
              "#7201a8"
             ],
             [
              0.3333333333333333,
              "#9c179e"
             ],
             [
              0.4444444444444444,
              "#bd3786"
             ],
             [
              0.5555555555555556,
              "#d8576b"
             ],
             [
              0.6666666666666666,
              "#ed7953"
             ],
             [
              0.7777777777777778,
              "#fb9f3a"
             ],
             [
              0.8888888888888888,
              "#fdca26"
             ],
             [
              1,
              "#f0f921"
             ]
            ],
            "type": "surface"
           }
          ],
          "table": [
           {
            "cells": {
             "fill": {
              "color": "#EBF0F8"
             },
             "line": {
              "color": "white"
             }
            },
            "header": {
             "fill": {
              "color": "#C8D4E3"
             },
             "line": {
              "color": "white"
             }
            },
            "type": "table"
           }
          ]
         },
         "layout": {
          "annotationdefaults": {
           "arrowcolor": "#2a3f5f",
           "arrowhead": 0,
           "arrowwidth": 1
          },
          "autotypenumbers": "strict",
          "coloraxis": {
           "colorbar": {
            "outlinewidth": 0,
            "ticks": ""
           }
          },
          "colorscale": {
           "diverging": [
            [
             0,
             "#8e0152"
            ],
            [
             0.1,
             "#c51b7d"
            ],
            [
             0.2,
             "#de77ae"
            ],
            [
             0.3,
             "#f1b6da"
            ],
            [
             0.4,
             "#fde0ef"
            ],
            [
             0.5,
             "#f7f7f7"
            ],
            [
             0.6,
             "#e6f5d0"
            ],
            [
             0.7,
             "#b8e186"
            ],
            [
             0.8,
             "#7fbc41"
            ],
            [
             0.9,
             "#4d9221"
            ],
            [
             1,
             "#276419"
            ]
           ],
           "sequential": [
            [
             0,
             "#0d0887"
            ],
            [
             0.1111111111111111,
             "#46039f"
            ],
            [
             0.2222222222222222,
             "#7201a8"
            ],
            [
             0.3333333333333333,
             "#9c179e"
            ],
            [
             0.4444444444444444,
             "#bd3786"
            ],
            [
             0.5555555555555556,
             "#d8576b"
            ],
            [
             0.6666666666666666,
             "#ed7953"
            ],
            [
             0.7777777777777778,
             "#fb9f3a"
            ],
            [
             0.8888888888888888,
             "#fdca26"
            ],
            [
             1,
             "#f0f921"
            ]
           ],
           "sequentialminus": [
            [
             0,
             "#0d0887"
            ],
            [
             0.1111111111111111,
             "#46039f"
            ],
            [
             0.2222222222222222,
             "#7201a8"
            ],
            [
             0.3333333333333333,
             "#9c179e"
            ],
            [
             0.4444444444444444,
             "#bd3786"
            ],
            [
             0.5555555555555556,
             "#d8576b"
            ],
            [
             0.6666666666666666,
             "#ed7953"
            ],
            [
             0.7777777777777778,
             "#fb9f3a"
            ],
            [
             0.8888888888888888,
             "#fdca26"
            ],
            [
             1,
             "#f0f921"
            ]
           ]
          },
          "colorway": [
           "#636efa",
           "#EF553B",
           "#00cc96",
           "#ab63fa",
           "#FFA15A",
           "#19d3f3",
           "#FF6692",
           "#B6E880",
           "#FF97FF",
           "#FECB52"
          ],
          "font": {
           "color": "#2a3f5f"
          },
          "geo": {
           "bgcolor": "white",
           "lakecolor": "white",
           "landcolor": "white",
           "showlakes": true,
           "showland": true,
           "subunitcolor": "#C8D4E3"
          },
          "hoverlabel": {
           "align": "left"
          },
          "hovermode": "closest",
          "mapbox": {
           "style": "light"
          },
          "paper_bgcolor": "white",
          "plot_bgcolor": "white",
          "polar": {
           "angularaxis": {
            "gridcolor": "#EBF0F8",
            "linecolor": "#EBF0F8",
            "ticks": ""
           },
           "bgcolor": "white",
           "radialaxis": {
            "gridcolor": "#EBF0F8",
            "linecolor": "#EBF0F8",
            "ticks": ""
           }
          },
          "scene": {
           "xaxis": {
            "backgroundcolor": "white",
            "gridcolor": "#DFE8F3",
            "gridwidth": 2,
            "linecolor": "#EBF0F8",
            "showbackground": true,
            "ticks": "",
            "zerolinecolor": "#EBF0F8"
           },
           "yaxis": {
            "backgroundcolor": "white",
            "gridcolor": "#DFE8F3",
            "gridwidth": 2,
            "linecolor": "#EBF0F8",
            "showbackground": true,
            "ticks": "",
            "zerolinecolor": "#EBF0F8"
           },
           "zaxis": {
            "backgroundcolor": "white",
            "gridcolor": "#DFE8F3",
            "gridwidth": 2,
            "linecolor": "#EBF0F8",
            "showbackground": true,
            "ticks": "",
            "zerolinecolor": "#EBF0F8"
           }
          },
          "shapedefaults": {
           "line": {
            "color": "#2a3f5f"
           }
          },
          "ternary": {
           "aaxis": {
            "gridcolor": "#DFE8F3",
            "linecolor": "#A2B1C6",
            "ticks": ""
           },
           "baxis": {
            "gridcolor": "#DFE8F3",
            "linecolor": "#A2B1C6",
            "ticks": ""
           },
           "bgcolor": "white",
           "caxis": {
            "gridcolor": "#DFE8F3",
            "linecolor": "#A2B1C6",
            "ticks": ""
           }
          },
          "title": {
           "x": 0.05
          },
          "xaxis": {
           "automargin": true,
           "gridcolor": "#EBF0F8",
           "linecolor": "#EBF0F8",
           "ticks": "",
           "title": {
            "standoff": 15
           },
           "zerolinecolor": "#EBF0F8",
           "zerolinewidth": 2
          },
          "yaxis": {
           "automargin": true,
           "gridcolor": "#EBF0F8",
           "linecolor": "#EBF0F8",
           "ticks": "",
           "title": {
            "standoff": 15
           },
           "zerolinecolor": "#EBF0F8",
           "zerolinewidth": 2
          }
         }
        },
        "title": {
         "text": "Most Popular Car Colors"
        },
        "xaxis": {
         "anchor": "y",
         "domain": [
          0,
          1
         ],
         "linecolor": "black",
         "linewidth": 2,
         "showline": true,
         "ticks": "outside",
         "title": {
          "text": "Color of Vehicle"
         }
        },
        "yaxis": {
         "anchor": "x",
         "domain": [
          0,
          1
         ],
         "linecolor": "black",
         "linewidth": 1,
         "showgrid": true,
         "showline": true,
         "title": {
          "text": "Number of Vehicles"
         }
        }
       }
      },
      "text/html": [
       "<div>                            <div id=\"a83d73f1-752c-4f7d-a575-baf7ba67516b\" class=\"plotly-graph-div\" style=\"height:525px; width:100%;\"></div>            <script type=\"text/javascript\">                require([\"plotly\"], function(Plotly) {                    window.PLOTLYENV=window.PLOTLYENV || {};                                    if (document.getElementById(\"a83d73f1-752c-4f7d-a575-baf7ba67516b\")) {                    Plotly.newPlot(                        \"a83d73f1-752c-4f7d-a575-baf7ba67516b\",                        [{\"alignmentgroup\":\"True\",\"hovertemplate\":\"color=%{x}<br>count=%{text}<extra></extra>\",\"legendgroup\":\"\",\"marker\":{\"color\":\"#636efa\",\"pattern\":{\"shape\":\"\"}},\"name\":\"\",\"offsetgroup\":\"\",\"orientation\":\"v\",\"showlegend\":false,\"text\":[621.0,462.0,365.0,280.0,166.0,127.0,48.0,18.0,17.0,14.0],\"textposition\":\"auto\",\"x\":[\"white\",\"black\",\"gray\",\"silver\",\"red\",\"blue\",\"no_color\",\"charcoal\",\"green\",\"gold\"],\"xaxis\":\"x\",\"y\":[621,462,365,280,166,127,48,18,17,14],\"yaxis\":\"y\",\"type\":\"bar\"}],                        {\"template\":{\"data\":{\"barpolar\":[{\"marker\":{\"line\":{\"color\":\"white\",\"width\":0.5},\"pattern\":{\"fillmode\":\"overlay\",\"size\":10,\"solidity\":0.2}},\"type\":\"barpolar\"}],\"bar\":[{\"error_x\":{\"color\":\"#2a3f5f\"},\"error_y\":{\"color\":\"#2a3f5f\"},\"marker\":{\"line\":{\"color\":\"white\",\"width\":0.5},\"pattern\":{\"fillmode\":\"overlay\",\"size\":10,\"solidity\":0.2}},\"type\":\"bar\"}],\"carpet\":[{\"aaxis\":{\"endlinecolor\":\"#2a3f5f\",\"gridcolor\":\"#C8D4E3\",\"linecolor\":\"#C8D4E3\",\"minorgridcolor\":\"#C8D4E3\",\"startlinecolor\":\"#2a3f5f\"},\"baxis\":{\"endlinecolor\":\"#2a3f5f\",\"gridcolor\":\"#C8D4E3\",\"linecolor\":\"#C8D4E3\",\"minorgridcolor\":\"#C8D4E3\",\"startlinecolor\":\"#2a3f5f\"},\"type\":\"carpet\"}],\"choropleth\":[{\"colorbar\":{\"outlinewidth\":0,\"ticks\":\"\"},\"type\":\"choropleth\"}],\"contourcarpet\":[{\"colorbar\":{\"outlinewidth\":0,\"ticks\":\"\"},\"type\":\"contourcarpet\"}],\"contour\":[{\"colorbar\":{\"outlinewidth\":0,\"ticks\":\"\"},\"colorscale\":[[0.0,\"#0d0887\"],[0.1111111111111111,\"#46039f\"],[0.2222222222222222,\"#7201a8\"],[0.3333333333333333,\"#9c179e\"],[0.4444444444444444,\"#bd3786\"],[0.5555555555555556,\"#d8576b\"],[0.6666666666666666,\"#ed7953\"],[0.7777777777777778,\"#fb9f3a\"],[0.8888888888888888,\"#fdca26\"],[1.0,\"#f0f921\"]],\"type\":\"contour\"}],\"heatmapgl\":[{\"colorbar\":{\"outlinewidth\":0,\"ticks\":\"\"},\"colorscale\":[[0.0,\"#0d0887\"],[0.1111111111111111,\"#46039f\"],[0.2222222222222222,\"#7201a8\"],[0.3333333333333333,\"#9c179e\"],[0.4444444444444444,\"#bd3786\"],[0.5555555555555556,\"#d8576b\"],[0.6666666666666666,\"#ed7953\"],[0.7777777777777778,\"#fb9f3a\"],[0.8888888888888888,\"#fdca26\"],[1.0,\"#f0f921\"]],\"type\":\"heatmapgl\"}],\"heatmap\":[{\"colorbar\":{\"outlinewidth\":0,\"ticks\":\"\"},\"colorscale\":[[0.0,\"#0d0887\"],[0.1111111111111111,\"#46039f\"],[0.2222222222222222,\"#7201a8\"],[0.3333333333333333,\"#9c179e\"],[0.4444444444444444,\"#bd3786\"],[0.5555555555555556,\"#d8576b\"],[0.6666666666666666,\"#ed7953\"],[0.7777777777777778,\"#fb9f3a\"],[0.8888888888888888,\"#fdca26\"],[1.0,\"#f0f921\"]],\"type\":\"heatmap\"}],\"histogram2dcontour\":[{\"colorbar\":{\"outlinewidth\":0,\"ticks\":\"\"},\"colorscale\":[[0.0,\"#0d0887\"],[0.1111111111111111,\"#46039f\"],[0.2222222222222222,\"#7201a8\"],[0.3333333333333333,\"#9c179e\"],[0.4444444444444444,\"#bd3786\"],[0.5555555555555556,\"#d8576b\"],[0.6666666666666666,\"#ed7953\"],[0.7777777777777778,\"#fb9f3a\"],[0.8888888888888888,\"#fdca26\"],[1.0,\"#f0f921\"]],\"type\":\"histogram2dcontour\"}],\"histogram2d\":[{\"colorbar\":{\"outlinewidth\":0,\"ticks\":\"\"},\"colorscale\":[[0.0,\"#0d0887\"],[0.1111111111111111,\"#46039f\"],[0.2222222222222222,\"#7201a8\"],[0.3333333333333333,\"#9c179e\"],[0.4444444444444444,\"#bd3786\"],[0.5555555555555556,\"#d8576b\"],[0.6666666666666666,\"#ed7953\"],[0.7777777777777778,\"#fb9f3a\"],[0.8888888888888888,\"#fdca26\"],[1.0,\"#f0f921\"]],\"type\":\"histogram2d\"}],\"histogram\":[{\"marker\":{\"pattern\":{\"fillmode\":\"overlay\",\"size\":10,\"solidity\":0.2}},\"type\":\"histogram\"}],\"mesh3d\":[{\"colorbar\":{\"outlinewidth\":0,\"ticks\":\"\"},\"type\":\"mesh3d\"}],\"parcoords\":[{\"line\":{\"colorbar\":{\"outlinewidth\":0,\"ticks\":\"\"}},\"type\":\"parcoords\"}],\"pie\":[{\"automargin\":true,\"type\":\"pie\"}],\"scatter3d\":[{\"line\":{\"colorbar\":{\"outlinewidth\":0,\"ticks\":\"\"}},\"marker\":{\"colorbar\":{\"outlinewidth\":0,\"ticks\":\"\"}},\"type\":\"scatter3d\"}],\"scattercarpet\":[{\"marker\":{\"colorbar\":{\"outlinewidth\":0,\"ticks\":\"\"}},\"type\":\"scattercarpet\"}],\"scattergeo\":[{\"marker\":{\"colorbar\":{\"outlinewidth\":0,\"ticks\":\"\"}},\"type\":\"scattergeo\"}],\"scattergl\":[{\"marker\":{\"colorbar\":{\"outlinewidth\":0,\"ticks\":\"\"}},\"type\":\"scattergl\"}],\"scattermapbox\":[{\"marker\":{\"colorbar\":{\"outlinewidth\":0,\"ticks\":\"\"}},\"type\":\"scattermapbox\"}],\"scatterpolargl\":[{\"marker\":{\"colorbar\":{\"outlinewidth\":0,\"ticks\":\"\"}},\"type\":\"scatterpolargl\"}],\"scatterpolar\":[{\"marker\":{\"colorbar\":{\"outlinewidth\":0,\"ticks\":\"\"}},\"type\":\"scatterpolar\"}],\"scatter\":[{\"fillpattern\":{\"fillmode\":\"overlay\",\"size\":10,\"solidity\":0.2},\"type\":\"scatter\"}],\"scatterternary\":[{\"marker\":{\"colorbar\":{\"outlinewidth\":0,\"ticks\":\"\"}},\"type\":\"scatterternary\"}],\"surface\":[{\"colorbar\":{\"outlinewidth\":0,\"ticks\":\"\"},\"colorscale\":[[0.0,\"#0d0887\"],[0.1111111111111111,\"#46039f\"],[0.2222222222222222,\"#7201a8\"],[0.3333333333333333,\"#9c179e\"],[0.4444444444444444,\"#bd3786\"],[0.5555555555555556,\"#d8576b\"],[0.6666666666666666,\"#ed7953\"],[0.7777777777777778,\"#fb9f3a\"],[0.8888888888888888,\"#fdca26\"],[1.0,\"#f0f921\"]],\"type\":\"surface\"}],\"table\":[{\"cells\":{\"fill\":{\"color\":\"#EBF0F8\"},\"line\":{\"color\":\"white\"}},\"header\":{\"fill\":{\"color\":\"#C8D4E3\"},\"line\":{\"color\":\"white\"}},\"type\":\"table\"}]},\"layout\":{\"annotationdefaults\":{\"arrowcolor\":\"#2a3f5f\",\"arrowhead\":0,\"arrowwidth\":1},\"autotypenumbers\":\"strict\",\"coloraxis\":{\"colorbar\":{\"outlinewidth\":0,\"ticks\":\"\"}},\"colorscale\":{\"diverging\":[[0,\"#8e0152\"],[0.1,\"#c51b7d\"],[0.2,\"#de77ae\"],[0.3,\"#f1b6da\"],[0.4,\"#fde0ef\"],[0.5,\"#f7f7f7\"],[0.6,\"#e6f5d0\"],[0.7,\"#b8e186\"],[0.8,\"#7fbc41\"],[0.9,\"#4d9221\"],[1,\"#276419\"]],\"sequential\":[[0.0,\"#0d0887\"],[0.1111111111111111,\"#46039f\"],[0.2222222222222222,\"#7201a8\"],[0.3333333333333333,\"#9c179e\"],[0.4444444444444444,\"#bd3786\"],[0.5555555555555556,\"#d8576b\"],[0.6666666666666666,\"#ed7953\"],[0.7777777777777778,\"#fb9f3a\"],[0.8888888888888888,\"#fdca26\"],[1.0,\"#f0f921\"]],\"sequentialminus\":[[0.0,\"#0d0887\"],[0.1111111111111111,\"#46039f\"],[0.2222222222222222,\"#7201a8\"],[0.3333333333333333,\"#9c179e\"],[0.4444444444444444,\"#bd3786\"],[0.5555555555555556,\"#d8576b\"],[0.6666666666666666,\"#ed7953\"],[0.7777777777777778,\"#fb9f3a\"],[0.8888888888888888,\"#fdca26\"],[1.0,\"#f0f921\"]]},\"colorway\":[\"#636efa\",\"#EF553B\",\"#00cc96\",\"#ab63fa\",\"#FFA15A\",\"#19d3f3\",\"#FF6692\",\"#B6E880\",\"#FF97FF\",\"#FECB52\"],\"font\":{\"color\":\"#2a3f5f\"},\"geo\":{\"bgcolor\":\"white\",\"lakecolor\":\"white\",\"landcolor\":\"white\",\"showlakes\":true,\"showland\":true,\"subunitcolor\":\"#C8D4E3\"},\"hoverlabel\":{\"align\":\"left\"},\"hovermode\":\"closest\",\"mapbox\":{\"style\":\"light\"},\"paper_bgcolor\":\"white\",\"plot_bgcolor\":\"white\",\"polar\":{\"angularaxis\":{\"gridcolor\":\"#EBF0F8\",\"linecolor\":\"#EBF0F8\",\"ticks\":\"\"},\"bgcolor\":\"white\",\"radialaxis\":{\"gridcolor\":\"#EBF0F8\",\"linecolor\":\"#EBF0F8\",\"ticks\":\"\"}},\"scene\":{\"xaxis\":{\"backgroundcolor\":\"white\",\"gridcolor\":\"#DFE8F3\",\"gridwidth\":2,\"linecolor\":\"#EBF0F8\",\"showbackground\":true,\"ticks\":\"\",\"zerolinecolor\":\"#EBF0F8\"},\"yaxis\":{\"backgroundcolor\":\"white\",\"gridcolor\":\"#DFE8F3\",\"gridwidth\":2,\"linecolor\":\"#EBF0F8\",\"showbackground\":true,\"ticks\":\"\",\"zerolinecolor\":\"#EBF0F8\"},\"zaxis\":{\"backgroundcolor\":\"white\",\"gridcolor\":\"#DFE8F3\",\"gridwidth\":2,\"linecolor\":\"#EBF0F8\",\"showbackground\":true,\"ticks\":\"\",\"zerolinecolor\":\"#EBF0F8\"}},\"shapedefaults\":{\"line\":{\"color\":\"#2a3f5f\"}},\"ternary\":{\"aaxis\":{\"gridcolor\":\"#DFE8F3\",\"linecolor\":\"#A2B1C6\",\"ticks\":\"\"},\"baxis\":{\"gridcolor\":\"#DFE8F3\",\"linecolor\":\"#A2B1C6\",\"ticks\":\"\"},\"bgcolor\":\"white\",\"caxis\":{\"gridcolor\":\"#DFE8F3\",\"linecolor\":\"#A2B1C6\",\"ticks\":\"\"}},\"title\":{\"x\":0.05},\"xaxis\":{\"automargin\":true,\"gridcolor\":\"#EBF0F8\",\"linecolor\":\"#EBF0F8\",\"ticks\":\"\",\"title\":{\"standoff\":15},\"zerolinecolor\":\"#EBF0F8\",\"zerolinewidth\":2},\"yaxis\":{\"automargin\":true,\"gridcolor\":\"#EBF0F8\",\"linecolor\":\"#EBF0F8\",\"ticks\":\"\",\"title\":{\"standoff\":15},\"zerolinecolor\":\"#EBF0F8\",\"zerolinewidth\":2}}},\"xaxis\":{\"anchor\":\"y\",\"domain\":[0.0,1.0],\"title\":{\"text\":\"Color of Vehicle\"},\"showline\":true,\"linewidth\":2,\"linecolor\":\"black\",\"ticks\":\"outside\"},\"yaxis\":{\"anchor\":\"x\",\"domain\":[0.0,1.0],\"title\":{\"text\":\"Number of Vehicles\"},\"showgrid\":true,\"showline\":true,\"linewidth\":1,\"linecolor\":\"black\"},\"legend\":{\"tracegroupgap\":0},\"title\":{\"text\":\"Most Popular Car Colors\"},\"barmode\":\"relative\",\"font\":{\"size\":12,\"family\":\"Arial\"}},                        {\"responsive\": true}                    ).then(function(){\n",
       "                            \n",
       "var gd = document.getElementById('a83d73f1-752c-4f7d-a575-baf7ba67516b');\n",
       "var x = new MutationObserver(function (mutations, observer) {{\n",
       "        var display = window.getComputedStyle(gd).display;\n",
       "        if (!display || display === 'none') {{\n",
       "            console.log([gd, 'removed!']);\n",
       "            Plotly.purge(gd);\n",
       "            observer.disconnect();\n",
       "        }}\n",
       "}});\n",
       "\n",
       "// Listen for the removal of the full notebook cells\n",
       "var notebookContainer = gd.closest('#notebook-container');\n",
       "if (notebookContainer) {{\n",
       "    x.observe(notebookContainer, {childList: true});\n",
       "}}\n",
       "\n",
       "// Listen for the clearing of the current output cell\n",
       "var outputEl = gd.closest('.output');\n",
       "if (outputEl) {{\n",
       "    x.observe(outputEl, {childList: true});\n",
       "}}\n",
       "\n",
       "                        })                };                });            </script>        </div>"
      ]
     },
     "metadata": {},
     "output_type": "display_data"
    }
   ],
   "source": [
    "fig = px.bar(color_df, y='count', x='color', template='plotly_white', title='Most Popular Car Colors', text='count')\n",
    "\n",
    "fig.update_xaxes(title='Color of Vehicle', showline=True, linewidth=2, linecolor='black', ticks='outside')\n",
    "fig.update_yaxes(title='Number of Vehicles', showgrid=True, showline=True, linewidth=1, linecolor='black')\n",
    "fig.update_layout(font_size = 12, font_family='Arial')\n",
    "fig.show()"
   ]
  },
  {
   "cell_type": "markdown",
   "id": "a7cbed01",
   "metadata": {},
   "source": [
    "- The most popular color is white, followed by black, gray and silver.\n",
    "- There are 54 cars that do not have a color listed.\n",
    "- There are 15 gold cars. Gold is usually associated with being more expensive and prestigious."
   ]
  },
  {
   "cell_type": "markdown",
   "id": "10da4361",
   "metadata": {},
   "source": [
    "#### Potential analysis idea\n",
    "- Average price of car by brand and color"
   ]
  },
  {
   "cell_type": "code",
   "execution_count": 48,
   "id": "d39c4efb",
   "metadata": {},
   "outputs": [
    {
     "data": {
      "text/html": [
       "<div>\n",
       "<style scoped>\n",
       "    .dataframe tbody tr th:only-of-type {\n",
       "        vertical-align: middle;\n",
       "    }\n",
       "\n",
       "    .dataframe tbody tr th {\n",
       "        vertical-align: top;\n",
       "    }\n",
       "\n",
       "    .dataframe thead th {\n",
       "        text-align: right;\n",
       "    }\n",
       "</style>\n",
       "<table border=\"1\" class=\"dataframe\">\n",
       "  <thead>\n",
       "    <tr style=\"text-align: right;\">\n",
       "      <th></th>\n",
       "      <th>count</th>\n",
       "      <th>mean</th>\n",
       "    </tr>\n",
       "    <tr>\n",
       "      <th>color</th>\n",
       "      <th></th>\n",
       "      <th></th>\n",
       "    </tr>\n",
       "  </thead>\n",
       "  <tbody>\n",
       "    <tr>\n",
       "      <th>shadow black</th>\n",
       "      <td>5</td>\n",
       "      <td>26,260.80</td>\n",
       "    </tr>\n",
       "    <tr>\n",
       "      <th>magnetic metallic</th>\n",
       "      <td>6</td>\n",
       "      <td>23,838.17</td>\n",
       "    </tr>\n",
       "    <tr>\n",
       "      <th>no_color</th>\n",
       "      <td>48</td>\n",
       "      <td>21,263.62</td>\n",
       "    </tr>\n",
       "    <tr>\n",
       "      <th>white</th>\n",
       "      <td>621</td>\n",
       "      <td>19,882.22</td>\n",
       "    </tr>\n",
       "    <tr>\n",
       "      <th>black</th>\n",
       "      <td>462</td>\n",
       "      <td>19,838.26</td>\n",
       "    </tr>\n",
       "  </tbody>\n",
       "</table>\n",
       "</div>"
      ],
      "text/plain": [
       "                   count      mean\n",
       "color                             \n",
       "shadow black           5 26,260.80\n",
       "magnetic metallic      6 23,838.17\n",
       "no_color              48 21,263.62\n",
       "white                621 19,882.22\n",
       "black                462 19,838.26"
      ]
     },
     "execution_count": 48,
     "metadata": {},
     "output_type": "execute_result"
    }
   ],
   "source": [
    "# Average price of a car by it's color\n",
    "color_price_df = df.groupby('color')['price'].agg({'mean', 'count'})\n",
    "\n",
    "# Filter for colors which have at least 5 cars represented\n",
    "color_price_df = color_price_df[color_price_df['count'] >=5]\n",
    "\n",
    "# Top 5 most expensive colors\n",
    "color_price_df.sort_values(by='mean', ascending=False).head()"
   ]
  },
  {
   "cell_type": "markdown",
   "id": "a50b7054",
   "metadata": {},
   "source": [
    "- The top 5 most expensive colors on average are shadow black, no_color, magnetic mettalic, black, and white"
   ]
  },
  {
   "cell_type": "code",
   "execution_count": 49,
   "id": "e5b7c91e",
   "metadata": {},
   "outputs": [
    {
     "data": {
      "text/html": [
       "<div>\n",
       "<style scoped>\n",
       "    .dataframe tbody tr th:only-of-type {\n",
       "        vertical-align: middle;\n",
       "    }\n",
       "\n",
       "    .dataframe tbody tr th {\n",
       "        vertical-align: top;\n",
       "    }\n",
       "\n",
       "    .dataframe thead th {\n",
       "        text-align: right;\n",
       "    }\n",
       "</style>\n",
       "<table border=\"1\" class=\"dataframe\">\n",
       "  <thead>\n",
       "    <tr style=\"text-align: right;\">\n",
       "      <th></th>\n",
       "      <th>count</th>\n",
       "      <th>mean</th>\n",
       "    </tr>\n",
       "    <tr>\n",
       "      <th>color</th>\n",
       "      <th></th>\n",
       "      <th></th>\n",
       "    </tr>\n",
       "  </thead>\n",
       "  <tbody>\n",
       "    <tr>\n",
       "      <th>gold</th>\n",
       "      <td>14</td>\n",
       "      <td>15,467.86</td>\n",
       "    </tr>\n",
       "    <tr>\n",
       "      <th>orange</th>\n",
       "      <td>14</td>\n",
       "      <td>16,285.00</td>\n",
       "    </tr>\n",
       "    <tr>\n",
       "      <th>blue</th>\n",
       "      <td>127</td>\n",
       "      <td>16,765.94</td>\n",
       "    </tr>\n",
       "    <tr>\n",
       "      <th>charcoal</th>\n",
       "      <td>18</td>\n",
       "      <td>16,822.22</td>\n",
       "    </tr>\n",
       "    <tr>\n",
       "      <th>silver</th>\n",
       "      <td>280</td>\n",
       "      <td>17,571.16</td>\n",
       "    </tr>\n",
       "  </tbody>\n",
       "</table>\n",
       "</div>"
      ],
      "text/plain": [
       "          count      mean\n",
       "color                    \n",
       "gold         14 15,467.86\n",
       "orange       14 16,285.00\n",
       "blue        127 16,765.94\n",
       "charcoal     18 16,822.22\n",
       "silver      280 17,571.16"
      ]
     },
     "execution_count": 49,
     "metadata": {},
     "output_type": "execute_result"
    }
   ],
   "source": [
    "# Top 5 least expensive colors\n",
    "color_price_df.sort_values(by='mean').head()"
   ]
  },
  {
   "cell_type": "markdown",
   "id": "020b200a",
   "metadata": {},
   "source": [
    "- The top 5 least expensive colors are orange, charcoal, silver, gold, and gray"
   ]
  },
  {
   "cell_type": "markdown",
   "id": "042dafc5",
   "metadata": {},
   "source": [
    "#### State column"
   ]
  },
  {
   "cell_type": "code",
   "execution_count": 50,
   "id": "a8742795",
   "metadata": {},
   "outputs": [
    {
     "name": "stdout",
     "output_type": "stream",
     "text": [
      "There are 42 states represented in the dataset.\n",
      "---------------------------------------------------------------------------\n",
      "The states are: ['georgia' 'virginia' 'florida' 'texas' 'california' 'tennessee'\n",
      " 'north carolina' 'ohio' 'new york' 'pennsylvania' 'south carolina'\n",
      " 'michigan' 'arizona' 'washington' 'kentucky' 'nebraska' 'ontario'\n",
      " 'missouri' 'connecticut' 'arkansas' 'colorado' 'new jersey' 'wisconsin'\n",
      " 'utah' 'illinois' 'oklahoma' 'minnesota' 'oregon' 'indiana'\n",
      " 'west virginia' 'nevada' 'kansas' 'massachusetts' 'rhode island'\n",
      " 'louisiana' 'alabama' 'mississippi' 'new mexico' 'idaho' 'new hampshire'\n",
      " 'vermont' 'maryland']\n"
     ]
    }
   ],
   "source": [
    "print(\"There are \" + str(df['state'].nunique()) + \" states represented in the dataset.\")\n",
    "print('---'*25)\n",
    "print(\"The states are: \" + str(df['state'].unique()))"
   ]
  },
  {
   "cell_type": "code",
   "execution_count": 51,
   "id": "e5603065",
   "metadata": {},
   "outputs": [
    {
     "data": {
      "text/html": [
       "<div>\n",
       "<style scoped>\n",
       "    .dataframe tbody tr th:only-of-type {\n",
       "        vertical-align: middle;\n",
       "    }\n",
       "\n",
       "    .dataframe tbody tr th {\n",
       "        vertical-align: top;\n",
       "    }\n",
       "\n",
       "    .dataframe thead th {\n",
       "        text-align: right;\n",
       "    }\n",
       "</style>\n",
       "<table border=\"1\" class=\"dataframe\">\n",
       "  <thead>\n",
       "    <tr style=\"text-align: right;\">\n",
       "      <th></th>\n",
       "      <th>state</th>\n",
       "      <th>count</th>\n",
       "    </tr>\n",
       "  </thead>\n",
       "  <tbody>\n",
       "    <tr>\n",
       "      <th>0</th>\n",
       "      <td>pennsylvania</td>\n",
       "      <td>274</td>\n",
       "    </tr>\n",
       "    <tr>\n",
       "      <th>1</th>\n",
       "      <td>florida</td>\n",
       "      <td>221</td>\n",
       "    </tr>\n",
       "    <tr>\n",
       "      <th>2</th>\n",
       "      <td>california</td>\n",
       "      <td>175</td>\n",
       "    </tr>\n",
       "    <tr>\n",
       "      <th>3</th>\n",
       "      <td>texas</td>\n",
       "      <td>171</td>\n",
       "    </tr>\n",
       "    <tr>\n",
       "      <th>4</th>\n",
       "      <td>michigan</td>\n",
       "      <td>157</td>\n",
       "    </tr>\n",
       "    <tr>\n",
       "      <th>5</th>\n",
       "      <td>north carolina</td>\n",
       "      <td>144</td>\n",
       "    </tr>\n",
       "    <tr>\n",
       "      <th>6</th>\n",
       "      <td>minnesota</td>\n",
       "      <td>107</td>\n",
       "    </tr>\n",
       "    <tr>\n",
       "      <th>7</th>\n",
       "      <td>illinois</td>\n",
       "      <td>87</td>\n",
       "    </tr>\n",
       "    <tr>\n",
       "      <th>8</th>\n",
       "      <td>new jersey</td>\n",
       "      <td>85</td>\n",
       "    </tr>\n",
       "    <tr>\n",
       "      <th>9</th>\n",
       "      <td>wisconsin</td>\n",
       "      <td>85</td>\n",
       "    </tr>\n",
       "  </tbody>\n",
       "</table>\n",
       "</div>"
      ],
      "text/plain": [
       "            state  count\n",
       "0    pennsylvania    274\n",
       "1         florida    221\n",
       "2      california    175\n",
       "3           texas    171\n",
       "4        michigan    157\n",
       "5  north carolina    144\n",
       "6       minnesota    107\n",
       "7        illinois     87\n",
       "8      new jersey     85\n",
       "9       wisconsin     85"
      ]
     },
     "execution_count": 51,
     "metadata": {},
     "output_type": "execute_result"
    }
   ],
   "source": [
    "state_df = pd.DataFrame(df['state'].value_counts().head(10))\n",
    "\n",
    "state_df.reset_index(inplace=True)\n",
    "\n",
    "state_df.rename(columns={\"index\": 'state', \"state\": 'count'}, inplace=True)\n",
    "\n",
    "state_df"
   ]
  },
  {
   "cell_type": "code",
   "execution_count": 52,
   "id": "736ea7ff",
   "metadata": {},
   "outputs": [
    {
     "data": {
      "application/vnd.plotly.v1+json": {
       "config": {
        "plotlyServerURL": "https://plot.ly"
       },
       "data": [
        {
         "alignmentgroup": "True",
         "hovertemplate": "state=%{x}<br>count=%{text}<extra></extra>",
         "legendgroup": "",
         "marker": {
          "color": "#636efa",
          "pattern": {
           "shape": ""
          }
         },
         "name": "",
         "offsetgroup": "",
         "orientation": "v",
         "showlegend": false,
         "text": [
          274,
          221,
          175,
          171,
          157,
          144,
          107,
          87,
          85,
          85
         ],
         "textposition": "auto",
         "type": "bar",
         "x": [
          "pennsylvania",
          "florida",
          "california",
          "texas",
          "michigan",
          "north carolina",
          "minnesota",
          "illinois",
          "new jersey",
          "wisconsin"
         ],
         "xaxis": "x",
         "y": [
          274,
          221,
          175,
          171,
          157,
          144,
          107,
          87,
          85,
          85
         ],
         "yaxis": "y"
        }
       ],
       "layout": {
        "barmode": "relative",
        "font": {
         "family": "Arial",
         "size": 12
        },
        "legend": {
         "tracegroupgap": 0
        },
        "template": {
         "data": {
          "bar": [
           {
            "error_x": {
             "color": "#2a3f5f"
            },
            "error_y": {
             "color": "#2a3f5f"
            },
            "marker": {
             "line": {
              "color": "white",
              "width": 0.5
             },
             "pattern": {
              "fillmode": "overlay",
              "size": 10,
              "solidity": 0.2
             }
            },
            "type": "bar"
           }
          ],
          "barpolar": [
           {
            "marker": {
             "line": {
              "color": "white",
              "width": 0.5
             },
             "pattern": {
              "fillmode": "overlay",
              "size": 10,
              "solidity": 0.2
             }
            },
            "type": "barpolar"
           }
          ],
          "carpet": [
           {
            "aaxis": {
             "endlinecolor": "#2a3f5f",
             "gridcolor": "#C8D4E3",
             "linecolor": "#C8D4E3",
             "minorgridcolor": "#C8D4E3",
             "startlinecolor": "#2a3f5f"
            },
            "baxis": {
             "endlinecolor": "#2a3f5f",
             "gridcolor": "#C8D4E3",
             "linecolor": "#C8D4E3",
             "minorgridcolor": "#C8D4E3",
             "startlinecolor": "#2a3f5f"
            },
            "type": "carpet"
           }
          ],
          "choropleth": [
           {
            "colorbar": {
             "outlinewidth": 0,
             "ticks": ""
            },
            "type": "choropleth"
           }
          ],
          "contour": [
           {
            "colorbar": {
             "outlinewidth": 0,
             "ticks": ""
            },
            "colorscale": [
             [
              0,
              "#0d0887"
             ],
             [
              0.1111111111111111,
              "#46039f"
             ],
             [
              0.2222222222222222,
              "#7201a8"
             ],
             [
              0.3333333333333333,
              "#9c179e"
             ],
             [
              0.4444444444444444,
              "#bd3786"
             ],
             [
              0.5555555555555556,
              "#d8576b"
             ],
             [
              0.6666666666666666,
              "#ed7953"
             ],
             [
              0.7777777777777778,
              "#fb9f3a"
             ],
             [
              0.8888888888888888,
              "#fdca26"
             ],
             [
              1,
              "#f0f921"
             ]
            ],
            "type": "contour"
           }
          ],
          "contourcarpet": [
           {
            "colorbar": {
             "outlinewidth": 0,
             "ticks": ""
            },
            "type": "contourcarpet"
           }
          ],
          "heatmap": [
           {
            "colorbar": {
             "outlinewidth": 0,
             "ticks": ""
            },
            "colorscale": [
             [
              0,
              "#0d0887"
             ],
             [
              0.1111111111111111,
              "#46039f"
             ],
             [
              0.2222222222222222,
              "#7201a8"
             ],
             [
              0.3333333333333333,
              "#9c179e"
             ],
             [
              0.4444444444444444,
              "#bd3786"
             ],
             [
              0.5555555555555556,
              "#d8576b"
             ],
             [
              0.6666666666666666,
              "#ed7953"
             ],
             [
              0.7777777777777778,
              "#fb9f3a"
             ],
             [
              0.8888888888888888,
              "#fdca26"
             ],
             [
              1,
              "#f0f921"
             ]
            ],
            "type": "heatmap"
           }
          ],
          "heatmapgl": [
           {
            "colorbar": {
             "outlinewidth": 0,
             "ticks": ""
            },
            "colorscale": [
             [
              0,
              "#0d0887"
             ],
             [
              0.1111111111111111,
              "#46039f"
             ],
             [
              0.2222222222222222,
              "#7201a8"
             ],
             [
              0.3333333333333333,
              "#9c179e"
             ],
             [
              0.4444444444444444,
              "#bd3786"
             ],
             [
              0.5555555555555556,
              "#d8576b"
             ],
             [
              0.6666666666666666,
              "#ed7953"
             ],
             [
              0.7777777777777778,
              "#fb9f3a"
             ],
             [
              0.8888888888888888,
              "#fdca26"
             ],
             [
              1,
              "#f0f921"
             ]
            ],
            "type": "heatmapgl"
           }
          ],
          "histogram": [
           {
            "marker": {
             "pattern": {
              "fillmode": "overlay",
              "size": 10,
              "solidity": 0.2
             }
            },
            "type": "histogram"
           }
          ],
          "histogram2d": [
           {
            "colorbar": {
             "outlinewidth": 0,
             "ticks": ""
            },
            "colorscale": [
             [
              0,
              "#0d0887"
             ],
             [
              0.1111111111111111,
              "#46039f"
             ],
             [
              0.2222222222222222,
              "#7201a8"
             ],
             [
              0.3333333333333333,
              "#9c179e"
             ],
             [
              0.4444444444444444,
              "#bd3786"
             ],
             [
              0.5555555555555556,
              "#d8576b"
             ],
             [
              0.6666666666666666,
              "#ed7953"
             ],
             [
              0.7777777777777778,
              "#fb9f3a"
             ],
             [
              0.8888888888888888,
              "#fdca26"
             ],
             [
              1,
              "#f0f921"
             ]
            ],
            "type": "histogram2d"
           }
          ],
          "histogram2dcontour": [
           {
            "colorbar": {
             "outlinewidth": 0,
             "ticks": ""
            },
            "colorscale": [
             [
              0,
              "#0d0887"
             ],
             [
              0.1111111111111111,
              "#46039f"
             ],
             [
              0.2222222222222222,
              "#7201a8"
             ],
             [
              0.3333333333333333,
              "#9c179e"
             ],
             [
              0.4444444444444444,
              "#bd3786"
             ],
             [
              0.5555555555555556,
              "#d8576b"
             ],
             [
              0.6666666666666666,
              "#ed7953"
             ],
             [
              0.7777777777777778,
              "#fb9f3a"
             ],
             [
              0.8888888888888888,
              "#fdca26"
             ],
             [
              1,
              "#f0f921"
             ]
            ],
            "type": "histogram2dcontour"
           }
          ],
          "mesh3d": [
           {
            "colorbar": {
             "outlinewidth": 0,
             "ticks": ""
            },
            "type": "mesh3d"
           }
          ],
          "parcoords": [
           {
            "line": {
             "colorbar": {
              "outlinewidth": 0,
              "ticks": ""
             }
            },
            "type": "parcoords"
           }
          ],
          "pie": [
           {
            "automargin": true,
            "type": "pie"
           }
          ],
          "scatter": [
           {
            "fillpattern": {
             "fillmode": "overlay",
             "size": 10,
             "solidity": 0.2
            },
            "type": "scatter"
           }
          ],
          "scatter3d": [
           {
            "line": {
             "colorbar": {
              "outlinewidth": 0,
              "ticks": ""
             }
            },
            "marker": {
             "colorbar": {
              "outlinewidth": 0,
              "ticks": ""
             }
            },
            "type": "scatter3d"
           }
          ],
          "scattercarpet": [
           {
            "marker": {
             "colorbar": {
              "outlinewidth": 0,
              "ticks": ""
             }
            },
            "type": "scattercarpet"
           }
          ],
          "scattergeo": [
           {
            "marker": {
             "colorbar": {
              "outlinewidth": 0,
              "ticks": ""
             }
            },
            "type": "scattergeo"
           }
          ],
          "scattergl": [
           {
            "marker": {
             "colorbar": {
              "outlinewidth": 0,
              "ticks": ""
             }
            },
            "type": "scattergl"
           }
          ],
          "scattermapbox": [
           {
            "marker": {
             "colorbar": {
              "outlinewidth": 0,
              "ticks": ""
             }
            },
            "type": "scattermapbox"
           }
          ],
          "scatterpolar": [
           {
            "marker": {
             "colorbar": {
              "outlinewidth": 0,
              "ticks": ""
             }
            },
            "type": "scatterpolar"
           }
          ],
          "scatterpolargl": [
           {
            "marker": {
             "colorbar": {
              "outlinewidth": 0,
              "ticks": ""
             }
            },
            "type": "scatterpolargl"
           }
          ],
          "scatterternary": [
           {
            "marker": {
             "colorbar": {
              "outlinewidth": 0,
              "ticks": ""
             }
            },
            "type": "scatterternary"
           }
          ],
          "surface": [
           {
            "colorbar": {
             "outlinewidth": 0,
             "ticks": ""
            },
            "colorscale": [
             [
              0,
              "#0d0887"
             ],
             [
              0.1111111111111111,
              "#46039f"
             ],
             [
              0.2222222222222222,
              "#7201a8"
             ],
             [
              0.3333333333333333,
              "#9c179e"
             ],
             [
              0.4444444444444444,
              "#bd3786"
             ],
             [
              0.5555555555555556,
              "#d8576b"
             ],
             [
              0.6666666666666666,
              "#ed7953"
             ],
             [
              0.7777777777777778,
              "#fb9f3a"
             ],
             [
              0.8888888888888888,
              "#fdca26"
             ],
             [
              1,
              "#f0f921"
             ]
            ],
            "type": "surface"
           }
          ],
          "table": [
           {
            "cells": {
             "fill": {
              "color": "#EBF0F8"
             },
             "line": {
              "color": "white"
             }
            },
            "header": {
             "fill": {
              "color": "#C8D4E3"
             },
             "line": {
              "color": "white"
             }
            },
            "type": "table"
           }
          ]
         },
         "layout": {
          "annotationdefaults": {
           "arrowcolor": "#2a3f5f",
           "arrowhead": 0,
           "arrowwidth": 1
          },
          "autotypenumbers": "strict",
          "coloraxis": {
           "colorbar": {
            "outlinewidth": 0,
            "ticks": ""
           }
          },
          "colorscale": {
           "diverging": [
            [
             0,
             "#8e0152"
            ],
            [
             0.1,
             "#c51b7d"
            ],
            [
             0.2,
             "#de77ae"
            ],
            [
             0.3,
             "#f1b6da"
            ],
            [
             0.4,
             "#fde0ef"
            ],
            [
             0.5,
             "#f7f7f7"
            ],
            [
             0.6,
             "#e6f5d0"
            ],
            [
             0.7,
             "#b8e186"
            ],
            [
             0.8,
             "#7fbc41"
            ],
            [
             0.9,
             "#4d9221"
            ],
            [
             1,
             "#276419"
            ]
           ],
           "sequential": [
            [
             0,
             "#0d0887"
            ],
            [
             0.1111111111111111,
             "#46039f"
            ],
            [
             0.2222222222222222,
             "#7201a8"
            ],
            [
             0.3333333333333333,
             "#9c179e"
            ],
            [
             0.4444444444444444,
             "#bd3786"
            ],
            [
             0.5555555555555556,
             "#d8576b"
            ],
            [
             0.6666666666666666,
             "#ed7953"
            ],
            [
             0.7777777777777778,
             "#fb9f3a"
            ],
            [
             0.8888888888888888,
             "#fdca26"
            ],
            [
             1,
             "#f0f921"
            ]
           ],
           "sequentialminus": [
            [
             0,
             "#0d0887"
            ],
            [
             0.1111111111111111,
             "#46039f"
            ],
            [
             0.2222222222222222,
             "#7201a8"
            ],
            [
             0.3333333333333333,
             "#9c179e"
            ],
            [
             0.4444444444444444,
             "#bd3786"
            ],
            [
             0.5555555555555556,
             "#d8576b"
            ],
            [
             0.6666666666666666,
             "#ed7953"
            ],
            [
             0.7777777777777778,
             "#fb9f3a"
            ],
            [
             0.8888888888888888,
             "#fdca26"
            ],
            [
             1,
             "#f0f921"
            ]
           ]
          },
          "colorway": [
           "#636efa",
           "#EF553B",
           "#00cc96",
           "#ab63fa",
           "#FFA15A",
           "#19d3f3",
           "#FF6692",
           "#B6E880",
           "#FF97FF",
           "#FECB52"
          ],
          "font": {
           "color": "#2a3f5f"
          },
          "geo": {
           "bgcolor": "white",
           "lakecolor": "white",
           "landcolor": "white",
           "showlakes": true,
           "showland": true,
           "subunitcolor": "#C8D4E3"
          },
          "hoverlabel": {
           "align": "left"
          },
          "hovermode": "closest",
          "mapbox": {
           "style": "light"
          },
          "paper_bgcolor": "white",
          "plot_bgcolor": "white",
          "polar": {
           "angularaxis": {
            "gridcolor": "#EBF0F8",
            "linecolor": "#EBF0F8",
            "ticks": ""
           },
           "bgcolor": "white",
           "radialaxis": {
            "gridcolor": "#EBF0F8",
            "linecolor": "#EBF0F8",
            "ticks": ""
           }
          },
          "scene": {
           "xaxis": {
            "backgroundcolor": "white",
            "gridcolor": "#DFE8F3",
            "gridwidth": 2,
            "linecolor": "#EBF0F8",
            "showbackground": true,
            "ticks": "",
            "zerolinecolor": "#EBF0F8"
           },
           "yaxis": {
            "backgroundcolor": "white",
            "gridcolor": "#DFE8F3",
            "gridwidth": 2,
            "linecolor": "#EBF0F8",
            "showbackground": true,
            "ticks": "",
            "zerolinecolor": "#EBF0F8"
           },
           "zaxis": {
            "backgroundcolor": "white",
            "gridcolor": "#DFE8F3",
            "gridwidth": 2,
            "linecolor": "#EBF0F8",
            "showbackground": true,
            "ticks": "",
            "zerolinecolor": "#EBF0F8"
           }
          },
          "shapedefaults": {
           "line": {
            "color": "#2a3f5f"
           }
          },
          "ternary": {
           "aaxis": {
            "gridcolor": "#DFE8F3",
            "linecolor": "#A2B1C6",
            "ticks": ""
           },
           "baxis": {
            "gridcolor": "#DFE8F3",
            "linecolor": "#A2B1C6",
            "ticks": ""
           },
           "bgcolor": "white",
           "caxis": {
            "gridcolor": "#DFE8F3",
            "linecolor": "#A2B1C6",
            "ticks": ""
           }
          },
          "title": {
           "x": 0.05
          },
          "xaxis": {
           "automargin": true,
           "gridcolor": "#EBF0F8",
           "linecolor": "#EBF0F8",
           "ticks": "",
           "title": {
            "standoff": 15
           },
           "zerolinecolor": "#EBF0F8",
           "zerolinewidth": 2
          },
          "yaxis": {
           "automargin": true,
           "gridcolor": "#EBF0F8",
           "linecolor": "#EBF0F8",
           "ticks": "",
           "title": {
            "standoff": 15
           },
           "zerolinecolor": "#EBF0F8",
           "zerolinewidth": 2
          }
         }
        },
        "title": {
         "text": "States with most cars"
        },
        "xaxis": {
         "anchor": "y",
         "domain": [
          0,
          1
         ],
         "linecolor": "black",
         "linewidth": 2,
         "showline": true,
         "ticks": "outside",
         "title": {
          "text": "State"
         }
        },
        "yaxis": {
         "anchor": "x",
         "domain": [
          0,
          1
         ],
         "linecolor": "black",
         "linewidth": 1,
         "showgrid": true,
         "showline": true,
         "title": {
          "text": "Number of Vehicles"
         }
        }
       }
      },
      "text/html": [
       "<div>                            <div id=\"da450dcf-4298-4af5-8b73-dcff82bc1b08\" class=\"plotly-graph-div\" style=\"height:525px; width:100%;\"></div>            <script type=\"text/javascript\">                require([\"plotly\"], function(Plotly) {                    window.PLOTLYENV=window.PLOTLYENV || {};                                    if (document.getElementById(\"da450dcf-4298-4af5-8b73-dcff82bc1b08\")) {                    Plotly.newPlot(                        \"da450dcf-4298-4af5-8b73-dcff82bc1b08\",                        [{\"alignmentgroup\":\"True\",\"hovertemplate\":\"state=%{x}<br>count=%{text}<extra></extra>\",\"legendgroup\":\"\",\"marker\":{\"color\":\"#636efa\",\"pattern\":{\"shape\":\"\"}},\"name\":\"\",\"offsetgroup\":\"\",\"orientation\":\"v\",\"showlegend\":false,\"text\":[274.0,221.0,175.0,171.0,157.0,144.0,107.0,87.0,85.0,85.0],\"textposition\":\"auto\",\"x\":[\"pennsylvania\",\"florida\",\"california\",\"texas\",\"michigan\",\"north carolina\",\"minnesota\",\"illinois\",\"new jersey\",\"wisconsin\"],\"xaxis\":\"x\",\"y\":[274,221,175,171,157,144,107,87,85,85],\"yaxis\":\"y\",\"type\":\"bar\"}],                        {\"template\":{\"data\":{\"barpolar\":[{\"marker\":{\"line\":{\"color\":\"white\",\"width\":0.5},\"pattern\":{\"fillmode\":\"overlay\",\"size\":10,\"solidity\":0.2}},\"type\":\"barpolar\"}],\"bar\":[{\"error_x\":{\"color\":\"#2a3f5f\"},\"error_y\":{\"color\":\"#2a3f5f\"},\"marker\":{\"line\":{\"color\":\"white\",\"width\":0.5},\"pattern\":{\"fillmode\":\"overlay\",\"size\":10,\"solidity\":0.2}},\"type\":\"bar\"}],\"carpet\":[{\"aaxis\":{\"endlinecolor\":\"#2a3f5f\",\"gridcolor\":\"#C8D4E3\",\"linecolor\":\"#C8D4E3\",\"minorgridcolor\":\"#C8D4E3\",\"startlinecolor\":\"#2a3f5f\"},\"baxis\":{\"endlinecolor\":\"#2a3f5f\",\"gridcolor\":\"#C8D4E3\",\"linecolor\":\"#C8D4E3\",\"minorgridcolor\":\"#C8D4E3\",\"startlinecolor\":\"#2a3f5f\"},\"type\":\"carpet\"}],\"choropleth\":[{\"colorbar\":{\"outlinewidth\":0,\"ticks\":\"\"},\"type\":\"choropleth\"}],\"contourcarpet\":[{\"colorbar\":{\"outlinewidth\":0,\"ticks\":\"\"},\"type\":\"contourcarpet\"}],\"contour\":[{\"colorbar\":{\"outlinewidth\":0,\"ticks\":\"\"},\"colorscale\":[[0.0,\"#0d0887\"],[0.1111111111111111,\"#46039f\"],[0.2222222222222222,\"#7201a8\"],[0.3333333333333333,\"#9c179e\"],[0.4444444444444444,\"#bd3786\"],[0.5555555555555556,\"#d8576b\"],[0.6666666666666666,\"#ed7953\"],[0.7777777777777778,\"#fb9f3a\"],[0.8888888888888888,\"#fdca26\"],[1.0,\"#f0f921\"]],\"type\":\"contour\"}],\"heatmapgl\":[{\"colorbar\":{\"outlinewidth\":0,\"ticks\":\"\"},\"colorscale\":[[0.0,\"#0d0887\"],[0.1111111111111111,\"#46039f\"],[0.2222222222222222,\"#7201a8\"],[0.3333333333333333,\"#9c179e\"],[0.4444444444444444,\"#bd3786\"],[0.5555555555555556,\"#d8576b\"],[0.6666666666666666,\"#ed7953\"],[0.7777777777777778,\"#fb9f3a\"],[0.8888888888888888,\"#fdca26\"],[1.0,\"#f0f921\"]],\"type\":\"heatmapgl\"}],\"heatmap\":[{\"colorbar\":{\"outlinewidth\":0,\"ticks\":\"\"},\"colorscale\":[[0.0,\"#0d0887\"],[0.1111111111111111,\"#46039f\"],[0.2222222222222222,\"#7201a8\"],[0.3333333333333333,\"#9c179e\"],[0.4444444444444444,\"#bd3786\"],[0.5555555555555556,\"#d8576b\"],[0.6666666666666666,\"#ed7953\"],[0.7777777777777778,\"#fb9f3a\"],[0.8888888888888888,\"#fdca26\"],[1.0,\"#f0f921\"]],\"type\":\"heatmap\"}],\"histogram2dcontour\":[{\"colorbar\":{\"outlinewidth\":0,\"ticks\":\"\"},\"colorscale\":[[0.0,\"#0d0887\"],[0.1111111111111111,\"#46039f\"],[0.2222222222222222,\"#7201a8\"],[0.3333333333333333,\"#9c179e\"],[0.4444444444444444,\"#bd3786\"],[0.5555555555555556,\"#d8576b\"],[0.6666666666666666,\"#ed7953\"],[0.7777777777777778,\"#fb9f3a\"],[0.8888888888888888,\"#fdca26\"],[1.0,\"#f0f921\"]],\"type\":\"histogram2dcontour\"}],\"histogram2d\":[{\"colorbar\":{\"outlinewidth\":0,\"ticks\":\"\"},\"colorscale\":[[0.0,\"#0d0887\"],[0.1111111111111111,\"#46039f\"],[0.2222222222222222,\"#7201a8\"],[0.3333333333333333,\"#9c179e\"],[0.4444444444444444,\"#bd3786\"],[0.5555555555555556,\"#d8576b\"],[0.6666666666666666,\"#ed7953\"],[0.7777777777777778,\"#fb9f3a\"],[0.8888888888888888,\"#fdca26\"],[1.0,\"#f0f921\"]],\"type\":\"histogram2d\"}],\"histogram\":[{\"marker\":{\"pattern\":{\"fillmode\":\"overlay\",\"size\":10,\"solidity\":0.2}},\"type\":\"histogram\"}],\"mesh3d\":[{\"colorbar\":{\"outlinewidth\":0,\"ticks\":\"\"},\"type\":\"mesh3d\"}],\"parcoords\":[{\"line\":{\"colorbar\":{\"outlinewidth\":0,\"ticks\":\"\"}},\"type\":\"parcoords\"}],\"pie\":[{\"automargin\":true,\"type\":\"pie\"}],\"scatter3d\":[{\"line\":{\"colorbar\":{\"outlinewidth\":0,\"ticks\":\"\"}},\"marker\":{\"colorbar\":{\"outlinewidth\":0,\"ticks\":\"\"}},\"type\":\"scatter3d\"}],\"scattercarpet\":[{\"marker\":{\"colorbar\":{\"outlinewidth\":0,\"ticks\":\"\"}},\"type\":\"scattercarpet\"}],\"scattergeo\":[{\"marker\":{\"colorbar\":{\"outlinewidth\":0,\"ticks\":\"\"}},\"type\":\"scattergeo\"}],\"scattergl\":[{\"marker\":{\"colorbar\":{\"outlinewidth\":0,\"ticks\":\"\"}},\"type\":\"scattergl\"}],\"scattermapbox\":[{\"marker\":{\"colorbar\":{\"outlinewidth\":0,\"ticks\":\"\"}},\"type\":\"scattermapbox\"}],\"scatterpolargl\":[{\"marker\":{\"colorbar\":{\"outlinewidth\":0,\"ticks\":\"\"}},\"type\":\"scatterpolargl\"}],\"scatterpolar\":[{\"marker\":{\"colorbar\":{\"outlinewidth\":0,\"ticks\":\"\"}},\"type\":\"scatterpolar\"}],\"scatter\":[{\"fillpattern\":{\"fillmode\":\"overlay\",\"size\":10,\"solidity\":0.2},\"type\":\"scatter\"}],\"scatterternary\":[{\"marker\":{\"colorbar\":{\"outlinewidth\":0,\"ticks\":\"\"}},\"type\":\"scatterternary\"}],\"surface\":[{\"colorbar\":{\"outlinewidth\":0,\"ticks\":\"\"},\"colorscale\":[[0.0,\"#0d0887\"],[0.1111111111111111,\"#46039f\"],[0.2222222222222222,\"#7201a8\"],[0.3333333333333333,\"#9c179e\"],[0.4444444444444444,\"#bd3786\"],[0.5555555555555556,\"#d8576b\"],[0.6666666666666666,\"#ed7953\"],[0.7777777777777778,\"#fb9f3a\"],[0.8888888888888888,\"#fdca26\"],[1.0,\"#f0f921\"]],\"type\":\"surface\"}],\"table\":[{\"cells\":{\"fill\":{\"color\":\"#EBF0F8\"},\"line\":{\"color\":\"white\"}},\"header\":{\"fill\":{\"color\":\"#C8D4E3\"},\"line\":{\"color\":\"white\"}},\"type\":\"table\"}]},\"layout\":{\"annotationdefaults\":{\"arrowcolor\":\"#2a3f5f\",\"arrowhead\":0,\"arrowwidth\":1},\"autotypenumbers\":\"strict\",\"coloraxis\":{\"colorbar\":{\"outlinewidth\":0,\"ticks\":\"\"}},\"colorscale\":{\"diverging\":[[0,\"#8e0152\"],[0.1,\"#c51b7d\"],[0.2,\"#de77ae\"],[0.3,\"#f1b6da\"],[0.4,\"#fde0ef\"],[0.5,\"#f7f7f7\"],[0.6,\"#e6f5d0\"],[0.7,\"#b8e186\"],[0.8,\"#7fbc41\"],[0.9,\"#4d9221\"],[1,\"#276419\"]],\"sequential\":[[0.0,\"#0d0887\"],[0.1111111111111111,\"#46039f\"],[0.2222222222222222,\"#7201a8\"],[0.3333333333333333,\"#9c179e\"],[0.4444444444444444,\"#bd3786\"],[0.5555555555555556,\"#d8576b\"],[0.6666666666666666,\"#ed7953\"],[0.7777777777777778,\"#fb9f3a\"],[0.8888888888888888,\"#fdca26\"],[1.0,\"#f0f921\"]],\"sequentialminus\":[[0.0,\"#0d0887\"],[0.1111111111111111,\"#46039f\"],[0.2222222222222222,\"#7201a8\"],[0.3333333333333333,\"#9c179e\"],[0.4444444444444444,\"#bd3786\"],[0.5555555555555556,\"#d8576b\"],[0.6666666666666666,\"#ed7953\"],[0.7777777777777778,\"#fb9f3a\"],[0.8888888888888888,\"#fdca26\"],[1.0,\"#f0f921\"]]},\"colorway\":[\"#636efa\",\"#EF553B\",\"#00cc96\",\"#ab63fa\",\"#FFA15A\",\"#19d3f3\",\"#FF6692\",\"#B6E880\",\"#FF97FF\",\"#FECB52\"],\"font\":{\"color\":\"#2a3f5f\"},\"geo\":{\"bgcolor\":\"white\",\"lakecolor\":\"white\",\"landcolor\":\"white\",\"showlakes\":true,\"showland\":true,\"subunitcolor\":\"#C8D4E3\"},\"hoverlabel\":{\"align\":\"left\"},\"hovermode\":\"closest\",\"mapbox\":{\"style\":\"light\"},\"paper_bgcolor\":\"white\",\"plot_bgcolor\":\"white\",\"polar\":{\"angularaxis\":{\"gridcolor\":\"#EBF0F8\",\"linecolor\":\"#EBF0F8\",\"ticks\":\"\"},\"bgcolor\":\"white\",\"radialaxis\":{\"gridcolor\":\"#EBF0F8\",\"linecolor\":\"#EBF0F8\",\"ticks\":\"\"}},\"scene\":{\"xaxis\":{\"backgroundcolor\":\"white\",\"gridcolor\":\"#DFE8F3\",\"gridwidth\":2,\"linecolor\":\"#EBF0F8\",\"showbackground\":true,\"ticks\":\"\",\"zerolinecolor\":\"#EBF0F8\"},\"yaxis\":{\"backgroundcolor\":\"white\",\"gridcolor\":\"#DFE8F3\",\"gridwidth\":2,\"linecolor\":\"#EBF0F8\",\"showbackground\":true,\"ticks\":\"\",\"zerolinecolor\":\"#EBF0F8\"},\"zaxis\":{\"backgroundcolor\":\"white\",\"gridcolor\":\"#DFE8F3\",\"gridwidth\":2,\"linecolor\":\"#EBF0F8\",\"showbackground\":true,\"ticks\":\"\",\"zerolinecolor\":\"#EBF0F8\"}},\"shapedefaults\":{\"line\":{\"color\":\"#2a3f5f\"}},\"ternary\":{\"aaxis\":{\"gridcolor\":\"#DFE8F3\",\"linecolor\":\"#A2B1C6\",\"ticks\":\"\"},\"baxis\":{\"gridcolor\":\"#DFE8F3\",\"linecolor\":\"#A2B1C6\",\"ticks\":\"\"},\"bgcolor\":\"white\",\"caxis\":{\"gridcolor\":\"#DFE8F3\",\"linecolor\":\"#A2B1C6\",\"ticks\":\"\"}},\"title\":{\"x\":0.05},\"xaxis\":{\"automargin\":true,\"gridcolor\":\"#EBF0F8\",\"linecolor\":\"#EBF0F8\",\"ticks\":\"\",\"title\":{\"standoff\":15},\"zerolinecolor\":\"#EBF0F8\",\"zerolinewidth\":2},\"yaxis\":{\"automargin\":true,\"gridcolor\":\"#EBF0F8\",\"linecolor\":\"#EBF0F8\",\"ticks\":\"\",\"title\":{\"standoff\":15},\"zerolinecolor\":\"#EBF0F8\",\"zerolinewidth\":2}}},\"xaxis\":{\"anchor\":\"y\",\"domain\":[0.0,1.0],\"title\":{\"text\":\"State\"},\"showline\":true,\"linewidth\":2,\"linecolor\":\"black\",\"ticks\":\"outside\"},\"yaxis\":{\"anchor\":\"x\",\"domain\":[0.0,1.0],\"title\":{\"text\":\"Number of Vehicles\"},\"showgrid\":true,\"showline\":true,\"linewidth\":1,\"linecolor\":\"black\"},\"legend\":{\"tracegroupgap\":0},\"title\":{\"text\":\"States with most cars\"},\"barmode\":\"relative\",\"font\":{\"size\":12,\"family\":\"Arial\"}},                        {\"responsive\": true}                    ).then(function(){\n",
       "                            \n",
       "var gd = document.getElementById('da450dcf-4298-4af5-8b73-dcff82bc1b08');\n",
       "var x = new MutationObserver(function (mutations, observer) {{\n",
       "        var display = window.getComputedStyle(gd).display;\n",
       "        if (!display || display === 'none') {{\n",
       "            console.log([gd, 'removed!']);\n",
       "            Plotly.purge(gd);\n",
       "            observer.disconnect();\n",
       "        }}\n",
       "}});\n",
       "\n",
       "// Listen for the removal of the full notebook cells\n",
       "var notebookContainer = gd.closest('#notebook-container');\n",
       "if (notebookContainer) {{\n",
       "    x.observe(notebookContainer, {childList: true});\n",
       "}}\n",
       "\n",
       "// Listen for the clearing of the current output cell\n",
       "var outputEl = gd.closest('.output');\n",
       "if (outputEl) {{\n",
       "    x.observe(outputEl, {childList: true});\n",
       "}}\n",
       "\n",
       "                        })                };                });            </script>        </div>"
      ]
     },
     "metadata": {},
     "output_type": "display_data"
    }
   ],
   "source": [
    "fig = px.bar(state_df, y='count', x='state', template='plotly_white', title='States with most cars', text='count')\n",
    "\n",
    "fig.update_xaxes(title='State', showline=True, linewidth=2, linecolor='black', ticks='outside')\n",
    "fig.update_yaxes(title='Number of Vehicles', showgrid=True, showline=True, linewidth=1, linecolor='black')\n",
    "fig.update_layout(font_size = 12, font_family='Arial')\n",
    "fig.show()"
   ]
  },
  {
   "cell_type": "markdown",
   "id": "367f027a",
   "metadata": {},
   "source": [
    "- Pennsylvania is the most represented state\n",
    "- Rounding out the top 5 are Florida, California, Texas, and Michigan."
   ]
  },
  {
   "cell_type": "markdown",
   "id": "a5148af2",
   "metadata": {},
   "source": [
    "#### Potential analysis idea\n",
    "- Average price of car by state"
   ]
  },
  {
   "cell_type": "code",
   "execution_count": 53,
   "id": "2e6b8a05",
   "metadata": {},
   "outputs": [
    {
     "data": {
      "text/html": [
       "<div>\n",
       "<style scoped>\n",
       "    .dataframe tbody tr th:only-of-type {\n",
       "        vertical-align: middle;\n",
       "    }\n",
       "\n",
       "    .dataframe tbody tr th {\n",
       "        vertical-align: top;\n",
       "    }\n",
       "\n",
       "    .dataframe thead th {\n",
       "        text-align: right;\n",
       "    }\n",
       "</style>\n",
       "<table border=\"1\" class=\"dataframe\">\n",
       "  <thead>\n",
       "    <tr style=\"text-align: right;\">\n",
       "      <th></th>\n",
       "      <th>count</th>\n",
       "      <th>mean</th>\n",
       "    </tr>\n",
       "    <tr>\n",
       "      <th>state</th>\n",
       "      <th></th>\n",
       "      <th></th>\n",
       "    </tr>\n",
       "  </thead>\n",
       "  <tbody>\n",
       "    <tr>\n",
       "      <th>ontario</th>\n",
       "      <td>7</td>\n",
       "      <td>30,357.14</td>\n",
       "    </tr>\n",
       "    <tr>\n",
       "      <th>illinois</th>\n",
       "      <td>87</td>\n",
       "      <td>24,673.56</td>\n",
       "    </tr>\n",
       "    <tr>\n",
       "      <th>washington</th>\n",
       "      <td>10</td>\n",
       "      <td>24,440.00</td>\n",
       "    </tr>\n",
       "    <tr>\n",
       "      <th>michigan</th>\n",
       "      <td>157</td>\n",
       "      <td>24,312.94</td>\n",
       "    </tr>\n",
       "    <tr>\n",
       "      <th>mississippi</th>\n",
       "      <td>21</td>\n",
       "      <td>23,747.62</td>\n",
       "    </tr>\n",
       "  </tbody>\n",
       "</table>\n",
       "</div>"
      ],
      "text/plain": [
       "             count      mean\n",
       "state                       \n",
       "ontario          7 30,357.14\n",
       "illinois        87 24,673.56\n",
       "washington      10 24,440.00\n",
       "michigan       157 24,312.94\n",
       "mississippi     21 23,747.62"
      ]
     },
     "execution_count": 53,
     "metadata": {},
     "output_type": "execute_result"
    }
   ],
   "source": [
    "# Average price of a car by state\n",
    "state_price_df = df.groupby('state')['price'].agg({'mean', 'count'})\n",
    "\n",
    "# Filter for states which have at least 5 cars represented\n",
    "state_price_df = state_price_df[state_price_df['count'] >=5]\n",
    "\n",
    "# Top 5 most expensive colors\n",
    "state_price_df.sort_values(by='mean', ascending=False).head()"
   ]
  },
  {
   "cell_type": "markdown",
   "id": "eb315390",
   "metadata": {},
   "source": [
    "- The top 5 states/provinces with the most expensive cars are Kentucky, Ontario, Washington, Illinois and Indiana"
   ]
  },
  {
   "cell_type": "code",
   "execution_count": 54,
   "id": "7d6112f3",
   "metadata": {},
   "outputs": [
    {
     "data": {
      "text/html": [
       "<div>\n",
       "<style scoped>\n",
       "    .dataframe tbody tr th:only-of-type {\n",
       "        vertical-align: middle;\n",
       "    }\n",
       "\n",
       "    .dataframe tbody tr th {\n",
       "        vertical-align: top;\n",
       "    }\n",
       "\n",
       "    .dataframe thead th {\n",
       "        text-align: right;\n",
       "    }\n",
       "</style>\n",
       "<table border=\"1\" class=\"dataframe\">\n",
       "  <thead>\n",
       "    <tr style=\"text-align: right;\">\n",
       "      <th></th>\n",
       "      <th>count</th>\n",
       "      <th>mean</th>\n",
       "    </tr>\n",
       "    <tr>\n",
       "      <th>state</th>\n",
       "      <th></th>\n",
       "      <th></th>\n",
       "    </tr>\n",
       "  </thead>\n",
       "  <tbody>\n",
       "    <tr>\n",
       "      <th>arkansas</th>\n",
       "      <td>7</td>\n",
       "      <td>4,662.14</td>\n",
       "    </tr>\n",
       "    <tr>\n",
       "      <th>texas</th>\n",
       "      <td>171</td>\n",
       "      <td>13,277.85</td>\n",
       "    </tr>\n",
       "    <tr>\n",
       "      <th>oregon</th>\n",
       "      <td>20</td>\n",
       "      <td>14,385.00</td>\n",
       "    </tr>\n",
       "    <tr>\n",
       "      <th>ohio</th>\n",
       "      <td>28</td>\n",
       "      <td>14,731.79</td>\n",
       "    </tr>\n",
       "    <tr>\n",
       "      <th>florida</th>\n",
       "      <td>221</td>\n",
       "      <td>15,057.04</td>\n",
       "    </tr>\n",
       "  </tbody>\n",
       "</table>\n",
       "</div>"
      ],
      "text/plain": [
       "          count      mean\n",
       "state                    \n",
       "arkansas      7  4,662.14\n",
       "texas       171 13,277.85\n",
       "oregon       20 14,385.00\n",
       "ohio         28 14,731.79\n",
       "florida     221 15,057.04"
      ]
     },
     "execution_count": 54,
     "metadata": {},
     "output_type": "execute_result"
    }
   ],
   "source": [
    "# Top 5 least expensive states\n",
    "state_price_df.sort_values(by='mean').head()"
   ]
  },
  {
   "cell_type": "markdown",
   "id": "0e606f4a",
   "metadata": {},
   "source": [
    "- The top 5 least expensive states are Arkansas, Texas, Oregon, Connecticut and Arizona"
   ]
  },
  {
   "cell_type": "code",
   "execution_count": null,
   "id": "5f84c52e",
   "metadata": {},
   "outputs": [],
   "source": []
  }
 ],
 "metadata": {
  "kernelspec": {
   "display_name": "Python 3 (ipykernel)",
   "language": "python",
   "name": "python3"
  },
  "language_info": {
   "codemirror_mode": {
    "name": "ipython",
    "version": 3
   },
   "file_extension": ".py",
   "mimetype": "text/x-python",
   "name": "python",
   "nbconvert_exporter": "python",
   "pygments_lexer": "ipython3",
   "version": "3.9.7"
  }
 },
 "nbformat": 4,
 "nbformat_minor": 5
}
